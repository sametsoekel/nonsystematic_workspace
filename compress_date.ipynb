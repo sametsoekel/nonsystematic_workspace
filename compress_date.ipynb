{
 "cells": [
  {
   "cell_type": "code",
   "execution_count": 1,
   "metadata": {},
   "outputs": [
    {
     "name": "stderr",
     "output_type": "stream",
     "text": [
      "── \u001b[1mAttaching packages\u001b[22m ─────────────────────────────────────── tidyverse 1.3.0 ──\n",
      "\n",
      "\u001b[32m✔\u001b[39m \u001b[34mggplot2\u001b[39m 3.3.3     \u001b[32m✔\u001b[39m \u001b[34mpurrr  \u001b[39m 0.3.4\n",
      "\u001b[32m✔\u001b[39m \u001b[34mtibble \u001b[39m 3.1.0     \u001b[32m✔\u001b[39m \u001b[34mdplyr  \u001b[39m 1.0.4\n",
      "\u001b[32m✔\u001b[39m \u001b[34mtidyr  \u001b[39m 1.1.2     \u001b[32m✔\u001b[39m \u001b[34mstringr\u001b[39m 1.4.0\n",
      "\u001b[32m✔\u001b[39m \u001b[34mreadr  \u001b[39m 1.4.0     \u001b[32m✔\u001b[39m \u001b[34mforcats\u001b[39m 0.5.1\n",
      "\n",
      "── \u001b[1mConflicts\u001b[22m ────────────────────────────────────────── tidyverse_conflicts() ──\n",
      "\u001b[31m✖\u001b[39m \u001b[34mdplyr\u001b[39m::\u001b[32mbetween()\u001b[39m   masks \u001b[34mdata.table\u001b[39m::between()\n",
      "\u001b[31m✖\u001b[39m \u001b[34mdplyr\u001b[39m::\u001b[32mfilter()\u001b[39m    masks \u001b[34mstats\u001b[39m::filter()\n",
      "\u001b[31m✖\u001b[39m \u001b[34mdplyr\u001b[39m::\u001b[32mfirst()\u001b[39m     masks \u001b[34mdata.table\u001b[39m::first()\n",
      "\u001b[31m✖\u001b[39m \u001b[34mdplyr\u001b[39m::\u001b[32mlag()\u001b[39m       masks \u001b[34mstats\u001b[39m::lag()\n",
      "\u001b[31m✖\u001b[39m \u001b[34mdplyr\u001b[39m::\u001b[32mlast()\u001b[39m      masks \u001b[34mdata.table\u001b[39m::last()\n",
      "\u001b[31m✖\u001b[39m \u001b[34mpurrr\u001b[39m::\u001b[32mtranspose()\u001b[39m masks \u001b[34mdata.table\u001b[39m::transpose()\n",
      "\n"
     ]
    }
   ],
   "source": [
    "library(data.table)\n",
    "library(tidyverse)"
   ]
  },
  {
   "cell_type": "code",
   "execution_count": 2,
   "metadata": {},
   "outputs": [],
   "source": [
    "years <- 2006:2019\n",
    "months <- 1:12"
   ]
  },
  {
   "cell_type": "code",
   "execution_count": 3,
   "metadata": {},
   "outputs": [],
   "source": [
    "nx <- 1e6"
   ]
  },
  {
   "cell_type": "code",
   "execution_count": 5,
   "metadata": {},
   "outputs": [],
   "source": [
    "sample_l <- lapply(list(years, months, years, months), sample, nx, replace = T)"
   ]
  },
  {
   "cell_type": "code",
   "execution_count": 6,
   "metadata": {},
   "outputs": [],
   "source": [
    "names(sample_l) <- c(\"year1\", \"month1\", \"year2\", \"month2\")"
   ]
  },
  {
   "cell_type": "code",
   "execution_count": 7,
   "metadata": {},
   "outputs": [],
   "source": [
    "setDT(sample_l)"
   ]
  },
  {
   "cell_type": "code",
   "execution_count": 10,
   "metadata": {},
   "outputs": [],
   "source": [
    "donems <- sample_l[, .(donem = (year1 * 1e2 + month1) * 1e6 + (year2 * 1e2 + month2))]"
   ]
  },
  {
   "cell_type": "code",
   "execution_count": 12,
   "metadata": {},
   "outputs": [],
   "source": [
    "donemx <- donems[1, donem]"
   ]
  },
  {
   "cell_type": "code",
   "execution_count": 36,
   "metadata": {},
   "outputs": [],
   "source": [
    "donemx <- 200601200602\n",
    "donemx2 <- 201911201912"
   ]
  },
  {
   "cell_type": "code",
   "execution_count": 37,
   "metadata": {},
   "outputs": [],
   "source": [
    "compact_donem <- function(x) as.integer(((x %% 1e10) %/% 1e6 * 1e4) + x %% 1e4)"
   ]
  },
  {
   "cell_type": "code",
   "execution_count": 41,
   "metadata": {},
   "outputs": [
    {
     "data": {
      "text/html": [
       "19111912"
      ],
      "text/latex": [
       "19111912"
      ],
      "text/markdown": [
       "19111912"
      ],
      "text/plain": [
       "[1] 19111912"
      ]
     },
     "metadata": {},
     "output_type": "display_data"
    }
   ],
   "source": [
    "donemx2c <- compact_donem(donemx2)\n",
    "donemx2c"
   ]
  },
  {
   "cell_type": "code",
   "execution_count": 42,
   "metadata": {},
   "outputs": [
    {
     "data": {
      "text/html": [
       "6010602"
      ],
      "text/latex": [
       "6010602"
      ],
      "text/markdown": [
       "6010602"
      ],
      "text/plain": [
       "[1] 6010602"
      ]
     },
     "metadata": {},
     "output_type": "display_data"
    }
   ],
   "source": [
    "donemxc <- compact_donem(donemx)\n",
    "donemxc"
   ]
  },
  {
   "cell_type": "code",
   "execution_count": 52,
   "metadata": {},
   "outputs": [],
   "source": [
    "donems[, compact := compact_donem(donem)]"
   ]
  },
  {
   "cell_type": "code",
   "execution_count": 53,
   "metadata": {},
   "outputs": [
    {
     "data": {
      "text/html": [
       "<table class=\"dataframe\">\n",
       "<caption>A data.table: 6 × 2</caption>\n",
       "<thead>\n",
       "\t<tr><th scope=col>donem</th><th scope=col>compact</th></tr>\n",
       "\t<tr><th scope=col>&lt;dbl&gt;</th><th scope=col>&lt;int&gt;</th></tr>\n",
       "</thead>\n",
       "<tbody>\n",
       "\t<tr><td>201209200809</td><td>12090809</td></tr>\n",
       "\t<tr><td>201705201811</td><td>17051811</td></tr>\n",
       "\t<tr><td>200806200911</td><td> 8060911</td></tr>\n",
       "\t<tr><td>200904201105</td><td> 9041105</td></tr>\n",
       "\t<tr><td>201601200601</td><td>16010601</td></tr>\n",
       "\t<tr><td>201007200601</td><td>10070601</td></tr>\n",
       "</tbody>\n",
       "</table>\n"
      ],
      "text/latex": [
       "A data.table: 6 × 2\n",
       "\\begin{tabular}{ll}\n",
       " donem & compact\\\\\n",
       " <dbl> & <int>\\\\\n",
       "\\hline\n",
       "\t 201209200809 & 12090809\\\\\n",
       "\t 201705201811 & 17051811\\\\\n",
       "\t 200806200911 &  8060911\\\\\n",
       "\t 200904201105 &  9041105\\\\\n",
       "\t 201601200601 & 16010601\\\\\n",
       "\t 201007200601 & 10070601\\\\\n",
       "\\end{tabular}\n"
      ],
      "text/markdown": [
       "\n",
       "A data.table: 6 × 2\n",
       "\n",
       "| donem &lt;dbl&gt; | compact &lt;int&gt; |\n",
       "|---|---|\n",
       "| 201209200809 | 12090809 |\n",
       "| 201705201811 | 17051811 |\n",
       "| 200806200911 |  8060911 |\n",
       "| 200904201105 |  9041105 |\n",
       "| 201601200601 | 16010601 |\n",
       "| 201007200601 | 10070601 |\n",
       "\n"
      ],
      "text/plain": [
       "  donem        compact \n",
       "1 201209200809 12090809\n",
       "2 201705201811 17051811\n",
       "3 200806200911  8060911\n",
       "4 200904201105  9041105\n",
       "5 201601200601 16010601\n",
       "6 201007200601 10070601"
      ]
     },
     "metadata": {},
     "output_type": "display_data"
    }
   ],
   "source": [
    "donems %>% head"
   ]
  },
  {
   "cell_type": "code",
   "execution_count": 50,
   "metadata": {},
   "outputs": [
    {
     "data": {
      "text/html": [
       "1911"
      ],
      "text/latex": [
       "1911"
      ],
      "text/markdown": [
       "1911"
      ],
      "text/plain": [
       "[1] 1911"
      ]
     },
     "metadata": {},
     "output_type": "display_data"
    },
    {
     "data": {
      "text/html": [
       "19"
      ],
      "text/latex": [
       "19"
      ],
      "text/markdown": [
       "19"
      ],
      "text/plain": [
       "[1] 19"
      ]
     },
     "metadata": {},
     "output_type": "display_data"
    },
    {
     "data": {
      "text/html": [
       "11"
      ],
      "text/latex": [
       "11"
      ],
      "text/markdown": [
       "11"
      ],
      "text/plain": [
       "[1] 11"
      ]
     },
     "metadata": {},
     "output_type": "display_data"
    },
    {
     "data": {
      "text/html": [
       "1912"
      ],
      "text/latex": [
       "1912"
      ],
      "text/markdown": [
       "1912"
      ],
      "text/plain": [
       "[1] 1912"
      ]
     },
     "metadata": {},
     "output_type": "display_data"
    },
    {
     "data": {
      "text/html": [
       "19"
      ],
      "text/latex": [
       "19"
      ],
      "text/markdown": [
       "19"
      ],
      "text/plain": [
       "[1] 19"
      ]
     },
     "metadata": {},
     "output_type": "display_data"
    },
    {
     "data": {
      "text/html": [
       "12"
      ],
      "text/latex": [
       "12"
      ],
      "text/markdown": [
       "12"
      ],
      "text/plain": [
       "[1] 12"
      ]
     },
     "metadata": {},
     "output_type": "display_data"
    },
    {
     "data": {
      "text/html": [
       "2"
      ],
      "text/latex": [
       "2"
      ],
      "text/markdown": [
       "2"
      ],
      "text/plain": [
       "[1] 2"
      ]
     },
     "metadata": {},
     "output_type": "display_data"
    }
   ],
   "source": [
    "yearmonth1 <- donemx2c %/% 1e4\n",
    "yearmonth1\n",
    "\n",
    "year1 <- yearmonth1 %/% 1e2\n",
    "year1\n",
    "\n",
    "month1 <- yearmonth1 %% 1e2\n",
    "month1\n",
    "\n",
    "yearmonth2 <- donemx2c %% 1e4\n",
    "yearmonth2\n",
    "\n",
    "year2 <- yearmonth2 %/% 1e2\n",
    "year2\n",
    "\n",
    "month2 <- yearmonth2 %% 1e2\n",
    "month2\n",
    "\n",
    "monthc <- (year2 * 12 + month2) - (year1 * 12 + month1) + 1\n",
    "monthc"
   ]
  },
  {
   "cell_type": "code",
   "execution_count": 51,
   "metadata": {},
   "outputs": [
    {
     "data": {
      "text/html": [
       "601"
      ],
      "text/latex": [
       "601"
      ],
      "text/markdown": [
       "601"
      ],
      "text/plain": [
       "[1] 601"
      ]
     },
     "metadata": {},
     "output_type": "display_data"
    },
    {
     "data": {
      "text/html": [
       "6"
      ],
      "text/latex": [
       "6"
      ],
      "text/markdown": [
       "6"
      ],
      "text/plain": [
       "[1] 6"
      ]
     },
     "metadata": {},
     "output_type": "display_data"
    },
    {
     "data": {
      "text/html": [
       "1"
      ],
      "text/latex": [
       "1"
      ],
      "text/markdown": [
       "1"
      ],
      "text/plain": [
       "[1] 1"
      ]
     },
     "metadata": {},
     "output_type": "display_data"
    },
    {
     "data": {
      "text/html": [
       "602"
      ],
      "text/latex": [
       "602"
      ],
      "text/markdown": [
       "602"
      ],
      "text/plain": [
       "[1] 602"
      ]
     },
     "metadata": {},
     "output_type": "display_data"
    },
    {
     "data": {
      "text/html": [
       "6"
      ],
      "text/latex": [
       "6"
      ],
      "text/markdown": [
       "6"
      ],
      "text/plain": [
       "[1] 6"
      ]
     },
     "metadata": {},
     "output_type": "display_data"
    },
    {
     "data": {
      "text/html": [
       "2"
      ],
      "text/latex": [
       "2"
      ],
      "text/markdown": [
       "2"
      ],
      "text/plain": [
       "[1] 2"
      ]
     },
     "metadata": {},
     "output_type": "display_data"
    },
    {
     "data": {
      "text/html": [
       "2"
      ],
      "text/latex": [
       "2"
      ],
      "text/markdown": [
       "2"
      ],
      "text/plain": [
       "[1] 2"
      ]
     },
     "metadata": {},
     "output_type": "display_data"
    }
   ],
   "source": [
    "yearmonth1 <- donemxc %/% 1e4\n",
    "yearmonth1\n",
    "\n",
    "year1 <- yearmonth1 %/% 1e2\n",
    "year1\n",
    "\n",
    "month1 <- yearmonth1 %% 1e2\n",
    "month1\n",
    "\n",
    "yearmonth2 <- donemxc %% 1e4\n",
    "yearmonth2\n",
    "\n",
    "year2 <- yearmonth2 %/% 1e2\n",
    "year2\n",
    "\n",
    "month2 <- yearmonth2 %% 1e2\n",
    "month2\n",
    "\n",
    "monthc <- (year2 * 12 + month2) - (year1 * 12 + month1) + 1\n",
    "monthc"
   ]
  },
  {
   "cell_type": "code",
   "execution_count": null,
   "metadata": {},
   "outputs": [],
   "source": []
  }
 ],
 "metadata": {
  "kernelspec": {
   "display_name": "R",
   "language": "R",
   "name": "ir"
  },
  "language_info": {
   "codemirror_mode": "r",
   "file_extension": ".r",
   "mimetype": "text/x-r-source",
   "name": "R",
   "pygments_lexer": "r",
   "version": "4.0.4"
  },
  "widgets": {
   "application/vnd.jupyter.widget-state+json": {
    "state": {},
    "version_major": 2,
    "version_minor": 0
   }
  }
 },
 "nbformat": 4,
 "nbformat_minor": 4
}
