{
 "cells": [
  {
   "cell_type": "code",
   "execution_count": 1,
   "id": "d0e4ebfb-7e90-4201-9fb0-74874b6d621f",
   "metadata": {},
   "outputs": [],
   "source": [
    "sam_discretize <- function(x,num_breaks=3,labeled=F){\n",
    "    \n",
    "    a <- x\n",
    "    \n",
    "    a[a==0] <- NA\n",
    "    \n",
    "    if(labeled==T){\n",
    "        label_names <- paste0('bin',1:num_breaks)\n",
    "        \n",
    "        as.character(cut(a,breaks = num_breaks,labels = label_names)) -> discretized_vector\n",
    "    }\n",
    "    else{\n",
    "        as.character(cut(a,breaks = num_breaks)) -> discretized_vector\n",
    "    }\n",
    "    \n",
    "    discretized_vector[is.na(discretized_vector)] <- 'yatirim_yok'\n",
    "    \n",
    "    return(discretized_vector)\n",
    "    \n",
    "}"
   ]
  }
 ],
 "metadata": {
  "kernelspec": {
   "display_name": "R",
   "language": "R",
   "name": "ir"
  },
  "language_info": {
   "codemirror_mode": "r",
   "file_extension": ".r",
   "mimetype": "text/x-r-source",
   "name": "R",
   "pygments_lexer": "r",
   "version": "4.0.4"
  }
 },
 "nbformat": 4,
 "nbformat_minor": 5
}
