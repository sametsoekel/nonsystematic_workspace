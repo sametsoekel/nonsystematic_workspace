{
 "cells": [
  {
   "cell_type": "code",
   "execution_count": 35,
   "id": "b154465f-dcb1-4b57-a7cc-d2a8b60c963b",
   "metadata": {},
   "outputs": [
    {
     "name": "stderr",
     "output_type": "stream",
     "text": [
      "Installing packages into ‘/usr/local/lib/R/site-library’\n",
      "(as ‘lib’ is unspecified)\n",
      "\n"
     ]
    }
   ],
   "source": [
    "install.packages(c('xgboost','lightgbm'))"
   ]
  },
  {
   "cell_type": "code",
   "execution_count": null,
   "id": "b7301a17-4a64-4b5f-bb31-4a36d11334dd",
   "metadata": {},
   "outputs": [],
   "source": [
    "library(tidyverse)"
   ]
  },
  {
   "cell_type": "code",
   "execution_count": 61,
   "id": "4132495d-9a28-4573-8f45-5d5265be7cfd",
   "metadata": {},
   "outputs": [
    {
     "data": {
      "text/html": [
       "1.34"
      ],
      "text/latex": [
       "1.34"
      ],
      "text/markdown": [
       "1.34"
      ],
      "text/plain": [
       "[1] 1.34"
      ]
     },
     "metadata": {},
     "output_type": "display_data"
    }
   ],
   "source": [
    "67/50"
   ]
  },
  {
   "cell_type": "code",
   "execution_count": 52,
   "id": "9cad2a40-9d91-4a7c-99be-d5ccd3c534c1",
   "metadata": {},
   "outputs": [
    {
     "data": {
      "text/html": [
       "<table class=\"dataframe\">\n",
       "<caption>A matrix: 2 × 3 of type dbl</caption>\n",
       "<thead>\n",
       "\t<tr><th scope=col>c.3...1.</th><th scope=col>c..2..1.</th><th scope=col>c.0..4.</th></tr>\n",
       "</thead>\n",
       "<tbody>\n",
       "\t<tr><td> 7</td><td>4</td><td>10</td></tr>\n",
       "\t<tr><td>-5</td><td>3</td><td> 4</td></tr>\n",
       "</tbody>\n",
       "</table>\n"
      ],
      "text/latex": [
       "A matrix: 2 × 3 of type dbl\n",
       "\\begin{tabular}{lll}\n",
       " c.3...1. & c..2..1. & c.0..4.\\\\\n",
       "\\hline\n",
       "\t  7 & 4 & 10\\\\\n",
       "\t -5 & 3 &  4\\\\\n",
       "\\end{tabular}\n"
      ],
      "text/markdown": [
       "\n",
       "A matrix: 2 × 3 of type dbl\n",
       "\n",
       "| c.3...1. | c..2..1. | c.0..4. |\n",
       "|---|---|---|\n",
       "|  7 | 4 | 10 |\n",
       "| -5 | 3 |  4 |\n",
       "\n"
      ],
      "text/plain": [
       "     c.3...1. c..2..1. c.0..4.\n",
       "[1,]  7       4        10     \n",
       "[2,] -5       3         4     "
      ]
     },
     "metadata": {},
     "output_type": "display_data"
    }
   ],
   "source": [
    "data.frame(c(3,-1),c(-2,1),c(0,4)) %>% as.matrix -> a\n",
    "\n",
    "data.frame(c(2,-2),c(3,1),c(5,0))%>% as.matrix -> b\n",
    "\n",
    "a+2*b"
   ]
  },
  {
   "cell_type": "code",
   "execution_count": 28,
   "id": "20cdbf81-92ce-4ef7-b881-82fc21979486",
   "metadata": {},
   "outputs": [],
   "source": [
    "colnames(a) <- c('bos',paste0('i',1:81))"
   ]
  },
  {
   "cell_type": "code",
   "execution_count": 29,
   "id": "bede50d6-aa3e-48e2-8503-06d290c256da",
   "metadata": {},
   "outputs": [],
   "source": [
    "a[-1] -> a"
   ]
  },
  {
   "cell_type": "code",
   "execution_count": 12,
   "id": "951217d0-c975-404a-927c-22f9dbe54ec7",
   "metadata": {},
   "outputs": [],
   "source": [
    "a[1] <- paste0('i',1:81)"
   ]
  },
  {
   "cell_type": "code",
   "execution_count": 30,
   "id": "e4334300-5591-4cf2-b2b9-c6e771c88161",
   "metadata": {},
   "outputs": [
    {
     "data": {
      "text/html": [
       "<style>\n",
       ".list-inline {list-style: none; margin:0; padding: 0}\n",
       ".list-inline>li {display: inline-block}\n",
       ".list-inline>li:not(:last-child)::after {content: \"\\00b7\"; padding: 0 .5ex}\n",
       "</style>\n",
       "<ol class=list-inline><li>'i1'</li><li>'i2'</li><li>'i3'</li><li>'i4'</li><li>'i5'</li><li>'i6'</li><li>'i7'</li><li>'i8'</li><li>'i9'</li><li>'i10'</li><li>'i11'</li><li>'i12'</li><li>'i13'</li><li>'i14'</li><li>'i15'</li><li>'i16'</li><li>'i17'</li><li>'i18'</li><li>'i19'</li><li>'i20'</li><li>'i21'</li><li>'i22'</li><li>'i23'</li><li>'i24'</li><li>'i25'</li><li>'i26'</li><li>'i27'</li><li>'i28'</li><li>'i29'</li><li>'i30'</li><li>'i31'</li><li>'i32'</li><li>'i33'</li><li>'i34'</li><li>'i35'</li><li>'i36'</li><li>'i37'</li><li>'i38'</li><li>'i39'</li><li>'i40'</li><li>'i41'</li><li>'i42'</li><li>'i43'</li><li>'i44'</li><li>'i45'</li><li>'i46'</li><li>'i47'</li><li>'i48'</li><li>'i49'</li><li>'i50'</li><li>'i51'</li><li>'i52'</li><li>'i53'</li><li>'i54'</li><li>'i55'</li><li>'i56'</li><li>'i57'</li><li>'i58'</li><li>'i59'</li><li>'i60'</li><li>'i61'</li><li>'i62'</li><li>'i63'</li><li>'i64'</li><li>'i65'</li><li>'i66'</li><li>'i67'</li><li>'i68'</li><li>'i69'</li><li>'i70'</li><li>'i71'</li><li>'i72'</li><li>'i73'</li><li>'i74'</li><li>'i75'</li><li>'i76'</li><li>'i77'</li><li>'i78'</li><li>'i79'</li><li>'i80'</li><li>'i81'</li></ol>\n"
      ],
      "text/latex": [
       "\\begin{enumerate*}\n",
       "\\item 'i1'\n",
       "\\item 'i2'\n",
       "\\item 'i3'\n",
       "\\item 'i4'\n",
       "\\item 'i5'\n",
       "\\item 'i6'\n",
       "\\item 'i7'\n",
       "\\item 'i8'\n",
       "\\item 'i9'\n",
       "\\item 'i10'\n",
       "\\item 'i11'\n",
       "\\item 'i12'\n",
       "\\item 'i13'\n",
       "\\item 'i14'\n",
       "\\item 'i15'\n",
       "\\item 'i16'\n",
       "\\item 'i17'\n",
       "\\item 'i18'\n",
       "\\item 'i19'\n",
       "\\item 'i20'\n",
       "\\item 'i21'\n",
       "\\item 'i22'\n",
       "\\item 'i23'\n",
       "\\item 'i24'\n",
       "\\item 'i25'\n",
       "\\item 'i26'\n",
       "\\item 'i27'\n",
       "\\item 'i28'\n",
       "\\item 'i29'\n",
       "\\item 'i30'\n",
       "\\item 'i31'\n",
       "\\item 'i32'\n",
       "\\item 'i33'\n",
       "\\item 'i34'\n",
       "\\item 'i35'\n",
       "\\item 'i36'\n",
       "\\item 'i37'\n",
       "\\item 'i38'\n",
       "\\item 'i39'\n",
       "\\item 'i40'\n",
       "\\item 'i41'\n",
       "\\item 'i42'\n",
       "\\item 'i43'\n",
       "\\item 'i44'\n",
       "\\item 'i45'\n",
       "\\item 'i46'\n",
       "\\item 'i47'\n",
       "\\item 'i48'\n",
       "\\item 'i49'\n",
       "\\item 'i50'\n",
       "\\item 'i51'\n",
       "\\item 'i52'\n",
       "\\item 'i53'\n",
       "\\item 'i54'\n",
       "\\item 'i55'\n",
       "\\item 'i56'\n",
       "\\item 'i57'\n",
       "\\item 'i58'\n",
       "\\item 'i59'\n",
       "\\item 'i60'\n",
       "\\item 'i61'\n",
       "\\item 'i62'\n",
       "\\item 'i63'\n",
       "\\item 'i64'\n",
       "\\item 'i65'\n",
       "\\item 'i66'\n",
       "\\item 'i67'\n",
       "\\item 'i68'\n",
       "\\item 'i69'\n",
       "\\item 'i70'\n",
       "\\item 'i71'\n",
       "\\item 'i72'\n",
       "\\item 'i73'\n",
       "\\item 'i74'\n",
       "\\item 'i75'\n",
       "\\item 'i76'\n",
       "\\item 'i77'\n",
       "\\item 'i78'\n",
       "\\item 'i79'\n",
       "\\item 'i80'\n",
       "\\item 'i81'\n",
       "\\end{enumerate*}\n"
      ],
      "text/markdown": [
       "1. 'i1'\n",
       "2. 'i2'\n",
       "3. 'i3'\n",
       "4. 'i4'\n",
       "5. 'i5'\n",
       "6. 'i6'\n",
       "7. 'i7'\n",
       "8. 'i8'\n",
       "9. 'i9'\n",
       "10. 'i10'\n",
       "11. 'i11'\n",
       "12. 'i12'\n",
       "13. 'i13'\n",
       "14. 'i14'\n",
       "15. 'i15'\n",
       "16. 'i16'\n",
       "17. 'i17'\n",
       "18. 'i18'\n",
       "19. 'i19'\n",
       "20. 'i20'\n",
       "21. 'i21'\n",
       "22. 'i22'\n",
       "23. 'i23'\n",
       "24. 'i24'\n",
       "25. 'i25'\n",
       "26. 'i26'\n",
       "27. 'i27'\n",
       "28. 'i28'\n",
       "29. 'i29'\n",
       "30. 'i30'\n",
       "31. 'i31'\n",
       "32. 'i32'\n",
       "33. 'i33'\n",
       "34. 'i34'\n",
       "35. 'i35'\n",
       "36. 'i36'\n",
       "37. 'i37'\n",
       "38. 'i38'\n",
       "39. 'i39'\n",
       "40. 'i40'\n",
       "41. 'i41'\n",
       "42. 'i42'\n",
       "43. 'i43'\n",
       "44. 'i44'\n",
       "45. 'i45'\n",
       "46. 'i46'\n",
       "47. 'i47'\n",
       "48. 'i48'\n",
       "49. 'i49'\n",
       "50. 'i50'\n",
       "51. 'i51'\n",
       "52. 'i52'\n",
       "53. 'i53'\n",
       "54. 'i54'\n",
       "55. 'i55'\n",
       "56. 'i56'\n",
       "57. 'i57'\n",
       "58. 'i58'\n",
       "59. 'i59'\n",
       "60. 'i60'\n",
       "61. 'i61'\n",
       "62. 'i62'\n",
       "63. 'i63'\n",
       "64. 'i64'\n",
       "65. 'i65'\n",
       "66. 'i66'\n",
       "67. 'i67'\n",
       "68. 'i68'\n",
       "69. 'i69'\n",
       "70. 'i70'\n",
       "71. 'i71'\n",
       "72. 'i72'\n",
       "73. 'i73'\n",
       "74. 'i74'\n",
       "75. 'i75'\n",
       "76. 'i76'\n",
       "77. 'i77'\n",
       "78. 'i78'\n",
       "79. 'i79'\n",
       "80. 'i80'\n",
       "81. 'i81'\n",
       "\n",
       "\n"
      ],
      "text/plain": [
       " [1] \"i1\"  \"i2\"  \"i3\"  \"i4\"  \"i5\"  \"i6\"  \"i7\"  \"i8\"  \"i9\"  \"i10\" \"i11\" \"i12\"\n",
       "[13] \"i13\" \"i14\" \"i15\" \"i16\" \"i17\" \"i18\" \"i19\" \"i20\" \"i21\" \"i22\" \"i23\" \"i24\"\n",
       "[25] \"i25\" \"i26\" \"i27\" \"i28\" \"i29\" \"i30\" \"i31\" \"i32\" \"i33\" \"i34\" \"i35\" \"i36\"\n",
       "[37] \"i37\" \"i38\" \"i39\" \"i40\" \"i41\" \"i42\" \"i43\" \"i44\" \"i45\" \"i46\" \"i47\" \"i48\"\n",
       "[49] \"i49\" \"i50\" \"i51\" \"i52\" \"i53\" \"i54\" \"i55\" \"i56\" \"i57\" \"i58\" \"i59\" \"i60\"\n",
       "[61] \"i61\" \"i62\" \"i63\" \"i64\" \"i65\" \"i66\" \"i67\" \"i68\" \"i69\" \"i70\" \"i71\" \"i72\"\n",
       "[73] \"i73\" \"i74\" \"i75\" \"i76\" \"i77\" \"i78\" \"i79\" \"i80\" \"i81\""
      ]
     },
     "metadata": {},
     "output_type": "display_data"
    }
   ],
   "source": [
    "ind <- paste0('i',1:81)\n",
    "\n",
    "ind"
   ]
  },
  {
   "cell_type": "code",
   "execution_count": 22,
   "id": "e1045102-3971-43e5-a112-0aefc38c1641",
   "metadata": {},
   "outputs": [],
   "source": [
    "cbind(ind,a) -> newt"
   ]
  },
  {
   "cell_type": "code",
   "execution_count": 32,
   "id": "0bd3cde6-38fe-4edf-b0b0-9718f18cae9d",
   "metadata": {},
   "outputs": [],
   "source": [
    "write.table(a,sep = '\\t',file = '/home/samet/Desktop/togams.txt',row.names = F)"
   ]
  },
  {
   "cell_type": "code",
   "execution_count": null,
   "id": "b9a1e225-ce50-4282-b57e-c8f25b441328",
   "metadata": {},
   "outputs": [],
   "source": []
  }
 ],
 "metadata": {
  "kernelspec": {
   "display_name": "R",
   "language": "R",
   "name": "ir"
  },
  "language_info": {
   "codemirror_mode": "r",
   "file_extension": ".r",
   "mimetype": "text/x-r-source",
   "name": "R",
   "pygments_lexer": "r",
   "version": "4.0.4"
  }
 },
 "nbformat": 4,
 "nbformat_minor": 5
}
