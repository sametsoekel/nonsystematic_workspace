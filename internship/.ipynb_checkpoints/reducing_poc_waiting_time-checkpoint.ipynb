{
 "cells": [
  {
   "cell_type": "code",
   "execution_count": 1,
   "id": "e151c4e8-07cb-4f0b-babe-a84c48131fce",
   "metadata": {},
   "outputs": [],
   "source": [
    "library(RPostgres)\n",
    "library(lpSolve)"
   ]
  },
  {
   "cell_type": "markdown",
   "id": "53e3afe5-1590-44ab-96b9-bf7ab408e629",
   "metadata": {},
   "source": [
    "## Veri Tabanına Bağlanma"
   ]
  },
  {
   "cell_type": "code",
   "execution_count": null,
   "id": "b4870a75-d87a-4587-8c6c-a7eee6d59796",
   "metadata": {},
   "outputs": [],
   "source": [
    "drv <- dbDriver('Postgres')\n",
    "con <- dbConnect(drv,user = 'guest_user',dbname = 'ORTEM_JUNE2021_POC_REC',password = 'xxxxx')"
   ]
  },
  {
   "cell_type": "markdown",
   "id": "c0f1f07c-6816-46af-ba83-717db5b851bd",
   "metadata": {},
   "source": [
    "## Parametreler"
   ]
  },
  {
   "cell_type": "code",
   "execution_count": 4,
   "id": "e9ed9a8a-fb10-4c2c-bc38-50fc3b7cd8bd",
   "metadata": {},
   "outputs": [],
   "source": [
    "ecu_yazilacak_kart_sayisi <- 700 #x1\n",
    "pecu_yazilacak_kart_sayisi <- 600 #x2\n",
    "\n",
    "writing_time_per_card_ecu <- 20 #t_x1\n",
    "cooldown_time_per_card_ecu <- 10 #w_x1\n",
    "\n",
    "writing_time_per_card_pecu <- 8 #t_x2\n",
    "cooldown_time_per_card_pecu <- 5 #w_x2"
   ]
  },
  {
   "cell_type": "markdown",
   "id": "0ae7ee41-d65b-4179-b050-1c34a9c41f8d",
   "metadata": {},
   "source": [
    "## Amaç Fonksiyonu\n",
    "\n",
    "$$Min\\; W= \\sum Toplam\\;Yazim\\;Suresi + \\sum Toplam\\;Cooldown\\;Suresi$$\n",
    "\n",
    "## Kısıtlar\n",
    "\n",
    "$$Pecu\\;yazilacak\\;kart\\;sayisi\\;\\geq \\frac{1}{2}Ecu\\;Yazilacak\\;Kart\\;Sayisi$$\n",
    "$$Pecu\\;yazilacak\\;kart\\;sayisi\\;\\leq Pecu\\;Yazilacak\\;Kart\\;Limiti$$\n",
    "$$Ecu\\;yazilacak\\;kart\\;sayisi\\;\\leq Ecu\\;Yazilacak\\;Kart\\;Limiti$$\n",
    "$$Pecu\\;yazilacak\\;kart\\;sayisi\\;\\geq Pecu\\;Yazilacak\\;Kart\\;Alt\\;Limiti$$\n",
    "$$Ecu\\;yazilacak\\;kart\\;sayisi\\;\\geq Ecu\\;Yazilacak\\;Kart\\;Alt\\;Limiti$$\n",
    "\n",
    "## Formülizasyon\n",
    "\n",
    "\n",
    "$$Min\\; W= (20+10)x_{1} + (8+5)x_{2}$$\n",
    "\n",
    "$$x_{2} \\geq \\frac{1}{2}x_{1}$$\n",
    "$$x_{2} \\leq 600$$\n",
    "$$x_{1} \\leq 700$$\n",
    "$$x_{2} \\geq 200$$\n",
    "$$x_{1} \\geq 200$$"
   ]
  },
  {
   "cell_type": "markdown",
   "id": "3e06468a-69cb-4932-8209-ca6e080cc217",
   "metadata": {},
   "source": [
    "## Optimizasyon Modülünün Yazılması"
   ]
  },
  {
   "cell_type": "code",
   "execution_count": 32,
   "id": "bb9cd7c6-0dd9-4295-898f-95353dbed4bf",
   "metadata": {},
   "outputs": [],
   "source": [
    "f.obj <- c(30,13)\n",
    "f.con <- matrix (c(-2,1,0,1,1,0,0,1,1,0), nrow=5, byrow=TRUE)\n",
    "f.dir <- c(\">\", \"<=\",\"<=\",\">=\",\">=\")\n",
    "f.rhs <- c(0,600,700,200,200)"
   ]
  },
  {
   "cell_type": "markdown",
   "id": "bd58c181-db89-404a-887b-ccedb57480c9",
   "metadata": {},
   "source": [
    "## Çözüm"
   ]
  },
  {
   "cell_type": "code",
   "execution_count": 34,
   "id": "1cc45e0d-20eb-431d-ac7f-ff05c4294469",
   "metadata": {},
   "outputs": [],
   "source": [
    "linear_model <- lp(\"min\", f.obj, f.con, f.dir, f.rhs)"
   ]
  },
  {
   "cell_type": "markdown",
   "id": "dbf88e07-6aa8-4e64-ab25-b65e8d23576e",
   "metadata": {},
   "source": [
    "## Optimal Parametreler"
   ]
  },
  {
   "cell_type": "code",
   "execution_count": 35,
   "id": "e1b0fd24-9d53-405a-8d39-3c77c60a7eb2",
   "metadata": {},
   "outputs": [
    {
     "data": {
      "text/html": [
       "<style>\n",
       ".list-inline {list-style: none; margin:0; padding: 0}\n",
       ".list-inline>li {display: inline-block}\n",
       ".list-inline>li:not(:last-child)::after {content: \"\\00b7\"; padding: 0 .5ex}\n",
       "</style>\n",
       "<ol class=list-inline><li>200</li><li>400</li></ol>\n"
      ],
      "text/latex": [
       "\\begin{enumerate*}\n",
       "\\item 200\n",
       "\\item 400\n",
       "\\end{enumerate*}\n"
      ],
      "text/markdown": [
       "1. 200\n",
       "2. 400\n",
       "\n",
       "\n"
      ],
      "text/plain": [
       "[1] 200 400"
      ]
     },
     "metadata": {},
     "output_type": "display_data"
    }
   ],
   "source": [
    "linear_model$solution"
   ]
  }
 ],
 "metadata": {
  "kernelspec": {
   "display_name": "R",
   "language": "R",
   "name": "ir"
  },
  "language_info": {
   "codemirror_mode": "r",
   "file_extension": ".r",
   "mimetype": "text/x-r-source",
   "name": "R",
   "pygments_lexer": "r",
   "version": "4.1.1"
  }
 },
 "nbformat": 4,
 "nbformat_minor": 5
}
