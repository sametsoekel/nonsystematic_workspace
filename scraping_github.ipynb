{
 "cells": [
  {
   "cell_type": "code",
   "execution_count": null,
   "metadata": {},
   "outputs": [],
   "source": [
    "sehir = 'İstanbul'\n",
    "unvan = 'Game Developer'\n",
    "\n",
    "from googlesearch import search\n",
    "url=search('site:github.com AND '+unvan+' AND '+sehir,num_results=105)\n",
    "clean_urls=[]\n",
    "\n",
    "for raw_url in url:\n",
    "    try:\n",
    "        raw_url=raw_url.split('/')\n",
    "        user=raw_url[raw_url.index('github.com')+1]\n",
    "        clean_url='http://github.com/'+user\n",
    "        clean_urls.append(clean_url)\n",
    "    except ValueError:\n",
    "        continue\n",
    "\n",
    "clean_urls=list(set(clean_urls))"
   ]
  },
  {
   "cell_type": "code",
   "execution_count": 22,
   "metadata": {},
   "outputs": [],
   "source": [
    "from parsel import Selector\n",
    "import pandas as pd\n",
    "import numpy as np\n",
    "from selenium import webdriver\n",
    "from selenium.common.exceptions import *\n",
    "\n"
   ]
  },
  {
   "cell_type": "code",
   "execution_count": null,
   "metadata": {},
   "outputs": [],
   "source": [
    "df = pd.DataFrame(columns=['ISIM','OKUL','SIRKET','IS_DURUMU','YETENEK','PROFIL_URL','KAYNAK'])\n",
    "driver = webdriver.Chrome('/opt/chromedriver')\n",
    "\n",
    "for profile_url in clean_urls:\n",
    "    driver.get(profile_url)\n",
    "    sayfa_kaynagi = driver.page_source\n",
    "    sel = Selector(text=sayfa_kaynagi)\n",
    "\n",
    "    isim = sel.xpath('//*[@class=\"p-name vcard-fullname d-block overflow-hidden\"]/text()').extract_first()\n",
    "    sirket = sel.xpath('//*[@data-hovercard-type=\"organization\"]/text()').extract_first()\n",
    "\n",
    "    driver.get(profile_url+'?tab=repositories')\n",
    "    sayfa_kaynagi = driver.page_source\n",
    "    sel = Selector(text=sayfa_kaynagi)\n",
    "\n",
    "    languages=sel.xpath('//*[@itemprop=\"programmingLanguage\"]/text()').extract()\n",
    "    languages = ','.join(list(set(languages)))\n",
    "    \n",
    "    sirket=np.nan if sirket==None else sirket\n",
    "    languages=np.nan if languages==None else languages\n",
    "    isim=np.nan if isim==None else isim\n",
    "    \n",
    "    yenisatir = {'ISIM':isim,'OKUL':np.nan,'YETENEK':languages,'SIRKET':sirket,'IS_DURUMU':np.nan,'PROFIL_URL':profile_url,'KAYNAK':'GitHub' }\n",
    "    \n",
    "    df = df.append(yenisatir,ignore_index=True)\n"
   ]
  }
 ],
 "metadata": {
  "kernelspec": {
   "display_name": "Python 3",
   "language": "python",
   "name": "python3"
  },
  "language_info": {
   "codemirror_mode": {
    "name": "ipython",
    "version": 3
   },
   "file_extension": ".py",
   "mimetype": "text/x-python",
   "name": "python",
   "nbconvert_exporter": "python",
   "pygments_lexer": "ipython3",
   "version": "3.8.5"
  }
 },
 "nbformat": 4,
 "nbformat_minor": 4
}
