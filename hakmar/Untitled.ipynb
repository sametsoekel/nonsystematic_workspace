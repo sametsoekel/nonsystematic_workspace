{
 "cells": [
  {
   "cell_type": "code",
   "execution_count": 46,
   "metadata": {},
   "outputs": [],
   "source": [
    "structure(list(subject = c(\"subject1\", \"subject2\"), `1` = c(0L, \n",
    "0L), `2` = 0:1, `3` = c(0L, 0L), `4` = c(0L, 0L), `5` = c(0L, \n",
    "0L), `6` = c(0L, 0L), `7` = c(0L, 0L), `8` = c(0L, 0L), `9` = c(0L, \n",
    "0L), `10` = c(0L, 0L), `11` = 1:0, `12` = c(0L, 0L), `13` = 0:1, \n",
    "    `14` = c(0L, 0L)), row.names = c(NA, -2L), class = c(\"data.table\", \n",
    "\"data.frame\"))  %>% t %>% as.data.frame(row.names = F) -> your_df_longer\n",
    "\n",
    "colnames(your_df_longer) <- your_df_longer[1,]\n",
    "\n",
    "your_df_longer<-your_df_longer[-1,]\n",
    "\n",
    "structure(c(0.338941353970391, 0.276963745357618, 0.271926533090457, \n",
    "0.407888635431584, 0.223490014452546, 0.313882923412051), .Dim = 2:3) %>% \n",
    "t %>% \n",
    "as.data.frame -> your_df_2"
   ]
  },
  {
   "cell_type": "code",
   "execution_count": 47,
   "metadata": {},
   "outputs": [
    {
     "data": {
      "text/html": [
       "<table class=\"dataframe\">\n",
       "<caption>A data.frame: 3 × 2</caption>\n",
       "<thead>\n",
       "\t<tr><th scope=col>V1</th><th scope=col>V2</th></tr>\n",
       "\t<tr><th scope=col>&lt;dbl&gt;</th><th scope=col>&lt;dbl&gt;</th></tr>\n",
       "</thead>\n",
       "<tbody>\n",
       "\t<tr><td>0.3389414</td><td>0.2769637</td></tr>\n",
       "\t<tr><td>0.2719265</td><td>0.4078886</td></tr>\n",
       "\t<tr><td>0.2234900</td><td>0.3138829</td></tr>\n",
       "</tbody>\n",
       "</table>\n"
      ],
      "text/latex": [
       "A data.frame: 3 × 2\n",
       "\\begin{tabular}{ll}\n",
       " V1 & V2\\\\\n",
       " <dbl> & <dbl>\\\\\n",
       "\\hline\n",
       "\t 0.3389414 & 0.2769637\\\\\n",
       "\t 0.2719265 & 0.4078886\\\\\n",
       "\t 0.2234900 & 0.3138829\\\\\n",
       "\\end{tabular}\n"
      ],
      "text/markdown": [
       "\n",
       "A data.frame: 3 × 2\n",
       "\n",
       "| V1 &lt;dbl&gt; | V2 &lt;dbl&gt; |\n",
       "|---|---|\n",
       "| 0.3389414 | 0.2769637 |\n",
       "| 0.2719265 | 0.4078886 |\n",
       "| 0.2234900 | 0.3138829 |\n",
       "\n"
      ],
      "text/plain": [
       "  V1        V2       \n",
       "1 0.3389414 0.2769637\n",
       "2 0.2719265 0.4078886\n",
       "3 0.2234900 0.3138829"
      ]
     },
     "metadata": {},
     "output_type": "display_data"
    }
   ],
   "source": [
    "your_df_2"
   ]
  },
  {
   "cell_type": "code",
   "execution_count": null,
   "metadata": {},
   "outputs": [],
   "source": [
    "library(data.table)\n",
    "library(tidyverse)"
   ]
  },
  {
   "cell_type": "code",
   "execution_count": 38,
   "metadata": {},
   "outputs": [],
   "source": [
    "your_df %>%"
   ]
  },
  {
   "cell_type": "code",
   "execution_count": 41,
   "metadata": {},
   "outputs": [],
   "source": []
  },
  {
   "cell_type": "code",
   "execution_count": 39,
   "metadata": {},
   "outputs": [
    {
     "data": {
      "text/html": [
       "<table class=\"dataframe\">\n",
       "<caption>A data.frame: 14 × 2</caption>\n",
       "<thead>\n",
       "\t<tr><th></th><th scope=col>subject1</th><th scope=col>subject2</th></tr>\n",
       "\t<tr><th></th><th scope=col>&lt;chr&gt;</th><th scope=col>&lt;chr&gt;</th></tr>\n",
       "</thead>\n",
       "<tbody>\n",
       "\t<tr><th scope=row>2</th><td>0</td><td>0</td></tr>\n",
       "\t<tr><th scope=row>3</th><td>0</td><td>1</td></tr>\n",
       "\t<tr><th scope=row>4</th><td>0</td><td>0</td></tr>\n",
       "\t<tr><th scope=row>5</th><td>0</td><td>0</td></tr>\n",
       "\t<tr><th scope=row>6</th><td>0</td><td>0</td></tr>\n",
       "\t<tr><th scope=row>7</th><td>0</td><td>0</td></tr>\n",
       "\t<tr><th scope=row>8</th><td>0</td><td>0</td></tr>\n",
       "\t<tr><th scope=row>9</th><td>0</td><td>0</td></tr>\n",
       "\t<tr><th scope=row>10</th><td>0</td><td>0</td></tr>\n",
       "\t<tr><th scope=row>11</th><td>0</td><td>0</td></tr>\n",
       "\t<tr><th scope=row>12</th><td>1</td><td>0</td></tr>\n",
       "\t<tr><th scope=row>13</th><td>0</td><td>0</td></tr>\n",
       "\t<tr><th scope=row>14</th><td>0</td><td>1</td></tr>\n",
       "\t<tr><th scope=row>15</th><td>0</td><td>0</td></tr>\n",
       "</tbody>\n",
       "</table>\n"
      ],
      "text/latex": [
       "A data.frame: 14 × 2\n",
       "\\begin{tabular}{r|ll}\n",
       "  & subject1 & subject2\\\\\n",
       "  & <chr> & <chr>\\\\\n",
       "\\hline\n",
       "\t2 & 0 & 0\\\\\n",
       "\t3 & 0 & 1\\\\\n",
       "\t4 & 0 & 0\\\\\n",
       "\t5 & 0 & 0\\\\\n",
       "\t6 & 0 & 0\\\\\n",
       "\t7 & 0 & 0\\\\\n",
       "\t8 & 0 & 0\\\\\n",
       "\t9 & 0 & 0\\\\\n",
       "\t10 & 0 & 0\\\\\n",
       "\t11 & 0 & 0\\\\\n",
       "\t12 & 1 & 0\\\\\n",
       "\t13 & 0 & 0\\\\\n",
       "\t14 & 0 & 1\\\\\n",
       "\t15 & 0 & 0\\\\\n",
       "\\end{tabular}\n"
      ],
      "text/markdown": [
       "\n",
       "A data.frame: 14 × 2\n",
       "\n",
       "| <!--/--> | subject1 &lt;chr&gt; | subject2 &lt;chr&gt; |\n",
       "|---|---|---|\n",
       "| 2 | 0 | 0 |\n",
       "| 3 | 0 | 1 |\n",
       "| 4 | 0 | 0 |\n",
       "| 5 | 0 | 0 |\n",
       "| 6 | 0 | 0 |\n",
       "| 7 | 0 | 0 |\n",
       "| 8 | 0 | 0 |\n",
       "| 9 | 0 | 0 |\n",
       "| 10 | 0 | 0 |\n",
       "| 11 | 0 | 0 |\n",
       "| 12 | 1 | 0 |\n",
       "| 13 | 0 | 0 |\n",
       "| 14 | 0 | 1 |\n",
       "| 15 | 0 | 0 |\n",
       "\n"
      ],
      "text/plain": [
       "   subject1 subject2\n",
       "2  0        0       \n",
       "3  0        1       \n",
       "4  0        0       \n",
       "5  0        0       \n",
       "6  0        0       \n",
       "7  0        0       \n",
       "8  0        0       \n",
       "9  0        0       \n",
       "10 0        0       \n",
       "11 0        0       \n",
       "12 1        0       \n",
       "13 0        0       \n",
       "14 0        1       \n",
       "15 0        0       "
      ]
     },
     "metadata": {},
     "output_type": "display_data"
    }
   ],
   "source": [
    "your_df_longer"
   ]
  }
 ],
 "metadata": {
  "kernelspec": {
   "display_name": "R",
   "language": "R",
   "name": "ir"
  },
  "language_info": {
   "codemirror_mode": "r",
   "file_extension": ".r",
   "mimetype": "text/x-r-source",
   "name": "R",
   "pygments_lexer": "r",
   "version": "4.0.4"
  }
 },
 "nbformat": 4,
 "nbformat_minor": 4
}
