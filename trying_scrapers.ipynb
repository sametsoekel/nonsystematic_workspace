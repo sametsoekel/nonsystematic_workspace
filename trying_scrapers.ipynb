{
 "cells": [
  {
   "cell_type": "code",
   "execution_count": 3,
   "metadata": {},
   "outputs": [
    {
     "name": "stdout",
     "output_type": "stream",
     "text": [
      "Requirement already satisfied: linkedin_scraper in /home/samet/.local/lib/python3.8/site-packages (2.7.2)\n",
      "Requirement already satisfied: lxml in /home/samet/anaconda3/lib/python3.8/site-packages (from linkedin_scraper) (4.6.1)\n",
      "Requirement already satisfied: selenium in /home/samet/anaconda3/lib/python3.8/site-packages (from linkedin_scraper) (3.141.0)\n",
      "Requirement already satisfied: requests in /home/samet/anaconda3/lib/python3.8/site-packages (from linkedin_scraper) (2.24.0)\n",
      "Requirement already satisfied: urllib3 in /home/samet/anaconda3/lib/python3.8/site-packages (from selenium->linkedin_scraper) (1.25.11)\n",
      "Requirement already satisfied: chardet<4,>=3.0.2 in /home/samet/anaconda3/lib/python3.8/site-packages (from requests->linkedin_scraper) (3.0.4)\n",
      "Requirement already satisfied: certifi>=2017.4.17 in /home/samet/anaconda3/lib/python3.8/site-packages (from requests->linkedin_scraper) (2020.6.20)\n",
      "Requirement already satisfied: idna<3,>=2.5 in /home/samet/anaconda3/lib/python3.8/site-packages (from requests->linkedin_scraper) (2.10)\n"
     ]
    }
   ],
   "source": [
    "!pip3 install linkedin_scraper\n",
    "!export CHROMEDRIVER=/opt/chromedriver"
   ]
  },
  {
   "cell_type": "code",
   "execution_count": 1,
   "metadata": {},
   "outputs": [],
   "source": [
    "with open('dummy_linkedin_urls.txt') as f:\n",
    "    url=f.read().splitlines()"
   ]
  },
  {
   "cell_type": "code",
   "execution_count": 2,
   "metadata": {},
   "outputs": [],
   "source": [
    "from linkedin_scraper import Person, actions\n",
    "\n",
    "from selenium import webdriver\n",
    "driver = webdriver.Chrome('/opt/chromedriver')\n",
    "\n",
    "email = \"nzwpgcjpyiboahrpgw@upived.online\"\n",
    "password = \"caybardagi_37\"\n",
    "actions.login(driver, email, password)\n",
    "person = Person(\"https://www.linkedin.com/in/andre-iguodala-65b48ab5\", driver=driver)"
   ]
  },
  {
   "cell_type": "code",
   "execution_count": null,
   "metadata": {},
   "outputs": [
    {
     "name": "stdout",
     "output_type": "stream",
     "text": [
      "you are not logged in!\n"
     ]
    }
   ],
   "source": [
    "person.scrape()"
   ]
  },
  {
   "cell_type": "code",
   "execution_count": null,
   "metadata": {},
   "outputs": [],
   "source": [
    "import d"
   ]
  }
 ],
 "metadata": {
  "kernelspec": {
   "display_name": "Python 3",
   "language": "python",
   "name": "python3"
  },
  "language_info": {
   "codemirror_mode": {
    "name": "ipython",
    "version": 3
   },
   "file_extension": ".py",
   "mimetype": "text/x-python",
   "name": "python",
   "nbconvert_exporter": "python",
   "pygments_lexer": "ipython3",
   "version": "3.8.5"
  }
 },
 "nbformat": 4,
 "nbformat_minor": 4
}
