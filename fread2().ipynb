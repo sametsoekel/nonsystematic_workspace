{
 "cells": [
  {
   "cell_type": "code",
   "execution_count": null,
   "metadata": {},
   "outputs": [],
   "source": [
    "library(data.table)\n",
    "library(tidyverse)\n",
    "library(lubridate)"
   ]
  },
  {
   "cell_type": "markdown",
   "metadata": {},
   "source": [
    "## İlk tablo gün / ay / yıl\n",
    "## İkinci tablo ay / gün / yıl"
   ]
  },
  {
   "cell_type": "code",
   "execution_count": 5,
   "metadata": {},
   "outputs": [
    {
     "name": "stdout",
     "output_type": "stream",
     "text": [
      "Rows: 50\n",
      "Columns: 3\n",
      "$ numerik_1 \u001b[3m\u001b[90m<int>\u001b[39m\u001b[23m 174, 65, 171, 114, 60, 23, 127, 29, 178, 17, 180, 144, 186,…\n",
      "$ numerik_2 \u001b[3m\u001b[90m<chr>\u001b[39m\u001b[23m \"27,87\", \"89,88\", \"165,89\", \"52,71\", \"175,85\", \"51,66\", \"9,…\n",
      "$ tarih     \u001b[3m\u001b[90m<chr>\u001b[39m\u001b[23m \"22/10/2008\", \"27/10/2009\", \"2/6/2011\", \"28/10/2013\", \"20/4…\n"
     ]
    }
   ],
   "source": [
    "read.csv('dt1.csv',sep=\";\") %>% glimpse()"
   ]
  },
  {
   "cell_type": "code",
   "execution_count": 6,
   "metadata": {},
   "outputs": [
    {
     "name": "stdout",
     "output_type": "stream",
     "text": [
      "Rows: 50\n",
      "Columns: 3\n",
      "$ numerik_1 \u001b[3m\u001b[90m<int>\u001b[39m\u001b[23m 2, 139, 109, 120, 164, 92, 45, 148, 149, 84, 144, 87, 21, 1…\n",
      "$ numerik_2 \u001b[3m\u001b[90m<chr>\u001b[39m\u001b[23m \"4,11\", \"56,4\", \"25,38\", \"182,7\", \"49,47\", \"82,94\", \"124,64…\n",
      "$ tarih     \u001b[3m\u001b[90m<chr>\u001b[39m\u001b[23m \"2/23/2007\", \"6/5/2006\", \"8/9/2007\", \"2/6/2014\", \"3/17/2009…\n"
     ]
    }
   ],
   "source": [
    "read.csv('dt2.csv',sep=\";\") %>% glimpse()"
   ]
  },
  {
   "cell_type": "markdown",
   "metadata": {},
   "source": [
    "## fread2()"
   ]
  },
  {
   "cell_type": "code",
   "execution_count": 25,
   "metadata": {},
   "outputs": [],
   "source": [
    "fread2 <- function(file_paths){\n",
    "    i<-1\n",
    "    \n",
    "    datatable_list<-list()\n",
    "    \n",
    "    for(file_path in file_paths){\n",
    "        \n",
    "        dt<-fread(file_path,sep=\";\",dec=\",\")\n",
    "        \n",
    "        lubri_tarih <- tryCatch(\n",
    "            {\n",
    "                mdy(dt$tarih)\n",
    "            },\n",
    "            warning=function(cond){\n",
    "                dmy(dt$tarih)\n",
    "            }\n",
    "        )\n",
    "        \n",
    "        dt$tarih<-lubri_tarih\n",
    "        \n",
    "        datatable_list[[i]]<-dt\n",
    "        i <- i+1\n",
    "    }\n",
    "    \n",
    "    return(rbindlist(datatable_list))\n",
    "    \n",
    "}"
   ]
  },
  {
   "cell_type": "markdown",
   "metadata": {},
   "source": [
    "## Test"
   ]
  },
  {
   "cell_type": "code",
   "execution_count": 27,
   "metadata": {},
   "outputs": [
    {
     "name": "stdout",
     "output_type": "stream",
     "text": [
      "Rows: 100\n",
      "Columns: 3\n",
      "$ numerik_1 \u001b[3m\u001b[90m<int>\u001b[39m\u001b[23m 174, 65, 171, 114, 60, 23, 127, 29, 178, 17, 180, 144, 186,…\n",
      "$ numerik_2 \u001b[3m\u001b[90m<dbl>\u001b[39m\u001b[23m 27.87, 89.88, 165.89, 52.71, 175.85, 51.66, 9.75, 92.97, 14…\n",
      "$ tarih     \u001b[3m\u001b[90m<date>\u001b[39m\u001b[23m 2008-10-22, 2009-10-27, 2011-06-02, 2013-10-28, 2008-04-20…\n"
     ]
    }
   ],
   "source": [
    "aggregate_data <- fread2(c(\"dt1.csv\",\"dt2.csv\"))\n",
    "\n",
    "glimpse(aggregate_data)"
   ]
  }
 ],
 "metadata": {
  "kernelspec": {
   "display_name": "R",
   "language": "R",
   "name": "ir"
  },
  "language_info": {
   "codemirror_mode": "r",
   "file_extension": ".r",
   "mimetype": "text/x-r-source",
   "name": "R",
   "pygments_lexer": "r",
   "version": "4.0.4"
  }
 },
 "nbformat": 4,
 "nbformat_minor": 4
}
