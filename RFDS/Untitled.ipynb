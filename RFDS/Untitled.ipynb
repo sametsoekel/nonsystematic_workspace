{
 "cells": [
  {
   "cell_type": "code",
   "execution_count": null,
   "metadata": {},
   "outputs": [],
   "source": [
    "library('RPostgres')\n",
    "library('DBI')\n",
    "library('data.table')\n",
    "library('tidyverse')"
   ]
  },
  {
   "cell_type": "code",
   "execution_count": 2,
   "metadata": {},
   "outputs": [],
   "source": [
    "drvv <- dbDriver(\"Postgres\")"
   ]
  },
  {
   "cell_type": "code",
   "execution_count": 3,
   "metadata": {},
   "outputs": [],
   "source": [
    "iris_data <- sapply(iris,rep,100000) %>% as.data.table\n",
    "names(iris) -> names(iris_data)"
   ]
  },
  {
   "cell_type": "code",
   "execution_count": 4,
   "metadata": {},
   "outputs": [],
   "source": [
    "iris_data[,id:=1:.N]"
   ]
  },
  {
   "cell_type": "code",
   "execution_count": 5,
   "metadata": {},
   "outputs": [
    {
     "data": {
      "text/html": [
       "15000000"
      ],
      "text/latex": [
       "15000000"
      ],
      "text/markdown": [
       "15000000"
      ],
      "text/plain": [
       "[1] 15000000"
      ]
     },
     "metadata": {},
     "output_type": "display_data"
    },
    {
     "data": {
      "text/html": [
       "6"
      ],
      "text/latex": [
       "6"
      ],
      "text/markdown": [
       "6"
      ],
      "text/plain": [
       "[1] 6"
      ]
     },
     "metadata": {},
     "output_type": "display_data"
    }
   ],
   "source": [
    "iris_data %>% nrow\n",
    "iris_data %>% ncol"
   ]
  },
  {
   "cell_type": "code",
   "execution_count": 12,
   "metadata": {},
   "outputs": [],
   "source": [
    "con <- dbConnect(drvv,user='samet',host='localhost',dbname='db',port=5432,password='postgres')"
   ]
  },
  {
   "cell_type": "code",
   "execution_count": 13,
   "metadata": {},
   "outputs": [],
   "source": [
    "sonradan <- function(x=''){\n",
    "    dbCreateTable(con,'iris',iris_data[1:1])\n",
    "    dbWriteTable(con,'iris',iris_data,append=T,row.names=F)\n",
    "}\n",
    "\n",
    "key <- function(x=''){\n",
    "    dbExecute(con,'create unique index concurrently iris_pk on iris (\"Species\",\"id\")')\n",
    "    dbExecute(con,'alter table iris add primary key using index iris_pk')\n",
    "\n",
    "}"
   ]
  },
  {
   "cell_type": "code",
   "execution_count": 14,
   "metadata": {},
   "outputs": [
    {
     "data": {
      "text/plain": [
       "   user  system elapsed \n",
       "107.765   1.156 282.548 "
      ]
     },
     "metadata": {},
     "output_type": "display_data"
    },
    {
     "data": {
      "text/plain": [
       "   user  system elapsed \n",
       "  0.002   0.000 181.240 "
      ]
     },
     "metadata": {},
     "output_type": "display_data"
    }
   ],
   "source": [
    "system.time(\n",
    "    sonradan()\n",
    ")\n",
    "system.time(\n",
    "    key()\n",
    ")"
   ]
  },
  {
   "cell_type": "code",
   "execution_count": 10,
   "metadata": {},
   "outputs": [],
   "source": [
    "dbDisconnect(con)"
   ]
  },
  {
   "cell_type": "code",
   "execution_count": null,
   "metadata": {},
   "outputs": [],
   "source": []
  }
 ],
 "metadata": {
  "kernelspec": {
   "display_name": "R",
   "language": "R",
   "name": "ir"
  },
  "language_info": {
   "codemirror_mode": "r",
   "file_extension": ".r",
   "mimetype": "text/x-r-source",
   "name": "R",
   "pygments_lexer": "r",
   "version": "4.0.4"
  }
 },
 "nbformat": 4,
 "nbformat_minor": 4
}
