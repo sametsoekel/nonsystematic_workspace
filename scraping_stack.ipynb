{
 "cells": [
  {
   "cell_type": "code",
   "execution_count": null,
   "metadata": {},
   "outputs": [],
   "source": [
    "sehir = 'İstanbul'\n",
    "unvan = 'Game Developer'\n",
    "\n",
    "from googlesearch import search\n",
    "url=search('site:stackoverflow.com/users/ AND '+unvan+' AND '+sehir,num_results=105)\n"
   ]
  },
  {
   "cell_type": "code",
   "execution_count": null,
   "metadata": {},
   "outputs": [],
   "source": [
    "from parsel import Selector\n",
    "import pandas as pd\n",
    "import numpy as np\n",
    "from selenium import webdriver\n",
    "from selenium.common.exceptions import *\n",
    "\n",
    "df = pd.DataFrame(columns=['ISIM','OKUL','SIRKET','IS_DURUMU','YETENEK','PROFIL_URL','KAYNAK'])"
   ]
  },
  {
   "cell_type": "code",
   "execution_count": null,
   "metadata": {},
   "outputs": [],
   "source": [
    "driver = webdriver.Chrome('/opt/chromedriver')\n",
    "for stackoverflow_url in url:\n",
    "    \n",
    "\n",
    "    for i in stackoverflow_url.split('/'):\n",
    "        try:\n",
    "            user_id=int(i)\n",
    "        except ValueError:\n",
    "            continue\n",
    "    profile_url='https://stackoverflow.com/users/'+str(user_id)\n",
    "\n",
    "    driver.get(profile_url)\n",
    "\n",
    "    sayfa_kaynagi = driver.page_source\n",
    "\n",
    "    sel = Selector(text=sayfa_kaynagi)\n",
    "    isim = sel.xpath('//*[@id=\"user-card\"]/div/div[2]/div/div[1]/div/div[1]/h2/div/text()').extract_first()\n",
    "    title = sel.xpath('//*[@id=\"user-card\"]/div/div[2]/div/div[1]/div/h3/text()').extract_first()\n",
    "    \n",
    "    title = np.nan if title=='' or title==None else title\n",
    "\n",
    "    driver.get(profile_url+'?tab=tags')\n",
    "    sayfa_kaynagi = driver.page_source\n",
    "    sel = Selector(text=sayfa_kaynagi)\n",
    "    tags = sel.xpath('//*[@class=\"post-tag\"]/text()').extract()\n",
    "    tags = ','.join(list(set(tags)))\n",
    "\n",
    "    yenisatir = {'ISIM':isim,'OKUL':np.nan,'YETENEK':tags,'SIRKET':title,'IS_DURUMU':np.nan,'PROFIL_URL':profile_url,'KAYNAK':'Stack Overflow' }\n",
    "    df = df.append(yenisatir,ignore_index=True)"
   ]
  }
 ],
 "metadata": {
  "kernelspec": {
   "display_name": "Python 3",
   "language": "python",
   "name": "python3"
  },
  "language_info": {
   "codemirror_mode": {
    "name": "ipython",
    "version": 3
   },
   "file_extension": ".py",
   "mimetype": "text/x-python",
   "name": "python",
   "nbconvert_exporter": "python",
   "pygments_lexer": "ipython3",
   "version": "3.8.5"
  }
 },
 "nbformat": 4,
 "nbformat_minor": 4
}
