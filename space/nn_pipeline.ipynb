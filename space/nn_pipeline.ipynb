{
 "cells": [
  {
   "cell_type": "code",
   "execution_count": 1,
   "id": "97c41317-4f1e-45a0-859c-a8cfe47db93d",
   "metadata": {},
   "outputs": [
    {
     "name": "stderr",
     "output_type": "stream",
     "text": [
      "Warning message:\n",
      "\"package 'caret' was built under R version 4.2.1\"\n"
     ]
    }
   ],
   "source": [
    "suppressPackageStartupMessages({\n",
    "    library(data.table)\n",
    "    library(tidyverse)\n",
    "    library(tidymodels)\n",
    "    library(treesnip)\n",
    "    library(caret)\n",
    "    library(keras)\n",
    "    library(tensorflow)\n",
    "    library(collapse)\n",
    "})"
   ]
  },
  {
   "cell_type": "code",
   "execution_count": 2,
   "id": "e6b1067d-714e-4dc9-8a45-9bf835386a80",
   "metadata": {},
   "outputs": [],
   "source": [
    "a <- sample(0:1,size = 20,replace = T)"
   ]
  },
  {
   "cell_type": "code",
   "execution_count": 3,
   "id": "9ce9bde6-34db-4b49-91aa-235e57f1c780",
   "metadata": {},
   "outputs": [],
   "source": [
    "label_encode <- function(x){\n",
    "    case_when(x == 'No' ~ 0,\n",
    "              x == 'Yes' ~ 1)\n",
    "}"
   ]
  },
  {
   "cell_type": "code",
   "execution_count": 4,
   "id": "65a57ec8-e57b-4449-8258-5e7b38216dda",
   "metadata": {},
   "outputs": [],
   "source": [
    "sparse_data <- function(df,sparse_percentage = 0.2){\n",
    "    \n",
    "    df_new <- copy(df) \n",
    "    setDT(df_new)\n",
    "    categorical_names <- df_new %>% purrr::discard(is.numeric) %>% colnames\n",
    "\n",
    "    for(i in categorical_names){\n",
    "        features <- df_new[,unique(.SD),.SDcols = i] %>% pull\n",
    "        \n",
    "        for(j in features){\n",
    "            \n",
    "            condition_format <- 'df_new[,length(%s[%s == \"%s\"])/.N < %s]'\n",
    "            condition_command <- sprintf(condition_format,i,i,j,sparse_percentage)\n",
    "        \n",
    "            condition <- eval(parse(text = condition_command))\n",
    "            \n",
    "            if(condition){\n",
    "                sparse_format <- 'df_new[%s == \"%s\", %s := \"other\"]'\n",
    "                sparse_command <- sprintf(sparse_format,i,j,i)\n",
    "                eval(parse(text = sparse_command))\n",
    "            } \n",
    "        }\n",
    "    }\n",
    "    df_new\n",
    "}"
   ]
  },
  {
   "cell_type": "code",
   "execution_count": 5,
   "id": "9da7b6f6-8629-4fcb-a780-aa4025c0bc4b",
   "metadata": {},
   "outputs": [],
   "source": [
    "get_scaling_factors <- function(df){\n",
    "    setDT(df)\n",
    "    factors <- lapply(df %>% keep(is.numeric),function(x) list(mean = mean(x),sd = sd(x)))\n",
    "    factors\n",
    "}      "
   ]
  },
  {
   "cell_type": "code",
   "execution_count": 6,
   "id": "a1962cf1-2b91-45bc-9246-370cf8a3b9a0",
   "metadata": {},
   "outputs": [],
   "source": [
    "scale_data <- function(df,scaling_factors,reverse = FALSE){\n",
    "    \n",
    "    data <- copy(df)\n",
    "    setDT(data)\n",
    "    for(i in names(scaling_factors)){\n",
    "        factors <- scaling_factors[[i]]\n",
    "        if(reverse){\n",
    "            data[,(i) := lapply(.SD,function(x) (x*factors[['sd']] + factors[['mean']])),.SDcols = i]\n",
    "        }else{\n",
    "            data[,(i) := lapply(.SD,function(x) (x - factors[['mean']]) / factors[['sd']]),.SDcols = i]\n",
    "        }  \n",
    "    }\n",
    "                                \n",
    "    catcols <- df %>% purrr::discard(is.numeric) %>% colnames\n",
    "    out <- list(scaling_factors = scaling_factors,data = data,cat_cols = catcols)\n",
    "    return(out)\n",
    "} "
   ]
  },
  {
   "cell_type": "code",
   "execution_count": 7,
   "id": "3411b5e2-342e-4afc-83c3-76a5a63c94c8",
   "metadata": {},
   "outputs": [],
   "source": [
    "clean_test_set <- function(scaled_data,categorical_cols,distinct_values_on_train){\n",
    "    df <- copy(scaled_data[['data']])\n",
    "    \n",
    "    make_paste <- function(x){\n",
    "    wrapped <- sapply(x,function(x) paste0('\"',x,'\"'))\n",
    "    paste0(wrapped,collapse = ',')\n",
    "    }       \n",
    "   \n",
    "    \n",
    "    for(i in categorical_cols){\n",
    "        distincts <- distinct_values_on_train[[i]]\n",
    "        distincts <- make_paste(distincts)\n",
    "        command_format <- \"df[! %s %%in%% c(%s), %s := NA]\"\n",
    "        command <- sprintf(command_format,i,distincts,i)\n",
    "        eval(parse(text = command))\n",
    "    }\n",
    "                      \n",
    "    scaled_data[['data']] <- df\n",
    "                      \n",
    "    scaled_data\n",
    "}"
   ]
  },
  {
   "cell_type": "code",
   "execution_count": 8,
   "id": "e99bf439-dcc6-4da4-a7b6-f048076b7036",
   "metadata": {},
   "outputs": [],
   "source": [
    "get_distincts <- function(scaled_data){\n",
    "    df <- copy(scaled_data[['data']])\n",
    "    \n",
    "    catcols <- scaled_data[['cat_cols']]\n",
    "    \n",
    "    distincts <- list()\n",
    "    for(i in catcols){\n",
    "        distinct_values <- df[,unique(.SD),.SDcols = i] %>% pull\n",
    "        distincts[[i]] <- distinct_values\n",
    "    }\n",
    "\n",
    "    scaled_data[['cat_distincts']] <- distincts\n",
    "    \n",
    "    scaled_data\n",
    "}"
   ]
  },
  {
   "cell_type": "code",
   "execution_count": 9,
   "id": "bf30cd4e-4830-444f-8dbc-48db0ebae6d3",
   "metadata": {},
   "outputs": [],
   "source": [
    "dummy_data <- function(scaled_data){\n",
    "    df <- copy(scaled_data[['data']])\n",
    "    df_dummied <- recipe(df) %>% step_dummy(all_nominal()) %>% prep %>% bake(new_data = NULL)\n",
    "    scaled_data[['data']] <- df_dummied\n",
    "    scaled_data\n",
    "}"
   ]
  },
  {
   "cell_type": "code",
   "execution_count": 10,
   "id": "8e14847e-8d47-4da6-97ee-4f206407e2bd",
   "metadata": {},
   "outputs": [],
   "source": [
    "make_frame <- function(df,label,test = FALSE,train_frame = NULL){\n",
    "    dt <- copy(df)\n",
    "    setDT(dt)\n",
    "    if(!test){\n",
    "        target_ <- dt[[label]]\n",
    "        \n",
    "        dt[,(label) := NULL]\n",
    "    }\n",
    "    sparsed <- sparse_data(dt,sparse_percentage = .03)\n",
    "    gc()\n",
    "    base::message('Data sparsed.')\n",
    "    \n",
    "    if(!test){\n",
    "        scl <- get_scaling_factors(sparsed)\n",
    "    }else{\n",
    "        scl <- train_frame[['scaling_factors']]\n",
    "    }\n",
    "    gc()\n",
    "    base::message('Scaling factors calculated.')\n",
    "    \n",
    "    scld <- scale_data(sparsed,scl)\n",
    "    gc()\n",
    "    base::message('Data scaled.')\n",
    "    \n",
    "    if(test){\n",
    "        scld <- clean_test_set(scld,train_frame[['cat_cols']],train_frame[['cat_distincts']])\n",
    "    }\n",
    "    \n",
    "    distincted <- get_distincts(scld)\n",
    "    gc()\n",
    "    base::message('Got distinct values for nominals.')\n",
    "    \n",
    "    dummied <- dummy_data(distincted)\n",
    "    gc()\n",
    "    base::message('Data dummied.')\n",
    "    \n",
    "    if(!test){\n",
    "        dummied[['label_to_keras']] <- target_# %>% label_encode %>% keras::to_categorical()\n",
    "        dummied[['label']] <- target_ #%>% label_encode\n",
    "    }\n",
    "    \n",
    "    dummied[['data']] <- dummied[['data']] %>% as.matrix\n",
    "    base::message('All done !')\n",
    "    dummied\n",
    "}"
   ]
  },
  {
   "cell_type": "code",
   "execution_count": 63,
   "id": "92982dd2-f333-4f9e-81e7-1183b0382975",
   "metadata": {},
   "outputs": [],
   "source": [
    "data_sl <- data.table()\n",
    "\n",
    "for(i in c(LETTERS[1:10],letters[1:20])){\n",
    "    charmi <- sample(c(TRUE,FALSE),size = 1)\n",
    "    ortsec <- sample(200:500,size = 1)\n",
    "    sdsec <- sample(100:1000,size = 1)\n",
    "    if(charmi){\n",
    "        data_sl[,(i) := sample(LETTERS,size = 2e5,replace = T)]\n",
    "    }else{\n",
    "        data_sl[,(i) := rnorm(n = 2e5,mean = ortsec,sd = sdsec)]\n",
    "    }\n",
    "}\n",
    "\n",
    "data_sl[,default := sample(c('No','Yes'),size = 2e5,prob = c(.93,.07),replace = T)]"
   ]
  },
  {
   "cell_type": "code",
   "execution_count": 64,
   "id": "9bd8aee4-1bc1-45fe-9491-c613050dcb26",
   "metadata": {},
   "outputs": [],
   "source": [
    "set.seed(12)\n",
    "traindex <- sample(1:nrow(data_sl),nrow(data_sl)*0.66)\n",
    "train_set <- data_sl[traindex,]\n",
    "test_set <- data_sl[-traindex,] %>% select(-default)"
   ]
  },
  {
   "cell_type": "code",
   "execution_count": 65,
   "id": "a232fb71-efcd-4748-b40b-7a0e58ab6860",
   "metadata": {},
   "outputs": [
    {
     "name": "stderr",
     "output_type": "stream",
     "text": [
      "Data sparsed.\n",
      "\n",
      "Scaling factors calculated.\n",
      "\n",
      "Data scaled.\n",
      "\n",
      "Got distinct values for nominals.\n",
      "\n",
      "Data dummied.\n",
      "\n",
      "All done !\n",
      "\n",
      "Data sparsed.\n",
      "\n",
      "Scaling factors calculated.\n",
      "\n",
      "Data scaled.\n",
      "\n",
      "Got distinct values for nominals.\n",
      "\n",
      "Data dummied.\n",
      "\n",
      "All done !\n",
      "\n"
     ]
    }
   ],
   "source": [
    "train_ok <- train_set %>% make_frame(label = 'default')\n",
    "test_ok <- test_set %>% make_frame(label = 'default',test = T,train_frame = train_ok)"
   ]
  },
  {
   "cell_type": "code",
   "execution_count": 66,
   "id": "fb4bce17-618e-4b95-a336-568d8a7056c2",
   "metadata": {},
   "outputs": [],
   "source": [
    "f1 <- function(y_true, y_pred){\n",
    "    y_pred = k_round(y_pred)\n",
    "    \n",
    "    tp = k_sum(k_cast(y_true*y_pred, 'float'), axis=1)\n",
    "    tn = k_sum(k_cast((1-y_true)*(1-y_pred), 'float'), axis=1)\n",
    "    fp = k_sum(k_cast((1-y_true)*y_pred, 'float'), axis=1)\n",
    "    fn = k_sum(k_cast(y_true*(1-y_pred), 'float'), axis=1)\n",
    "\n",
    "    p = tp / (tp + fp + k_epsilon())\n",
    "    r = tp / (tp + fn + k_epsilon())\n",
    "\n",
    "    f1 = 2*p*r / (p+r+k_epsilon())\n",
    "    f1 = tf$where(tf$math$is_nan(f1), tf$zeros_like(f1), f1)\n",
    "    return(k_mean(f1,axis = 1))\n",
    "}\n",
    "\n",
    "f1_loss <- function(y_true, y_pred){\n",
    "    #y_pred = k_round(y_pred)\n",
    "    tp = k_sum(k_cast(y_true*y_pred, 'float'), axis=1)\n",
    "    tn = k_sum(k_cast((1-y_true)*(1-y_pred), 'float'), axis=1)\n",
    "    fp = k_sum(k_cast((1-y_true)*y_pred, 'float'), axis=1)\n",
    "    fn = k_sum(k_cast(y_true*(1-y_pred), 'float'), axis=1)\n",
    "\n",
    "    p = tp / (tp + fp + k_epsilon())\n",
    "    r = tp / (tp + fn + k_epsilon())\n",
    "\n",
    "    f1 = 2*p*r / (p+r+k_epsilon())\n",
    "    f1 = tf$where(tf$math$is_nan(f1), tf$zeros_like(f1), f1)\n",
    "    return(1 - k_mean(f1,axis = 1))\n",
    "}"
   ]
  },
  {
   "cell_type": "code",
   "execution_count": 67,
   "id": "21ddddd4-a97c-4346-a0f8-73d46750c97e",
   "metadata": {},
   "outputs": [],
   "source": [
    "folds_ <- caret::createFolds(train_ok[['label']],k = 5)\n",
    "\n",
    "folds <- 1:length(folds_)"
   ]
  },
  {
   "cell_type": "code",
   "execution_count": 68,
   "id": "b270b17e-5ef8-4be5-bf84-4e92e4e2845c",
   "metadata": {},
   "outputs": [],
   "source": [
    "input_neurons <- ncol(train_ok[['data']][folds_[[1]],]) \n",
    "output_neurons <- 2\n",
    "\n",
    "nofsample <- nrow(train_ok[['data']][folds_[[1]],])\n",
    "\n",
    "alpha <- 4"
   ]
  },
  {
   "cell_type": "code",
   "execution_count": 69,
   "id": "9314dc76-5d0c-4d77-a7e7-8bf227becee4",
   "metadata": {},
   "outputs": [],
   "source": [
    "numofneuron <- nofsample / (alpha * (input_neurons + output_neurons))\n",
    "\n",
    "numofneuron <- numofneuron - output_neurons"
   ]
  },
  {
   "cell_type": "code",
   "execution_count": 71,
   "id": "01769dce-b6eb-4bac-a22a-f86b53c2f281",
   "metadata": {},
   "outputs": [
    {
     "data": {
      "text/html": [
       "<style>\n",
       ".list-inline {list-style: none; margin:0; padding: 0}\n",
       ".list-inline>li {display: inline-block}\n",
       ".list-inline>li:not(:last-child)::after {content: \"\\00b7\"; padding: 0 .5ex}\n",
       "</style>\n",
       "<ol class=list-inline><li>3</li><li>3</li><li>2</li><li>2</li><li>2</li><li>2</li></ol>\n"
      ],
      "text/latex": [
       "\\begin{enumerate*}\n",
       "\\item 3\n",
       "\\item 3\n",
       "\\item 2\n",
       "\\item 2\n",
       "\\item 2\n",
       "\\item 2\n",
       "\\end{enumerate*}\n"
      ],
      "text/markdown": [
       "1. 3\n",
       "2. 3\n",
       "3. 2\n",
       "4. 2\n",
       "5. 2\n",
       "6. 2\n",
       "\n",
       "\n"
      ],
      "text/plain": [
       "[1] 3 3 2 2 2 2"
      ]
     },
     "metadata": {},
     "output_type": "display_data"
    }
   ],
   "source": [
    "layer_dist1 <- base::seq(from = numofneuron,to = output_neurons,length.out = 10)\n",
    "layer_dist <- layer_dist1[-1]/base::sum(layer_dist1[-1])*numofneuron\n",
    "layer_disto <- layer_dist %>% ceiling %>% .[1:6]\n",
    "\n",
    "layer_disto"
   ]
  },
  {
   "cell_type": "code",
   "execution_count": 76,
   "id": "1a3523fc-7f61-4238-8796-0edb8a36a672",
   "metadata": {},
   "outputs": [
    {
     "data": {
      "text/html": [
       "'**************----------**************'"
      ],
      "text/latex": [
       "'**************----------**************'"
      ],
      "text/markdown": [
       "'**************----------**************'"
      ],
      "text/plain": [
       "[1] \"**************----------**************\""
      ]
     },
     "metadata": {},
     "output_type": "display_data"
    },
    {
     "data": {
      "text/html": [
       "'Fold 1 F1 : 0.08'"
      ],
      "text/latex": [
       "'Fold 1 F1 : 0.08'"
      ],
      "text/markdown": [
       "'Fold 1 F1 : 0.08'"
      ],
      "text/plain": [
       "[1] \"Fold 1 F1 : 0.08\""
      ]
     },
     "metadata": {},
     "output_type": "display_data"
    },
    {
     "data": {
      "text/html": [
       "'Best threshold for Fold 1 is : 0.03'"
      ],
      "text/latex": [
       "'Best threshold for Fold 1 is : 0.03'"
      ],
      "text/markdown": [
       "'Best threshold for Fold 1 is : 0.03'"
      ],
      "text/plain": [
       "[1] \"Best threshold for Fold 1 is : 0.03\""
      ]
     },
     "metadata": {},
     "output_type": "display_data"
    },
    {
     "data": {
      "text/html": [
       "'**************----------**************'"
      ],
      "text/latex": [
       "'**************----------**************'"
      ],
      "text/markdown": [
       "'**************----------**************'"
      ],
      "text/plain": [
       "[1] \"**************----------**************\""
      ]
     },
     "metadata": {},
     "output_type": "display_data"
    },
    {
     "data": {
      "text/html": [
       "'Fold 2 F1 : 0.13'"
      ],
      "text/latex": [
       "'Fold 2 F1 : 0.13'"
      ],
      "text/markdown": [
       "'Fold 2 F1 : 0.13'"
      ],
      "text/plain": [
       "[1] \"Fold 2 F1 : 0.13\""
      ]
     },
     "metadata": {},
     "output_type": "display_data"
    },
    {
     "data": {
      "text/html": [
       "'Best threshold for Fold 2 is : 0.04'"
      ],
      "text/latex": [
       "'Best threshold for Fold 2 is : 0.04'"
      ],
      "text/markdown": [
       "'Best threshold for Fold 2 is : 0.04'"
      ],
      "text/plain": [
       "[1] \"Best threshold for Fold 2 is : 0.04\""
      ]
     },
     "metadata": {},
     "output_type": "display_data"
    },
    {
     "data": {
      "text/html": [
       "'**************----------**************'"
      ],
      "text/latex": [
       "'**************----------**************'"
      ],
      "text/markdown": [
       "'**************----------**************'"
      ],
      "text/plain": [
       "[1] \"**************----------**************\""
      ]
     },
     "metadata": {},
     "output_type": "display_data"
    },
    {
     "data": {
      "text/html": [
       "'Fold 3 F1 : 0.13'"
      ],
      "text/latex": [
       "'Fold 3 F1 : 0.13'"
      ],
      "text/markdown": [
       "'Fold 3 F1 : 0.13'"
      ],
      "text/plain": [
       "[1] \"Fold 3 F1 : 0.13\""
      ]
     },
     "metadata": {},
     "output_type": "display_data"
    },
    {
     "data": {
      "text/html": [
       "'Best threshold for Fold 3 is : 0.03'"
      ],
      "text/latex": [
       "'Best threshold for Fold 3 is : 0.03'"
      ],
      "text/markdown": [
       "'Best threshold for Fold 3 is : 0.03'"
      ],
      "text/plain": [
       "[1] \"Best threshold for Fold 3 is : 0.03\""
      ]
     },
     "metadata": {},
     "output_type": "display_data"
    },
    {
     "data": {
      "text/html": [
       "'**************----------**************'"
      ],
      "text/latex": [
       "'**************----------**************'"
      ],
      "text/markdown": [
       "'**************----------**************'"
      ],
      "text/plain": [
       "[1] \"**************----------**************\""
      ]
     },
     "metadata": {},
     "output_type": "display_data"
    },
    {
     "data": {
      "text/html": [
       "'Fold 4 F1 : 0.13'"
      ],
      "text/latex": [
       "'Fold 4 F1 : 0.13'"
      ],
      "text/markdown": [
       "'Fold 4 F1 : 0.13'"
      ],
      "text/plain": [
       "[1] \"Fold 4 F1 : 0.13\""
      ]
     },
     "metadata": {},
     "output_type": "display_data"
    },
    {
     "data": {
      "text/html": [
       "'Best threshold for Fold 4 is : 0.05'"
      ],
      "text/latex": [
       "'Best threshold for Fold 4 is : 0.05'"
      ],
      "text/markdown": [
       "'Best threshold for Fold 4 is : 0.05'"
      ],
      "text/plain": [
       "[1] \"Best threshold for Fold 4 is : 0.05\""
      ]
     },
     "metadata": {},
     "output_type": "display_data"
    },
    {
     "data": {
      "text/html": [
       "'**************----------**************'"
      ],
      "text/latex": [
       "'**************----------**************'"
      ],
      "text/markdown": [
       "'**************----------**************'"
      ],
      "text/plain": [
       "[1] \"**************----------**************\""
      ]
     },
     "metadata": {},
     "output_type": "display_data"
    },
    {
     "data": {
      "text/html": [
       "'Fold 5 F1 : 0.1'"
      ],
      "text/latex": [
       "'Fold 5 F1 : 0.1'"
      ],
      "text/markdown": [
       "'Fold 5 F1 : 0.1'"
      ],
      "text/plain": [
       "[1] \"Fold 5 F1 : 0.1\""
      ]
     },
     "metadata": {},
     "output_type": "display_data"
    },
    {
     "data": {
      "text/html": [
       "'Best threshold for Fold 5 is : 0.03'"
      ],
      "text/latex": [
       "'Best threshold for Fold 5 is : 0.03'"
      ],
      "text/markdown": [
       "'Best threshold for Fold 5 is : 0.03'"
      ],
      "text/plain": [
       "[1] \"Best threshold for Fold 5 is : 0.03\""
      ]
     },
     "metadata": {},
     "output_type": "display_data"
    },
    {
     "data": {
      "text/html": [
       "'**************----------**************'"
      ],
      "text/latex": [
       "'**************----------**************'"
      ],
      "text/markdown": [
       "'**************----------**************'"
      ],
      "text/plain": [
       "[1] \"**************----------**************\""
      ]
     },
     "metadata": {},
     "output_type": "display_data"
    },
    {
     "data": {
      "text/html": [
       "'CV Mean F1 : 0.116017492288334'"
      ],
      "text/latex": [
       "'CV Mean F1 : 0.116017492288334'"
      ],
      "text/markdown": [
       "'CV Mean F1 : 0.116017492288334'"
      ],
      "text/plain": [
       "[1] \"CV Mean F1 : 0.116017492288334\""
      ]
     },
     "metadata": {},
     "output_type": "display_data"
    }
   ],
   "source": [
    "seed <- 1453\n",
    "preds_keras <- list()\n",
    "errors <- c()\n",
    "\n",
    "for(i in folds){\n",
    "    train_indices <- setdiff(folds,i) \n",
    "    test_indices <- i\n",
    "    \n",
    "    train_x <- train_ok[['data']][unlist(folds_[train_indices]),]\n",
    "    test_x <- train_ok[['data']][unlist(folds_[test_indices]),]\n",
    "    \n",
    "    target_data <- test_ok[['data']]\n",
    "    \n",
    "    #train_set <- bake(tarif,train_set)\n",
    "    #test_set <- bake(tarif,test_set)\n",
    "    \n",
    "    train_y <- train_ok[['label']][unlist(folds_[train_indices])]# %>% label_encode %>% as.matrix %>% to_categorical\n",
    "    test_y <- train_ok[['label']][unlist(folds_[test_indices])] #%>% label_encode %>% as.matrix %>% to_categorical\n",
    "    \n",
    "    train_y2 <- train_y %>% label_encode %>% as.matrix %>% to_categorical\n",
    "    test_y2 <- test_y %>% label_encode %>% as.matrix %>% to_categorical\n",
    "    #test_y2 <- test_set[,label]%>% as.matrix\n",
    "    \n",
    "    #target_data <- target_data[, -which(names(train_set) == label)]%>% as.matrix\n",
    "    \n",
    "    tf$random$set_seed(seed = seed)\n",
    "\n",
    "    reticulate::py_set_seed(seed = seed)\n",
    "\n",
    "    model <- keras_model_sequential()\n",
    "    \n",
    "    #randy <- sample(1:1000,size = 8)\n",
    "\n",
    "    #unites <- (numofneuron*(randy/sum(randy)) )%>% ceiling\n",
    "\n",
    "    model %>%\n",
    "    layer_dense(units = layer_disto[1], activation = 'relu', input_shape = c(input_neurons)) %>%\n",
    "    layer_dense(units = layer_disto[2], activation = 'relu') %>%\n",
    "    layer_dense(units = layer_disto[3], activation = 'relu') %>%\n",
    "    layer_dense(units = layer_disto[4], activation = 'relu') %>%\n",
    "    layer_dense(units = layer_disto[5], activation = 'relu') %>%\n",
    "    layer_dense(units = layer_disto[6], activation = 'relu') %>%\n",
    "    #layer_dense(units = layer_disto[7], activation = 'relu') %>%\n",
    "    layer_dense(units = 2,activation = 'softmax')\n",
    "    \n",
    "    model %>% compile(\n",
    "      loss = f1_loss,\n",
    "      optimizer =optimizer_rmsprop(learning_rate = 0.001),\n",
    "      metrics = c(f1)\n",
    "    )\n",
    "    \n",
    "    wgh <- sqrt(sum(test_y == 'Yes')/sum(test_y == 'No'))\n",
    "    \n",
    "    history <- model %>% fit(\n",
    "      train_x, train_y2, \n",
    "      epochs = 20, batch_size = 128, \n",
    "      validation_data = list(test_x,test_y2),\n",
    "      callbacks = list(callback_early_stopping(\n",
    "                        monitor = \"val_loss\",\n",
    "                        patience = 10,\n",
    "                        verbose = 1,\n",
    "                        mode = \"auto\",\n",
    "                        restore_best_weights = TRUE\n",
    "                        )\n",
    "    )#,\n",
    "    #class_weight = list('0' = wgh**2,'1' = 1)\n",
    "    )\n",
    "    \n",
    "    preds <- model %>% predict(test_x)  %>% .[,2]\n",
    "    \n",
    "    # fold thresholding \n",
    "    thresholds <- data.table()\n",
    "    for(j in seq(from = 0.03,to = 0.7,by = 0.01)){\n",
    "        obs <- test_y %>% label_encode\n",
    "        prd <- +(preds >= j)\n",
    "        if(sum(prd) == 0){\n",
    "            next\n",
    "        }\n",
    "        f1_clc <- f_meas_vec(truth = factor(obs,levels = 0:1),estimate = factor(prd,levels = 0:1),event_level = 'second')\n",
    "        fold_row <- data.table(threshold = j,f1 = f1_clc)\n",
    "        thresholds <- rbindlist(list(thresholds,fold_row))\n",
    "    }\n",
    "    \n",
    "    best_threshold <- thresholds %>% filter(f1 == max(f1)) %>% select(threshold) %>% pull %>% .[1]\n",
    "    error <- thresholds %>% filter(f1 == max(f1)) %>% select(f1) %>% pull %>% .[1]\n",
    "    IRdisplay::display('**************----------**************')\n",
    "    IRdisplay::display(sprintf('Fold %s F1 : %s',i,round(error,2)))\n",
    "    errors[i] <- error\n",
    "    IRdisplay::display(sprintf('Best threshold for Fold %s is : %s',i,best_threshold))\n",
    "    \n",
    "    \n",
    "    \n",
    "    preds_target <- model %>% predict(target_data) %>% .[,2]\n",
    "    \n",
    "    preds_target <- +(preds_target >= best_threshold)\n",
    "    \n",
    "    preds_keras[[i]] <- preds_target\n",
    "}\n",
    "IRdisplay::display('**************----------**************')\n",
    "IRdisplay::display(sprintf('CV Mean F1 : %s',mean(errors,na.rm = T)))"
   ]
  },
  {
   "cell_type": "code",
   "execution_count": 77,
   "id": "3d0944e5-0366-4809-bd33-e4f1f68cfa61",
   "metadata": {},
   "outputs": [],
   "source": [
    "krs <- preds_keras %>% as.data.table"
   ]
  },
  {
   "cell_type": "code",
   "execution_count": 78,
   "id": "253ddb91-bcb1-4915-b936-3085c37e1a05",
   "metadata": {},
   "outputs": [],
   "source": [
    "colnames(krs) <- paste0('Fold',1:length(folds))"
   ]
  },
  {
   "cell_type": "code",
   "execution_count": 79,
   "id": "900a110c-fac9-42ac-bf24-4f4044d42e23",
   "metadata": {},
   "outputs": [],
   "source": [
    "krs <- krs %>% rowwise %>% mutate(prd = fmode(c(Fold1,Fold2,Fold3,Fold4,Fold5))) %>% as.data.table"
   ]
  },
  {
   "cell_type": "code",
   "execution_count": 80,
   "id": "1de6cefc-1744-486f-a7d9-f799db4ea4d2",
   "metadata": {},
   "outputs": [],
   "source": [
    "#krs[,prd := +(prd >= 0.5)]"
   ]
  },
  {
   "cell_type": "code",
   "execution_count": 81,
   "id": "5488aa6a-297c-4f34-bf01-d12f3615875c",
   "metadata": {},
   "outputs": [
    {
     "data": {
      "text/plain": [
       "default\n",
       "        No        Yes \n",
       "0.93016176 0.06983824 "
      ]
     },
     "metadata": {},
     "output_type": "display_data"
    }
   ],
   "source": [
    "data_sl[-traindex,] %>% select(default) %>% table %>% prop.table"
   ]
  },
  {
   "cell_type": "code",
   "execution_count": 82,
   "id": "e4f3fcbf-d1c7-4701-ba54-c7cb1120358e",
   "metadata": {},
   "outputs": [
    {
     "data": {
      "text/html": [
       "<table class=\"dataframe\">\n",
       "<caption>A tibble: 1 × 3</caption>\n",
       "<thead>\n",
       "\t<tr><th scope=col>.metric</th><th scope=col>.estimator</th><th scope=col>.estimate</th></tr>\n",
       "\t<tr><th scope=col>&lt;chr&gt;</th><th scope=col>&lt;chr&gt;</th><th scope=col>&lt;dbl&gt;</th></tr>\n",
       "</thead>\n",
       "<tbody>\n",
       "\t<tr><td>f_meas</td><td>binary</td><td>0.1289856</td></tr>\n",
       "</tbody>\n",
       "</table>\n"
      ],
      "text/latex": [
       "A tibble: 1 × 3\n",
       "\\begin{tabular}{lll}\n",
       " .metric & .estimator & .estimate\\\\\n",
       " <chr> & <chr> & <dbl>\\\\\n",
       "\\hline\n",
       "\t f\\_meas & binary & 0.1289856\\\\\n",
       "\\end{tabular}\n"
      ],
      "text/markdown": [
       "\n",
       "A tibble: 1 × 3\n",
       "\n",
       "| .metric &lt;chr&gt; | .estimator &lt;chr&gt; | .estimate &lt;dbl&gt; |\n",
       "|---|---|---|\n",
       "| f_meas | binary | 0.1289856 |\n",
       "\n"
      ],
      "text/plain": [
       "  .metric .estimator .estimate\n",
       "1 f_meas  binary     0.1289856"
      ]
     },
     "metadata": {},
     "output_type": "display_data"
    }
   ],
   "source": [
    "data_sl[-traindex,] %>% select(default) %>%\n",
    "transmute(obs = +(default == 'Yes')) %>%\n",
    "bind_cols(krs %>% select(prd)) %>%\n",
    "f_meas(truth = factor(obs,levels = 0:1),estimate = factor(prd,levels = 0:1),event_level = 'second')"
   ]
  }
 ],
 "metadata": {
  "kernelspec": {
   "display_name": "R",
   "language": "R",
   "name": "ir"
  },
  "language_info": {
   "codemirror_mode": "r",
   "file_extension": ".r",
   "mimetype": "text/x-r-source",
   "name": "R",
   "pygments_lexer": "r",
   "version": "4.2.0"
  }
 },
 "nbformat": 4,
 "nbformat_minor": 5
}
