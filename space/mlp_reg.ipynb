{
 "cells": [
  {
   "cell_type": "code",
   "execution_count": 1,
   "id": "15f60faa-1b02-4090-bef6-0de7f0445274",
   "metadata": {},
   "outputs": [],
   "source": [
    "suppressPackageStartupMessages({\n",
    "    library(tidymodels)\n",
    "    library(treesnip)\n",
    "    library(tidyverse)\n",
    "    library(keras)\n",
    "    library(tensorflow)\n",
    "    #library(lime)\n",
    "})"
   ]
  },
  {
   "cell_type": "code",
   "execution_count": 2,
   "id": "5d6852b1-f59d-4e34-b94a-c0bc0e8dd57b",
   "metadata": {},
   "outputs": [],
   "source": [
    "seed <- 1923"
   ]
  },
  {
   "cell_type": "code",
   "execution_count": 3,
   "id": "d165a329-f897-42fe-a4c4-09601b74f6d7",
   "metadata": {},
   "outputs": [],
   "source": [
    "set.seed(1)\n",
    "\n",
    "label <- 'income'\n",
    "\n",
    "iris1.5 <- ISLR::Default %>% mutate(default = case_when(default == 'No' ~ 0,\n",
    "                                             default == 'Yes' ~ 1)) %>% select(-student)\n",
    "\n",
    "iris1.5 <- iris1.5 %>% mutate(default = factor(default,levels = 0:1))\n",
    "\n",
    "willsee <- caret::createDataPartition(iris1.5[[label]],p = .7,list = TRUE) %>% unlist\n",
    "\n",
    "iris2 <- iris1.5[willsee,]\n",
    "\n",
    "iris3 <- iris1.5[-willsee,]\n",
    "\n",
    "folds_ <- caret::createFolds(iris2[[label]],k = 5)\n",
    "\n",
    "folds <- 1:length(folds_)\n",
    "\n",
    "errors <- c()\n",
    "\n",
    "predictions <- list()\n",
    "\n",
    "iris2 <- iris2 %>% mutate(default = as.integer(as.character(default)))\n",
    "iris3 <- iris3 %>% mutate(default = as.integer(as.character(default)))\n",
    "\n",
    "i <- 1\n",
    "\n",
    "train_indices_dum <- setdiff(folds,i)\n",
    "test_indices_dum <- i\n",
    "\n",
    "train_set_dum <- iris2[unlist(folds_[train_indices_dum]),]\n",
    "test_set_dum <- iris2[unlist(folds_[test_indices_dum]),]\n"
   ]
  },
  {
   "cell_type": "code",
   "execution_count": 4,
   "id": "838a117c-de0f-4762-854c-9fd65830e06c",
   "metadata": {},
   "outputs": [],
   "source": [
    "input_neurons <- ncol(train_set_dum) - 1\n",
    "output_neurons <- 2\n",
    "\n",
    "nofsample <- nrow(train_set_dum)\n",
    "\n",
    "alpha <- 4"
   ]
  },
  {
   "cell_type": "code",
   "execution_count": 5,
   "id": "28d90b03-1509-4fcd-b63c-37de5096548f",
   "metadata": {},
   "outputs": [],
   "source": [
    "numofneuron <- nofsample / (alpha * (input_neurons + output_neurons))\n",
    "\n",
    "numofneuron <- numofneuron - output_neurons"
   ]
  },
  {
   "cell_type": "code",
   "execution_count": 49,
   "id": "6c635920-67a9-495c-b46a-c5b94e1c6787",
   "metadata": {},
   "outputs": [],
   "source": [
    "layer_dist1 <- base::seq(from = numofneuron,to = output_neurons,length.out = 5)\n",
    "layer_dist <- layer_dist1[-1]/base::sum(layer_dist1[-1])*numofneuron\n",
    "layer_disto <- layer_dist %>% ceiling %>% .[1:4]\n",
    "\n",
    "#randy <- sample(1:1000,size = 8)\n",
    "\n",
    "#(numofneuron*(randy/sum(randy)) )%>% ceiling"
   ]
  },
  {
   "cell_type": "code",
   "execution_count": 50,
   "id": "45f77ef0-503a-4b91-adb4-12d86349d0aa",
   "metadata": {},
   "outputs": [
    {
     "data": {
      "text/html": [
       "<style>\n",
       ".list-inline {list-style: none; margin:0; padding: 0}\n",
       ".list-inline>li {display: inline-block}\n",
       ".list-inline>li:not(:last-child)::after {content: \"\\00b7\"; padding: 0 .5ex}\n",
       "</style>\n",
       "<ol class=list-inline><li>173</li><li>116</li><li>59</li><li>2</li></ol>\n"
      ],
      "text/latex": [
       "\\begin{enumerate*}\n",
       "\\item 173\n",
       "\\item 116\n",
       "\\item 59\n",
       "\\item 2\n",
       "\\end{enumerate*}\n"
      ],
      "text/markdown": [
       "1. 173\n",
       "2. 116\n",
       "3. 59\n",
       "4. 2\n",
       "\n",
       "\n"
      ],
      "text/plain": [
       "[1] 173 116  59   2"
      ]
     },
     "metadata": {},
     "output_type": "display_data"
    }
   ],
   "source": [
    "layer_disto"
   ]
  },
  {
   "cell_type": "code",
   "execution_count": 16,
   "id": "1b611636-486a-45cf-8bbb-9e3b85835605",
   "metadata": {},
   "outputs": [],
   "source": [
    "f1 <- function(y_true, y_pred){\n",
    "    y_pred = k_round(y_pred)\n",
    "    \n",
    "    tp = k_sum(k_cast(y_true*y_pred, 'float'), axis=1)\n",
    "    tn = k_sum(k_cast((1-y_true)*(1-y_pred), 'float'), axis=1)\n",
    "    fp = k_sum(k_cast((1-y_true)*y_pred, 'float'), axis=1)\n",
    "    fn = k_sum(k_cast(y_true*(1-y_pred), 'float'), axis=1)\n",
    "\n",
    "    p = tp / (tp + fp + k_epsilon())\n",
    "    r = tp / (tp + fn + k_epsilon())\n",
    "\n",
    "    f1 = 2*p*r / (p+r+k_epsilon())\n",
    "    f1 = tf$where(tf$math$is_nan(f1), tf$zeros_like(f1), f1)\n",
    "    return(k_mean(f1,axis = 1))\n",
    "}\n",
    "\n",
    "f1_loss <- function(y_true, y_pred){\n",
    "    #y_pred = k_round(y_pred)\n",
    "    tp = k_sum(k_cast(y_true*y_pred, 'float'), axis=1)\n",
    "    tn = k_sum(k_cast((1-y_true)*(1-y_pred), 'float'), axis=1)\n",
    "    fp = k_sum(k_cast((1-y_true)*y_pred, 'float'), axis=1)\n",
    "    fn = k_sum(k_cast(y_true*(1-y_pred), 'float'), axis=1)\n",
    "\n",
    "    p = tp / (tp + fp + k_epsilon())\n",
    "    r = tp / (tp + fn + k_epsilon())\n",
    "\n",
    "    f1 = 2*p*r / (p+r+k_epsilon())\n",
    "    f1 = tf$where(tf$math$is_nan(f1), tf$zeros_like(f1), f1)\n",
    "    return(1 - k_mean(f1,axis = 1))\n",
    "}"
   ]
  },
  {
   "cell_type": "code",
   "execution_count": 17,
   "id": "71fd3188-3f81-48d3-b6ad-db8588bed3a1",
   "metadata": {},
   "outputs": [],
   "source": [
    "#model %>% compile(\n",
    "#  loss = f1_loss,\n",
    "#  optimizer = optimizer_adam(learning_rate = 0.01),\n",
    "#  metrics = c(f1)\n",
    "#)"
   ]
  },
  {
   "cell_type": "code",
   "execution_count": 21,
   "id": "9967fdc2-c694-4649-a6bd-161101aafa7d",
   "metadata": {},
   "outputs": [],
   "source": [
    "train_indices <- setdiff(folds,i)\n",
    "    test_indices <- i\n",
    "    \n",
    "    train_set <- iris2[unlist(folds_[train_indices]),]\n",
    "    test_set <- iris2[unlist(folds_[test_indices]),]\n",
    "    "
   ]
  },
  {
   "cell_type": "code",
   "execution_count": 35,
   "id": "9c630a82-4f25-40b9-ad72-733dce55897e",
   "metadata": {},
   "outputs": [
    {
     "data": {
      "text/html": [
       "'income'"
      ],
      "text/latex": [
       "'income'"
      ],
      "text/markdown": [
       "'income'"
      ],
      "text/plain": [
       "[1] \"income\""
      ]
     },
     "metadata": {},
     "output_type": "display_data"
    }
   ],
   "source": [
    "label"
   ]
  },
  {
   "cell_type": "code",
   "execution_count": 51,
   "id": "506fb052-5dff-4820-ba35-c41d5edaa1ae",
   "metadata": {},
   "outputs": [
    {
     "data": {
      "text/html": [
       "'**************----------**************'"
      ],
      "text/latex": [
       "'**************----------**************'"
      ],
      "text/markdown": [
       "'**************----------**************'"
      ],
      "text/plain": [
       "[1] \"**************----------**************\""
      ]
     },
     "metadata": {},
     "output_type": "display_data"
    },
    {
     "data": {
      "text/html": [
       "'Fold 1 RMSE : 13473.14'"
      ],
      "text/latex": [
       "'Fold 1 RMSE : 13473.14'"
      ],
      "text/markdown": [
       "'Fold 1 RMSE : 13473.14'"
      ],
      "text/plain": [
       "[1] \"Fold 1 RMSE : 13473.14\""
      ]
     },
     "metadata": {},
     "output_type": "display_data"
    },
    {
     "data": {
      "text/html": [
       "'**************----------**************'"
      ],
      "text/latex": [
       "'**************----------**************'"
      ],
      "text/markdown": [
       "'**************----------**************'"
      ],
      "text/plain": [
       "[1] \"**************----------**************\""
      ]
     },
     "metadata": {},
     "output_type": "display_data"
    },
    {
     "data": {
      "text/html": [
       "'Fold 2 RMSE : 13394.87'"
      ],
      "text/latex": [
       "'Fold 2 RMSE : 13394.87'"
      ],
      "text/markdown": [
       "'Fold 2 RMSE : 13394.87'"
      ],
      "text/plain": [
       "[1] \"Fold 2 RMSE : 13394.87\""
      ]
     },
     "metadata": {},
     "output_type": "display_data"
    },
    {
     "data": {
      "text/html": [
       "'**************----------**************'"
      ],
      "text/latex": [
       "'**************----------**************'"
      ],
      "text/markdown": [
       "'**************----------**************'"
      ],
      "text/plain": [
       "[1] \"**************----------**************\""
      ]
     },
     "metadata": {},
     "output_type": "display_data"
    },
    {
     "data": {
      "text/html": [
       "'Fold 3 RMSE : 13229.57'"
      ],
      "text/latex": [
       "'Fold 3 RMSE : 13229.57'"
      ],
      "text/markdown": [
       "'Fold 3 RMSE : 13229.57'"
      ],
      "text/plain": [
       "[1] \"Fold 3 RMSE : 13229.57\""
      ]
     },
     "metadata": {},
     "output_type": "display_data"
    },
    {
     "data": {
      "text/html": [
       "'**************----------**************'"
      ],
      "text/latex": [
       "'**************----------**************'"
      ],
      "text/markdown": [
       "'**************----------**************'"
      ],
      "text/plain": [
       "[1] \"**************----------**************\""
      ]
     },
     "metadata": {},
     "output_type": "display_data"
    },
    {
     "data": {
      "text/html": [
       "'Fold 4 RMSE : 13324.88'"
      ],
      "text/latex": [
       "'Fold 4 RMSE : 13324.88'"
      ],
      "text/markdown": [
       "'Fold 4 RMSE : 13324.88'"
      ],
      "text/plain": [
       "[1] \"Fold 4 RMSE : 13324.88\""
      ]
     },
     "metadata": {},
     "output_type": "display_data"
    },
    {
     "data": {
      "text/html": [
       "'**************----------**************'"
      ],
      "text/latex": [
       "'**************----------**************'"
      ],
      "text/markdown": [
       "'**************----------**************'"
      ],
      "text/plain": [
       "[1] \"**************----------**************\""
      ]
     },
     "metadata": {},
     "output_type": "display_data"
    },
    {
     "data": {
      "text/html": [
       "'Fold 5 RMSE : 13226.51'"
      ],
      "text/latex": [
       "'Fold 5 RMSE : 13226.51'"
      ],
      "text/markdown": [
       "'Fold 5 RMSE : 13226.51'"
      ],
      "text/plain": [
       "[1] \"Fold 5 RMSE : 13226.51\""
      ]
     },
     "metadata": {},
     "output_type": "display_data"
    },
    {
     "data": {
      "text/html": [
       "'**************----------**************'"
      ],
      "text/latex": [
       "'**************----------**************'"
      ],
      "text/markdown": [
       "'**************----------**************'"
      ],
      "text/plain": [
       "[1] \"**************----------**************\""
      ]
     },
     "metadata": {},
     "output_type": "display_data"
    },
    {
     "data": {
      "text/html": [
       "'CV Mean RMSE : 13329.7945289611'"
      ],
      "text/latex": [
       "'CV Mean RMSE : 13329.7945289611'"
      ],
      "text/markdown": [
       "'CV Mean RMSE : 13329.7945289611'"
      ],
      "text/plain": [
       "[1] \"CV Mean RMSE : 13329.7945289611\""
      ]
     },
     "metadata": {},
     "output_type": "display_data"
    }
   ],
   "source": [
    "pls <- list()\n",
    "\n",
    "for(i in folds){\n",
    "    train_indices <- setdiff(folds,i)\n",
    "    test_indices <- i\n",
    "    \n",
    "    train_set <- iris2[unlist(folds_[train_indices]),]\n",
    "    test_set <- iris2[unlist(folds_[test_indices]),]\n",
    "    \n",
    "    tarif <- recipe(income ~ .,data = train_set) %>% \n",
    "    step_normalize(all_numeric_predictors()) %>%\n",
    "    #step_encode_mean(all_nominal_predictors(),outcome = 'default') %>%\n",
    "    step_dummy(all_nominal_predictors()) %>%\n",
    "    prep\n",
    "    \n",
    "    target_data <- bake(tarif,iris3)\n",
    "    \n",
    "    train_set <- bake(tarif,train_set)\n",
    "    test_set <- bake(tarif,test_set)\n",
    "    \n",
    "    train_y <- train_set[,label] %>% as.matrix# %>% to_categorical\n",
    "    test_y <- test_set[,label]%>% as.matrix #%>% to_categorical\n",
    "    test_y2 <- test_set[,label]%>% as.matrix\n",
    "    \n",
    "    train_x <- train_set[, -which(names(train_set) == label)]%>% as.matrix\n",
    "    test_x <- test_set[, -which(names(test_set) == label)]%>% as.matrix\n",
    "    \n",
    "    target_data <- target_data[, -which(names(train_set) == label)]%>% as.matrix\n",
    "    \n",
    "    tf$random$set_seed(seed = seed)\n",
    "\n",
    "    reticulate::py_set_seed(seed = seed)\n",
    "\n",
    "    model <- keras_model_sequential()\n",
    "    \n",
    "    randy <- sample(1:1000,size = 8)\n",
    "\n",
    "    unites <- (numofneuron*(randy/sum(randy)) )%>% ceiling\n",
    "\n",
    "    model %>%\n",
    "    layer_dense(units = layer_disto[1], activation = 'relu', input_shape = c(2)) %>%\n",
    "    layer_dense(units = layer_disto[2], activation = 'relu') %>%\n",
    "    layer_dense(units = layer_disto[3], activation = 'relu') %>%\n",
    "    layer_dense(units = layer_disto[4], activation = 'relu') %>%\n",
    "    #layer_dense(units = layer_disto[5], activation = 'relu') %>%\n",
    "    #layer_dense(units = layer_disto[6], activation = 'relu') %>%\n",
    "    #layer_dense(units = layer_disto[7], activation = 'relu') %>%\n",
    "    #layer_dense(units = layer_disto[8], activation = 'relu') %>%\n",
    "    layer_dense(units = 1,activation = 'linear')\n",
    "    \n",
    "    model %>% compile(\n",
    "      loss = 'mean_squared_error',\n",
    "      optimizer =optimizer_rmsprop(learning_rate = 0.0001),\n",
    "      metrics = 'mse'\n",
    "    )\n",
    "    \n",
    "    wgh <- sqrt(sum(test_y)/sum(test_y == 0))\n",
    "    \n",
    "    history <- model %>% fit(\n",
    "      train_x, train_y, \n",
    "      epochs = 150, batch_size = 128, \n",
    "      validation_data = list(test_x,test_y),\n",
    "      callbacks = list(callback_early_stopping(\n",
    "                        monitor = \"val_loss\",\n",
    "                        patience = 10,\n",
    "                        verbose = 1,\n",
    "                        mode = \"auto\",\n",
    "                        restore_best_weights = TRUE\n",
    "                        )\n",
    "    )\n",
    "    )\n",
    "\n",
    "    preds <- model %>% predict(test_x) # %>% \n",
    "                        #as.data.frame %>%\n",
    "                        #mutate('class'=names(.)[apply(., 1, which.max)]) %>%\n",
    "                        #mutate(class = case_when(class == 'V1' ~ 0,\n",
    "                        #                         class == 'V2' ~ 1)) %>%\n",
    "                        #select(class) %>%\n",
    "                        #pull\n",
    "    \n",
    "    error <- yardstick::rmse_vec(truth = as.numeric(test_y2),estimate = as.numeric(preds))\n",
    "    \n",
    "    preds_target <- model %>% predict(target_data)  #%>% \n",
    "                        #as.data.frame %>%\n",
    "                        #mutate('class'=names(.)[apply(., 1, which.max)]) %>%\n",
    "                        #mutate(class = case_when(class == 'V1' ~ 0,\n",
    "                        #                         class == 'V2' ~ 1)) %>%\n",
    "                        #select(class) %>%\n",
    "                        #pull\n",
    "    \n",
    "    IRdisplay::display('**************----------**************')\n",
    "    IRdisplay::display(sprintf('Fold %s RMSE : %s',i,round(error,2)))\n",
    "    errors[i] <- error\n",
    "    \n",
    "    pls[[i]] <- history %>% plot\n",
    "    \n",
    "    predictions[[i]] <- preds_target\n",
    "}\n",
    "IRdisplay::display('**************----------**************')\n",
    "IRdisplay::display(sprintf('CV Mean RMSE : %s',mean(errors,na.rm = T)))\n",
    "\n",
    "dson <- bake(tarif,iris2)\n",
    "\n",
    "strain_y <- dson[,label] %>% as.matrix %>% to_categorical\n",
    "\n",
    "strain_x <- dson[, -which(names(dson) == label)]%>% as.matrix\n",
    "    \n",
    "\n",
    "#historyson <-  model %>% fit(\n",
    "#      strain_x, strain_y, \n",
    "#      epochs = 100, batch_size = 128, \n",
    "#      validation_data = list(test_x,test_y),\n",
    "#      callbacks = list(callback_early_stopping(\n",
    "#                        monitor = \"val_loss\",\n",
    "#                        patience = 20,\n",
    "#                        verbose = 1,\n",
    "#                        mode = \"auto\",\n",
    "#                        restore_best_weights = TRUE\n",
    "#                        )\n",
    "#    )\n",
    "#    )"
   ]
  },
  {
   "cell_type": "code",
   "execution_count": 53,
   "id": "b923d96f-24ee-439b-b606-1b81e1285934",
   "metadata": {},
   "outputs": [],
   "source": [
    "mod <- lm(income ~ default + balance,iris2)"
   ]
  },
  {
   "cell_type": "code",
   "execution_count": 54,
   "id": "46af9cc8-8235-4dd6-bfb3-de4a60f8d2e2",
   "metadata": {},
   "outputs": [
    {
     "data": {
      "text/html": [
       "<table class=\"dataframe\">\n",
       "<caption>A tibble: 1 × 3</caption>\n",
       "<thead>\n",
       "\t<tr><th scope=col>.metric</th><th scope=col>.estimator</th><th scope=col>.estimate</th></tr>\n",
       "\t<tr><th scope=col>&lt;chr&gt;</th><th scope=col>&lt;chr&gt;</th><th scope=col>&lt;dbl&gt;</th></tr>\n",
       "</thead>\n",
       "<tbody>\n",
       "\t<tr><td>rmse</td><td>standard</td><td>13160.37</td></tr>\n",
       "</tbody>\n",
       "</table>\n"
      ],
      "text/latex": [
       "A tibble: 1 × 3\n",
       "\\begin{tabular}{lll}\n",
       " .metric & .estimator & .estimate\\\\\n",
       " <chr> & <chr> & <dbl>\\\\\n",
       "\\hline\n",
       "\t rmse & standard & 13160.37\\\\\n",
       "\\end{tabular}\n"
      ],
      "text/markdown": [
       "\n",
       "A tibble: 1 × 3\n",
       "\n",
       "| .metric &lt;chr&gt; | .estimator &lt;chr&gt; | .estimate &lt;dbl&gt; |\n",
       "|---|---|---|\n",
       "| rmse | standard | 13160.37 |\n",
       "\n"
      ],
      "text/plain": [
       "  .metric .estimator .estimate\n",
       "1 rmse    standard   13160.37 "
      ]
     },
     "metadata": {},
     "output_type": "display_data"
    }
   ],
   "source": [
    "lmpred <- predict(mod,iris3)\n",
    "\n",
    "iris3 %>%\n",
    "mutate(pred = lmpred) %>%\n",
    "rmse(truth = income,estimate = pred)"
   ]
  },
  {
   "cell_type": "code",
   "execution_count": 55,
   "id": "162c7604-7fce-4d67-8135-b96f6f7d132a",
   "metadata": {},
   "outputs": [],
   "source": [
    "#pls %>% lapply(function(x) x + xlim(0,150))"
   ]
  },
  {
   "cell_type": "code",
   "execution_count": 56,
   "id": "28fca2bd-6c06-49c0-a4ef-8a979fbf52f2",
   "metadata": {},
   "outputs": [],
   "source": [
    "#dsson <- bake(tarif,iris3)\n",
    "\n",
    "#sstrain_y <- dsson[,label] %>% as.matrix %>% to_categorical\n",
    "\n",
    "#sstrain_x <- dsson[, -which(names(dsson) == label)]%>% as.matrix\n",
    "\n",
    "#sstrain_y2 <- dsson[,label] %>% as.matrix "
   ]
  },
  {
   "cell_type": "code",
   "execution_count": 57,
   "id": "29d758a2-96ec-400a-8fc0-bdfba9604365",
   "metadata": {},
   "outputs": [],
   "source": [
    "#prds <- predict(model,sstrain_x) %>% apply(1,which.max) - 1"
   ]
  },
  {
   "cell_type": "code",
   "execution_count": 58,
   "id": "bfd71f2f-664f-430a-8765-8c8d5db024d5",
   "metadata": {},
   "outputs": [],
   "source": [
    "#sstrain_y2 %>%\n",
    "#as.data.frame %>% \n",
    "#bind_cols(a = prds) %>%\n",
    "#mutate_all(as.factor) %>%\n",
    "#f_meas(truth = default,estimate = a,event_level = \"second\")"
   ]
  },
  {
   "cell_type": "code",
   "execution_count": 59,
   "id": "8a326068-834c-44d2-b82d-125622cfb68d",
   "metadata": {},
   "outputs": [],
   "source": [
    "all <- as.data.frame(predictions) %>% mutate_if(is.factor,function(x) as.numeric(as.character(x)))"
   ]
  },
  {
   "cell_type": "code",
   "execution_count": 60,
   "id": "ef68d763-06c4-4eb6-b164-010130f48e51",
   "metadata": {},
   "outputs": [],
   "source": [
    "kk <- rowMeans(all) \n",
    "#kk <- ifelse(kk >= 0.5,1,0)"
   ]
  },
  {
   "cell_type": "code",
   "execution_count": 61,
   "id": "4bece2c3-fa37-4bb7-880d-d72affe54a35",
   "metadata": {},
   "outputs": [],
   "source": [
    "kl <- iris3[,label]"
   ]
  },
  {
   "cell_type": "code",
   "execution_count": 62,
   "id": "9dd9bf8a-fa69-4fee-a7cc-cafb3a166e9f",
   "metadata": {},
   "outputs": [],
   "source": [
    "keras_preds <- kk"
   ]
  },
  {
   "cell_type": "code",
   "execution_count": 63,
   "id": "66f52298-6912-4ad0-9b19-67bb67c87c50",
   "metadata": {},
   "outputs": [
    {
     "data": {
      "text/html": [
       "13251.9014346365"
      ],
      "text/latex": [
       "13251.9014346365"
      ],
      "text/markdown": [
       "13251.9014346365"
      ],
      "text/plain": [
       "[1] 13251.9"
      ]
     },
     "metadata": {},
     "output_type": "display_data"
    }
   ],
   "source": [
    "yardstick::rmse_vec(truth = kl,estimate = kk)"
   ]
  }
 ],
 "metadata": {
  "kernelspec": {
   "display_name": "R",
   "language": "R",
   "name": "ir"
  },
  "language_info": {
   "codemirror_mode": "r",
   "file_extension": ".r",
   "mimetype": "text/x-r-source",
   "name": "R",
   "pygments_lexer": "r",
   "version": "4.2.0"
  }
 },
 "nbformat": 4,
 "nbformat_minor": 5
}
