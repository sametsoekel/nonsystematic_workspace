{
 "cells": [
  {
   "cell_type": "code",
   "execution_count": 361,
   "id": "97c41317-4f1e-45a0-859c-a8cfe47db93d",
   "metadata": {},
   "outputs": [],
   "source": [
    "suppressPackageStartupMessages({\n",
    "    library(data.table)\n",
    "    library(tidyverse)\n",
    "    library(tidymodels)\n",
    "    library(treesnip)\n",
    "    library(caret)\n",
    "    library(keras)\n",
    "    library(catboost)\n",
    "    library(tensorflow)\n",
    "    library(collapse)\n",
    "})"
   ]
  },
  {
   "cell_type": "code",
   "execution_count": 441,
   "id": "d0ac3364-3d8b-47cb-b626-c7e4af9b68c0",
   "metadata": {},
   "outputs": [],
   "source": [
    "config <- list(\n",
    "    label = 'default',\n",
    "    seed = 1453,\n",
    "    sparse_percentage = 0.003,\n",
    "    folds = 3,\n",
    "    learning_rate = 0.01,\n",
    "    early_stopping_rounds = 20,\n",
    "    iter = 10000,\n",
    "    objective = 'Logloss',\n",
    "    loss_fun = 'F1:use_weights=False',\n",
    "    eval_metric = 'F1:use_weights=False',\n",
    "    auto_class_weights = 'SqrtBalanced',\n",
    "    use_best = TRUE,\n",
    "    task = 'GPU',\n",
    "    device = '0:1',\n",
    "    slicer_1 = '*-*-*-*-*-*-*-*-*-*-*-*-*-*-*-*-*-*-*-*-*-*-*',\n",
    "    slicer_2 = '_____________________________________________'\n",
    ")"
   ]
  },
  {
   "cell_type": "code",
   "execution_count": 327,
   "id": "f7a0036c-25a1-498d-aeb2-2bb9759cb503",
   "metadata": {},
   "outputs": [],
   "source": [
    "#df <- fread('salary.csv')"
   ]
  },
  {
   "cell_type": "code",
   "execution_count": 328,
   "id": "00cf177e-edd0-447a-abbd-98a1e13b12a3",
   "metadata": {},
   "outputs": [],
   "source": [
    "#colnames(df) <- gsub('-','',colnames(df))"
   ]
  },
  {
   "cell_type": "code",
   "execution_count": 329,
   "id": "87a76249-7eba-487b-adb2-0664ff39cf1f",
   "metadata": {},
   "outputs": [],
   "source": [
    "#df %>% select(salary) %>% filter(salary == '>50K')"
   ]
  },
  {
   "cell_type": "code",
   "execution_count": 331,
   "id": "65a57ec8-e57b-4449-8258-5e7b38216dda",
   "metadata": {},
   "outputs": [],
   "source": [
    "sparse_data <- function(df,sparse_percentage = 0.02){\n",
    "    \n",
    "    df_new <- copy(df) \n",
    "    setDT(df_new)\n",
    "    categorical_names <- df_new %>% purrr::discard(is.numeric) %>% colnames\n",
    "\n",
    "    for(i in categorical_names){\n",
    "        features <- df_new[,unique(.SD),.SDcols = i] %>% pull\n",
    "        \n",
    "        for(j in features){\n",
    "            \n",
    "            condition_format <- 'df_new[,length(%s[%s == \"%s\"])/.N < %s]'\n",
    "            condition_command <- sprintf(condition_format,i,i,j,sparse_percentage)\n",
    "        \n",
    "            condition <- eval(parse(text = condition_command))\n",
    "            \n",
    "            if(condition){\n",
    "                sparse_format <- 'df_new[%s == \"%s\", %s := \"other\"]'\n",
    "                sparse_command <- sprintf(sparse_format,i,j,i)\n",
    "                eval(parse(text = sparse_command))\n",
    "            } \n",
    "        }\n",
    "    }\n",
    "    df_new\n",
    "}"
   ]
  },
  {
   "cell_type": "code",
   "execution_count": 332,
   "id": "9da7b6f6-8629-4fcb-a780-aa4025c0bc4b",
   "metadata": {},
   "outputs": [],
   "source": [
    "get_scaling_factors <- function(df){\n",
    "    setDT(df)\n",
    "    factors <- lapply(df %>% keep(is.numeric),function(x) list(min = min(x,na.rm = T),max = max(x,na.rm = T)))\n",
    "    factors\n",
    "}      "
   ]
  },
  {
   "cell_type": "code",
   "execution_count": 333,
   "id": "a1962cf1-2b91-45bc-9246-370cf8a3b9a0",
   "metadata": {},
   "outputs": [],
   "source": [
    "scale_data <- function(df,scaling_factors,reverse = FALSE){\n",
    "    \n",
    "    data <- copy(df)\n",
    "    setDT(data)\n",
    "    for(i in names(scaling_factors)){\n",
    "        factors <- scaling_factors[[i]]\n",
    "        if(reverse){\n",
    "            #data[,(i) := lapply(.SD,function(x) (x*(factors[['max']] - factors[['min']]) + factors[['min']])),.SDcols = i]\n",
    "        }else{\n",
    "            #data[,(i) := lapply(.SD,function(x) (x - factors[['min']]) / (factors[['max']] - factors[['min']])),.SDcols = i]\n",
    "            #data[,(i) := lapply(.SD,function(x) fifelse(is.na(x),-1,x)),.SDcols = i]\n",
    "        }  \n",
    "    }\n",
    "                                \n",
    "    catcols <- df %>% purrr::discard(is.numeric) %>% colnames\n",
    "    out <- list(scaling_factors = scaling_factors,data = data,cat_cols = catcols)\n",
    "    return(out)\n",
    "} "
   ]
  },
  {
   "cell_type": "code",
   "execution_count": 334,
   "id": "3411b5e2-342e-4afc-83c3-76a5a63c94c8",
   "metadata": {},
   "outputs": [],
   "source": [
    "clean_test_set <- function(scaled_data,categorical_cols,distinct_values_on_train){\n",
    "    df <- copy(scaled_data[['data']])\n",
    "    \n",
    "    make_paste <- function(x){\n",
    "    wrapped <- sapply(x,function(x) paste0('\"',x,'\"'))\n",
    "    paste0(wrapped,collapse = ',')\n",
    "    }       \n",
    "   \n",
    "    \n",
    "    for(i in categorical_cols){\n",
    "        distincts <- distinct_values_on_train[[i]]\n",
    "        distincts <- make_paste(distincts)\n",
    "        command_format <- \"df[! %s %%in%% c(%s), %s := 'Missing']\"\n",
    "        command <- sprintf(command_format,i,distincts,i)\n",
    "        eval(parse(text = command))\n",
    "    }\n",
    "                      \n",
    "    scaled_data[['data']] <- df\n",
    "                      \n",
    "    scaled_data\n",
    "}"
   ]
  },
  {
   "cell_type": "code",
   "execution_count": 386,
   "id": "e99bf439-dcc6-4da4-a7b6-f048076b7036",
   "metadata": {},
   "outputs": [],
   "source": [
    "get_distincts <- function(scaled_data){\n",
    "    df <- copy(scaled_data[['data']])\n",
    "    \n",
    "    catcols <- scaled_data[['cat_cols']]\n",
    "    \n",
    "    distincts <- list()\n",
    "    for(i in catcols){\n",
    "        distinct_values <- df[,unique(.SD),.SDcols = i] %>% pull %>% as.character\n",
    "        distincts[[i]] <- c(distinct_values,'Missing')\n",
    "        df[,(i) := lapply(.SD,function(x) as.character(x)),.SDcols = i]\n",
    "        df[,(i) := lapply(.SD,function(x) ifelse(is.na(x),'Missing',x)),.SDcols = i]\n",
    "        df[,(i) := lapply(.SD,function(x) factor(x,levels = c(distinct_values,'Missing'))),.SDcols = i]\n",
    "    }\n",
    "    \n",
    "    \n",
    "\n",
    "    scaled_data[['cat_distincts']] <- distincts\n",
    "    \n",
    "    scaled_data[['data']] <- df\n",
    "                          \n",
    "    scaled_data\n",
    "}"
   ]
  },
  {
   "cell_type": "code",
   "execution_count": 387,
   "id": "7fca393d-25f8-4640-87a2-5c7081e7eddc",
   "metadata": {},
   "outputs": [],
   "source": [
    "fetch_test_levels_to_train <- function(scaled_data,categorical_cols,distinct_values_on_train){\n",
    "    df <- copy(scaled_data[['data']])\n",
    "    \n",
    "    for(i in categorical_cols){\n",
    "        distincts <- distinct_values_on_train[[i]]\n",
    "        df[,(i) := lapply(.SD,function(x) factor(x,levels = distincts)),.SDcols = i]\n",
    "    }\n",
    "   \n",
    "    scaled_data[['data']] <- df\n",
    "    scaled_data\n",
    "}"
   ]
  },
  {
   "cell_type": "code",
   "execution_count": 388,
   "id": "bf30cd4e-4830-444f-8dbc-48db0ebae6d3",
   "metadata": {},
   "outputs": [],
   "source": [
    "dummy_data <- function(scaled_data){\n",
    "    df <- copy(scaled_data[['data']])\n",
    "    #df_dummied <- recipe(df) %>% step_dummy(all_nominal()) %>% prep %>% bake(new_data = NULL)\n",
    "    df_dummied <- recipe(df) %>% prep %>% step_string2factor(all_nominal()) %>% prep %>% bake(new_data = NULL)\n",
    "    scaled_data[['data']] <- df_dummied\n",
    "    scaled_data\n",
    "}"
   ]
  },
  {
   "cell_type": "code",
   "execution_count": 396,
   "id": "8e14847e-8d47-4da6-97ee-4f206407e2bd",
   "metadata": {},
   "outputs": [],
   "source": [
    "make_frame <- function(df,label,test = FALSE,train_frame = NULL,config){\n",
    "    dt <- copy(df)\n",
    "    setDT(dt)\n",
    "    if(!test){\n",
    "        target_ <- dt[[config$label]]\n",
    "        \n",
    "        dt[,(label) := NULL]\n",
    "    }\n",
    "    sparsed <- sparse_data(dt,sparse_percentage = config$sparse_percentage)\n",
    "    gc()\n",
    "    base::message('Data sparsed.')\n",
    "    \n",
    "    if(!test){\n",
    "        scl <- get_scaling_factors(sparsed)\n",
    "    }else{\n",
    "        scl <- train_frame[['scaling_factors']]\n",
    "    }\n",
    "    gc()\n",
    "    base::message('Scaling factors calculated.')\n",
    "    base::message('Missing values labeled.')\n",
    "    scld <- scale_data(sparsed,scl)\n",
    "    gc()\n",
    "    base::message('Data scaled.')\n",
    "    \n",
    "    if(test){\n",
    "        scld <- clean_test_set(scld,train_frame[['cat_cols']],train_frame[['cat_distincts']])\n",
    "        base::message('Unseen values removed from test set.')\n",
    "        scld <- fetch_test_levels_to_train(scld,train_frame[['cat_cols']],train_frame[['cat_distincts']])\n",
    "        base::message('Train & test set nominal levels fetched.')\n",
    "    }\n",
    "    \n",
    "    if(!test){\n",
    "    distincted <- get_distincts(scld)\n",
    "    gc()\n",
    "    base::message('Got distinct values for nominals.')\n",
    "    }else{\n",
    "        distincted <- scld\n",
    "    }\n",
    "    \n",
    "    dummied <- dummy_data(distincted)\n",
    "    gc()\n",
    "    base::message('Data dummied.')\n",
    "    \n",
    "    if(!test){\n",
    "        dummied[['label_to_keras']] <- target_# %>% label_encode %>% keras::to_categorical()\n",
    "        dummied[['label']] <- target_ #%>% label_encode\n",
    "    }\n",
    "    \n",
    "    dummied[['data']] <- dummied[['data']]# %>% as.matrix\n",
    "    base::message('All done !')\n",
    "    dummied\n",
    "}"
   ]
  },
  {
   "cell_type": "code",
   "execution_count": 401,
   "id": "10fd78b2-0257-4525-b38c-daa145f535ff",
   "metadata": {},
   "outputs": [],
   "source": [
    "create_folds <- function(train_data,config){\n",
    "    set.seed(config$seed)\n",
    "    caret::createFolds(train_data$label,k = config$folds)\n",
    "}"
   ]
  },
  {
   "cell_type": "code",
   "execution_count": 402,
   "id": "14e2ab71-ffff-433c-8304-ffa33c3ab1ff",
   "metadata": {},
   "outputs": [],
   "source": [
    "fold_threshold <- function(y_probs,y_test){\n",
    "    thresholds <- data.frame()\n",
    "    \n",
    "    for(j in seq(from = 0.1,to = 0.9,by = 0.01)){\n",
    "        obs <- y_test\n",
    "        prd <- +(y_probs >= j)\n",
    "        if(sum(prd) == 0){\n",
    "            next\n",
    "        }\n",
    "        f1_clc <- f_meas_vec(truth = factor(obs,levels = 0:1),estimate = factor(prd,levels = 0:1),event_level = 'second')\n",
    "        fold_row <- data.table(threshold = j,f1 = f1_clc)\n",
    "        thresholds <- rbindlist(list(thresholds,fold_row))\n",
    "    }\n",
    "    \n",
    "    best_threshold <- thresholds %>% filter(f1 == max(f1)) %>% select(threshold) %>% pull %>% .[1]\n",
    "    error <- thresholds %>% filter(f1 == max(f1)) %>% select(f1) %>% pull %>% .[1]\n",
    "    \n",
    "    return(list(threshold = best_threshold,score = error))\n",
    "}"
   ]
  },
  {
   "cell_type": "code",
   "execution_count": 439,
   "id": "4e83feaa-d06a-4e8c-8223-6f623bd165a8",
   "metadata": {},
   "outputs": [],
   "source": [
    "cross_validate <- function(train_data,target_data,folds,config,label_encoder,label_back_encoder){\n",
    "    \n",
    "    set.seed(config$seed)\n",
    "    \n",
    "    folds_ <- 1:length(folds)\n",
    "    \n",
    "    errors <- c()\n",
    "    \n",
    "    preds <- list()\n",
    "    models <- list()\n",
    "    feature_importances <- data.table()\n",
    "    \n",
    "    prm <- list(learning_rate = config$learning_rate,iterations = config$iter,\n",
    "                loss_function = config$objective,auto_class_weights = config$auto_class_weights,\n",
    "                verbose = 0,custom_loss = config$loss_fun,eval_metric = config$eval_metric,\n",
    "                use_best_model = config$use_best,\n",
    "                early_stopping_rounds = config$early_stopping_rounds)\n",
    "    print(prm)\n",
    "    IRdisplay::display(config$slicer_1)\n",
    "    for(i in folds_){\n",
    "        \n",
    "        train_indices <- setdiff(folds_,i) \n",
    "        test_indices <- i\n",
    "        \n",
    "        train_x <- train_data$data[unlist(folds[train_indices]),] \n",
    "        test_x <- train_data$data[unlist(folds[test_indices]),]\n",
    "        \n",
    "        train_y <- train_data$label[unlist(folds[train_indices])] %>% label_encoder \n",
    "        test_y <- train_data$label[unlist(folds[test_indices])] %>% label_encoder \n",
    "        \n",
    "        train_frame <- catboost::catboost.load_pool(data = train_x,label = train_y)\n",
    "        test_frame <- catboost::catboost.load_pool(data = test_x,label = test_y)\n",
    "        \n",
    "        start_it <- Sys.time()\n",
    "        \n",
    "        cat_model <- catboost::catboost.train(learn_pool = train_frame,test_pool = test_frame,params = prm)\n",
    "        \n",
    "        prediction_to_threshold <- catboost.predict(cat_model,test_frame,prediction_type='Probability')\n",
    "        \n",
    "        thresholded <- fold_threshold(y_probs = prediction_to_threshold,y_test = test_y)\n",
    "        \n",
    "        msgformat_score <- 'Fold %s F1 : %s'\n",
    "        msgformat_threshold <- 'Best threshold for Fold %s : %s'\n",
    "        \n",
    "        msg_score <- sprintf(msgformat_score,i,round(thresholded$score,4))\n",
    "        msg_threshold <- sprintf(msgformat_threshold,i,thresholded$threshold)\n",
    "        \n",
    "        prediction <- catboost.predict(cat_model,catboost.load_pool(target_data$data),prediction_type='Probability')\n",
    "        \n",
    "        prediction_class <- +(prediction >= thresholded$threshold) %>% label_back_encoder\n",
    "        \n",
    "        preds[[i]] <- prediction_class\n",
    "        models[[i]] <- cat_model\n",
    "        errors[i] <- thresholded$score\n",
    "        \n",
    "        fi_row <- cat_model %>% .$feature_importances %>% t %>% as.data.table\n",
    "        \n",
    "        feature_importances <- rbindlist(list(feature_importances,fi_row))\n",
    "        \n",
    "        finished_it <- Sys.time()\n",
    "        \n",
    "        process <- round(as.numeric(difftime(finished_it,start_it,units = 'min')),4)\n",
    "        \n",
    "        msgformat_process <- 'Elapsed time for Fold %s : %s minutes'\n",
    "        \n",
    "        msg_process <- sprintf(msgformat_process,i,process)\n",
    "        \n",
    "        IRdisplay::display(msg_score)\n",
    "        IRdisplay::display(msg_threshold)\n",
    "        \n",
    "        IRdisplay::display(config$slicer_2)\n",
    "        \n",
    "        IRdisplay::display(msg_process)\n",
    "        \n",
    "        IRdisplay::display(config$slicer_1)\n",
    "    }\n",
    "    msgformat2 <- 'CV Mean F1 : %s'\n",
    "    IRdisplay::display(sprintf(msgformat2,round(mean(errors,na.rm = T),4)))\n",
    "    \n",
    "    feature_importance_plot <- feature_importances %>%\n",
    "    summarise_all(mean) %>%\n",
    "    t %>%\n",
    "    as.data.table(keep.rownames = T) %>%\n",
    "    ggplot(aes(rn,V1))+\n",
    "    geom_bar(stat = 'identity')+\n",
    "    xlab('Variable')+\n",
    "    ylab('Importance')+\n",
    "    ggtitle('Variable Importance Plot')\n",
    "    \n",
    "    return(list(models = models,preds = preds,fi = feature_importance_plot))\n",
    "    \n",
    "    \n",
    "}"
   ]
  },
  {
   "cell_type": "code",
   "execution_count": 437,
   "id": "682e37d4-92d1-4a00-9cd0-4c19c7b0f99f",
   "metadata": {},
   "outputs": [],
   "source": [
    "enc <- function(x){\n",
    "    case_when(x == 'No' ~ 0,\n",
    "              x == 'Yes' ~ 1)\n",
    "}\n",
    "\n",
    "encback <- function(x){\n",
    "    case_when(x == 1 ~ 'Yes',\n",
    "              x == 0 ~ 'No')\n",
    "}"
   ]
  },
  {
   "cell_type": "code",
   "execution_count": null,
   "id": "c8a6ccff-db9b-44f0-aa3b-3c9744fbbd2f",
   "metadata": {},
   "outputs": [
    {
     "data": {
      "text/html": [
       "'*-*-*-*-*-*-*-*-*-*-*-*-*-*-*-*-*-*-*-*-*-*-*'"
      ],
      "text/latex": [
       "'*-*-*-*-*-*-*-*-*-*-*-*-*-*-*-*-*-*-*-*-*-*-*'"
      ],
      "text/markdown": [
       "'*-*-*-*-*-*-*-*-*-*-*-*-*-*-*-*-*-*-*-*-*-*-*'"
      ],
      "text/plain": [
       "[1] \"*-*-*-*-*-*-*-*-*-*-*-*-*-*-*-*-*-*-*-*-*-*-*\""
      ]
     },
     "metadata": {},
     "output_type": "display_data"
    }
   ],
   "source": [
    "fld <- create_folds(train_ok,config = config)\n",
    "cved <- cross_validate(train_ok,test_ok,folds = fld,config = config,label_encoder = enc,label_back_encoder =encback)"
   ]
  },
  {
   "cell_type": "code",
   "execution_count": 411,
   "id": "766f4fb4-8b7e-44d5-99eb-1a2409e9845b",
   "metadata": {},
   "outputs": [],
   "source": [
    "df <- cved$preds %>% as.data.frame"
   ]
  },
  {
   "cell_type": "code",
   "execution_count": 419,
   "id": "fb26a9ff-199c-464e-a632-af660bf418b4",
   "metadata": {},
   "outputs": [],
   "source": [
    "colnames(df) <- paste0('Fold',1:3)"
   ]
  },
  {
   "cell_type": "code",
   "execution_count": 420,
   "id": "3016247e-05c8-41bf-a525-d13f52b6a150",
   "metadata": {},
   "outputs": [],
   "source": [
    "kk <- df %>% rowwise %>% mutate(pred = fmode(Fold1,Fold2,Fold3)) %>% as.data.table"
   ]
  },
  {
   "cell_type": "code",
   "execution_count": 421,
   "id": "e1d59e76-e92e-4a60-93a2-064443a0d455",
   "metadata": {},
   "outputs": [],
   "source": [
    "obs <- test_set %>% select(default) %>% pull %>% as.factor"
   ]
  },
  {
   "cell_type": "code",
   "execution_count": 422,
   "id": "7da7e421-0a7a-4a94-ad7b-a89d6a865beb",
   "metadata": {},
   "outputs": [],
   "source": [
    "prd <- kk %>% select(pred) %>% pull %>% as.factor"
   ]
  },
  {
   "cell_type": "code",
   "execution_count": 424,
   "id": "15af2dc6-05bd-407b-9fd0-c78b26e33214",
   "metadata": {},
   "outputs": [
    {
     "data": {
      "text/html": [
       "0.130929073076366"
      ],
      "text/latex": [
       "0.130929073076366"
      ],
      "text/markdown": [
       "0.130929073076366"
      ],
      "text/plain": [
       "[1] 0.1309291"
      ]
     },
     "metadata": {},
     "output_type": "display_data"
    }
   ],
   "source": [
    "f_meas_vec(truth = obs,estimate = factor(prd,levels=c('No','Yes')),event_level = 'second')"
   ]
  },
  {
   "cell_type": "code",
   "execution_count": 427,
   "id": "f53ba9bd-e1eb-4210-82e1-75335896debe",
   "metadata": {},
   "outputs": [],
   "source": [
    "ak <- cved$models[[1]]"
   ]
  },
  {
   "cell_type": "code",
   "execution_count": 432,
   "id": "b80afebf-648f-427a-871f-ec7e62c55c43",
   "metadata": {},
   "outputs": [
    {
     "ename": "ERROR",
     "evalue": "Error in catboost.predict(ak, catboost.load_pool(test_ok$data), prediction_type = \"sa\"): C:/Program Files (x86)/Go Agent/pipelines/BuildMaster/catboost.git/catboost/R-package/src/catboostr.cpp:776: Unsupported prediction type: 'Probability', 'LogProbability', 'Class', 'RawFormulaVal', 'Exponent' or 'RMSEWithUncertainty' was expected\n",
     "output_type": "error",
     "traceback": [
      "Error in catboost.predict(ak, catboost.load_pool(test_ok$data), prediction_type = \"sa\"): C:/Program Files (x86)/Go Agent/pipelines/BuildMaster/catboost.git/catboost/R-package/src/catboostr.cpp:776: Unsupported prediction type: 'Probability', 'LogProbability', 'Class', 'RawFormulaVal', 'Exponent' or 'RMSEWithUncertainty' was expected\nTraceback:\n",
      "1. catboost.predict(ak, catboost.load_pool(test_ok$data), prediction_type = \"sa\")"
     ]
    }
   ],
   "source": [
    "catboost.predict(ak,catboost.load_pool(test_ok$data),prediction_type = 'Probability')"
   ]
  },
  {
   "cell_type": "code",
   "execution_count": 435,
   "id": "8e8d15e1-1fae-4355-b7fb-7a1fdcf950a0",
   "metadata": {},
   "outputs": [
    {
     "data": {
      "text/html": [
       "906666.666666667"
      ],
      "text/latex": [
       "906666.666666667"
      ],
      "text/markdown": [
       "906666.666666667"
      ],
      "text/plain": [
       "[1] 906666.7"
      ]
     },
     "metadata": {},
     "output_type": "display_data"
    }
   ],
   "source": [
    "1.7e6*.8*2/3"
   ]
  }
 ],
 "metadata": {
  "kernelspec": {
   "display_name": "R",
   "language": "R",
   "name": "ir"
  },
  "language_info": {
   "codemirror_mode": "r",
   "file_extension": ".r",
   "mimetype": "text/x-r-source",
   "name": "R",
   "pygments_lexer": "r",
   "version": "4.2.0"
  }
 },
 "nbformat": 4,
 "nbformat_minor": 5
}
