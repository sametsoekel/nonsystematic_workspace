{
 "cells": [
  {
   "cell_type": "code",
   "execution_count": 2,
   "id": "155069bf-deee-4c5c-bdda-4c6481465f1f",
   "metadata": {},
   "outputs": [
    {
     "name": "stdout",
     "output_type": "stream",
     "text": [
      "[[-7 -3 -1  4]\n",
      " [ 6  6  9  1]]\n"
     ]
    }
   ],
   "source": [
    "import time\n",
    "import numpy as np\n",
    "import random\n",
    "random_matrix = np.random.randint(-10,10,(2,4))\n",
    "print(random_matrix)\n",
    "A=random_matrix\n",
    "row=len(A)\n",
    "column=len(A[0])\n",
    "class Stack:\n",
    "    def _init_(self):\n",
    "        self.items = []\n",
    "\n",
    "    def pop(self):\n",
    "        if self.isEmpty():\n",
    "            raise RuntimeError(\"Attempt to pop an empty stack\")\n",
    "\n",
    "        topIdx = len(self.items) - 1\n",
    "        item = self.items[topIdx]\n",
    "        del self.items[topIdx]\n",
    "        return item\n",
    "\n",
    "    def push(self, item):\n",
    "        self.items.append(item)\n",
    "\n",
    "    def top(self):\n",
    "        if self.isEmpty():\n",
    "            raise RuntimeError(\"Attempt to get top of empty stack\")\n",
    "\n",
    "        topIdx = len(self.items) - 1\n",
    "        return self.items[topIdx]\n",
    "\n",
    "    def isEmpty(self):\n",
    "        return len(self.items) == 0\n",
    "\n",
    "\n",
    "class Queue:\n",
    "    def _init_(self):\n",
    "        self.items = []\n",
    "        self.frontIdx = 0\n",
    "\n",
    "    def __compress(self):\n",
    "        newlst = [self.items[i] for i in range(self.frontIdx, len(self.items))]\n",
    "        self.items = newlst\n",
    "        self.frontIdx = 0\n",
    "\n",
    "    def dequeue(self):\n",
    "        if self.isEmpty():\n",
    "            raise RuntimeError(\"Attempt to dequeue an empty queue\")\n",
    "\n",
    "        if self.frontIdx * 2 > len(self.items):\n",
    "            self.__compress()\n",
    "\n",
    "        item = self.items[self.frontIdx]\n",
    "        self.frontIdx += 1\n",
    "        return item\n",
    "\n",
    "    def enqueue(self, item):\n",
    "        self.items.append(item)\n",
    "\n",
    "    def front(self):\n",
    "        if self.isEmpty():\n",
    "            raise RuntimeError(\"Attempt to access front of empty queue\")\n",
    "        return self.items[self.frontIdx]\n",
    "\n",
    "    def isEmpty(self):\n",
    "        return self.frontIdx == len(self.items)\n",
    "\n",
    "\n",
    "class Deque:\n",
    "    def _init_(self):\n",
    "        self.items = []\n",
    "\n",
    "    def is_empty(self):\n",
    "        return self.items == []\n",
    "\n",
    "    def add_front(self, item):\n",
    "        self.items.append(item)\n",
    "\n",
    "    def add_rear(self, item):\n",
    "        self.items.insert(0, item)\n",
    "\n",
    "    def remove_front(self):\n",
    "        return self.items.pop()\n",
    "\n",
    "    def remove_rear(self):\n",
    "        return self.items.pop(0)\n",
    "\n",
    "    def size(self):\n",
    "        return len(self.items)"
   ]
  },
  {
   "cell_type": "code",
   "execution_count": 17,
   "id": "59495536-9557-4fe0-b7f1-05097f9f20dd",
   "metadata": {},
   "outputs": [],
   "source": [
    "def transpose(X):\n",
    "    \n",
    "    bos_matris = np.zeros((X.shape[1],X.shape[0]))\n",
    "    \n",
    "    for i in range(len(X)):\n",
    "       for j in range(len(X[0])):\n",
    "           bos_matris[j][i] = X[i][j]\n",
    "        \n",
    "    return bos_matris"
   ]
  },
  {
   "cell_type": "code",
   "execution_count": 18,
   "id": "2e92d97b-6dac-46d3-aa30-2776d6a57b7e",
   "metadata": {},
   "outputs": [
    {
     "data": {
      "text/plain": [
       "array([[-7.,  6.],\n",
       "       [-3.,  6.],\n",
       "       [-1.,  9.],\n",
       "       [ 4.,  1.]])"
      ]
     },
     "execution_count": 18,
     "metadata": {},
     "output_type": "execute_result"
    }
   ],
   "source": [
    "transpose(random_matrix)"
   ]
  }
 ],
 "metadata": {
  "kernelspec": {
   "display_name": "Python 3",
   "language": "python",
   "name": "python3"
  },
  "language_info": {
   "codemirror_mode": {
    "name": "ipython",
    "version": 3
   },
   "file_extension": ".py",
   "mimetype": "text/x-python",
   "name": "python",
   "nbconvert_exporter": "python",
   "pygments_lexer": "ipython3",
   "version": "3.8.8"
  }
 },
 "nbformat": 4,
 "nbformat_minor": 5
}
