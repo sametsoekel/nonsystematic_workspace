{
 "cells": [
  {
   "cell_type": "markdown",
   "metadata": {},
   "source": [
    "Consider the following inventory system. 8 items are currently in stock and there are 7 days until the end of sales season. Customer demand arrives according to a Poisson process (the inter-arrival times between consecutive demands are independent and exponentially distributed) with rate 1/2 items/day ($\\lambda = 1/2$). Eeach customer demand may be for multiple units of inventory. Let B be the quantity demanded, then:\n",
    "\n",
    "$P(B=1)=0.42,\n",
    "P(B=2)=0.42$\n",
    "and\n",
    "$P(B=3) = 0.16$\n",
    "\n",
    "Moreover, sold items may be returned one-by-one (in excellent conditions) according to a Poisson process with rate 1/4 items/day.\n",
    "\n",
    "$$\\lambda = 1/4$$ "
   ]
  },
  {
   "cell_type": "markdown",
   "metadata": {},
   "source": [
    "Let me functionalize poisson disturbiton at first;\n",
    "\n",
    "$f(x;\\lambda) = P(X=x) = \\frac{{e^{ - \\lambda } \\lambda ^x }}{{x!}}$\n",
    "\n",
    "R already has poisson distrubiton function (`dpois`), I will use it in the next processes."
   ]
  },
  {
   "cell_type": "code",
   "execution_count": 230,
   "metadata": {},
   "outputs": [],
   "source": [
    "sequence <- c(.15,.94,.88,.27,.64,.73,.04,.05,.99,.95)"
   ]
  },
  {
   "cell_type": "markdown",
   "metadata": {},
   "source": [
    "a. Use uniform random number sequence to generate three realizations from B."
   ]
  },
  {
   "cell_type": "markdown",
   "metadata": {},
   "source": [
    "**sol. a.**\n",
    "\n",
    "Assignment of random numbers for B"
   ]
  },
  {
   "cell_type": "code",
   "execution_count": 245,
   "metadata": {},
   "outputs": [
    {
     "data": {
      "text/html": [
       "<table class=\"dataframe\">\n",
       "<caption>A data.table: 3 × 4</caption>\n",
       "<thead>\n",
       "\t<tr><th scope=col>B</th><th scope=col>P(B)</th><th scope=col>cumulative_prob</th><th scope=col>random_range</th></tr>\n",
       "\t<tr><th scope=col>&lt;int&gt;</th><th scope=col>&lt;dbl&gt;</th><th scope=col>&lt;dbl&gt;</th><th scope=col>&lt;chr&gt;</th></tr>\n",
       "</thead>\n",
       "<tbody>\n",
       "\t<tr><td>1</td><td>0.42</td><td>0.42</td><td>0.01 - 0.42</td></tr>\n",
       "\t<tr><td>2</td><td>0.42</td><td>0.84</td><td>0.43 - 0.83</td></tr>\n",
       "\t<tr><td>3</td><td>0.16</td><td>1.00</td><td>0.84 - 0.00</td></tr>\n",
       "</tbody>\n",
       "</table>\n"
      ],
      "text/latex": [
       "A data.table: 3 × 4\n",
       "\\begin{tabular}{llll}\n",
       " B & P(B) & cumulative\\_prob & random\\_range\\\\\n",
       " <int> & <dbl> & <dbl> & <chr>\\\\\n",
       "\\hline\n",
       "\t 1 & 0.42 & 0.42 & 0.01 - 0.42\\\\\n",
       "\t 2 & 0.42 & 0.84 & 0.43 - 0.83\\\\\n",
       "\t 3 & 0.16 & 1.00 & 0.84 - 0.00\\\\\n",
       "\\end{tabular}\n"
      ],
      "text/markdown": [
       "\n",
       "A data.table: 3 × 4\n",
       "\n",
       "| B &lt;int&gt; | P(B) &lt;dbl&gt; | cumulative_prob &lt;dbl&gt; | random_range &lt;chr&gt; |\n",
       "|---|---|---|---|\n",
       "| 1 | 0.42 | 0.42 | 0.01 - 0.42 |\n",
       "| 2 | 0.42 | 0.84 | 0.43 - 0.83 |\n",
       "| 3 | 0.16 | 1.00 | 0.84 - 0.00 |\n",
       "\n"
      ],
      "text/plain": [
       "  B P(B) cumulative_prob random_range\n",
       "1 1 0.42 0.42            0.01 - 0.42 \n",
       "2 2 0.42 0.84            0.43 - 0.83 \n",
       "3 3 0.16 1.00            0.84 - 0.00 "
      ]
     },
     "metadata": {},
     "output_type": "display_data"
    }
   ],
   "source": [
    "prob <- c(.42,.42,.16)\n",
    "dt <- data.table(B=1:3,\n",
    "                `P(B)`=prob,\n",
    "                'cumulative_prob'=cumsum(prob))\n",
    "\n",
    "dt[,random_range:=c('0.01 - 0.42',\n",
    "                    '0.43 - 0.83',\n",
    "                    '0.84 - 0.00')]\n",
    "\n",
    "dt"
   ]
  },
  {
   "cell_type": "markdown",
   "metadata": {},
   "source": [
    "According to the table above, I will select random digits from sequence 1 to the corresponding range"
   ]
  }
 ],
 "metadata": {
  "kernelspec": {
   "display_name": "R",
   "language": "R",
   "name": "ir"
  },
  "language_info": {
   "codemirror_mode": "r",
   "file_extension": ".r",
   "mimetype": "text/x-r-source",
   "name": "R",
   "pygments_lexer": "r",
   "version": "4.0.4"
  }
 },
 "nbformat": 4,
 "nbformat_minor": 4
}
