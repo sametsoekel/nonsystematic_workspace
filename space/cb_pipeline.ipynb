{
 "cells": [
  {
   "cell_type": "code",
   "execution_count": 19,
   "id": "2875d303-39c5-407c-a722-2996610ce269",
   "metadata": {},
   "outputs": [],
   "source": [
    "suppressPackageStartupMessages({\n",
    "    library(data.table)\n",
    "    library(tidyverse)\n",
    "})"
   ]
  },
  {
   "cell_type": "code",
   "execution_count": 20,
   "id": "3cc50f84-91df-4bcf-83ae-3a33bf8a29cf",
   "metadata": {},
   "outputs": [],
   "source": [
    "config <- list(\n",
    "    seed = 1923,\n",
    "    folds = 10,\n",
    "    learning_rate = 0.01,\n",
    "    iter = 1000,\n",
    "    loss_fun = 'F1:use_weights=False',\n",
    "    eval_metric = 'F1:use_weights=False',\n",
    "    task = 'GPU'\n",
    ")"
   ]
  },
  {
   "cell_type": "code",
   "execution_count": 21,
   "id": "38d80465-0445-4923-a576-dbc1c88eb397",
   "metadata": {},
   "outputs": [],
   "source": [
    "sparse_data <- function(df,sparse_percentage = 0.02){\n",
    "    df_new <- data.table::copy(df) \n",
    "    setDT(df_new)\n",
    "    categorical_names <- df_new %>% purrr::discard(is.numeric) %>% colnames\n",
    "\n",
    "    for(i in categorical_names){\n",
    "        features <- df_new[,unique(.SD),.SDcols = i] %>% pull\n",
    "        \n",
    "        for(j in features){\n",
    "            \n",
    "            condition_format <- 'df_new[,length(%s[%s == \"%s\"])/.N < %s]'\n",
    "            condition_command <- sprintf(condition_format,i,i,j,sparse_percentage)\n",
    "        \n",
    "            condition <- eval(parse(text = condition_command))\n",
    "            \n",
    "            if(condition){\n",
    "                sparse_format <- 'df_new[%s == \"%s\", %s := \"other\"]'\n",
    "                sparse_command <- sprintf(sparse_format,i,j,i)\n",
    "                eval(parse(text = sparse_command))\n",
    "            } \n",
    "        }\n",
    "    }\n",
    "    df_new\n",
    "}"
   ]
  },
  {
   "cell_type": "code",
   "execution_count": 26,
   "id": "4bb94638-cf55-4fc2-b535-c6a0e937b1c5",
   "metadata": {},
   "outputs": [],
   "source": [
    "clean_test_set <- function(df,categorical_cols,distinct_values_on_train){\n",
    "    df_new <- copy(df)\n",
    "    \n",
    "    make_paste <- function(x){\n",
    "    wrapped <- sapply(x,function(x) paste0('\"',x,'\"'))\n",
    "    paste0(wrapped,collapse = ',')\n",
    "    }       \n",
    "   \n",
    "    \n",
    "    for(i in categorical_cols){\n",
    "        distincts <- distinct_values_on_train[[i]]\n",
    "        distincts <- make_paste(distincts)\n",
    "        command_format <- \"df_new[! %s %%in%% c(%s), %s := 'Missing']\"\n",
    "        command <- sprintf(command_format,i,distincts,i)\n",
    "        eval(parse(text = command))\n",
    "    }                   \n",
    "    df_new\n",
    "}"
   ]
  },
  {
   "cell_type": "code",
   "execution_count": null,
   "id": "4834e6c8-84ee-410c-bb7c-007ee84ab15b",
   "metadata": {},
   "outputs": [],
   "source": []
  }
 ],
 "metadata": {
  "kernelspec": {
   "display_name": "R",
   "language": "R",
   "name": "ir"
  },
  "language_info": {
   "codemirror_mode": "r",
   "file_extension": ".r",
   "mimetype": "text/x-r-source",
   "name": "R",
   "pygments_lexer": "r",
   "version": "4.2.0"
  }
 },
 "nbformat": 4,
 "nbformat_minor": 5
}
