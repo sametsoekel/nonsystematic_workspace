{
 "cells": [
  {
   "cell_type": "code",
   "execution_count": 1,
   "metadata": {},
   "outputs": [],
   "source": [
    "library(data.table)"
   ]
  },
  {
   "cell_type": "code",
   "execution_count": 12,
   "metadata": {},
   "outputs": [],
   "source": [
    "raw <- data.table(A=sample(1000:1999,100000000,replace = T),\n",
    "                 B=sample(1000:1999,100000000,replace = T),\n",
    "                 C=sample(1000:1999,100000000,replace = T),\n",
    "                 D=sample(1000:1999,100000000,replace = T))"
   ]
  },
  {
   "cell_type": "code",
   "execution_count": 19,
   "metadata": {},
   "outputs": [
    {
     "data": {
      "text/html": [
       "<table class=\"dataframe\">\n",
       "<caption>A data.table: 6 × 4</caption>\n",
       "<thead>\n",
       "\t<tr><th scope=col>A</th><th scope=col>B</th><th scope=col>C</th><th scope=col>D</th></tr>\n",
       "\t<tr><th scope=col>&lt;int&gt;</th><th scope=col>&lt;int&gt;</th><th scope=col>&lt;int&gt;</th><th scope=col>&lt;int&gt;</th></tr>\n",
       "</thead>\n",
       "<tbody>\n",
       "\t<tr><td>1836</td><td>1552</td><td>1954</td><td>1974</td></tr>\n",
       "\t<tr><td>1302</td><td>1965</td><td>1731</td><td>1662</td></tr>\n",
       "\t<tr><td>1314</td><td>1066</td><td>1285</td><td>1200</td></tr>\n",
       "\t<tr><td>1691</td><td>1361</td><td>1478</td><td>1194</td></tr>\n",
       "\t<tr><td>1337</td><td>1418</td><td>1497</td><td>1799</td></tr>\n",
       "\t<tr><td>1690</td><td>1419</td><td>1975</td><td>1841</td></tr>\n",
       "</tbody>\n",
       "</table>\n"
      ],
      "text/latex": [
       "A data.table: 6 × 4\n",
       "\\begin{tabular}{llll}\n",
       " A & B & C & D\\\\\n",
       " <int> & <int> & <int> & <int>\\\\\n",
       "\\hline\n",
       "\t 1836 & 1552 & 1954 & 1974\\\\\n",
       "\t 1302 & 1965 & 1731 & 1662\\\\\n",
       "\t 1314 & 1066 & 1285 & 1200\\\\\n",
       "\t 1691 & 1361 & 1478 & 1194\\\\\n",
       "\t 1337 & 1418 & 1497 & 1799\\\\\n",
       "\t 1690 & 1419 & 1975 & 1841\\\\\n",
       "\\end{tabular}\n"
      ],
      "text/markdown": [
       "\n",
       "A data.table: 6 × 4\n",
       "\n",
       "| A &lt;int&gt; | B &lt;int&gt; | C &lt;int&gt; | D &lt;int&gt; |\n",
       "|---|---|---|---|\n",
       "| 1836 | 1552 | 1954 | 1974 |\n",
       "| 1302 | 1965 | 1731 | 1662 |\n",
       "| 1314 | 1066 | 1285 | 1200 |\n",
       "| 1691 | 1361 | 1478 | 1194 |\n",
       "| 1337 | 1418 | 1497 | 1799 |\n",
       "| 1690 | 1419 | 1975 | 1841 |\n",
       "\n"
      ],
      "text/plain": [
       "  A    B    C    D   \n",
       "1 1836 1552 1954 1974\n",
       "2 1302 1965 1731 1662\n",
       "3 1314 1066 1285 1200\n",
       "4 1691 1361 1478 1194\n",
       "5 1337 1418 1497 1799\n",
       "6 1690 1419 1975 1841"
      ]
     },
     "metadata": {},
     "output_type": "display_data"
    }
   ],
   "source": [
    "head(raw)"
   ]
  },
  {
   "cell_type": "code",
   "execution_count": 15,
   "metadata": {},
   "outputs": [],
   "source": [
    "write.csv(raw,'raw.csv',row.names=F)"
   ]
  },
  {
   "cell_type": "markdown",
   "metadata": {},
   "source": [
    "2.000.000.016 bytes"
   ]
  },
  {
   "cell_type": "code",
   "execution_count": 18,
   "metadata": {},
   "outputs": [],
   "source": [
    "raw_cp <- raw"
   ]
  },
  {
   "cell_type": "code",
   "execution_count": 20,
   "metadata": {},
   "outputs": [],
   "source": [
    "raw_cp[,names(raw_cp):=lapply(.SD,function(x) x-1000),.SDcols=names(raw_cp)]"
   ]
  },
  {
   "cell_type": "code",
   "execution_count": 21,
   "metadata": {},
   "outputs": [
    {
     "data": {
      "text/html": [
       "<table class=\"dataframe\">\n",
       "<caption>A data.table: 6 × 4</caption>\n",
       "<thead>\n",
       "\t<tr><th scope=col>A</th><th scope=col>B</th><th scope=col>C</th><th scope=col>D</th></tr>\n",
       "\t<tr><th scope=col>&lt;dbl&gt;</th><th scope=col>&lt;dbl&gt;</th><th scope=col>&lt;dbl&gt;</th><th scope=col>&lt;dbl&gt;</th></tr>\n",
       "</thead>\n",
       "<tbody>\n",
       "\t<tr><td>836</td><td>552</td><td>954</td><td>974</td></tr>\n",
       "\t<tr><td>302</td><td>965</td><td>731</td><td>662</td></tr>\n",
       "\t<tr><td>314</td><td> 66</td><td>285</td><td>200</td></tr>\n",
       "\t<tr><td>691</td><td>361</td><td>478</td><td>194</td></tr>\n",
       "\t<tr><td>337</td><td>418</td><td>497</td><td>799</td></tr>\n",
       "\t<tr><td>690</td><td>419</td><td>975</td><td>841</td></tr>\n",
       "</tbody>\n",
       "</table>\n"
      ],
      "text/latex": [
       "A data.table: 6 × 4\n",
       "\\begin{tabular}{llll}\n",
       " A & B & C & D\\\\\n",
       " <dbl> & <dbl> & <dbl> & <dbl>\\\\\n",
       "\\hline\n",
       "\t 836 & 552 & 954 & 974\\\\\n",
       "\t 302 & 965 & 731 & 662\\\\\n",
       "\t 314 &  66 & 285 & 200\\\\\n",
       "\t 691 & 361 & 478 & 194\\\\\n",
       "\t 337 & 418 & 497 & 799\\\\\n",
       "\t 690 & 419 & 975 & 841\\\\\n",
       "\\end{tabular}\n"
      ],
      "text/markdown": [
       "\n",
       "A data.table: 6 × 4\n",
       "\n",
       "| A &lt;dbl&gt; | B &lt;dbl&gt; | C &lt;dbl&gt; | D &lt;dbl&gt; |\n",
       "|---|---|---|---|\n",
       "| 836 | 552 | 954 | 974 |\n",
       "| 302 | 965 | 731 | 662 |\n",
       "| 314 |  66 | 285 | 200 |\n",
       "| 691 | 361 | 478 | 194 |\n",
       "| 337 | 418 | 497 | 799 |\n",
       "| 690 | 419 | 975 | 841 |\n",
       "\n"
      ],
      "text/plain": [
       "  A   B   C   D  \n",
       "1 836 552 954 974\n",
       "2 302 965 731 662\n",
       "3 314  66 285 200\n",
       "4 691 361 478 194\n",
       "5 337 418 497 799\n",
       "6 690 419 975 841"
      ]
     },
     "metadata": {},
     "output_type": "display_data"
    }
   ],
   "source": [
    "head(raw_cp)"
   ]
  },
  {
   "cell_type": "code",
   "execution_count": 22,
   "metadata": {},
   "outputs": [],
   "source": [
    "write.csv(raw_cp,'raw_cp.csv',row.names=F)"
   ]
  },
  {
   "cell_type": "code",
   "execution_count": null,
   "metadata": {},
   "outputs": [],
   "source": []
  }
 ],
 "metadata": {
  "kernelspec": {
   "display_name": "R",
   "language": "R",
   "name": "ir"
  },
  "language_info": {
   "codemirror_mode": "r",
   "file_extension": ".r",
   "mimetype": "text/x-r-source",
   "name": "R",
   "pygments_lexer": "r",
   "version": "4.0.4"
  }
 },
 "nbformat": 4,
 "nbformat_minor": 4
}
