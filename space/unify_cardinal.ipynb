{
 "cells": [
  {
   "cell_type": "code",
   "execution_count": 8,
   "id": "54c1b89a-a142-46f8-a866-e389a991f08e",
   "metadata": {},
   "outputs": [
    {
     "name": "stdout",
     "output_type": "stream",
     "text": [
      "\u001b[90m# A tibble: 11 × 2\u001b[39m\n",
      "   cat_col             unified\n",
      "   \u001b[3m\u001b[90m<chr>\u001b[39m\u001b[23m                 \u001b[3m\u001b[90m<dbl>\u001b[39m\u001b[23m\n",
      "\u001b[90m 1\u001b[39m Avansas Paper Clps        1\n",
      "\u001b[90m 2\u001b[39m avansas paper clips       1\n",
      "\u001b[90m 3\u001b[39m AVANSAS PAPER CLIPS       1\n",
      "\u001b[90m 4\u001b[39m Avansas Paper Clips       1\n",
      "\u001b[90m 5\u001b[39m Avansas stplr             2\n",
      "\u001b[90m 6\u001b[39m avnss stpler              2\n",
      "\u001b[90m 7\u001b[39m Avansas Stapler           2\n",
      "\u001b[90m 8\u001b[39m White Block note          3\n",
      "\u001b[90m 9\u001b[39m block notes white         3\n",
      "\u001b[90m10\u001b[39m Colorful papers           4\n",
      "\u001b[90m11\u001b[39m Color paper               4\n"
     ]
    }
   ],
   "source": [
    "df <- data.frame(cat_col = c('Avansas Paper Clps','avansas paper clips','AVANSAS PAPER CLIPS','Avansas Paper Clips',\n",
    "                       'Avansas stplr','avnss stpler','Avansas Stapler','White Block note','block notes white','Colorful papers',\n",
    "                       'Color paper'))\n",
    "#print(tibble::as_tibble(df))\n",
    "df[['unified']] <- c(1,1,1,1,2,2,2,3,3,4,4)\n",
    "print(tibble::as_tibble(df))"
   ]
  }
 ],
 "metadata": {
  "kernelspec": {
   "display_name": "R",
   "language": "R",
   "name": "ir"
  },
  "language_info": {
   "codemirror_mode": "r",
   "file_extension": ".r",
   "mimetype": "text/x-r-source",
   "name": "R",
   "pygments_lexer": "r",
   "version": "4.2.0"
  }
 },
 "nbformat": 4,
 "nbformat_minor": 5
}
