{
 "cells": [
  {
   "cell_type": "code",
   "execution_count": 1,
   "id": "4312c693-ce37-4c17-b4d0-6bcf9a23c254",
   "metadata": {},
   "outputs": [],
   "source": [
    "suppressWarnings({suppressMessages({is_installed <- require('kerastuneR')})})\n",
    "\n",
    "if(!is_installed){\n",
    "    install.packages('kerastuneR')\n",
    "}"
   ]
  },
  {
   "cell_type": "code",
   "execution_count": 2,
   "id": "eae2a79b-0ab1-4e5d-805f-258e6d4fb0f7",
   "metadata": {},
   "outputs": [],
   "source": [
    "library(keras)\n",
    "library(rsample)\n",
    "library(tensorflow)\n",
    "library(kerastuneR)"
   ]
  },
  {
   "cell_type": "code",
   "execution_count": 5,
   "id": "1f1b4de8-5b75-48e0-968e-081ff36c7283",
   "metadata": {},
   "outputs": [],
   "source": [
    "set.seed(1)\n",
    "\n",
    "willsee <- caret::createDataPartition(iris[['Sepal.Width']],list = FALSE,p = .6)\n",
    "\n",
    "train <- iris[willsee,][,-5]\n",
    "test <- iris[-willsee,][,-5]\n",
    "\n",
    "\n",
    "recete <- Sepal.Width ~ .\n",
    "\n",
    "tarif <- recipes::recipe(recete,train) %>%\n",
    "recipes::step_normalize(recipes::all_numeric_predictors())\n",
    "\n",
    "train <- tarif %>% recipes::prep() %>% recipes::bake(new_data=train)\n",
    "test <- tarif %>% recipes::prep() %>% recipes::bake(new_data=test)\n",
    "\n",
    "train_x <- train[,-4] %>% as.matrix\n",
    "test_x <- test[,-4] %>% as.matrix\n",
    "\n",
    "train_y <- train[,4] %>% as.matrix\n",
    "test_y <- test[,4] %>% as.matrix"
   ]
  },
  {
   "cell_type": "code",
   "execution_count": 8,
   "id": "7bbec9c3-1d10-4ed0-b8fa-a857a81f0e91",
   "metadata": {},
   "outputs": [
    {
     "data": {
      "text/html": [
       "0.1"
      ],
      "text/latex": [
       "0.1"
      ],
      "text/markdown": [
       "0.1"
      ],
      "text/plain": [
       "[1] 0.1"
      ]
     },
     "metadata": {},
     "output_type": "display_data"
    },
    {
     "data": {
      "text/html": [
       "2"
      ],
      "text/latex": [
       "2"
      ],
      "text/markdown": [
       "2"
      ],
      "text/plain": [
       "[1] 2"
      ]
     },
     "metadata": {},
     "output_type": "display_data"
    }
   ],
   "source": [
    "hp = HyperParameters()\n",
    "hp$Choice('learning_rate', c(1e-1, 1e-3,1e-4))\n",
    "hp$Int('num_layers', 2L, 5L)\n",
    "\n",
    "\n",
    "mnist_model = function(hp) {\n",
    "  \n",
    "  model = keras_model_sequential() %>% \n",
    "    layer_flatten(input_shape = ncol(train_x))\n",
    "  for (i in 1:(hp$get('num_layers')) ) {\n",
    "    model %>% layer_dense(32, activation='relu') %>% \n",
    "      layer_dense(units = 1, activation='linear')\n",
    "  } %>% \n",
    "    compile(\n",
    "      optimizer = tf$keras$optimizers$Adam(hp$get('learning_rate')),\n",
    "      loss = 'mse',\n",
    "      metrics = 'mean_absolute_error') \n",
    "  return(model)\n",
    "  \n",
    "}\n"
   ]
  },
  {
   "cell_type": "code",
   "execution_count": 13,
   "id": "f2121a89-599f-4977-b5d6-cae03de71dfe",
   "metadata": {},
   "outputs": [],
   "source": [
    "tuner <- RandomSearch(\n",
    "  mnist_model,\n",
    "  hyperparameters = hp,\n",
    "  objective = 'val_mean_absolute_error',\n",
    "  max_trials = 5,\n",
    "  executions_per_trial = 3,\n",
    "  directory = 'my_dir4',\n",
    "  project_name = 'bb')"
   ]
  },
  {
   "cell_type": "code",
   "execution_count": 14,
   "id": "6e2fa88b-8f27-4300-85bc-090f0d311f33",
   "metadata": {},
   "outputs": [],
   "source": [
    "tuner %>% search_summary()\n",
    " \n",
    "\n",
    "tuner %>% fit_tuner(train_x,train_y,\n",
    "                    epochs=10, \n",
    "                    validation_data = list(test_x,test_y))"
   ]
  },
  {
   "cell_type": "code",
   "execution_count": 15,
   "id": "bbaf36c8-121e-447c-9108-21f9b0932585",
   "metadata": {},
   "outputs": [],
   "source": [
    "modk <- tuner %>% get_best_models(1) %>% .[[1]]"
   ]
  },
  {
   "cell_type": "code",
   "execution_count": 16,
   "id": "dd5d7382-2b4a-499e-8103-e12e17d7c5eb",
   "metadata": {},
   "outputs": [],
   "source": [
    "modk2 <- lm(formula = Sepal.Width ~ .,data = train)"
   ]
  },
  {
   "cell_type": "code",
   "execution_count": 25,
   "id": "29de14c0-d5f9-4c19-b81d-443a0724f8e7",
   "metadata": {},
   "outputs": [
    {
     "data": {
      "text/html": [],
      "text/latex": [],
      "text/markdown": [],
      "text/plain": [
       "character(0)"
      ]
     },
     "metadata": {},
     "output_type": "display_data"
    }
   ],
   "source": []
  },
  {
   "cell_type": "code",
   "execution_count": 22,
   "id": "43053fb9-cc40-485b-addd-69d405317f7b",
   "metadata": {},
   "outputs": [
    {
     "data": {
      "text/plain": [
       "<bound method BaseTuner.get_best_hyperparameters of <keras_tuner.tuners.randomsearch.RandomSearch object at 0x0000021F16AECB50>>"
      ]
     },
     "metadata": {},
     "output_type": "display_data"
    }
   ],
   "source": [
    "tuner$get_best_hyperparameters"
   ]
  }
 ],
 "metadata": {
  "kernelspec": {
   "display_name": "R",
   "language": "R",
   "name": "ir"
  },
  "language_info": {
   "codemirror_mode": "r",
   "file_extension": ".r",
   "mimetype": "text/x-r-source",
   "name": "R",
   "pygments_lexer": "r",
   "version": "4.2.0"
  }
 },
 "nbformat": 4,
 "nbformat_minor": 5
}
