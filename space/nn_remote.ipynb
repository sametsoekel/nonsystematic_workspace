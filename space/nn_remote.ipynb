{
 "cells": [
  {
   "cell_type": "code",
   "execution_count": 1,
   "id": "dcbfb823-461a-45b3-a350-74da854b0f4e",
   "metadata": {},
   "outputs": [],
   "source": [
    "source('https://raw.githubusercontent.com/sametsoekel/nonsystematic_workspace/master/space/nn_pipeline_0812.r')"
   ]
  },
  {
   "cell_type": "code",
   "execution_count": 3,
   "id": "e0695a30-bb40-496e-89eb-3065b4c7c8ff",
   "metadata": {},
   "outputs": [],
   "source": [
    "data_sl <- data.table()\n",
    "\n",
    "for(i in c(LETTERS[1:15],letters[1:22])){\n",
    "    charmi <- sample(c(TRUE,FALSE),size = 1)\n",
    "    ortsec <- sample(200:500,size = 1)\n",
    "    sdsec <- sample(100:1000,size = 1)\n",
    "    if(charmi){\n",
    "        data_sl[,(i) := sample(c(LETTERS,NA),size = 2e6,replace = T)]\n",
    "    }else{\n",
    "        data_sl[,(i) := sample(c(rnorm(n = 2e4,mean = ortsec,sd = sdsec),NA),size = 2e6,replace = T)]\n",
    "    }\n",
    "}\n",
    "\n",
    "data_sl[,default := sample(c('No','Yes'),size = 2e6,prob = c(.93,.07),replace = T)]"
   ]
  },
  {
   "cell_type": "code",
   "execution_count": 4,
   "id": "c0163005-a402-4fad-9921-8845e957afb6",
   "metadata": {},
   "outputs": [],
   "source": [
    "set.seed(12)\n",
    "traindex <- sample(1:nrow(data_sl),nrow(data_sl)*0.66)\n",
    "train_set <- data_sl[traindex,]\n",
    "test_set <- data_sl[-traindex,] %>% select(-default) "
   ]
  },
  {
   "cell_type": "code",
   "execution_count": 5,
   "id": "b0899cdc-0157-4f4d-9af7-2a4c50f3fac0",
   "metadata": {},
   "outputs": [
    {
     "name": "stderr",
     "output_type": "stream",
     "text": [
      "Data sparsed.\n",
      "\n",
      "Scaling factors calculated.\n",
      "\n",
      "Missing values labeled.\n",
      "\n",
      "Data scaled.\n",
      "\n"
     ]
    },
    {
     "ename": "ERROR",
     "evalue": "Error in distincts[[i]]: seviye 1'de böyle bir indis yok\n\n",
     "output_type": "error",
     "traceback": [
      "Error in distincts[[i]]: seviye 1'de böyle bir indis yok\n\nTraceback:\n",
      "1. train_set %>% make_frame(label = \"default\")",
      "2. make_frame(., label = \"default\")",
      "3. get_distincts(scld)",
      "4. df[, `:=`((i), lapply(.SD, function(x) factor(x, levels = distincts[[i]]))), \n .     .SDcols = i]",
      "5. `[.data.table`(df, , `:=`((i), lapply(.SD, function(x) factor(x, \n .     levels = distincts[[i]]))), .SDcols = i)",
      "6. eval(jsub, SDenv, parent.frame())",
      "7. eval(jsub, SDenv, parent.frame())",
      "8. lapply(.SD, function(x) factor(x, levels = distincts[[i]]))",
      "9. FUN(X[[i]], ...)",
      "10. factor(x, levels = distincts[[i]])"
     ]
    }
   ],
   "source": [
    "train_ok <- train_set %>% make_frame(label = 'default')\n",
    "test_ok <- test_set %>% make_frame(label = 'default',test = T,train_frame = train_ok)"
   ]
  },
  {
   "cell_type": "code",
   "execution_count": 6,
   "id": "32b0acc8-8b6b-4c6e-9c56-b6f64420ad33",
   "metadata": {},
   "outputs": [],
   "source": [
    "sprs <- sparse_data(data_sl)"
   ]
  },
  {
   "cell_type": "code",
   "execution_count": 7,
   "id": "8300f157-0d63-4dfb-af56-15886f2755bb",
   "metadata": {},
   "outputs": [],
   "source": [
    "scl <- get_scaling_factors(sprs)"
   ]
  },
  {
   "cell_type": "code",
   "execution_count": 9,
   "id": "b03b2963-18c9-4966-88ba-1375e0d530e6",
   "metadata": {},
   "outputs": [],
   "source": [
    "scld <- scale_data(sprs,scaling_factors = scl)"
   ]
  },
  {
   "cell_type": "code",
   "execution_count": 14,
   "id": "63662f3b-c374-4a49-9eb5-f3caf3be2956",
   "metadata": {},
   "outputs": [],
   "source": [
    "get_distincts <- function(scaled_data){\n",
    "    df <- copy(scaled_data[['data']])\n",
    "    \n",
    "    catcols <- scaled_data[['cat_cols']]\n",
    "    \n",
    "    distincts <- list()\n",
    "    for(i in catcols){\n",
    "        distinct_values <- df[,unique(.SD),.SDcols = i] %>% pull %>% as.character\n",
    "        distincts[[i]] <- c(distinct_values,'Missing')\n",
    "        df[,(i) := lapply(.SD,function(x) as.character(x)),.SDcols = i]\n",
    "        df[,(i) := lapply(.SD,function(x) ifelse(is.na(x),'Missing',x)),.SDcols = i]\n",
    "        df[,(i) := lapply(.SD,function(x) factor(x,levels = distincts[[i]])),.SDcols = i]\n",
    "    }\n",
    "    \n",
    "    \n",
    "\n",
    "    scaled_data[['cat_distincts']] <- distincts\n",
    "    \n",
    "    scaled_data[['data']] <- df\n",
    "                          \n",
    "    scaled_data\n",
    "}"
   ]
  },
  {
   "cell_type": "code",
   "execution_count": 28,
   "id": "d21cda42-e1c6-41b4-94b3-5199cff666e5",
   "metadata": {},
   "outputs": [],
   "source": [
    "df <- copy(scld[['data']])\n",
    "    \n",
    "catcols <- scld[['cat_cols']]\n",
    "\n",
    "distincts <- list()\n",
    "for(i in catcols){\n",
    "    distinct_values <- df[,unique(.SD),.SDcols = i] %>% pull %>% as.character\n",
    "    distincts[[i]] <- c(distinct_values,'Missing')\n",
    "    df[,(i) := lapply(.SD,function(x) as.character(x)),.SDcols = i]\n",
    "    df[,(i) := lapply(.SD,function(x) ifelse(is.na(x),'Missing',x)),.SDcols = i]\n",
    "    df[,(i) := lapply(.SD,function(x) factor(x,levels = c(distinct_values,'Missing'))),.SDcols = i]\n",
    "}\n",
    "\n",
    "\n",
    "\n",
    "#scaled_data[['cat_distincts']] <- distincts\n",
    "\n",
    "#scaled_data[['data']] <- df\n",
    "\n",
    "#scaled_data"
   ]
  },
  {
   "cell_type": "code",
   "execution_count": 30,
   "id": "57df0e2e-2134-46d6-a3b9-bb700206c56f",
   "metadata": {},
   "outputs": [
    {
     "data": {
      "text/html": [
       "1500000"
      ],
      "text/latex": [
       "1500000"
      ],
      "text/markdown": [
       "1500000"
      ],
      "text/plain": [
       "[1] 1500000"
      ]
     },
     "metadata": {},
     "output_type": "display_data"
    }
   ],
   "source": [
    "1.5e6"
   ]
  },
  {
   "cell_type": "code",
   "execution_count": 26,
   "id": "8937110e-d7d7-4555-9b6c-447f45c07e6c",
   "metadata": {},
   "outputs": [
    {
     "data": {
      "text/html": [
       "<style>\n",
       ".list-inline {list-style: none; margin:0; padding: 0}\n",
       ".list-inline>li {display: inline-block}\n",
       ".list-inline>li:not(:last-child)::after {content: \"\\00b7\"; padding: 0 .5ex}\n",
       "</style>\n",
       "<ol class=list-inline><li>'I'</li><li>'A'</li><li>'R'</li><li>'F'</li><li>'H'</li><li>'T'</li><li>'J'</li><li>'G'</li><li>'Missing'</li><li>'N'</li><li>'B'</li><li>'P'</li><li>'L'</li><li>'D'</li><li>'X'</li><li>'K'</li><li>'V'</li><li>'U'</li><li>'C'</li><li>'S'</li><li>'O'</li><li>'Y'</li><li>'M'</li><li>'Z'</li><li>'Q'</li><li>'W'</li><li>'E'</li></ol>\n"
      ],
      "text/latex": [
       "\\begin{enumerate*}\n",
       "\\item 'I'\n",
       "\\item 'A'\n",
       "\\item 'R'\n",
       "\\item 'F'\n",
       "\\item 'H'\n",
       "\\item 'T'\n",
       "\\item 'J'\n",
       "\\item 'G'\n",
       "\\item 'Missing'\n",
       "\\item 'N'\n",
       "\\item 'B'\n",
       "\\item 'P'\n",
       "\\item 'L'\n",
       "\\item 'D'\n",
       "\\item 'X'\n",
       "\\item 'K'\n",
       "\\item 'V'\n",
       "\\item 'U'\n",
       "\\item 'C'\n",
       "\\item 'S'\n",
       "\\item 'O'\n",
       "\\item 'Y'\n",
       "\\item 'M'\n",
       "\\item 'Z'\n",
       "\\item 'Q'\n",
       "\\item 'W'\n",
       "\\item 'E'\n",
       "\\end{enumerate*}\n"
      ],
      "text/markdown": [
       "1. 'I'\n",
       "2. 'A'\n",
       "3. 'R'\n",
       "4. 'F'\n",
       "5. 'H'\n",
       "6. 'T'\n",
       "7. 'J'\n",
       "8. 'G'\n",
       "9. 'Missing'\n",
       "10. 'N'\n",
       "11. 'B'\n",
       "12. 'P'\n",
       "13. 'L'\n",
       "14. 'D'\n",
       "15. 'X'\n",
       "16. 'K'\n",
       "17. 'V'\n",
       "18. 'U'\n",
       "19. 'C'\n",
       "20. 'S'\n",
       "21. 'O'\n",
       "22. 'Y'\n",
       "23. 'M'\n",
       "24. 'Z'\n",
       "25. 'Q'\n",
       "26. 'W'\n",
       "27. 'E'\n",
       "\n",
       "\n"
      ],
      "text/plain": [
       " [1] \"I\"       \"A\"       \"R\"       \"F\"       \"H\"       \"T\"       \"J\"      \n",
       " [8] \"G\"       \"Missing\" \"N\"       \"B\"       \"P\"       \"L\"       \"D\"      \n",
       "[15] \"X\"       \"K\"       \"V\"       \"U\"       \"C\"       \"S\"       \"O\"      \n",
       "[22] \"Y\"       \"M\"       \"Z\"       \"Q\"       \"W\"       \"E\"      "
      ]
     },
     "metadata": {},
     "output_type": "display_data"
    }
   ],
   "source": [
    "distinct_values"
   ]
  },
  {
   "cell_type": "code",
   "execution_count": 27,
   "id": "ba8d27d0-1fb0-428d-8024-00c5daef0e6d",
   "metadata": {},
   "outputs": [
    {
     "data": {
      "text/html": [
       "<style>\n",
       ".list-inline {list-style: none; margin:0; padding: 0}\n",
       ".list-inline>li {display: inline-block}\n",
       ".list-inline>li:not(:last-child)::after {content: \"\\00b7\"; padding: 0 .5ex}\n",
       "</style>\n",
       "<ol class=list-inline><li>'I'</li><li>'A'</li><li>'R'</li><li>'F'</li><li>'H'</li><li>'T'</li><li>'J'</li><li>'G'</li><li>NA</li><li>'N'</li><li>'B'</li><li>'P'</li><li>'L'</li><li>'D'</li><li>'X'</li><li>'K'</li><li>'V'</li><li>'U'</li><li>'C'</li><li>'S'</li><li>'O'</li><li>'Y'</li><li>'M'</li><li>'Z'</li><li>'Q'</li><li>'W'</li><li>'E'</li><li>'Missing'</li></ol>\n"
      ],
      "text/latex": [
       "\\begin{enumerate*}\n",
       "\\item 'I'\n",
       "\\item 'A'\n",
       "\\item 'R'\n",
       "\\item 'F'\n",
       "\\item 'H'\n",
       "\\item 'T'\n",
       "\\item 'J'\n",
       "\\item 'G'\n",
       "\\item NA\n",
       "\\item 'N'\n",
       "\\item 'B'\n",
       "\\item 'P'\n",
       "\\item 'L'\n",
       "\\item 'D'\n",
       "\\item 'X'\n",
       "\\item 'K'\n",
       "\\item 'V'\n",
       "\\item 'U'\n",
       "\\item 'C'\n",
       "\\item 'S'\n",
       "\\item 'O'\n",
       "\\item 'Y'\n",
       "\\item 'M'\n",
       "\\item 'Z'\n",
       "\\item 'Q'\n",
       "\\item 'W'\n",
       "\\item 'E'\n",
       "\\item 'Missing'\n",
       "\\end{enumerate*}\n"
      ],
      "text/markdown": [
       "1. 'I'\n",
       "2. 'A'\n",
       "3. 'R'\n",
       "4. 'F'\n",
       "5. 'H'\n",
       "6. 'T'\n",
       "7. 'J'\n",
       "8. 'G'\n",
       "9. NA\n",
       "10. 'N'\n",
       "11. 'B'\n",
       "12. 'P'\n",
       "13. 'L'\n",
       "14. 'D'\n",
       "15. 'X'\n",
       "16. 'K'\n",
       "17. 'V'\n",
       "18. 'U'\n",
       "19. 'C'\n",
       "20. 'S'\n",
       "21. 'O'\n",
       "22. 'Y'\n",
       "23. 'M'\n",
       "24. 'Z'\n",
       "25. 'Q'\n",
       "26. 'W'\n",
       "27. 'E'\n",
       "28. 'Missing'\n",
       "\n",
       "\n"
      ],
      "text/plain": [
       " [1] \"I\"       \"A\"       \"R\"       \"F\"       \"H\"       \"T\"       \"J\"      \n",
       " [8] \"G\"       NA        \"N\"       \"B\"       \"P\"       \"L\"       \"D\"      \n",
       "[15] \"X\"       \"K\"       \"V\"       \"U\"       \"C\"       \"S\"       \"O\"      \n",
       "[22] \"Y\"       \"M\"       \"Z\"       \"Q\"       \"W\"       \"E\"       \"Missing\""
      ]
     },
     "metadata": {},
     "output_type": "display_data"
    }
   ],
   "source": [
    "distincts[[i]]"
   ]
  }
 ],
 "metadata": {
  "kernelspec": {
   "display_name": "R",
   "language": "R",
   "name": "ir"
  },
  "language_info": {
   "codemirror_mode": "r",
   "file_extension": ".r",
   "mimetype": "text/x-r-source",
   "name": "R",
   "pygments_lexer": "r",
   "version": "4.2.0"
  }
 },
 "nbformat": 4,
 "nbformat_minor": 5
}
