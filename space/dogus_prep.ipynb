{
 "cells": [
  {
   "cell_type": "code",
   "execution_count": 117,
   "id": "6e914d7f-c2fa-46d7-9baa-aaff5b5e70d8",
   "metadata": {},
   "outputs": [],
   "source": [
    "library(data.table)\n",
    "library(dplyr)\n",
    "library(lubridate)"
   ]
  },
  {
   "cell_type": "code",
   "execution_count": 64,
   "id": "a97facc1-4ab0-43e6-ba8b-2c8c610ad07c",
   "metadata": {},
   "outputs": [],
   "source": [
    "path <- 'DATA/'"
   ]
  },
  {
   "cell_type": "code",
   "execution_count": 5,
   "id": "5ab8e145-8fe9-4d4b-8dd0-8369847b702d",
   "metadata": {},
   "outputs": [],
   "source": [
    "customer <- fread(sprintf('%sFINAL_CUSTOMER_DATATHON.csv',path))[,-1]\n",
    "sales <- fread(sprintf('%sFINAL_SALES_FILE_DATATHON.csv',path))[,-1]\n",
    "customer_related <- fread(sprintf('%sFINAL_CUSTOMER_RELATED_TABLE_FOR_DATATHON.csv',path))[,-1]\n",
    "vehicle <- fread(sprintf('%sFINAL_VEHICLE_TABLE_DATATHON.csv',path))[,-1]\n",
    "buyers <- fread(sprintf('%sFINAL_SIFIR_ARAC_ALANLAR_DATATHON.csv',path))[,-1]\n",
    "submit_format <- fread(sprintf('%ssample_submission.csv',path))"
   ]
  },
  {
   "cell_type": "code",
   "execution_count": 162,
   "id": "f84d3928-ce55-4f85-90da-18699cc06bab",
   "metadata": {},
   "outputs": [],
   "source": [
    "buyers[,CREATE_DATE:=as.Date(CREATE_DATE)]"
   ]
  },
  {
   "cell_type": "code",
   "execution_count": 163,
   "id": "38ae4749-8984-47d8-acbe-158a014e6a2a",
   "metadata": {},
   "outputs": [],
   "source": [
    "buyers %>% \n",
    "group_by(CUSTOMER_ID,VEHICLE_ID) %>% \n",
    "mutate(samp=n()) %>% \n",
    "filter(samp==1) %>%\n",
    "select(-samp) %>% \n",
    "ungroup %>% \n",
    "mutate(Y=1)-> buyers "
   ]
  },
  {
   "cell_type": "code",
   "execution_count": 45,
   "id": "d54c2e53-7fe7-4d21-b432-3985577949da",
   "metadata": {},
   "outputs": [],
   "source": [
    "sales %>%\n",
    "group_by(SALESFILE_ID) %>% \n",
    "arrange(SF_CREATE_DATE,.by_group = T) %>%\n",
    "mutate(n=1:n()) %>% \n",
    "filter(n==max(n)) %>%\n",
    "select(-n) %>% \n",
    "ungroup -> sales"
   ]
  },
  {
   "cell_type": "code",
   "execution_count": 89,
   "id": "7e4eb6e1-276a-4d33-99f6-b6faa0772b2e",
   "metadata": {},
   "outputs": [],
   "source": [
    "customer_related %>% \n",
    "group_by(BASE_CUSTOMER_ID) %>% \n",
    "mutate(samp=n()) %>% \n",
    "filter(samp<=5) %>%\n",
    "select(-samp) %>% \n",
    "arrange(START_DATE,.by_group = T) %>% \n",
    "mutate(sira=1:n()) %>% \n",
    "summarise(VEHICLE_ID=VEHICLE_ID[max(sira)],START_DATE=min(START_DATE),END_DATE=END_DATE[max(sira)]) %>% \n",
    "mutate(FK_RELATION_STATUS_ID=ifelse(is.na(END_DATE),1,2)) %>%\n",
    "rowwise %>% \n",
    "mutate(TIME_DIFF = diff.Date(c(START_DATE,END_DATE))) %>% \n",
    "ungroup -> customer_related"
   ]
  },
  {
   "cell_type": "code",
   "execution_count": 135,
   "id": "4bb25645-6408-403d-a423-3825e8beccee",
   "metadata": {},
   "outputs": [],
   "source": [
    "customer_related %>% \n",
    "inner_join(vehicle,by='VEHICLE_ID') %>% \n",
    "rowwise %>% \n",
    "mutate(TRAFFIC_TIME_DIFF = diff.Date(c(START_DATE,TRAFFIC_DATE))) %>% \n",
    "ungroup %>% \n",
    "mutate(MOTOR_GAS_TYPE = ifelse(MOTOR_GAS_TYPE=='' | MOTOR_GAS_TYPE=='Seçiniz',NA,MOTOR_GAS_TYPE))%>% \n",
    "mutate(GEAR_BOX_TYPE = ifelse(GEAR_BOX_TYPE==''  | MOTOR_GAS_TYPE=='Seçiniz',NA,GEAR_BOX_TYPE)) -> customer_related_with_vehicle"
   ]
  },
  {
   "cell_type": "code",
   "execution_count": 193,
   "id": "364acd04-349c-4a7f-a7f2-ffb5649e3feb",
   "metadata": {},
   "outputs": [],
   "source": [
    "customer %>% \n",
    "left_join(customer_related_with_vehicle,by='BASE_CUSTOMER_ID') %>% \n",
    "left_join(buyers,by=c('VEHICLE_ID','CUSTOMER_ID')) %>% \n",
    "mutate(MARITAL_STATUS=ifelse(MARITAL_STATUS=='',NA,MARITAL_STATUS)) %>%\n",
    "mutate(FK_ADDRESS_COMMUNICATION_CITY=ifelse(FK_ADDRESS_COMMUNICATION_CITY=='',NA,FK_ADDRESS_COMMUNICATION_CITY)) %>% \n",
    "mutate(OCCUPATION=ifelse(OCCUPATION=='',NA,OCCUPATION)) %>% \n",
    "rowwise %>% \n",
    "mutate(BUYER_AGE=diff(c(BIRTH_DATE,year(CREATE_DATE)))) %>% \n",
    "ungroup %>% \n",
    "mutate(BUYER_AGE=ifelse(is.na(BUYER_AGE),2021 - BIRTH_DATE,BUYER_AGE)) -> final_tablo"
   ]
  },
  {
   "cell_type": "code",
   "execution_count": 205,
   "id": "9dbb33b0-a1ba-4584-a37a-63d4874a9fb3",
   "metadata": {},
   "outputs": [
    {
     "data": {
      "text/html": [
       "<table class=\"dataframe\">\n",
       "<caption>A data.table: 6 × 2</caption>\n",
       "<thead>\n",
       "\t<tr><th scope=col>Id</th><th scope=col>Expected</th></tr>\n",
       "\t<tr><th scope=col>&lt;int&gt;</th><th scope=col>&lt;lgl&gt;</th></tr>\n",
       "</thead>\n",
       "<tbody>\n",
       "\t<tr><td>168254</td><td>NA</td></tr>\n",
       "\t<tr><td>124747</td><td>NA</td></tr>\n",
       "\t<tr><td>135493</td><td>NA</td></tr>\n",
       "\t<tr><td> 90543</td><td>NA</td></tr>\n",
       "\t<tr><td> 40421</td><td>NA</td></tr>\n",
       "\t<tr><td>175788</td><td>NA</td></tr>\n",
       "</tbody>\n",
       "</table>\n"
      ],
      "text/latex": [
       "A data.table: 6 × 2\n",
       "\\begin{tabular}{ll}\n",
       " Id & Expected\\\\\n",
       " <int> & <lgl>\\\\\n",
       "\\hline\n",
       "\t 168254 & NA\\\\\n",
       "\t 124747 & NA\\\\\n",
       "\t 135493 & NA\\\\\n",
       "\t  90543 & NA\\\\\n",
       "\t  40421 & NA\\\\\n",
       "\t 175788 & NA\\\\\n",
       "\\end{tabular}\n"
      ],
      "text/markdown": [
       "\n",
       "A data.table: 6 × 2\n",
       "\n",
       "| Id &lt;int&gt; | Expected &lt;lgl&gt; |\n",
       "|---|---|\n",
       "| 168254 | NA |\n",
       "| 124747 | NA |\n",
       "| 135493 | NA |\n",
       "|  90543 | NA |\n",
       "|  40421 | NA |\n",
       "| 175788 | NA |\n",
       "\n"
      ],
      "text/plain": [
       "  Id     Expected\n",
       "1 168254 NA      \n",
       "2 124747 NA      \n",
       "3 135493 NA      \n",
       "4  90543 NA      \n",
       "5  40421 NA      \n",
       "6 175788 NA      "
      ]
     },
     "metadata": {},
     "output_type": "display_data"
    }
   ],
   "source": [
    "submit_format %>% head"
   ]
  },
  {
   "cell_type": "code",
   "execution_count": 201,
   "id": "e6bf0a02-f589-45e5-b00b-72c473e43b56",
   "metadata": {},
   "outputs": [],
   "source": [
    "final_tablo %>% \n",
    "anti_join(submit_format,by=c('BASE_CUSTOMER_ID'='Id',)) -> train_set"
   ]
  },
  {
   "cell_type": "code",
   "execution_count": 210,
   "id": "36f40201-a202-485e-9dbd-d3e310e854cc",
   "metadata": {},
   "outputs": [
    {
     "name": "stderr",
     "output_type": "stream",
     "text": [
      "Warning message in cbind(parts$left, ellip_h, parts$right, deparse.level = 0L):\n",
      "“number of rows of result is not a multiple of vector length (arg 2)”\n",
      "Warning message in cbind(parts$left, ellip_h, parts$right, deparse.level = 0L):\n",
      "“number of rows of result is not a multiple of vector length (arg 2)”\n",
      "Warning message in cbind(parts$left, ellip_h, parts$right, deparse.level = 0L):\n",
      "“number of rows of result is not a multiple of vector length (arg 2)”\n",
      "Warning message in cbind(parts$left, ellip_h, parts$right, deparse.level = 0L):\n",
      "“number of rows of result is not a multiple of vector length (arg 2)”\n"
     ]
    },
    {
     "data": {
      "text/html": [
       "<table class=\"dataframe\">\n",
       "<caption>A tibble: 0 × 24</caption>\n",
       "<thead>\n",
       "\t<tr><th scope=col>BASE_CUSTOMER_ID</th><th scope=col>CUSTOMER_ID</th><th scope=col>GENDER</th><th scope=col>GENDER_ID</th><th scope=col>MARITAL_STATUS</th><th scope=col>MARITAL_STATUS_ID</th><th scope=col>BIRTH_DATE</th><th scope=col>FK_ADDRESS_COMMUNICATION_CITY</th><th scope=col>OCCUPATION</th><th scope=col>VEHICLE_ID</th><th scope=col>⋯</th><th scope=col>TRAFFIC_DATE</th><th scope=col>BRAND_CODE</th><th scope=col>BASEMODEL_CODE</th><th scope=col>TOPMODEL_CODE</th><th scope=col>MOTOR_GAS_TYPE</th><th scope=col>GEAR_BOX_TYPE</th><th scope=col>TRAFFIC_TIME_DIFF</th><th scope=col>CREATE_DATE</th><th scope=col>Y</th><th scope=col>BUYER_AGE</th></tr>\n",
       "\t<tr><th scope=col>&lt;int&gt;</th><th scope=col>&lt;int&gt;</th><th scope=col>&lt;chr&gt;</th><th scope=col>&lt;int&gt;</th><th scope=col>&lt;chr&gt;</th><th scope=col>&lt;int&gt;</th><th scope=col>&lt;dbl&gt;</th><th scope=col>&lt;chr&gt;</th><th scope=col>&lt;chr&gt;</th><th scope=col>&lt;int&gt;</th><th scope=col>⋯</th><th scope=col>&lt;date&gt;</th><th scope=col>&lt;chr&gt;</th><th scope=col>&lt;int&gt;</th><th scope=col>&lt;int&gt;</th><th scope=col>&lt;chr&gt;</th><th scope=col>&lt;chr&gt;</th><th scope=col>&lt;int&gt;</th><th scope=col>&lt;date&gt;</th><th scope=col>&lt;dbl&gt;</th><th scope=col>&lt;dbl&gt;</th></tr>\n",
       "</thead>\n",
       "<tbody>\n",
       "</tbody>\n",
       "</table>\n"
      ],
      "text/latex": [
       "A tibble: 0 × 24\n",
       "\\begin{tabular}{lllllllllllllllllllll}\n",
       " BASE\\_CUSTOMER\\_ID & CUSTOMER\\_ID & GENDER & GENDER\\_ID & MARITAL\\_STATUS & MARITAL\\_STATUS\\_ID & BIRTH\\_DATE & FK\\_ADDRESS\\_COMMUNICATION\\_CITY & OCCUPATION & VEHICLE\\_ID & ⋯ & TRAFFIC\\_DATE & BRAND\\_CODE & BASEMODEL\\_CODE & TOPMODEL\\_CODE & MOTOR\\_GAS\\_TYPE & GEAR\\_BOX\\_TYPE & TRAFFIC\\_TIME\\_DIFF & CREATE\\_DATE & Y & BUYER\\_AGE\\\\\n",
       " <int> & <int> & <chr> & <int> & <chr> & <int> & <dbl> & <chr> & <chr> & <int> & ⋯ & <date> & <chr> & <int> & <int> & <chr> & <chr> & <int> & <date> & <dbl> & <dbl>\\\\\n",
       "\\hline\n",
       "\\end{tabular}\n"
      ],
      "text/markdown": [
       "\n",
       "A tibble: 0 × 24\n",
       "\n",
       "| BASE_CUSTOMER_ID &lt;int&gt; | CUSTOMER_ID &lt;int&gt; | GENDER &lt;chr&gt; | GENDER_ID &lt;int&gt; | MARITAL_STATUS &lt;chr&gt; | MARITAL_STATUS_ID &lt;int&gt; | BIRTH_DATE &lt;dbl&gt; | FK_ADDRESS_COMMUNICATION_CITY &lt;chr&gt; | OCCUPATION &lt;chr&gt; | VEHICLE_ID &lt;int&gt; | ⋯ ⋯ | TRAFFIC_DATE &lt;date&gt; | BRAND_CODE &lt;chr&gt; | BASEMODEL_CODE &lt;int&gt; | TOPMODEL_CODE &lt;int&gt; | MOTOR_GAS_TYPE &lt;chr&gt; | GEAR_BOX_TYPE &lt;chr&gt; | TRAFFIC_TIME_DIFF &lt;int&gt; | CREATE_DATE &lt;date&gt; | Y &lt;dbl&gt; | BUYER_AGE &lt;dbl&gt; |\n",
       "|---|---|---|---|---|---|---|---|---|---|---|---|---|---|---|---|---|---|---|---|---|\n",
       "\n"
      ],
      "text/plain": [
       "     BASE_CUSTOMER_ID CUSTOMER_ID GENDER GENDER_ID MARITAL_STATUS\n",
       "     MARITAL_STATUS_ID BIRTH_DATE FK_ADDRESS_COMMUNICATION_CITY OCCUPATION\n",
       "     VEHICLE_ID ⋯ TRAFFIC_DATE BRAND_CODE BASEMODEL_CODE TOPMODEL_CODE\n",
       "     MOTOR_GAS_TYPE GEAR_BOX_TYPE TRAFFIC_TIME_DIFF CREATE_DATE Y BUYER_AGE"
      ]
     },
     "metadata": {},
     "output_type": "display_data"
    }
   ],
   "source": [
    "train_set %>% filter(BASE_CUSTOMER_ID==168254)"
   ]
  },
  {
   "cell_type": "code",
   "execution_count": 217,
   "id": "cec79b9b-6d63-44ee-a5c1-8325151c1c9e",
   "metadata": {},
   "outputs": [
    {
     "data": {
      "text/html": [
       "&lt;NA&gt;"
      ],
      "text/latex": [
       "<NA>"
      ],
      "text/markdown": [
       "&lt;NA&gt;"
      ],
      "text/plain": [
       "[1] NA"
      ]
     },
     "metadata": {},
     "output_type": "display_data"
    }
   ],
   "source": [
    "year(NA)-NA"
   ]
  },
  {
   "cell_type": "code",
   "execution_count": 202,
   "id": "63ac5ea5-e1ff-4d78-858c-59af879ac67b",
   "metadata": {},
   "outputs": [],
   "source": [
    "train_set %>% \n",
    "mutate(Y=ifelse(is.na(Y),0,Y)) -> train_set\n",
    "\n"
   ]
  },
  {
   "cell_type": "code",
   "execution_count": 221,
   "id": "48d28515-ec8b-4b60-b5f2-b1541f77312d",
   "metadata": {},
   "outputs": [],
   "source": [
    "setDT(train_set)\n",
    "train_set[,Y:=as.factor(Y)]"
   ]
  },
  {
   "cell_type": "code",
   "execution_count": 226,
   "id": "7ec53f90-5bd3-469f-b26e-8092c69ac6d1",
   "metadata": {},
   "outputs": [
    {
     "data": {
      "text/html": [
       "<table class=\"dataframe\">\n",
       "<caption>A data.table: 135670 × 1</caption>\n",
       "<thead>\n",
       "\t<tr><th scope=col>Y</th></tr>\n",
       "\t<tr><th scope=col>&lt;dbl&gt;</th></tr>\n",
       "</thead>\n",
       "<tbody>\n",
       "\t<tr><td>0</td></tr>\n",
       "\t<tr><td>0</td></tr>\n",
       "\t<tr><td>0</td></tr>\n",
       "\t<tr><td>1</td></tr>\n",
       "\t<tr><td>0</td></tr>\n",
       "\t<tr><td>0</td></tr>\n",
       "\t<tr><td>0</td></tr>\n",
       "\t<tr><td>0</td></tr>\n",
       "\t<tr><td>0</td></tr>\n",
       "\t<tr><td>0</td></tr>\n",
       "\t<tr><td>1</td></tr>\n",
       "\t<tr><td>0</td></tr>\n",
       "\t<tr><td>0</td></tr>\n",
       "\t<tr><td>0</td></tr>\n",
       "\t<tr><td>0</td></tr>\n",
       "\t<tr><td>0</td></tr>\n",
       "\t<tr><td>0</td></tr>\n",
       "\t<tr><td>0</td></tr>\n",
       "\t<tr><td>0</td></tr>\n",
       "\t<tr><td>0</td></tr>\n",
       "\t<tr><td>1</td></tr>\n",
       "\t<tr><td>0</td></tr>\n",
       "\t<tr><td>0</td></tr>\n",
       "\t<tr><td>0</td></tr>\n",
       "\t<tr><td>0</td></tr>\n",
       "\t<tr><td>0</td></tr>\n",
       "\t<tr><td>1</td></tr>\n",
       "\t<tr><td>0</td></tr>\n",
       "\t<tr><td>0</td></tr>\n",
       "\t<tr><td>0</td></tr>\n",
       "\t<tr><td>⋮</td></tr>\n",
       "\t<tr><td>0</td></tr>\n",
       "\t<tr><td>0</td></tr>\n",
       "\t<tr><td>0</td></tr>\n",
       "\t<tr><td>0</td></tr>\n",
       "\t<tr><td>0</td></tr>\n",
       "\t<tr><td>0</td></tr>\n",
       "\t<tr><td>0</td></tr>\n",
       "\t<tr><td>0</td></tr>\n",
       "\t<tr><td>0</td></tr>\n",
       "\t<tr><td>0</td></tr>\n",
       "\t<tr><td>0</td></tr>\n",
       "\t<tr><td>0</td></tr>\n",
       "\t<tr><td>0</td></tr>\n",
       "\t<tr><td>0</td></tr>\n",
       "\t<tr><td>0</td></tr>\n",
       "\t<tr><td>0</td></tr>\n",
       "\t<tr><td>0</td></tr>\n",
       "\t<tr><td>0</td></tr>\n",
       "\t<tr><td>0</td></tr>\n",
       "\t<tr><td>0</td></tr>\n",
       "\t<tr><td>0</td></tr>\n",
       "\t<tr><td>0</td></tr>\n",
       "\t<tr><td>0</td></tr>\n",
       "\t<tr><td>0</td></tr>\n",
       "\t<tr><td>0</td></tr>\n",
       "\t<tr><td>0</td></tr>\n",
       "\t<tr><td>0</td></tr>\n",
       "\t<tr><td>0</td></tr>\n",
       "\t<tr><td>0</td></tr>\n",
       "\t<tr><td>0</td></tr>\n",
       "</tbody>\n",
       "</table>\n"
      ],
      "text/latex": [
       "A data.table: 135670 × 1\n",
       "\\begin{tabular}{l}\n",
       " Y\\\\\n",
       " <dbl>\\\\\n",
       "\\hline\n",
       "\t 0\\\\\n",
       "\t 0\\\\\n",
       "\t 0\\\\\n",
       "\t 1\\\\\n",
       "\t 0\\\\\n",
       "\t 0\\\\\n",
       "\t 0\\\\\n",
       "\t 0\\\\\n",
       "\t 0\\\\\n",
       "\t 0\\\\\n",
       "\t 1\\\\\n",
       "\t 0\\\\\n",
       "\t 0\\\\\n",
       "\t 0\\\\\n",
       "\t 0\\\\\n",
       "\t 0\\\\\n",
       "\t 0\\\\\n",
       "\t 0\\\\\n",
       "\t 0\\\\\n",
       "\t 0\\\\\n",
       "\t 1\\\\\n",
       "\t 0\\\\\n",
       "\t 0\\\\\n",
       "\t 0\\\\\n",
       "\t 0\\\\\n",
       "\t 0\\\\\n",
       "\t 1\\\\\n",
       "\t 0\\\\\n",
       "\t 0\\\\\n",
       "\t 0\\\\\n",
       "\t ⋮\\\\\n",
       "\t 0\\\\\n",
       "\t 0\\\\\n",
       "\t 0\\\\\n",
       "\t 0\\\\\n",
       "\t 0\\\\\n",
       "\t 0\\\\\n",
       "\t 0\\\\\n",
       "\t 0\\\\\n",
       "\t 0\\\\\n",
       "\t 0\\\\\n",
       "\t 0\\\\\n",
       "\t 0\\\\\n",
       "\t 0\\\\\n",
       "\t 0\\\\\n",
       "\t 0\\\\\n",
       "\t 0\\\\\n",
       "\t 0\\\\\n",
       "\t 0\\\\\n",
       "\t 0\\\\\n",
       "\t 0\\\\\n",
       "\t 0\\\\\n",
       "\t 0\\\\\n",
       "\t 0\\\\\n",
       "\t 0\\\\\n",
       "\t 0\\\\\n",
       "\t 0\\\\\n",
       "\t 0\\\\\n",
       "\t 0\\\\\n",
       "\t 0\\\\\n",
       "\t 0\\\\\n",
       "\\end{tabular}\n"
      ],
      "text/markdown": [
       "\n",
       "A data.table: 135670 × 1\n",
       "\n",
       "| Y &lt;dbl&gt; |\n",
       "|---|\n",
       "| 0 |\n",
       "| 0 |\n",
       "| 0 |\n",
       "| 1 |\n",
       "| 0 |\n",
       "| 0 |\n",
       "| 0 |\n",
       "| 0 |\n",
       "| 0 |\n",
       "| 0 |\n",
       "| 1 |\n",
       "| 0 |\n",
       "| 0 |\n",
       "| 0 |\n",
       "| 0 |\n",
       "| 0 |\n",
       "| 0 |\n",
       "| 0 |\n",
       "| 0 |\n",
       "| 0 |\n",
       "| 1 |\n",
       "| 0 |\n",
       "| 0 |\n",
       "| 0 |\n",
       "| 0 |\n",
       "| 0 |\n",
       "| 1 |\n",
       "| 0 |\n",
       "| 0 |\n",
       "| 0 |\n",
       "| ⋮ |\n",
       "| 0 |\n",
       "| 0 |\n",
       "| 0 |\n",
       "| 0 |\n",
       "| 0 |\n",
       "| 0 |\n",
       "| 0 |\n",
       "| 0 |\n",
       "| 0 |\n",
       "| 0 |\n",
       "| 0 |\n",
       "| 0 |\n",
       "| 0 |\n",
       "| 0 |\n",
       "| 0 |\n",
       "| 0 |\n",
       "| 0 |\n",
       "| 0 |\n",
       "| 0 |\n",
       "| 0 |\n",
       "| 0 |\n",
       "| 0 |\n",
       "| 0 |\n",
       "| 0 |\n",
       "| 0 |\n",
       "| 0 |\n",
       "| 0 |\n",
       "| 0 |\n",
       "| 0 |\n",
       "| 0 |\n",
       "\n"
      ],
      "text/plain": [
       "       Y\n",
       "1      0\n",
       "2      0\n",
       "3      0\n",
       "4      1\n",
       "5      0\n",
       "6      0\n",
       "7      0\n",
       "8      0\n",
       "9      0\n",
       "10     0\n",
       "11     1\n",
       "12     0\n",
       "13     0\n",
       "14     0\n",
       "15     0\n",
       "16     0\n",
       "17     0\n",
       "18     0\n",
       "19     0\n",
       "20     0\n",
       "21     1\n",
       "22     0\n",
       "23     0\n",
       "24     0\n",
       "25     0\n",
       "26     0\n",
       "27     1\n",
       "28     0\n",
       "29     0\n",
       "30     0\n",
       "⋮      ⋮\n",
       "135641 0\n",
       "135642 0\n",
       "135643 0\n",
       "135644 0\n",
       "135645 0\n",
       "135646 0\n",
       "135647 0\n",
       "135648 0\n",
       "135649 0\n",
       "135650 0\n",
       "135651 0\n",
       "135652 0\n",
       "135653 0\n",
       "135654 0\n",
       "135655 0\n",
       "135656 0\n",
       "135657 0\n",
       "135658 0\n",
       "135659 0\n",
       "135660 0\n",
       "135661 0\n",
       "135662 0\n",
       "135663 0\n",
       "135664 0\n",
       "135665 0\n",
       "135666 0\n",
       "135667 0\n",
       "135668 0\n",
       "135669 0\n",
       "135670 0"
      ]
     },
     "metadata": {},
     "output_type": "display_data"
    }
   ],
   "source": [
    "train_set %>% select(Y) %>% mutate(Y=as.numeric(as.character(Y)))"
   ]
  },
  {
   "cell_type": "code",
   "execution_count": 211,
   "id": "423e79f2-ec68-4519-864f-78dd0af721d0",
   "metadata": {},
   "outputs": [],
   "source": [
    "final_tablo %>% \n",
    "inner_join(submit_format,by=c('BASE_CUSTOMER_ID'='Id')) -> test_set"
   ]
  }
 ],
 "metadata": {
  "kernelspec": {
   "display_name": "R",
   "language": "R",
   "name": "ir"
  },
  "language_info": {
   "codemirror_mode": "r",
   "file_extension": ".r",
   "mimetype": "text/x-r-source",
   "name": "R",
   "pygments_lexer": "r",
   "version": "4.1.1"
  }
 },
 "nbformat": 4,
 "nbformat_minor": 5
}
