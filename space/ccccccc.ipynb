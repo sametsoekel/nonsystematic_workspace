{
 "cells": [
  {
   "cell_type": "code",
   "execution_count": 2,
   "metadata": {},
   "outputs": [
    {
     "name": "stdout",
     "output_type": "stream",
     "text": [
      "Sayilar Ortalamasi : 5.5\n"
     ]
    }
   ],
   "source": [
    "file = 'sayilar.txt'\n",
    "try:\n",
    "    dosya = open(file)\n",
    "    numbers = dosya.read().splitlines()\n",
    "    numbers = [ int(x) for x in numbers ]\n",
    "    ortalama = sum(numbers)/len(numbers)\n",
    "    \n",
    "    print('Sayilar Ortalamasi : '+str(ortalama))\n",
    "except IOError:\n",
    "    print(file+' bulunamadi')"
   ]
  }
 ],
 "metadata": {
  "kernelspec": {
   "display_name": "Python 3",
   "language": "python",
   "name": "python3"
  },
  "language_info": {
   "codemirror_mode": {
    "name": "ipython",
    "version": 3
   },
   "file_extension": ".py",
   "mimetype": "text/x-python",
   "name": "python",
   "nbconvert_exporter": "python",
   "pygments_lexer": "ipython3",
   "version": "3.8.5"
  }
 },
 "nbformat": 4,
 "nbformat_minor": 4
}
