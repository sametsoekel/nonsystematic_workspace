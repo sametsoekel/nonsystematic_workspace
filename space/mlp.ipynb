{
 "cells": [
  {
   "cell_type": "code",
   "execution_count": 1,
   "id": "15f60faa-1b02-4090-bef6-0de7f0445274",
   "metadata": {},
   "outputs": [],
   "source": [
    "suppressPackageStartupMessages({\n",
    "    library(tidymodels)\n",
    "    library(treesnip)\n",
    "    library(tidyverse)\n",
    "    library(keras)\n",
    "    library(tensorflow)\n",
    "    #library(lime)\n",
    "})"
   ]
  },
  {
   "cell_type": "code",
   "execution_count": 2,
   "id": "5d6852b1-f59d-4e34-b94a-c0bc0e8dd57b",
   "metadata": {},
   "outputs": [],
   "source": [
    "seed <- 1923"
   ]
  },
  {
   "cell_type": "code",
   "execution_count": 62,
   "id": "d165a329-f897-42fe-a4c4-09601b74f6d7",
   "metadata": {},
   "outputs": [],
   "source": [
    "set.seed(1)\n",
    "\n",
    "label <- 'default'\n",
    "\n",
    "iris1.5 <- ISLR::Default %>% mutate(default = case_when(default == 'No' ~ 0,\n",
    "                                             default == 'Yes' ~ 1))\n",
    "\n",
    "iris1.5 <- iris1.5 %>% mutate(default = factor(default,levels = 0:1))\n",
    "\n",
    "willsee <- caret::createDataPartition(iris1.5[[label]],p = .7,list = TRUE) %>% unlist\n",
    "\n",
    "iris2 <- iris1.5[willsee,]\n",
    "\n",
    "iris3 <- iris1.5[-willsee,]\n",
    "\n",
    "folds_ <- caret::createFolds(iris2[[label]],k = 5)\n",
    "\n",
    "folds <- 1:length(folds_)\n",
    "\n",
    "errors <- c()\n",
    "\n",
    "predictions <- list()\n",
    "\n",
    "iris2 <- iris2 %>% mutate(default = as.integer(as.character(default)))\n",
    "iris3 <- iris3 %>% mutate(default = as.integer(as.character(default)))\n",
    "\n",
    "i <- 1\n",
    "\n",
    "train_indices_dum <- setdiff(folds,i)\n",
    "test_indices_dum <- i\n",
    "\n",
    "train_set_dum <- iris2[unlist(folds_[train_indices_dum]),]\n",
    "test_set_dum <- iris2[unlist(folds_[test_indices_dum]),]\n"
   ]
  },
  {
   "cell_type": "code",
   "execution_count": 63,
   "id": "838a117c-de0f-4762-854c-9fd65830e06c",
   "metadata": {},
   "outputs": [],
   "source": [
    "input_neurons <- ncol(train_set_dum) - 1\n",
    "output_neurons <- 2\n",
    "\n",
    "nofsample <- nrow(train_set_dum)\n",
    "\n",
    "alpha <- 4"
   ]
  },
  {
   "cell_type": "code",
   "execution_count": 64,
   "id": "28d90b03-1509-4fcd-b63c-37de5096548f",
   "metadata": {},
   "outputs": [],
   "source": [
    "numofneuron <- nofsample / (alpha * (input_neurons + output_neurons))\n",
    "\n",
    "numofneuron <- numofneuron - output_neurons"
   ]
  },
  {
   "cell_type": "code",
   "execution_count": 65,
   "id": "6c635920-67a9-495c-b46a-c5b94e1c6787",
   "metadata": {},
   "outputs": [],
   "source": [
    "layer_dist1 <- base::seq(from = numofneuron,to = output_neurons,length.out = 10)\n",
    "layer_dist <- layer_dist1[-1]/base::sum(layer_dist1[-1])*numofneuron\n",
    "layer_disto <- layer_dist %>% ceiling %>% .[1:8]\n",
    "\n",
    "#randy <- sample(1:1000,size = 8)\n",
    "\n",
    "#(numofneuron*(randy/sum(randy)) )%>% ceiling"
   ]
  },
  {
   "cell_type": "code",
   "execution_count": 66,
   "id": "45f77ef0-503a-4b91-adb4-12d86349d0aa",
   "metadata": {},
   "outputs": [
    {
     "data": {
      "text/html": [
       "<style>\n",
       ".list-inline {list-style: none; margin:0; padding: 0}\n",
       ".list-inline>li {display: inline-block}\n",
       ".list-inline>li:not(:last-child)::after {content: \"\\00b7\"; padding: 0 .5ex}\n",
       "</style>\n",
       "<ol class=list-inline><li>62</li><li>54</li><li>47</li><li>39</li><li>31</li><li>24</li><li>16</li><li>9</li></ol>\n"
      ],
      "text/latex": [
       "\\begin{enumerate*}\n",
       "\\item 62\n",
       "\\item 54\n",
       "\\item 47\n",
       "\\item 39\n",
       "\\item 31\n",
       "\\item 24\n",
       "\\item 16\n",
       "\\item 9\n",
       "\\end{enumerate*}\n"
      ],
      "text/markdown": [
       "1. 62\n",
       "2. 54\n",
       "3. 47\n",
       "4. 39\n",
       "5. 31\n",
       "6. 24\n",
       "7. 16\n",
       "8. 9\n",
       "\n",
       "\n"
      ],
      "text/plain": [
       "[1] 62 54 47 39 31 24 16  9"
      ]
     },
     "metadata": {},
     "output_type": "display_data"
    }
   ],
   "source": [
    "layer_disto"
   ]
  },
  {
   "cell_type": "code",
   "execution_count": 67,
   "id": "1b611636-486a-45cf-8bbb-9e3b85835605",
   "metadata": {},
   "outputs": [],
   "source": [
    "f1 <- function(y_true, y_pred){\n",
    "    y_pred = k_round(y_pred)\n",
    "    \n",
    "    tp = k_sum(k_cast(y_true*y_pred, 'float'), axis=1)\n",
    "    tn = k_sum(k_cast((1-y_true)*(1-y_pred), 'float'), axis=1)\n",
    "    fp = k_sum(k_cast((1-y_true)*y_pred, 'float'), axis=1)\n",
    "    fn = k_sum(k_cast(y_true*(1-y_pred), 'float'), axis=1)\n",
    "\n",
    "    p = tp / (tp + fp + k_epsilon())\n",
    "    r = tp / (tp + fn + k_epsilon())\n",
    "\n",
    "    f1 = 2*p*r / (p+r+k_epsilon())\n",
    "    f1 = tf$where(tf$math$is_nan(f1), tf$zeros_like(f1), f1)\n",
    "    return(k_mean(f1,axis = 1))\n",
    "}\n",
    "\n",
    "f1_loss <- function(y_true, y_pred){\n",
    "    #y_pred = k_round(y_pred)\n",
    "    tp = k_sum(k_cast(y_true*y_pred, 'float'), axis=1)\n",
    "    tn = k_sum(k_cast((1-y_true)*(1-y_pred), 'float'), axis=1)\n",
    "    fp = k_sum(k_cast((1-y_true)*y_pred, 'float'), axis=1)\n",
    "    fn = k_sum(k_cast(y_true*(1-y_pred), 'float'), axis=1)\n",
    "\n",
    "    p = tp / (tp + fp + k_epsilon())\n",
    "    r = tp / (tp + fn + k_epsilon())\n",
    "\n",
    "    f1 = 2*p*r / (p+r+k_epsilon())\n",
    "    f1 = tf$where(tf$math$is_nan(f1), tf$zeros_like(f1), f1)\n",
    "    return(1 - k_mean(f1,axis = 1))\n",
    "}"
   ]
  },
  {
   "cell_type": "code",
   "execution_count": 68,
   "id": "71fd3188-3f81-48d3-b6ad-db8588bed3a1",
   "metadata": {},
   "outputs": [],
   "source": [
    "#model %>% compile(\n",
    "#  loss = f1_loss,\n",
    "#  optimizer = optimizer_adam(learning_rate = 0.01),\n",
    "#  metrics = c(f1)\n",
    "#)"
   ]
  },
  {
   "cell_type": "code",
   "execution_count": 78,
   "id": "506fb052-5dff-4820-ba35-c41d5edaa1ae",
   "metadata": {},
   "outputs": [
    {
     "data": {
      "text/html": [
       "'**************----------**************'"
      ],
      "text/latex": [
       "'**************----------**************'"
      ],
      "text/markdown": [
       "'**************----------**************'"
      ],
      "text/plain": [
       "[1] \"**************----------**************\""
      ]
     },
     "metadata": {},
     "output_type": "display_data"
    },
    {
     "data": {
      "text/html": [
       "'Fold 1 F1 : 0.54'"
      ],
      "text/latex": [
       "'Fold 1 F1 : 0.54'"
      ],
      "text/markdown": [
       "'Fold 1 F1 : 0.54'"
      ],
      "text/plain": [
       "[1] \"Fold 1 F1 : 0.54\""
      ]
     },
     "metadata": {},
     "output_type": "display_data"
    },
    {
     "data": {
      "text/html": [
       "'**************----------**************'"
      ],
      "text/latex": [
       "'**************----------**************'"
      ],
      "text/markdown": [
       "'**************----------**************'"
      ],
      "text/plain": [
       "[1] \"**************----------**************\""
      ]
     },
     "metadata": {},
     "output_type": "display_data"
    },
    {
     "data": {
      "text/html": [
       "'Fold 2 F1 : 0.54'"
      ],
      "text/latex": [
       "'Fold 2 F1 : 0.54'"
      ],
      "text/markdown": [
       "'Fold 2 F1 : 0.54'"
      ],
      "text/plain": [
       "[1] \"Fold 2 F1 : 0.54\""
      ]
     },
     "metadata": {},
     "output_type": "display_data"
    },
    {
     "data": {
      "text/html": [
       "'**************----------**************'"
      ],
      "text/latex": [
       "'**************----------**************'"
      ],
      "text/markdown": [
       "'**************----------**************'"
      ],
      "text/plain": [
       "[1] \"**************----------**************\""
      ]
     },
     "metadata": {},
     "output_type": "display_data"
    },
    {
     "data": {
      "text/html": [
       "'Fold 3 F1 : 0.41'"
      ],
      "text/latex": [
       "'Fold 3 F1 : 0.41'"
      ],
      "text/markdown": [
       "'Fold 3 F1 : 0.41'"
      ],
      "text/plain": [
       "[1] \"Fold 3 F1 : 0.41\""
      ]
     },
     "metadata": {},
     "output_type": "display_data"
    },
    {
     "data": {
      "text/html": [
       "'**************----------**************'"
      ],
      "text/latex": [
       "'**************----------**************'"
      ],
      "text/markdown": [
       "'**************----------**************'"
      ],
      "text/plain": [
       "[1] \"**************----------**************\""
      ]
     },
     "metadata": {},
     "output_type": "display_data"
    },
    {
     "data": {
      "text/html": [
       "'Fold 4 F1 : 0.58'"
      ],
      "text/latex": [
       "'Fold 4 F1 : 0.58'"
      ],
      "text/markdown": [
       "'Fold 4 F1 : 0.58'"
      ],
      "text/plain": [
       "[1] \"Fold 4 F1 : 0.58\""
      ]
     },
     "metadata": {},
     "output_type": "display_data"
    },
    {
     "data": {
      "text/html": [
       "'**************----------**************'"
      ],
      "text/latex": [
       "'**************----------**************'"
      ],
      "text/markdown": [
       "'**************----------**************'"
      ],
      "text/plain": [
       "[1] \"**************----------**************\""
      ]
     },
     "metadata": {},
     "output_type": "display_data"
    },
    {
     "data": {
      "text/html": [
       "'Fold 5 F1 : 0.64'"
      ],
      "text/latex": [
       "'Fold 5 F1 : 0.64'"
      ],
      "text/markdown": [
       "'Fold 5 F1 : 0.64'"
      ],
      "text/plain": [
       "[1] \"Fold 5 F1 : 0.64\""
      ]
     },
     "metadata": {},
     "output_type": "display_data"
    },
    {
     "data": {
      "text/html": [
       "'**************----------**************'"
      ],
      "text/latex": [
       "'**************----------**************'"
      ],
      "text/markdown": [
       "'**************----------**************'"
      ],
      "text/plain": [
       "[1] \"**************----------**************\""
      ]
     },
     "metadata": {},
     "output_type": "display_data"
    },
    {
     "data": {
      "text/html": [
       "'CV Mean F1 : 0.540525240663052'"
      ],
      "text/latex": [
       "'CV Mean F1 : 0.540525240663052'"
      ],
      "text/markdown": [
       "'CV Mean F1 : 0.540525240663052'"
      ],
      "text/plain": [
       "[1] \"CV Mean F1 : 0.540525240663052\""
      ]
     },
     "metadata": {},
     "output_type": "display_data"
    }
   ],
   "source": [
    "pls <- list()\n",
    "\n",
    "for(i in folds){\n",
    "    train_indices <- setdiff(folds,i)\n",
    "    test_indices <- i\n",
    "    \n",
    "    train_set <- iris2[unlist(folds_[train_indices]),]\n",
    "    test_set <- iris2[unlist(folds_[test_indices]),]\n",
    "    \n",
    "    tarif <- recipe(default ~ .,data = train_set) %>% \n",
    "    step_normalize(all_numeric_predictors()) %>%\n",
    "    #step_encode_mean(all_nominal_predictors(),outcome = 'default') %>%\n",
    "    step_dummy(all_nominal_predictors()) %>%\n",
    "    prep\n",
    "    \n",
    "    target_data <- bake(tarif,iris3)\n",
    "    \n",
    "    train_set <- bake(tarif,train_set)\n",
    "    test_set <- bake(tarif,test_set)\n",
    "    \n",
    "    train_y <- train_set[,label] %>% as.matrix %>% to_categorical\n",
    "    test_y <- test_set[,label]%>% as.matrix %>% to_categorical\n",
    "    test_y2 <- test_set[,label]%>% as.matrix\n",
    "    \n",
    "    train_x <- train_set[, -which(names(train_set) == label)]%>% as.matrix\n",
    "    test_x <- test_set[, -which(names(test_set) == label)]%>% as.matrix\n",
    "    \n",
    "    target_data <- target_data[, -which(names(train_set) == label)]%>% as.matrix\n",
    "    \n",
    "    tf$random$set_seed(seed = seed)\n",
    "\n",
    "    reticulate::py_set_seed(seed = seed)\n",
    "\n",
    "    model <- keras_model_sequential()\n",
    "    \n",
    "    randy <- sample(1:1000,size = 8)\n",
    "\n",
    "    unites <- (numofneuron*(randy/sum(randy)) )%>% ceiling\n",
    "\n",
    "    model %>%\n",
    "    layer_dense(units = layer_disto[1], activation = 'relu', input_shape = c(3)) %>%\n",
    "    layer_dense(units = layer_disto[2], activation = 'relu') %>%\n",
    "    layer_dense(units = layer_disto[3], activation = 'relu') %>%\n",
    "    layer_dense(units = layer_disto[4], activation = 'relu') %>%\n",
    "    layer_dense(units = layer_disto[5], activation = 'relu') %>%\n",
    "    layer_dense(units = layer_disto[6], activation = 'relu') %>%\n",
    "    layer_dense(units = layer_disto[7], activation = 'relu') %>%\n",
    "    layer_dense(units = layer_disto[8], activation = 'relu') %>%\n",
    "    layer_dense(units = 2,activation = 'softmax')\n",
    "    \n",
    "    model %>% compile(\n",
    "      loss = f1_loss,\n",
    "      optimizer =optimizer_rmsprop(learning_rate = 0.0001),\n",
    "      metrics = c(f1)\n",
    "    )\n",
    "    \n",
    "    wgh <- sqrt(sum(test_y)/sum(test_y == 0))\n",
    "    \n",
    "    history <- model %>% fit(\n",
    "      train_x, train_y, \n",
    "      epochs = 1500, batch_size = 128, \n",
    "      validation_data = list(test_x,test_y),\n",
    "      callbacks = list(callback_early_stopping(\n",
    "                        monitor = \"val_loss\",\n",
    "                        patience = 10,\n",
    "                        verbose = 1,\n",
    "                        mode = \"auto\",\n",
    "                        restore_best_weights = TRUE\n",
    "                        )\n",
    "    ),\n",
    "    class_weight = list('0' = wgh,'1' = 1)\n",
    "    )\n",
    "\n",
    "    preds <- model %>% predict(test_x)  %>% \n",
    "                        as.data.frame %>%\n",
    "                        mutate('class'=names(.)[apply(., 1, which.max)]) %>%\n",
    "                        mutate(class = case_when(class == 'V1' ~ 0,\n",
    "                                                 class == 'V2' ~ 1)) %>%\n",
    "                        select(class) %>%\n",
    "                        pull\n",
    "    \n",
    "    error <- yardstick::f_meas_vec(truth = as.factor(test_y2),estimate = factor(preds,levels = 0:1),event_level = \"second\")\n",
    "    \n",
    "    preds_target <- model %>% predict(target_data)  %>% \n",
    "                        as.data.frame %>%\n",
    "                        mutate('class'=names(.)[apply(., 1, which.max)]) %>%\n",
    "                        mutate(class = case_when(class == 'V1' ~ 0,\n",
    "                                                 class == 'V2' ~ 1)) %>%\n",
    "                        select(class) %>%\n",
    "                        pull\n",
    "    \n",
    "    IRdisplay::display('**************----------**************')\n",
    "    IRdisplay::display(sprintf('Fold %s F1 : %s',i,round(error,2)))\n",
    "    errors[i] <- error\n",
    "    \n",
    "    pls[[i]] <- history %>% plot\n",
    "    \n",
    "    predictions[[i]] <- preds_target\n",
    "}\n",
    "IRdisplay::display('**************----------**************')\n",
    "IRdisplay::display(sprintf('CV Mean F1 : %s',mean(errors,na.rm = T)))\n",
    "\n",
    "dson <- bake(tarif,iris2)\n",
    "\n",
    "strain_y <- dson[,label] %>% as.matrix %>% to_categorical\n",
    "\n",
    "strain_x <- dson[, -which(names(dson) == label)]%>% as.matrix\n",
    "    \n",
    "\n",
    "historyson <-  model %>% fit(\n",
    "      strain_x, strain_y, \n",
    "      epochs = 100, batch_size = 128, \n",
    "      validation_data = list(test_x,test_y),\n",
    "      callbacks = list(callback_early_stopping(\n",
    "                        monitor = \"val_loss\",\n",
    "                        patience = 100,\n",
    "                        verbose = 1,\n",
    "                        mode = \"auto\",\n",
    "                        restore_best_weights = TRUE\n",
    "                        )\n",
    "    ),\n",
    "    class_weight = list('0' = wgh,'1' = 1)\n",
    "    )"
   ]
  },
  {
   "cell_type": "code",
   "execution_count": 79,
   "id": "1380d3c1-4977-4d94-b7d8-e37d22a761b6",
   "metadata": {},
   "outputs": [],
   "source": [
    "#historyson %>% plot"
   ]
  },
  {
   "cell_type": "code",
   "execution_count": 80,
   "id": "162c7604-7fce-4d67-8135-b96f6f7d132a",
   "metadata": {},
   "outputs": [],
   "source": [
    "#pls %>% lapply(function(x) x + xlim(0,150))"
   ]
  },
  {
   "cell_type": "code",
   "execution_count": 81,
   "id": "28fca2bd-6c06-49c0-a4ef-8a979fbf52f2",
   "metadata": {},
   "outputs": [],
   "source": [
    "#dsson <- bake(tarif,iris3)\n",
    "\n",
    "#sstrain_y <- dsson[,label] %>% as.matrix %>% to_categorical\n",
    "\n",
    "#sstrain_x <- dsson[, -which(names(dsson) == label)]%>% as.matrix\n",
    "\n",
    "#sstrain_y2 <- dsson[,label] %>% as.matrix "
   ]
  },
  {
   "cell_type": "code",
   "execution_count": 82,
   "id": "29d758a2-96ec-400a-8fc0-bdfba9604365",
   "metadata": {},
   "outputs": [],
   "source": [
    "#prds <- predict(model,sstrain_x) %>% apply(1,which.max) - 1"
   ]
  },
  {
   "cell_type": "code",
   "execution_count": 83,
   "id": "bfd71f2f-664f-430a-8765-8c8d5db024d5",
   "metadata": {},
   "outputs": [],
   "source": [
    "#sstrain_y2 %>%\n",
    "#as.data.frame %>% \n",
    "#bind_cols(a = prds) %>%\n",
    "#mutate_all(as.factor) %>%\n",
    "#f_meas(truth = default,estimate = a,event_level = \"second\")"
   ]
  },
  {
   "cell_type": "code",
   "execution_count": 84,
   "id": "8a326068-834c-44d2-b82d-125622cfb68d",
   "metadata": {},
   "outputs": [],
   "source": [
    "all <- as.data.frame(predictions) %>% mutate_if(is.factor,function(x) as.numeric(as.character(x)))"
   ]
  },
  {
   "cell_type": "code",
   "execution_count": 85,
   "id": "ef68d763-06c4-4eb6-b164-010130f48e51",
   "metadata": {},
   "outputs": [],
   "source": [
    "kk <- rowMeans(all) \n",
    "kk <- ifelse(kk >= 0.5,1,0)"
   ]
  },
  {
   "cell_type": "code",
   "execution_count": 86,
   "id": "4bece2c3-fa37-4bb7-880d-d72affe54a35",
   "metadata": {},
   "outputs": [],
   "source": [
    "kl <- iris3[,label]"
   ]
  },
  {
   "cell_type": "code",
   "execution_count": 87,
   "id": "9dd9bf8a-fa69-4fee-a7cc-cafb3a166e9f",
   "metadata": {},
   "outputs": [],
   "source": [
    "keras_preds <- kk"
   ]
  },
  {
   "cell_type": "code",
   "execution_count": 88,
   "id": "66f52298-6912-4ad0-9b19-67bb67c87c50",
   "metadata": {},
   "outputs": [
    {
     "data": {
      "text/html": [
       "0.482051282051282"
      ],
      "text/latex": [
       "0.482051282051282"
      ],
      "text/markdown": [
       "0.482051282051282"
      ],
      "text/plain": [
       "[1] 0.4820513"
      ]
     },
     "metadata": {},
     "output_type": "display_data"
    }
   ],
   "source": [
    "yardstick::f_meas_vec(truth = as.factor(kl),estimate = factor(kk,levels = 0:1),event_level = \"second\")"
   ]
  },
  {
   "cell_type": "code",
   "execution_count": 89,
   "id": "d5d913bb-17af-4afc-92dd-727b2bf8890f",
   "metadata": {},
   "outputs": [
    {
     "data": {
      "text/html": [
       "'**************----------**************'"
      ],
      "text/latex": [
       "'**************----------**************'"
      ],
      "text/markdown": [
       "'**************----------**************'"
      ],
      "text/plain": [
       "[1] \"**************----------**************\""
      ]
     },
     "metadata": {},
     "output_type": "display_data"
    },
    {
     "data": {
      "text/html": [
       "'Fold 1 F1 : 0.51'"
      ],
      "text/latex": [
       "'Fold 1 F1 : 0.51'"
      ],
      "text/markdown": [
       "'Fold 1 F1 : 0.51'"
      ],
      "text/plain": [
       "[1] \"Fold 1 F1 : 0.51\""
      ]
     },
     "metadata": {},
     "output_type": "display_data"
    },
    {
     "data": {
      "text/html": [
       "'**************----------**************'"
      ],
      "text/latex": [
       "'**************----------**************'"
      ],
      "text/markdown": [
       "'**************----------**************'"
      ],
      "text/plain": [
       "[1] \"**************----------**************\""
      ]
     },
     "metadata": {},
     "output_type": "display_data"
    },
    {
     "data": {
      "text/html": [
       "'Fold 2 F1 : 0.52'"
      ],
      "text/latex": [
       "'Fold 2 F1 : 0.52'"
      ],
      "text/markdown": [
       "'Fold 2 F1 : 0.52'"
      ],
      "text/plain": [
       "[1] \"Fold 2 F1 : 0.52\""
      ]
     },
     "metadata": {},
     "output_type": "display_data"
    },
    {
     "data": {
      "text/html": [
       "'**************----------**************'"
      ],
      "text/latex": [
       "'**************----------**************'"
      ],
      "text/markdown": [
       "'**************----------**************'"
      ],
      "text/plain": [
       "[1] \"**************----------**************\""
      ]
     },
     "metadata": {},
     "output_type": "display_data"
    },
    {
     "data": {
      "text/html": [
       "'Fold 3 F1 : 0.41'"
      ],
      "text/latex": [
       "'Fold 3 F1 : 0.41'"
      ],
      "text/markdown": [
       "'Fold 3 F1 : 0.41'"
      ],
      "text/plain": [
       "[1] \"Fold 3 F1 : 0.41\""
      ]
     },
     "metadata": {},
     "output_type": "display_data"
    },
    {
     "data": {
      "text/html": [
       "'**************----------**************'"
      ],
      "text/latex": [
       "'**************----------**************'"
      ],
      "text/markdown": [
       "'**************----------**************'"
      ],
      "text/plain": [
       "[1] \"**************----------**************\""
      ]
     },
     "metadata": {},
     "output_type": "display_data"
    },
    {
     "data": {
      "text/html": [
       "'Fold 4 F1 : 0.58'"
      ],
      "text/latex": [
       "'Fold 4 F1 : 0.58'"
      ],
      "text/markdown": [
       "'Fold 4 F1 : 0.58'"
      ],
      "text/plain": [
       "[1] \"Fold 4 F1 : 0.58\""
      ]
     },
     "metadata": {},
     "output_type": "display_data"
    },
    {
     "data": {
      "text/html": [
       "'**************----------**************'"
      ],
      "text/latex": [
       "'**************----------**************'"
      ],
      "text/markdown": [
       "'**************----------**************'"
      ],
      "text/plain": [
       "[1] \"**************----------**************\""
      ]
     },
     "metadata": {},
     "output_type": "display_data"
    },
    {
     "data": {
      "text/html": [
       "'Fold 5 F1 : 0.62'"
      ],
      "text/latex": [
       "'Fold 5 F1 : 0.62'"
      ],
      "text/markdown": [
       "'Fold 5 F1 : 0.62'"
      ],
      "text/plain": [
       "[1] \"Fold 5 F1 : 0.62\""
      ]
     },
     "metadata": {},
     "output_type": "display_data"
    },
    {
     "data": {
      "text/html": [
       "'**************----------**************'"
      ],
      "text/latex": [
       "'**************----------**************'"
      ],
      "text/markdown": [
       "'**************----------**************'"
      ],
      "text/plain": [
       "[1] \"**************----------**************\""
      ]
     },
     "metadata": {},
     "output_type": "display_data"
    },
    {
     "data": {
      "text/html": [
       "'CV Mean F1 : 0.529256025691767'"
      ],
      "text/latex": [
       "'CV Mean F1 : 0.529256025691767'"
      ],
      "text/markdown": [
       "'CV Mean F1 : 0.529256025691767'"
      ],
      "text/plain": [
       "[1] \"CV Mean F1 : 0.529256025691767\""
      ]
     },
     "metadata": {},
     "output_type": "display_data"
    }
   ],
   "source": [
    "set.seed(1)\n",
    "\n",
    "label <- 'default'\n",
    "\n",
    "iris1.5 <- ISLR::Default %>% mutate(default = case_when(default == 'No' ~ 0,\n",
    "                                             default == 'Yes' ~ 1))\n",
    "\n",
    "iris1.5 <- iris1.5 %>% mutate(default = factor(default,levels = 0:1))\n",
    "\n",
    "willsee <- caret::createDataPartition(iris1.5[[label]],p = .7,list = TRUE) %>% unlist\n",
    "\n",
    "iris2 <- iris1.5[willsee,]\n",
    "\n",
    "iris3 <- iris1.5[-willsee,]\n",
    "\n",
    "folds_ <- caret::createFolds(iris2[[label]],k = 5)\n",
    "\n",
    "folds <- 1:length(folds_)\n",
    "\n",
    "errors <- c()\n",
    "\n",
    "predictions <- list()\n",
    "\n",
    "#iris2 <- iris2 %>% mutate(default = as.integer(as.character(default)))\n",
    "#iris3 <- iris3 %>% mutate(default = as.integer(as.character(default)))\n",
    "\n",
    "for(i in folds){\n",
    "    train_indices <- setdiff(folds,i)\n",
    "    test_indices <- i\n",
    "    \n",
    "    train_set <- iris2[unlist(folds_[train_indices]),]\n",
    "    test_set <- iris2[unlist(folds_[test_indices]),]\n",
    "    \n",
    "    tarif2 <- recipe(default ~ .,data = train_set)\n",
    "    \n",
    "    target_data <- bake(tarif,iris3)\n",
    "    \n",
    "    train_set <- bake(tarif %>% prep,train_set)\n",
    "    test_set <- bake(tarif%>% prep,test_set)\n",
    "    \n",
    "    train_y <- train_set[,label]\n",
    "    test_y <- test_set[,label]\n",
    "    test_y2 <- test_set[,label]%>% as.matrix\n",
    "    \n",
    "    train_x <- train_set[, -which(names(train_set) == label)]\n",
    "    test_x <- test_set[, -which(names(test_set) == label)]\n",
    "    \n",
    "    target_data <- target_data[, -which(names(train_set) == label)]\n",
    "    \n",
    "    modspec <- boost_tree(learn_rate = 0.01) %>%\n",
    "    set_mode('classification')%>%\n",
    "    set_engine('catboost',auto_class_weights = 'SqrtBalanced',\n",
    "               eval_metric = 'F1:use_weights=False',\n",
    "               custom_loss = 'F1:use_weights=False')\n",
    "    \n",
    "    \n",
    "    model <- modspec %>% fit_xy(x = train_x,y = train_y)\n",
    "    \n",
    "    preds <- model %>% predict(test_x) %>% pull\n",
    "    \n",
    "    error <- yardstick::f_meas_vec(truth = as.factor(test_y2),estimate = factor(preds,levels = 0:1),event_level = \"second\")\n",
    "    \n",
    "    preds_target <- model %>% predict(target_data) %>%pull\n",
    "    \n",
    "    IRdisplay::display('**************----------**************')\n",
    "    IRdisplay::display(sprintf('Fold %s F1 : %s',i,round(error,2)))\n",
    "    errors[i] <- error\n",
    "    \n",
    "    predictions[[i]] <- preds_target\n",
    "}\n",
    "IRdisplay::display('**************----------**************')\n",
    "IRdisplay::display(sprintf('CV Mean F1 : %s',mean(errors)))"
   ]
  },
  {
   "cell_type": "code",
   "execution_count": 90,
   "id": "13cba3ce-fb36-4a84-bae1-445482092926",
   "metadata": {},
   "outputs": [],
   "source": [
    "all <- as.data.frame(predictions) %>% mutate_if(is.factor,function(x) as.numeric(as.character(x)))"
   ]
  },
  {
   "cell_type": "code",
   "execution_count": 91,
   "id": "0a19a19c-45dd-4d52-84fa-a170fc2fa029",
   "metadata": {},
   "outputs": [],
   "source": [
    "kk <- rowMeans(all) \n",
    "kk <- ifelse(kk >= 0.5,1,0)"
   ]
  },
  {
   "cell_type": "code",
   "execution_count": 92,
   "id": "dc65fccd-a95c-4f8e-ab17-764c92039064",
   "metadata": {},
   "outputs": [],
   "source": [
    "kl <- iris3[,label]"
   ]
  },
  {
   "cell_type": "code",
   "execution_count": 93,
   "id": "7c958abd-aba2-4bc8-a464-9ed0851a650a",
   "metadata": {},
   "outputs": [],
   "source": [
    "catboost_preds <- kk"
   ]
  },
  {
   "cell_type": "code",
   "execution_count": 94,
   "id": "137d1950-2575-42fe-9df9-38b67e5d24a1",
   "metadata": {},
   "outputs": [
    {
     "data": {
      "text/html": [
       "0.488038277511962"
      ],
      "text/latex": [
       "0.488038277511962"
      ],
      "text/markdown": [
       "0.488038277511962"
      ],
      "text/plain": [
       "[1] 0.4880383"
      ]
     },
     "metadata": {},
     "output_type": "display_data"
    }
   ],
   "source": [
    "yardstick::f_meas_vec(truth = as.factor(kl),estimate = factor(kk,levels = 0:1),event_level = \"second\")"
   ]
  },
  {
   "cell_type": "code",
   "execution_count": null,
   "id": "7d53164a-37d7-4a45-b074-3403a15c5dbb",
   "metadata": {},
   "outputs": [],
   "source": []
  },
  {
   "cell_type": "code",
   "execution_count": 36,
   "id": "f15be252-96f9-4360-8767-ce06c792ffb9",
   "metadata": {},
   "outputs": [],
   "source": [
    "library(targencoding)"
   ]
  },
  {
   "cell_type": "code",
   "execution_count": 55,
   "id": "56f28126-9cf6-43e1-9f72-a7970d0b4114",
   "metadata": {},
   "outputs": [],
   "source": [
    "tarif <- recipe(default ~ . ,ISLR::Default %>% mutate(default = case_when(default == 'Yes' ~ 1, default == 'No' ~ 0))) %>%\n",
    "step_encode_mean(all_nominal_predictors(),outcome = 'default') %>%prep"
   ]
  },
  {
   "cell_type": "code",
   "execution_count": 56,
   "id": "f50db3c6-a602-4c2c-a0ee-fd7054317d4d",
   "metadata": {},
   "outputs": [
    {
     "data": {
      "text/html": [
       "<table class=\"dataframe\">\n",
       "<caption>A tibble: 10000 × 4</caption>\n",
       "<thead>\n",
       "\t<tr><th scope=col>student</th><th scope=col>balance</th><th scope=col>income</th><th scope=col>default</th></tr>\n",
       "\t<tr><th scope=col>&lt;dbl&gt;</th><th scope=col>&lt;dbl&gt;</th><th scope=col>&lt;dbl&gt;</th><th scope=col>&lt;dbl&gt;</th></tr>\n",
       "</thead>\n",
       "<tbody>\n",
       "\t<tr><td>0.02919501</td><td> 729.5265</td><td>44361.625</td><td>0</td></tr>\n",
       "\t<tr><td>0.04313859</td><td> 817.1804</td><td>12106.135</td><td>0</td></tr>\n",
       "\t<tr><td>0.02919501</td><td>1073.5492</td><td>31767.139</td><td>0</td></tr>\n",
       "\t<tr><td>0.02919501</td><td> 529.2506</td><td>35704.494</td><td>0</td></tr>\n",
       "\t<tr><td>0.02919501</td><td> 785.6559</td><td>38463.496</td><td>0</td></tr>\n",
       "\t<tr><td>0.04313859</td><td> 919.5885</td><td> 7491.559</td><td>0</td></tr>\n",
       "\t<tr><td>0.02919501</td><td> 825.5133</td><td>24905.227</td><td>0</td></tr>\n",
       "\t<tr><td>0.04313859</td><td> 808.6675</td><td>17600.451</td><td>0</td></tr>\n",
       "\t<tr><td>0.02919501</td><td>1161.0579</td><td>37468.529</td><td>0</td></tr>\n",
       "\t<tr><td>0.02919501</td><td>   0.0000</td><td>29275.268</td><td>0</td></tr>\n",
       "\t<tr><td>0.04313859</td><td>   0.0000</td><td>21871.073</td><td>0</td></tr>\n",
       "\t<tr><td>0.04313859</td><td>1220.5838</td><td>13268.562</td><td>0</td></tr>\n",
       "\t<tr><td>0.02919501</td><td> 237.0451</td><td>28251.695</td><td>0</td></tr>\n",
       "\t<tr><td>0.02919501</td><td> 606.7423</td><td>44994.556</td><td>0</td></tr>\n",
       "\t<tr><td>0.02919501</td><td>1112.9684</td><td>23810.174</td><td>0</td></tr>\n",
       "\t<tr><td>0.02919501</td><td> 286.2326</td><td>45042.413</td><td>0</td></tr>\n",
       "\t<tr><td>0.02919501</td><td>   0.0000</td><td>50265.312</td><td>0</td></tr>\n",
       "\t<tr><td>0.04313859</td><td> 527.5402</td><td>17636.540</td><td>0</td></tr>\n",
       "\t<tr><td>0.02919501</td><td> 485.9369</td><td>61566.106</td><td>0</td></tr>\n",
       "\t<tr><td>0.02919501</td><td>1095.0727</td><td>26464.631</td><td>0</td></tr>\n",
       "\t<tr><td>0.02919501</td><td> 228.9525</td><td>50500.182</td><td>0</td></tr>\n",
       "\t<tr><td>0.02919501</td><td> 954.2618</td><td>32457.509</td><td>0</td></tr>\n",
       "\t<tr><td>0.02919501</td><td>1055.9566</td><td>51317.883</td><td>0</td></tr>\n",
       "\t<tr><td>0.02919501</td><td> 641.9844</td><td>30466.103</td><td>0</td></tr>\n",
       "\t<tr><td>0.02919501</td><td> 773.2117</td><td>34353.314</td><td>0</td></tr>\n",
       "\t<tr><td>0.02919501</td><td> 855.0085</td><td>25211.332</td><td>0</td></tr>\n",
       "\t<tr><td>0.02919501</td><td> 642.9997</td><td>41473.512</td><td>0</td></tr>\n",
       "\t<tr><td>0.02919501</td><td>1454.8633</td><td>32189.095</td><td>0</td></tr>\n",
       "\t<tr><td>0.02919501</td><td> 615.7043</td><td>39376.395</td><td>0</td></tr>\n",
       "\t<tr><td>0.04313859</td><td>1119.5694</td><td>16556.070</td><td>0</td></tr>\n",
       "\t<tr><td>⋮</td><td>⋮</td><td>⋮</td><td>⋮</td></tr>\n",
       "\t<tr><td>0.04313859</td><td>1294.5004</td><td>25687.33</td><td>0</td></tr>\n",
       "\t<tr><td>0.04313859</td><td> 180.6201</td><td>20975.56</td><td>0</td></tr>\n",
       "\t<tr><td>0.02919501</td><td> 755.4328</td><td>14455.87</td><td>0</td></tr>\n",
       "\t<tr><td>0.02919501</td><td> 876.1190</td><td>37668.37</td><td>0</td></tr>\n",
       "\t<tr><td>0.04313859</td><td> 933.3320</td><td>26051.40</td><td>0</td></tr>\n",
       "\t<tr><td>0.02919501</td><td> 908.3159</td><td>21287.94</td><td>0</td></tr>\n",
       "\t<tr><td>0.02919501</td><td> 218.4176</td><td>25401.13</td><td>0</td></tr>\n",
       "\t<tr><td>0.04313859</td><td> 915.4398</td><td>16624.34</td><td>0</td></tr>\n",
       "\t<tr><td>0.02919501</td><td>2202.4624</td><td>47287.26</td><td>1</td></tr>\n",
       "\t<tr><td>0.02919501</td><td> 173.2492</td><td>30697.25</td><td>0</td></tr>\n",
       "\t<tr><td>0.04313859</td><td> 770.0157</td><td>13684.79</td><td>0</td></tr>\n",
       "\t<tr><td>0.02919501</td><td> 739.4180</td><td>40656.95</td><td>0</td></tr>\n",
       "\t<tr><td>0.02919501</td><td> 623.5261</td><td>59441.31</td><td>0</td></tr>\n",
       "\t<tr><td>0.02919501</td><td> 506.6255</td><td>49861.00</td><td>0</td></tr>\n",
       "\t<tr><td>0.02919501</td><td> 875.2416</td><td>52861.74</td><td>0</td></tr>\n",
       "\t<tr><td>0.02919501</td><td> 842.9494</td><td>39957.13</td><td>0</td></tr>\n",
       "\t<tr><td>0.04313859</td><td> 401.3327</td><td>15332.02</td><td>0</td></tr>\n",
       "\t<tr><td>0.02919501</td><td>1092.9066</td><td>45479.47</td><td>0</td></tr>\n",
       "\t<tr><td>0.02919501</td><td>   0.0000</td><td>41740.69</td><td>0</td></tr>\n",
       "\t<tr><td>0.04313859</td><td> 999.2811</td><td>20013.35</td><td>0</td></tr>\n",
       "\t<tr><td>0.02919501</td><td> 372.3792</td><td>25374.90</td><td>0</td></tr>\n",
       "\t<tr><td>0.02919501</td><td> 658.7996</td><td>54802.08</td><td>0</td></tr>\n",
       "\t<tr><td>0.02919501</td><td>1111.6473</td><td>45490.68</td><td>0</td></tr>\n",
       "\t<tr><td>0.02919501</td><td> 938.8362</td><td>56633.45</td><td>0</td></tr>\n",
       "\t<tr><td>0.04313859</td><td> 172.4130</td><td>14955.94</td><td>0</td></tr>\n",
       "\t<tr><td>0.02919501</td><td> 711.5550</td><td>52992.38</td><td>0</td></tr>\n",
       "\t<tr><td>0.02919501</td><td> 757.9629</td><td>19660.72</td><td>0</td></tr>\n",
       "\t<tr><td>0.02919501</td><td> 845.4120</td><td>58636.16</td><td>0</td></tr>\n",
       "\t<tr><td>0.02919501</td><td>1569.0091</td><td>36669.11</td><td>0</td></tr>\n",
       "\t<tr><td>0.04313859</td><td> 200.9222</td><td>16862.95</td><td>0</td></tr>\n",
       "</tbody>\n",
       "</table>\n"
      ],
      "text/latex": [
       "A tibble: 10000 × 4\n",
       "\\begin{tabular}{llll}\n",
       " student & balance & income & default\\\\\n",
       " <dbl> & <dbl> & <dbl> & <dbl>\\\\\n",
       "\\hline\n",
       "\t 0.02919501 &  729.5265 & 44361.625 & 0\\\\\n",
       "\t 0.04313859 &  817.1804 & 12106.135 & 0\\\\\n",
       "\t 0.02919501 & 1073.5492 & 31767.139 & 0\\\\\n",
       "\t 0.02919501 &  529.2506 & 35704.494 & 0\\\\\n",
       "\t 0.02919501 &  785.6559 & 38463.496 & 0\\\\\n",
       "\t 0.04313859 &  919.5885 &  7491.559 & 0\\\\\n",
       "\t 0.02919501 &  825.5133 & 24905.227 & 0\\\\\n",
       "\t 0.04313859 &  808.6675 & 17600.451 & 0\\\\\n",
       "\t 0.02919501 & 1161.0579 & 37468.529 & 0\\\\\n",
       "\t 0.02919501 &    0.0000 & 29275.268 & 0\\\\\n",
       "\t 0.04313859 &    0.0000 & 21871.073 & 0\\\\\n",
       "\t 0.04313859 & 1220.5838 & 13268.562 & 0\\\\\n",
       "\t 0.02919501 &  237.0451 & 28251.695 & 0\\\\\n",
       "\t 0.02919501 &  606.7423 & 44994.556 & 0\\\\\n",
       "\t 0.02919501 & 1112.9684 & 23810.174 & 0\\\\\n",
       "\t 0.02919501 &  286.2326 & 45042.413 & 0\\\\\n",
       "\t 0.02919501 &    0.0000 & 50265.312 & 0\\\\\n",
       "\t 0.04313859 &  527.5402 & 17636.540 & 0\\\\\n",
       "\t 0.02919501 &  485.9369 & 61566.106 & 0\\\\\n",
       "\t 0.02919501 & 1095.0727 & 26464.631 & 0\\\\\n",
       "\t 0.02919501 &  228.9525 & 50500.182 & 0\\\\\n",
       "\t 0.02919501 &  954.2618 & 32457.509 & 0\\\\\n",
       "\t 0.02919501 & 1055.9566 & 51317.883 & 0\\\\\n",
       "\t 0.02919501 &  641.9844 & 30466.103 & 0\\\\\n",
       "\t 0.02919501 &  773.2117 & 34353.314 & 0\\\\\n",
       "\t 0.02919501 &  855.0085 & 25211.332 & 0\\\\\n",
       "\t 0.02919501 &  642.9997 & 41473.512 & 0\\\\\n",
       "\t 0.02919501 & 1454.8633 & 32189.095 & 0\\\\\n",
       "\t 0.02919501 &  615.7043 & 39376.395 & 0\\\\\n",
       "\t 0.04313859 & 1119.5694 & 16556.070 & 0\\\\\n",
       "\t ⋮ & ⋮ & ⋮ & ⋮\\\\\n",
       "\t 0.04313859 & 1294.5004 & 25687.33 & 0\\\\\n",
       "\t 0.04313859 &  180.6201 & 20975.56 & 0\\\\\n",
       "\t 0.02919501 &  755.4328 & 14455.87 & 0\\\\\n",
       "\t 0.02919501 &  876.1190 & 37668.37 & 0\\\\\n",
       "\t 0.04313859 &  933.3320 & 26051.40 & 0\\\\\n",
       "\t 0.02919501 &  908.3159 & 21287.94 & 0\\\\\n",
       "\t 0.02919501 &  218.4176 & 25401.13 & 0\\\\\n",
       "\t 0.04313859 &  915.4398 & 16624.34 & 0\\\\\n",
       "\t 0.02919501 & 2202.4624 & 47287.26 & 1\\\\\n",
       "\t 0.02919501 &  173.2492 & 30697.25 & 0\\\\\n",
       "\t 0.04313859 &  770.0157 & 13684.79 & 0\\\\\n",
       "\t 0.02919501 &  739.4180 & 40656.95 & 0\\\\\n",
       "\t 0.02919501 &  623.5261 & 59441.31 & 0\\\\\n",
       "\t 0.02919501 &  506.6255 & 49861.00 & 0\\\\\n",
       "\t 0.02919501 &  875.2416 & 52861.74 & 0\\\\\n",
       "\t 0.02919501 &  842.9494 & 39957.13 & 0\\\\\n",
       "\t 0.04313859 &  401.3327 & 15332.02 & 0\\\\\n",
       "\t 0.02919501 & 1092.9066 & 45479.47 & 0\\\\\n",
       "\t 0.02919501 &    0.0000 & 41740.69 & 0\\\\\n",
       "\t 0.04313859 &  999.2811 & 20013.35 & 0\\\\\n",
       "\t 0.02919501 &  372.3792 & 25374.90 & 0\\\\\n",
       "\t 0.02919501 &  658.7996 & 54802.08 & 0\\\\\n",
       "\t 0.02919501 & 1111.6473 & 45490.68 & 0\\\\\n",
       "\t 0.02919501 &  938.8362 & 56633.45 & 0\\\\\n",
       "\t 0.04313859 &  172.4130 & 14955.94 & 0\\\\\n",
       "\t 0.02919501 &  711.5550 & 52992.38 & 0\\\\\n",
       "\t 0.02919501 &  757.9629 & 19660.72 & 0\\\\\n",
       "\t 0.02919501 &  845.4120 & 58636.16 & 0\\\\\n",
       "\t 0.02919501 & 1569.0091 & 36669.11 & 0\\\\\n",
       "\t 0.04313859 &  200.9222 & 16862.95 & 0\\\\\n",
       "\\end{tabular}\n"
      ],
      "text/markdown": [
       "\n",
       "A tibble: 10000 × 4\n",
       "\n",
       "| student &lt;dbl&gt; | balance &lt;dbl&gt; | income &lt;dbl&gt; | default &lt;dbl&gt; |\n",
       "|---|---|---|---|\n",
       "| 0.02919501 |  729.5265 | 44361.625 | 0 |\n",
       "| 0.04313859 |  817.1804 | 12106.135 | 0 |\n",
       "| 0.02919501 | 1073.5492 | 31767.139 | 0 |\n",
       "| 0.02919501 |  529.2506 | 35704.494 | 0 |\n",
       "| 0.02919501 |  785.6559 | 38463.496 | 0 |\n",
       "| 0.04313859 |  919.5885 |  7491.559 | 0 |\n",
       "| 0.02919501 |  825.5133 | 24905.227 | 0 |\n",
       "| 0.04313859 |  808.6675 | 17600.451 | 0 |\n",
       "| 0.02919501 | 1161.0579 | 37468.529 | 0 |\n",
       "| 0.02919501 |    0.0000 | 29275.268 | 0 |\n",
       "| 0.04313859 |    0.0000 | 21871.073 | 0 |\n",
       "| 0.04313859 | 1220.5838 | 13268.562 | 0 |\n",
       "| 0.02919501 |  237.0451 | 28251.695 | 0 |\n",
       "| 0.02919501 |  606.7423 | 44994.556 | 0 |\n",
       "| 0.02919501 | 1112.9684 | 23810.174 | 0 |\n",
       "| 0.02919501 |  286.2326 | 45042.413 | 0 |\n",
       "| 0.02919501 |    0.0000 | 50265.312 | 0 |\n",
       "| 0.04313859 |  527.5402 | 17636.540 | 0 |\n",
       "| 0.02919501 |  485.9369 | 61566.106 | 0 |\n",
       "| 0.02919501 | 1095.0727 | 26464.631 | 0 |\n",
       "| 0.02919501 |  228.9525 | 50500.182 | 0 |\n",
       "| 0.02919501 |  954.2618 | 32457.509 | 0 |\n",
       "| 0.02919501 | 1055.9566 | 51317.883 | 0 |\n",
       "| 0.02919501 |  641.9844 | 30466.103 | 0 |\n",
       "| 0.02919501 |  773.2117 | 34353.314 | 0 |\n",
       "| 0.02919501 |  855.0085 | 25211.332 | 0 |\n",
       "| 0.02919501 |  642.9997 | 41473.512 | 0 |\n",
       "| 0.02919501 | 1454.8633 | 32189.095 | 0 |\n",
       "| 0.02919501 |  615.7043 | 39376.395 | 0 |\n",
       "| 0.04313859 | 1119.5694 | 16556.070 | 0 |\n",
       "| ⋮ | ⋮ | ⋮ | ⋮ |\n",
       "| 0.04313859 | 1294.5004 | 25687.33 | 0 |\n",
       "| 0.04313859 |  180.6201 | 20975.56 | 0 |\n",
       "| 0.02919501 |  755.4328 | 14455.87 | 0 |\n",
       "| 0.02919501 |  876.1190 | 37668.37 | 0 |\n",
       "| 0.04313859 |  933.3320 | 26051.40 | 0 |\n",
       "| 0.02919501 |  908.3159 | 21287.94 | 0 |\n",
       "| 0.02919501 |  218.4176 | 25401.13 | 0 |\n",
       "| 0.04313859 |  915.4398 | 16624.34 | 0 |\n",
       "| 0.02919501 | 2202.4624 | 47287.26 | 1 |\n",
       "| 0.02919501 |  173.2492 | 30697.25 | 0 |\n",
       "| 0.04313859 |  770.0157 | 13684.79 | 0 |\n",
       "| 0.02919501 |  739.4180 | 40656.95 | 0 |\n",
       "| 0.02919501 |  623.5261 | 59441.31 | 0 |\n",
       "| 0.02919501 |  506.6255 | 49861.00 | 0 |\n",
       "| 0.02919501 |  875.2416 | 52861.74 | 0 |\n",
       "| 0.02919501 |  842.9494 | 39957.13 | 0 |\n",
       "| 0.04313859 |  401.3327 | 15332.02 | 0 |\n",
       "| 0.02919501 | 1092.9066 | 45479.47 | 0 |\n",
       "| 0.02919501 |    0.0000 | 41740.69 | 0 |\n",
       "| 0.04313859 |  999.2811 | 20013.35 | 0 |\n",
       "| 0.02919501 |  372.3792 | 25374.90 | 0 |\n",
       "| 0.02919501 |  658.7996 | 54802.08 | 0 |\n",
       "| 0.02919501 | 1111.6473 | 45490.68 | 0 |\n",
       "| 0.02919501 |  938.8362 | 56633.45 | 0 |\n",
       "| 0.04313859 |  172.4130 | 14955.94 | 0 |\n",
       "| 0.02919501 |  711.5550 | 52992.38 | 0 |\n",
       "| 0.02919501 |  757.9629 | 19660.72 | 0 |\n",
       "| 0.02919501 |  845.4120 | 58636.16 | 0 |\n",
       "| 0.02919501 | 1569.0091 | 36669.11 | 0 |\n",
       "| 0.04313859 |  200.9222 | 16862.95 | 0 |\n",
       "\n"
      ],
      "text/plain": [
       "      student    balance   income    default\n",
       "1     0.02919501  729.5265 44361.625 0      \n",
       "2     0.04313859  817.1804 12106.135 0      \n",
       "3     0.02919501 1073.5492 31767.139 0      \n",
       "4     0.02919501  529.2506 35704.494 0      \n",
       "5     0.02919501  785.6559 38463.496 0      \n",
       "6     0.04313859  919.5885  7491.559 0      \n",
       "7     0.02919501  825.5133 24905.227 0      \n",
       "8     0.04313859  808.6675 17600.451 0      \n",
       "9     0.02919501 1161.0579 37468.529 0      \n",
       "10    0.02919501    0.0000 29275.268 0      \n",
       "11    0.04313859    0.0000 21871.073 0      \n",
       "12    0.04313859 1220.5838 13268.562 0      \n",
       "13    0.02919501  237.0451 28251.695 0      \n",
       "14    0.02919501  606.7423 44994.556 0      \n",
       "15    0.02919501 1112.9684 23810.174 0      \n",
       "16    0.02919501  286.2326 45042.413 0      \n",
       "17    0.02919501    0.0000 50265.312 0      \n",
       "18    0.04313859  527.5402 17636.540 0      \n",
       "19    0.02919501  485.9369 61566.106 0      \n",
       "20    0.02919501 1095.0727 26464.631 0      \n",
       "21    0.02919501  228.9525 50500.182 0      \n",
       "22    0.02919501  954.2618 32457.509 0      \n",
       "23    0.02919501 1055.9566 51317.883 0      \n",
       "24    0.02919501  641.9844 30466.103 0      \n",
       "25    0.02919501  773.2117 34353.314 0      \n",
       "26    0.02919501  855.0085 25211.332 0      \n",
       "27    0.02919501  642.9997 41473.512 0      \n",
       "28    0.02919501 1454.8633 32189.095 0      \n",
       "29    0.02919501  615.7043 39376.395 0      \n",
       "30    0.04313859 1119.5694 16556.070 0      \n",
       "⋮     ⋮          ⋮         ⋮         ⋮      \n",
       "9971  0.04313859 1294.5004 25687.33  0      \n",
       "9972  0.04313859  180.6201 20975.56  0      \n",
       "9973  0.02919501  755.4328 14455.87  0      \n",
       "9974  0.02919501  876.1190 37668.37  0      \n",
       "9975  0.04313859  933.3320 26051.40  0      \n",
       "9976  0.02919501  908.3159 21287.94  0      \n",
       "9977  0.02919501  218.4176 25401.13  0      \n",
       "9978  0.04313859  915.4398 16624.34  0      \n",
       "9979  0.02919501 2202.4624 47287.26  1      \n",
       "9980  0.02919501  173.2492 30697.25  0      \n",
       "9981  0.04313859  770.0157 13684.79  0      \n",
       "9982  0.02919501  739.4180 40656.95  0      \n",
       "9983  0.02919501  623.5261 59441.31  0      \n",
       "9984  0.02919501  506.6255 49861.00  0      \n",
       "9985  0.02919501  875.2416 52861.74  0      \n",
       "9986  0.02919501  842.9494 39957.13  0      \n",
       "9987  0.04313859  401.3327 15332.02  0      \n",
       "9988  0.02919501 1092.9066 45479.47  0      \n",
       "9989  0.02919501    0.0000 41740.69  0      \n",
       "9990  0.04313859  999.2811 20013.35  0      \n",
       "9991  0.02919501  372.3792 25374.90  0      \n",
       "9992  0.02919501  658.7996 54802.08  0      \n",
       "9993  0.02919501 1111.6473 45490.68  0      \n",
       "9994  0.02919501  938.8362 56633.45  0      \n",
       "9995  0.04313859  172.4130 14955.94  0      \n",
       "9996  0.02919501  711.5550 52992.38  0      \n",
       "9997  0.02919501  757.9629 19660.72  0      \n",
       "9998  0.02919501  845.4120 58636.16  0      \n",
       "9999  0.02919501 1569.0091 36669.11  0      \n",
       "10000 0.04313859  200.9222 16862.95  0      "
      ]
     },
     "metadata": {},
     "output_type": "display_data"
    }
   ],
   "source": [
    "juice(tarif)"
   ]
  },
  {
   "cell_type": "code",
   "execution_count": 33,
   "id": "6177676b-147a-48fd-adbc-4888345e54e5",
   "metadata": {},
   "outputs": [],
   "source": [
    "comp <- data.frame(keras = keras_preds,catboost = catboost_preds,orgi = kl)"
   ]
  },
  {
   "cell_type": "code",
   "execution_count": 7,
   "id": "6a4c3544-4ce5-46b5-877d-26ebe7bdbba2",
   "metadata": {},
   "outputs": [],
   "source": [
    "library(dbplyr)\n",
    "library(dplyr)"
   ]
  },
  {
   "cell_type": "code",
   "execution_count": 2,
   "id": "17a48a69-a345-4db7-b04c-d5a8e4d56d88",
   "metadata": {},
   "outputs": [],
   "source": [
    "tb <- data.frame(year = 1,mo=1,da=1)"
   ]
  },
  {
   "cell_type": "code",
   "execution_count": 15,
   "id": "865c2bd5-f764-4f74-a36e-c78d4ca66eed",
   "metadata": {},
   "outputs": [],
   "source": [
    "tb_l <- tbl_lazy(tb,con = simulate_mssql())"
   ]
  },
  {
   "cell_type": "code",
   "execution_count": 16,
   "id": "2454d657-61a7-47c0-b59a-3773d3f6f0a1",
   "metadata": {},
   "outputs": [
    {
     "data": {
      "text/plain": [
       "<SQL>\n",
       "\u001b[34mSELECT\u001b[39m *, TRY_CAST(`year` + `mo` + `day` AS DATE)\u001b[34m AS \u001b[39m`Date`\n",
       "\u001b[34mFROM\u001b[39m `df`"
      ]
     },
     "metadata": {},
     "output_type": "display_data"
    }
   ],
   "source": [
    "tb_l %>%\n",
    "mutate(Date = as.Date(paste0(year,mo,day)))"
   ]
  },
  {
   "cell_type": "code",
   "execution_count": null,
   "id": "ffb0b0e6-dfd2-40b5-b6ad-c3baaa6cb831",
   "metadata": {},
   "outputs": [],
   "source": []
  },
  {
   "cell_type": "code",
   "execution_count": 1,
   "id": "0083f9cb-36d5-4bad-a5ed-7ae19216bdf8",
   "metadata": {},
   "outputs": [],
   "source": [
    "library(xgboost)"
   ]
  },
  {
   "cell_type": "code",
   "execution_count": 23,
   "id": "6848699c-1d8e-46ab-b8f2-bfe0b4281710",
   "metadata": {},
   "outputs": [],
   "source": [
    "iris2 <- iris[,-5]"
   ]
  },
  {
   "cell_type": "code",
   "execution_count": 25,
   "id": "1d7e589f-ed66-4901-b773-e5f8347a8944",
   "metadata": {},
   "outputs": [],
   "source": [
    "ind <- as.numeric(caret::createDataPartition(iris2[,4],times = 1,p = .7,list = F))#%>% as.numeric"
   ]
  },
  {
   "cell_type": "code",
   "execution_count": 111,
   "id": "2e6d0b1e-ecc4-41da-aeaa-8e3ae5aa56ea",
   "metadata": {},
   "outputs": [],
   "source": [
    "make_class <- function(x) ifelse(x >= 2.2,1,0)"
   ]
  },
  {
   "cell_type": "code",
   "execution_count": 112,
   "id": "8bfc799f-bbb4-4db7-80ad-000dd29f5b63",
   "metadata": {},
   "outputs": [],
   "source": [
    "x <- iris2[,-4]\n",
    "y <- make_class(iris2[,4])"
   ]
  },
  {
   "cell_type": "code",
   "execution_count": 113,
   "id": "a8d228a3-ca13-45f0-b16d-fe97fc5a52ae",
   "metadata": {},
   "outputs": [],
   "source": [
    "x_train <- x[ind,]\n",
    "y_train <- y[ind]\n",
    "\n",
    "x_test <- x[-ind,]\n",
    "y_test <- y[-ind]"
   ]
  },
  {
   "cell_type": "code",
   "execution_count": 114,
   "id": "9061ad6e-66ab-442c-9eb6-cf372ee5d0c9",
   "metadata": {},
   "outputs": [],
   "source": [
    "dt <- xgb.DMatrix(as.matrix(x_train),label = y_train)"
   ]
  },
  {
   "cell_type": "code",
   "execution_count": 115,
   "id": "6db942cb-4b7a-4d14-89e8-b37aa0a01d99",
   "metadata": {},
   "outputs": [],
   "source": [
    "dt_test <- xgb.DMatrix(as.matrix(x_test))"
   ]
  },
  {
   "cell_type": "code",
   "execution_count": 181,
   "id": "87214bcd-cd16-41b2-a32a-c2ec4b1b6ede",
   "metadata": {},
   "outputs": [],
   "source": [
    "pr <- list(objective = 'binary:logistic',eta = .01)"
   ]
  },
  {
   "cell_type": "code",
   "execution_count": 182,
   "id": "e488eef7-4011-436f-a9d0-29f7d1aa1f58",
   "metadata": {},
   "outputs": [],
   "source": [
    "psk <- sum(y_train == 0)/sum(y_train == 1)"
   ]
  },
  {
   "cell_type": "code",
   "execution_count": 183,
   "id": "40b7a6ac-763f-4818-b7e9-5cab94d9f73f",
   "metadata": {},
   "outputs": [],
   "source": [
    "modk <- xgb.train(data = dt,nrounds = 200,verbose = 1,params = pr,scale_pos_weight = sqrt(psk))"
   ]
  },
  {
   "cell_type": "code",
   "execution_count": 184,
   "id": "e6319465-c4a7-4cc3-b544-450134e9417d",
   "metadata": {},
   "outputs": [
    {
     "data": {
      "text/plain": [
       "y_train\n",
       "        0         1 \n",
       "0.8962264 0.1037736 "
      ]
     },
     "metadata": {},
     "output_type": "display_data"
    }
   ],
   "source": [
    "prop.table(table(y_train))"
   ]
  },
  {
   "cell_type": "code",
   "execution_count": 185,
   "id": "a9047883-4798-4439-ae73-895608e952df",
   "metadata": {},
   "outputs": [
    {
     "data": {
      "text/plain": [
       "\n",
       "        0         1 \n",
       "0.8409091 0.1590909 "
      ]
     },
     "metadata": {},
     "output_type": "display_data"
    }
   ],
   "source": [
    "prop.table(table(ifelse(predict(modk,dt_test)>=.5,1,0)))"
   ]
  },
  {
   "cell_type": "code",
   "execution_count": 188,
   "id": "8802e999-24a8-430a-bf07-84cff9612a01",
   "metadata": {},
   "outputs": [
    {
     "data": {
      "text/plain": [
       "y_test\n",
       "        0         1 \n",
       "0.8636364 0.1363636 "
      ]
     },
     "metadata": {},
     "output_type": "display_data"
    }
   ],
   "source": [
    "prop.table(table(y_test))"
   ]
  },
  {
   "cell_type": "code",
   "execution_count": null,
   "id": "cecc964d-4f6b-46a5-97a1-0ac66936b24e",
   "metadata": {},
   "outputs": [],
   "source": []
  }
 ],
 "metadata": {
  "kernelspec": {
   "display_name": "R",
   "language": "R",
   "name": "ir"
  },
  "language_info": {
   "codemirror_mode": "r",
   "file_extension": ".r",
   "mimetype": "text/x-r-source",
   "name": "R",
   "pygments_lexer": "r",
   "version": "4.2.0"
  }
 },
 "nbformat": 4,
 "nbformat_minor": 5
}
