{
 "cells": [
  {
   "cell_type": "code",
   "execution_count": 25,
   "id": "15f60faa-1b02-4090-bef6-0de7f0445274",
   "metadata": {},
   "outputs": [],
   "source": [
    "suppressPackageStartupMessages({\n",
    "    library(tidymodels)\n",
    "    library(treesnip)\n",
    "    library(tidyverse)\n",
    "    library(keras)\n",
    "})"
   ]
  },
  {
   "cell_type": "code",
   "execution_count": 212,
   "id": "9be0cf80-a7bc-413f-aa5d-073b0d93efb3",
   "metadata": {},
   "outputs": [],
   "source": [
    "model <- keras_model_sequential()"
   ]
  },
  {
   "cell_type": "code",
   "execution_count": 213,
   "id": "59267a34-5e00-4e0b-b03a-e9baaf1a603e",
   "metadata": {},
   "outputs": [],
   "source": [
    "model %>%\n",
    "layer_dense(units = 40, activation = 'relu', input_shape = c(3)) %>%\n",
    "layer_dense(units = 2,activation = 'softmax')"
   ]
  },
  {
   "cell_type": "code",
   "execution_count": 218,
   "id": "1b611636-486a-45cf-8bbb-9e3b85835605",
   "metadata": {},
   "outputs": [],
   "source": [
    "# not workin' yet\n",
    "f1_loss <- function(y_true, y_pred) {\n",
    "    \n",
    "    y_pred <- k_argmax(y_pred,axis = -1)\n",
    "    y_pred <- k_one_hot(y_pred,num_classes = 2)\n",
    "    tp <- k_sum(k_cast(y_true*y_pred, 'float'), axis=2)\n",
    "    tn <- k_sum(k_cast((1-y_true)*(1-y_pred), 'float'), axis=2)\n",
    "    fp <- k_sum(k_cast((1-y_true)*y_pred, 'float'), axis=2)\n",
    "    fn <- k_sum(k_cast(y_true*(1-y_pred), 'float'), axis=2)\n",
    "\n",
    "    p <- tp / (tp + fp + k_epsilon())\n",
    "    r <- tp / (tp + fn + k_epsilon())\n",
    "\n",
    "    f1 <- 2*p*r / (p+r+k_epsilon())\n",
    "    #f1 = k(k_isnan(f1), k_zeros_like(f1), f1)\n",
    "    #f1 <- ifelse(is.na(f1),k_zeros_like(f1),f1)\n",
    "    1 - k_mean(f1)\n",
    "}"
   ]
  },
  {
   "cell_type": "code",
   "execution_count": 215,
   "id": "71fd3188-3f81-48d3-b6ad-db8588bed3a1",
   "metadata": {},
   "outputs": [],
   "source": [
    "model %>% compile(\n",
    "  loss = f1_loss,\n",
    "  optimizer = optimizer_adam(learning_rate = 0.01),\n",
    "  metrics = c('AUC')\n",
    ")"
   ]
  },
  {
   "cell_type": "code",
   "execution_count": 216,
   "id": "506fb052-5dff-4820-ba35-c41d5edaa1ae",
   "metadata": {},
   "outputs": [
    {
     "ename": "ERROR",
     "evalue": "Error in py_call_impl(callable, dots$args, dots$keywords): ValueError: in user code:\n<... omitted ...>_and_vars, name=name)\n    File \"C:\\Users\\samet.sokel\\AppData\\Roaming\\Python\\Python39\\site-packages\\keras\\optimizers\\optimizer_v2\\optimizer_v2.py\", line 690, in apply_gradients\n        grads_and_vars = optimizer_utils.filter_empty_gradients(grads_and_vars)\n    File \"C:\\Users\\samet.sokel\\AppData\\Roaming\\Python\\Python39\\site-packages\\keras\\optimizers\\optimizer_v2\\utils.py\", line 77, in filter_empty_gradients\n        raise ValueError(\n\n    ValueError: No gradients provided for any variable: (['dense_147/kernel:0', 'dense_147/bias:0', 'dense_146/kernel:0', 'dense_146/bias:0'],). Provided `grads_and_vars` is ((None, <tf.Variable 'dense_147/kernel:0' shape=(3, 40) dtype=float32>), (None, <tf.Variable 'dense_147/bias:0' shape=(40,) dtype=float32>), (None, <tf.Variable 'dense_146/kernel:0' shape=(40, 2) dtype=float32>), (None, <tf.Variable 'dense_146/bias:0' shape=(2,) dtype=float32>)).\n\nSee `reticulate::py_last_error()` for details\n",
     "output_type": "error",
     "traceback": [
      "Error in py_call_impl(callable, dots$args, dots$keywords): ValueError: in user code:\n<... omitted ...>_and_vars, name=name)\n    File \"C:\\Users\\samet.sokel\\AppData\\Roaming\\Python\\Python39\\site-packages\\keras\\optimizers\\optimizer_v2\\optimizer_v2.py\", line 690, in apply_gradients\n        grads_and_vars = optimizer_utils.filter_empty_gradients(grads_and_vars)\n    File \"C:\\Users\\samet.sokel\\AppData\\Roaming\\Python\\Python39\\site-packages\\keras\\optimizers\\optimizer_v2\\utils.py\", line 77, in filter_empty_gradients\n        raise ValueError(\n\n    ValueError: No gradients provided for any variable: (['dense_147/kernel:0', 'dense_147/bias:0', 'dense_146/kernel:0', 'dense_146/bias:0'],). Provided `grads_and_vars` is ((None, <tf.Variable 'dense_147/kernel:0' shape=(3, 40) dtype=float32>), (None, <tf.Variable 'dense_147/bias:0' shape=(40,) dtype=float32>), (None, <tf.Variable 'dense_146/kernel:0' shape=(40, 2) dtype=float32>), (None, <tf.Variable 'dense_146/bias:0' shape=(2,) dtype=float32>)).\n\nSee `reticulate::py_last_error()` for details\nTraceback:\n",
      "1. model %>% fit(train_x, train_y, epochs = 30, batch_size = 128, \n .     validation_data = list(test_x, test_y), callbacks = list(callback_early_stopping(monitor = \"val_loss\", \n .         patience = 10, verbose = 1, mode = \"auto\", restore_best_weights = TRUE)), \n .     class_weight = list(`0` = sqrt(sum(test_y)), `1` = sqrt(sum(test_y == \n .         0))))",
      "2. fit(., train_x, train_y, epochs = 30, batch_size = 128, validation_data = list(test_x, \n .     test_y), callbacks = list(callback_early_stopping(monitor = \"val_loss\", \n .     patience = 10, verbose = 1, mode = \"auto\", restore_best_weights = TRUE)), \n .     class_weight = list(`0` = sqrt(sum(test_y)), `1` = sqrt(sum(test_y == \n .         0))))",
      "3. fit.keras.engine.training.Model(., train_x, train_y, epochs = 30, \n .     batch_size = 128, validation_data = list(test_x, test_y), \n .     callbacks = list(callback_early_stopping(monitor = \"val_loss\", \n .         patience = 10, verbose = 1, mode = \"auto\", restore_best_weights = TRUE)), \n .     class_weight = list(`0` = sqrt(sum(test_y)), `1` = sqrt(sum(test_y == \n .         0))))",
      "4. do.call(object$fit, args)",
      "5. (structure(function (...) \n . {\n .     dots <- py_resolve_dots(list(...))\n .     result <- py_call_impl(callable, dots$args, dots$keywords)\n .     if (convert) \n .         result <- py_to_r(result)\n .     if (is.null(result)) \n .         invisible(result)\n .     else result\n . }, class = c(\"python.builtin.method\", \"python.builtin.object\"\n . ), py_object = <environment>))(batch_size = 128L, epochs = 30L, \n .     verbose = \"auto\", validation_split = 0, shuffle = TRUE, class_weight = <environment>, \n .     sample_weight = NULL, initial_epoch = 0L, x = <environment>, \n .     y = <environment>, validation_data = <environment>, callbacks = list(\n .         <environment>, <environment>))",
      "6. py_call_impl(callable, dots$args, dots$keywords)"
     ]
    }
   ],
   "source": [
    "set.seed(1)\n",
    "\n",
    "label <- 'default'\n",
    "\n",
    "iris1.5 <- ISLR::Default %>% mutate(default = case_when(default == 'No' ~ 0,\n",
    "                                             default == 'Yes' ~ 1))\n",
    "\n",
    "iris1.5 <- iris1.5 %>% mutate(default = factor(default,levels = 0:1))\n",
    "\n",
    "willsee <- caret::createDataPartition(iris1.5[[label]],p = .7,list = TRUE) %>% unlist\n",
    "\n",
    "iris2 <- iris1.5[willsee,]\n",
    "\n",
    "iris3 <- iris1.5[-willsee,]\n",
    "\n",
    "folds_ <- caret::createFolds(iris2[[label]],k = 5)\n",
    "\n",
    "folds <- 1:length(folds_)\n",
    "\n",
    "errors <- c()\n",
    "\n",
    "predictions <- list()\n",
    "\n",
    "iris2 <- iris2 %>% mutate(default = as.integer(as.character(default)))\n",
    "iris3 <- iris3 %>% mutate(default = as.integer(as.character(default)))\n",
    "\n",
    "for(i in folds){\n",
    "    train_indices <- setdiff(folds,i)\n",
    "    test_indices <- i\n",
    "    \n",
    "    train_set <- iris2[unlist(folds_[train_indices]),]\n",
    "    test_set <- iris2[unlist(folds_[test_indices]),]\n",
    "    \n",
    "    tarif <- recipe(default ~ .,data = train_set) %>% \n",
    "    step_normalize(all_numeric_predictors()) %>%\n",
    "    step_dummy(all_nominal_predictors()) %>%\n",
    "    prep\n",
    "    \n",
    "    target_data <- bake(tarif,iris3)\n",
    "    \n",
    "    train_set <- bake(tarif,train_set)\n",
    "    test_set <- bake(tarif,test_set)\n",
    "    \n",
    "    train_y <- train_set[,label] %>% as.matrix %>% to_categorical\n",
    "    test_y <- test_set[,label]%>% as.matrix %>% to_categorical\n",
    "    test_y2 <- test_set[,label]%>% as.matrix\n",
    "    \n",
    "    train_x <- train_set[, -which(names(train_set) == label)]%>% as.matrix\n",
    "    test_x <- test_set[, -which(names(test_set) == label)]%>% as.matrix\n",
    "    \n",
    "    target_data <- target_data[, -which(names(train_set) == label)]%>% as.matrix\n",
    "    history <- model %>% fit(\n",
    "      train_x, train_y, \n",
    "      epochs = 30, batch_size = 128, \n",
    "      validation_data = list(test_x,test_y),\n",
    "      callbacks = list(callback_early_stopping(\n",
    "                        monitor = \"val_loss\",\n",
    "                        patience = 10,\n",
    "                        verbose = 1,\n",
    "                        mode = \"auto\",\n",
    "                        restore_best_weights = TRUE\n",
    "                        )\n",
    "    ),\n",
    "    class_weight = list('0' = sqrt(sum(test_y)),'1' = sqrt(sum(test_y == 0)))\n",
    "    )\n",
    "\n",
    "    preds <- model %>% predict(test_x)  %>% \n",
    "                        as.data.frame %>%\n",
    "                        mutate('class'=names(.)[apply(., 1, which.max)]) %>%\n",
    "                        mutate(class = case_when(class == 'V1' ~ 0,\n",
    "                                                 class == 'V2' ~ 1)) %>%\n",
    "                        select(class) %>%\n",
    "                        pull\n",
    "    \n",
    "    error <- yardstick::f_meas_vec(truth = as.factor(test_y2),estimate = factor(preds,levels = 0:1),event_level = \"second\")\n",
    "    \n",
    "    preds_target <- model %>% predict(target_data)  %>% \n",
    "                        as.data.frame %>%\n",
    "                        mutate('class'=names(.)[apply(., 1, which.max)]) %>%\n",
    "                        mutate(class = case_when(class == 'V1' ~ 0,\n",
    "                                                 class == 'V2' ~ 1)) %>%\n",
    "                        select(class) %>%\n",
    "                        pull\n",
    "    \n",
    "    IRdisplay::display('**************----------**************')\n",
    "    IRdisplay::display(sprintf('Fold %s F1 : %s',i,round(error,2)))\n",
    "    errors[i] <- error\n",
    "    \n",
    "    predictions[[i]] <- preds_target\n",
    "}\n",
    "IRdisplay::display('**************----------**************')\n",
    "IRdisplay::display(sprintf('CV Mean F1 : %s',mean(errors)))"
   ]
  },
  {
   "cell_type": "code",
   "execution_count": 217,
   "id": "90a7dfda-6291-4568-9b7a-03ad60d821f4",
   "metadata": {},
   "outputs": [
    {
     "data": {
      "text/plain": [
       "Traceback (most recent call last):\n",
       "  File \"C:\\Users\\samet.sokel\\AppData\\Roaming\\Python\\Python39\\site-packages\\keras\\utils\\traceback_utils.py\", line 70, in error_handler\n",
       "    raise e.with_traceback(filtered_tb) from None\n",
       "  File \"C:\\Users\\SAMET~1.SOK\\AppData\\Local\\Temp\\__autograph_generated_fileq3rsl50q.py\", line 15, in tf__train_function\n",
       "    retval_ = ag__.converted_call(ag__.ld(step_function), (ag__.ld(self), ag__.ld(iterator)), None, fscope)\n",
       "ValueError: in user code:\n",
       "\n",
       "    File \"C:\\Users\\samet.sokel\\AppData\\Roaming\\Python\\Python39\\site-packages\\keras\\engine\\training.py\", line 1160, in train_function  *\n",
       "        return step_function(self, iterator)\n",
       "    File \"C:\\Users\\samet.sokel\\AppData\\Roaming\\Python\\Python39\\site-packages\\keras\\engine\\training.py\", line 1146, in step_function  **\n",
       "        outputs = model.distribute_strategy.run(run_step, args=(data,))\n",
       "    File \"C:\\Users\\samet.sokel\\AppData\\Roaming\\Python\\Python39\\site-packages\\keras\\engine\\training.py\", line 1135, in run_step  **\n",
       "        outputs = model.train_step(data)\n",
       "    File \"C:\\Users\\samet.sokel\\AppData\\Roaming\\Python\\Python39\\site-packages\\keras\\engine\\training.py\", line 997, in train_step\n",
       "        self.optimizer.minimize(loss, self.trainable_variables, tape=tape)\n",
       "    File \"C:\\Users\\samet.sokel\\AppData\\Roaming\\Python\\Python39\\site-packages\\keras\\optimizers\\optimizer_v2\\optimizer_v2.py\", line 580, in minimize\n",
       "        return self.apply_gradients(grads_and_vars, name=name)\n",
       "    File \"C:\\Users\\samet.sokel\\AppData\\Roaming\\Python\\Python39\\site-packages\\keras\\optimizers\\optimizer_v2\\optimizer_v2.py\", line 690, in apply_gradients\n",
       "        grads_and_vars = optimizer_utils.filter_empty_gradients(grads_and_vars)\n",
       "    File \"C:\\Users\\samet.sokel\\AppData\\Roaming\\Python\\Python39\\site-packages\\keras\\optimizers\\optimizer_v2\\utils.py\", line 77, in filter_empty_gradients\n",
       "        raise ValueError(\n",
       "\n",
       "    ValueError: No gradients provided for any variable: (['dense_147/kernel:0', 'dense_147/bias:0', 'dense_146/kernel:0', 'dense_146/bias:0'],). Provided `grads_and_vars` is ((None, <tf.Variable 'dense_147/kernel:0' shape=(3, 40) dtype=float32>), (None, <tf.Variable 'dense_147/bias:0' shape=(40,) dtype=float32>), (None, <tf.Variable 'dense_146/kernel:0' shape=(40, 2) dtype=float32>), (None, <tf.Variable 'dense_146/bias:0' shape=(2,) dtype=float32>)).\n",
       "\n"
      ]
     },
     "metadata": {},
     "output_type": "display_data"
    }
   ],
   "source": [
    "reticulate::py_last_error()"
   ]
  },
  {
   "cell_type": "code",
   "execution_count": 166,
   "id": "d5d913bb-17af-4afc-92dd-727b2bf8890f",
   "metadata": {},
   "outputs": [
    {
     "data": {
      "text/html": [
       "'**************----------**************'"
      ],
      "text/latex": [
       "'**************----------**************'"
      ],
      "text/markdown": [
       "'**************----------**************'"
      ],
      "text/plain": [
       "[1] \"**************----------**************\""
      ]
     },
     "metadata": {},
     "output_type": "display_data"
    },
    {
     "data": {
      "text/html": [
       "'Fold 1 F1 : 0.51'"
      ],
      "text/latex": [
       "'Fold 1 F1 : 0.51'"
      ],
      "text/markdown": [
       "'Fold 1 F1 : 0.51'"
      ],
      "text/plain": [
       "[1] \"Fold 1 F1 : 0.51\""
      ]
     },
     "metadata": {},
     "output_type": "display_data"
    },
    {
     "data": {
      "text/html": [
       "'**************----------**************'"
      ],
      "text/latex": [
       "'**************----------**************'"
      ],
      "text/markdown": [
       "'**************----------**************'"
      ],
      "text/plain": [
       "[1] \"**************----------**************\""
      ]
     },
     "metadata": {},
     "output_type": "display_data"
    },
    {
     "data": {
      "text/html": [
       "'Fold 2 F1 : 0.52'"
      ],
      "text/latex": [
       "'Fold 2 F1 : 0.52'"
      ],
      "text/markdown": [
       "'Fold 2 F1 : 0.52'"
      ],
      "text/plain": [
       "[1] \"Fold 2 F1 : 0.52\""
      ]
     },
     "metadata": {},
     "output_type": "display_data"
    },
    {
     "data": {
      "text/html": [
       "'**************----------**************'"
      ],
      "text/latex": [
       "'**************----------**************'"
      ],
      "text/markdown": [
       "'**************----------**************'"
      ],
      "text/plain": [
       "[1] \"**************----------**************\""
      ]
     },
     "metadata": {},
     "output_type": "display_data"
    },
    {
     "data": {
      "text/html": [
       "'Fold 3 F1 : 0.41'"
      ],
      "text/latex": [
       "'Fold 3 F1 : 0.41'"
      ],
      "text/markdown": [
       "'Fold 3 F1 : 0.41'"
      ],
      "text/plain": [
       "[1] \"Fold 3 F1 : 0.41\""
      ]
     },
     "metadata": {},
     "output_type": "display_data"
    },
    {
     "data": {
      "text/html": [
       "'**************----------**************'"
      ],
      "text/latex": [
       "'**************----------**************'"
      ],
      "text/markdown": [
       "'**************----------**************'"
      ],
      "text/plain": [
       "[1] \"**************----------**************\""
      ]
     },
     "metadata": {},
     "output_type": "display_data"
    },
    {
     "data": {
      "text/html": [
       "'Fold 4 F1 : 0.58'"
      ],
      "text/latex": [
       "'Fold 4 F1 : 0.58'"
      ],
      "text/markdown": [
       "'Fold 4 F1 : 0.58'"
      ],
      "text/plain": [
       "[1] \"Fold 4 F1 : 0.58\""
      ]
     },
     "metadata": {},
     "output_type": "display_data"
    },
    {
     "data": {
      "text/html": [
       "'**************----------**************'"
      ],
      "text/latex": [
       "'**************----------**************'"
      ],
      "text/markdown": [
       "'**************----------**************'"
      ],
      "text/plain": [
       "[1] \"**************----------**************\""
      ]
     },
     "metadata": {},
     "output_type": "display_data"
    },
    {
     "data": {
      "text/html": [
       "'Fold 5 F1 : 0.62'"
      ],
      "text/latex": [
       "'Fold 5 F1 : 0.62'"
      ],
      "text/markdown": [
       "'Fold 5 F1 : 0.62'"
      ],
      "text/plain": [
       "[1] \"Fold 5 F1 : 0.62\""
      ]
     },
     "metadata": {},
     "output_type": "display_data"
    },
    {
     "data": {
      "text/html": [
       "'**************----------**************'"
      ],
      "text/latex": [
       "'**************----------**************'"
      ],
      "text/markdown": [
       "'**************----------**************'"
      ],
      "text/plain": [
       "[1] \"**************----------**************\""
      ]
     },
     "metadata": {},
     "output_type": "display_data"
    },
    {
     "data": {
      "text/html": [
       "'CV Mean F1 : 0.529256025691767'"
      ],
      "text/latex": [
       "'CV Mean F1 : 0.529256025691767'"
      ],
      "text/markdown": [
       "'CV Mean F1 : 0.529256025691767'"
      ],
      "text/plain": [
       "[1] \"CV Mean F1 : 0.529256025691767\""
      ]
     },
     "metadata": {},
     "output_type": "display_data"
    }
   ],
   "source": [
    "set.seed(1)\n",
    "\n",
    "label <- 'default'\n",
    "\n",
    "iris1.5 <- ISLR::Default %>% mutate(default = case_when(default == 'No' ~ 0,\n",
    "                                             default == 'Yes' ~ 1))\n",
    "\n",
    "iris1.5 <- iris1.5 %>% mutate(default = factor(default,levels = 0:1))\n",
    "\n",
    "willsee <- caret::createDataPartition(iris1.5[[label]],p = .7,list = TRUE) %>% unlist\n",
    "\n",
    "iris2 <- iris1.5[willsee,]\n",
    "\n",
    "iris3 <- iris1.5[-willsee,]\n",
    "\n",
    "folds_ <- caret::createFolds(iris2[[label]],k = 5)\n",
    "\n",
    "folds <- 1:length(folds_)\n",
    "\n",
    "errors <- c()\n",
    "\n",
    "predictions <- list()\n",
    "\n",
    "#iris2 <- iris2 %>% mutate(default = as.integer(as.character(default)))\n",
    "#iris3 <- iris3 %>% mutate(default = as.integer(as.character(default)))\n",
    "\n",
    "for(i in folds){\n",
    "    train_indices <- setdiff(folds,i)\n",
    "    test_indices <- i\n",
    "    \n",
    "    train_set <- iris2[unlist(folds_[train_indices]),]\n",
    "    test_set <- iris2[unlist(folds_[test_indices]),]\n",
    "    \n",
    "    tarif2 <- recipe(default ~ .,data = train_set)\n",
    "    \n",
    "    target_data <- bake(tarif,iris3)\n",
    "    \n",
    "    train_set <- bake(tarif %>% prep,train_set)\n",
    "    test_set <- bake(tarif%>% prep,test_set)\n",
    "    \n",
    "    train_y <- train_set[,label]\n",
    "    test_y <- test_set[,label]\n",
    "    test_y2 <- test_set[,label]%>% as.matrix\n",
    "    \n",
    "    train_x <- train_set[, -which(names(train_set) == label)]\n",
    "    test_x <- test_set[, -which(names(test_set) == label)]\n",
    "    \n",
    "    target_data <- target_data[, -which(names(train_set) == label)]\n",
    "    \n",
    "    modspec <- boost_tree(learn_rate = 0.01) %>%\n",
    "    set_mode('classification')%>%\n",
    "    set_engine('catboost',auto_class_weights = 'SqrtBalanced',\n",
    "               eval_metric = 'F1:use_weights=False',\n",
    "               custom_loss = 'F1:use_weights=False')\n",
    "    \n",
    "    \n",
    "    model <- modspec %>% fit_xy(x = train_x,y = train_y)\n",
    "    \n",
    "    preds <- model %>% predict(test_x) %>% pull\n",
    "    \n",
    "    error <- yardstick::f_meas_vec(truth = as.factor(test_y2),estimate = factor(preds,levels = 0:1),event_level = \"second\")\n",
    "    \n",
    "    preds_target <- model %>% predict(target_data) %>%pull\n",
    "    \n",
    "    IRdisplay::display('**************----------**************')\n",
    "    IRdisplay::display(sprintf('Fold %s F1 : %s',i,round(error,2)))\n",
    "    errors[i] <- error\n",
    "    \n",
    "    predictions[[i]] <- preds_target\n",
    "}\n",
    "IRdisplay::display('**************----------**************')\n",
    "IRdisplay::display(sprintf('CV Mean F1 : %s',mean(errors)))"
   ]
  },
  {
   "cell_type": "code",
   "execution_count": 130,
   "id": "13cba3ce-fb36-4a84-bae1-445482092926",
   "metadata": {},
   "outputs": [],
   "source": [
    "all <- as.data.frame(predictions) %>% mutate_if(is.factor,function(x) as.numeric(as.character(x)))"
   ]
  },
  {
   "cell_type": "code",
   "execution_count": 133,
   "id": "d7f752dc-ae76-4d58-a8e0-ee5a7a84484f",
   "metadata": {},
   "outputs": [
    {
     "data": {
      "text/html": [
       "2"
      ],
      "text/latex": [
       "2"
      ],
      "text/markdown": [
       "2"
      ],
      "text/plain": [
       "[1] 2"
      ]
     },
     "metadata": {},
     "output_type": "display_data"
    }
   ],
   "source": [
    "2"
   ]
  },
  {
   "cell_type": "code",
   "execution_count": 132,
   "id": "0a19a19c-45dd-4d52-84fa-a170fc2fa029",
   "metadata": {},
   "outputs": [],
   "source": [
    "kk <- rowMeans(all) \n",
    "kk <- ifelse(kk >= 0.5,1,0)"
   ]
  },
  {
   "cell_type": "code",
   "execution_count": 98,
   "id": "dc65fccd-a95c-4f8e-ab17-764c92039064",
   "metadata": {},
   "outputs": [],
   "source": [
    "kl <- iris3[,label]"
   ]
  },
  {
   "cell_type": "code",
   "execution_count": 99,
   "id": "137d1950-2575-42fe-9df9-38b67e5d24a1",
   "metadata": {},
   "outputs": [
    {
     "data": {
      "text/html": [
       "0.0639122014202712"
      ],
      "text/latex": [
       "0.0639122014202712"
      ],
      "text/markdown": [
       "0.0639122014202712"
      ],
      "text/plain": [
       "[1] 0.0639122"
      ]
     },
     "metadata": {},
     "output_type": "display_data"
    }
   ],
   "source": [
    "yardstick::f_meas_vec(truth = as.factor(kl),estimate = factor(kk,levels = 0:1),event_level = \"second\")"
   ]
  },
  {
   "cell_type": "code",
   "execution_count": 267,
   "id": "616e0c27-1b53-415d-b423-31061524649d",
   "metadata": {},
   "outputs": [
    {
     "data": {
      "text/html": [
       "<strong>$`0`</strong> = 'a'"
      ],
      "text/latex": [
       "\\textbf{\\$`0`} = 'a'"
      ],
      "text/markdown": [
       "**$`0`** = 'a'"
      ],
      "text/plain": [
       "$`0`\n",
       "[1] \"a\"\n"
      ]
     },
     "metadata": {},
     "output_type": "display_data"
    }
   ],
   "source": [
    "list('0' = 'a')"
   ]
  },
  {
   "cell_type": "code",
   "execution_count": 204,
   "id": "f5dcf840-8df4-471f-9fd6-3824cb9f205a",
   "metadata": {},
   "outputs": [
    {
     "name": "stderr",
     "output_type": "stream",
     "text": [
      "Warning message in simpleLoess(y, x, w, span, degree = degree, parametric = parametric, :\n",
      "\"span too small.   fewer data values than degrees of freedom.\"\n",
      "Warning message in simpleLoess(y, x, w, span, degree = degree, parametric = parametric, :\n",
      "\"pseudoinverse used at 0.985\"\n",
      "Warning message in simpleLoess(y, x, w, span, degree = degree, parametric = parametric, :\n",
      "\"neighborhood radius 2.015\"\n",
      "Warning message in simpleLoess(y, x, w, span, degree = degree, parametric = parametric, :\n",
      "\"reciprocal condition number  0\"\n",
      "Warning message in simpleLoess(y, x, w, span, degree = degree, parametric = parametric, :\n",
      "\"There are other near singularities as well. 4.0602\"\n",
      "Warning message in simpleLoess(y, x, w, span, degree = degree, parametric = parametric, :\n",
      "\"span too small.   fewer data values than degrees of freedom.\"\n",
      "Warning message in simpleLoess(y, x, w, span, degree = degree, parametric = parametric, :\n",
      "\"pseudoinverse used at 0.985\"\n",
      "Warning message in simpleLoess(y, x, w, span, degree = degree, parametric = parametric, :\n",
      "\"neighborhood radius 2.015\"\n",
      "Warning message in simpleLoess(y, x, w, span, degree = degree, parametric = parametric, :\n",
      "\"reciprocal condition number  0\"\n",
      "Warning message in simpleLoess(y, x, w, span, degree = degree, parametric = parametric, :\n",
      "\"There are other near singularities as well. 4.0602\"\n",
      "Warning message in simpleLoess(y, x, w, span, degree = degree, parametric = parametric, :\n",
      "\"span too small.   fewer data values than degrees of freedom.\"\n",
      "Warning message in simpleLoess(y, x, w, span, degree = degree, parametric = parametric, :\n",
      "\"pseudoinverse used at 0.985\"\n",
      "Warning message in simpleLoess(y, x, w, span, degree = degree, parametric = parametric, :\n",
      "\"neighborhood radius 2.015\"\n",
      "Warning message in simpleLoess(y, x, w, span, degree = degree, parametric = parametric, :\n",
      "\"reciprocal condition number  0\"\n",
      "Warning message in simpleLoess(y, x, w, span, degree = degree, parametric = parametric, :\n",
      "\"There are other near singularities as well. 4.0602\"\n",
      "Warning message in simpleLoess(y, x, w, span, degree = degree, parametric = parametric, :\n",
      "\"span too small.   fewer data values than degrees of freedom.\"\n",
      "Warning message in simpleLoess(y, x, w, span, degree = degree, parametric = parametric, :\n",
      "\"pseudoinverse used at 0.985\"\n",
      "Warning message in simpleLoess(y, x, w, span, degree = degree, parametric = parametric, :\n",
      "\"neighborhood radius 2.015\"\n",
      "Warning message in simpleLoess(y, x, w, span, degree = degree, parametric = parametric, :\n",
      "\"reciprocal condition number  0\"\n",
      "Warning message in simpleLoess(y, x, w, span, degree = degree, parametric = parametric, :\n",
      "\"There are other near singularities as well. 4.0602\"\n"
     ]
    },
    {
     "data": {
      "image/png": "[encoded data removed]",
      "text/plain": [
       "plot without title"
      ]
     },
     "metadata": {
      "image/png": {
       "height": 420,
       "width": 420
      }
     },
     "output_type": "display_data"
    }
   ],
   "source": [
    "history %>% plot"
   ]
  }
 ],
 "metadata": {
  "kernelspec": {
   "display_name": "R",
   "language": "R",
   "name": "ir"
  },
  "language_info": {
   "codemirror_mode": "r",
   "file_extension": ".r",
   "mimetype": "text/x-r-source",
   "name": "R",
   "pygments_lexer": "r",
   "version": "4.2.0"
  }
 },
 "nbformat": 4,
 "nbformat_minor": 5
}
