{
 "cells": [
  {
   "cell_type": "code",
   "execution_count": 1,
   "id": "97c41317-4f1e-45a0-859c-a8cfe47db93d",
   "metadata": {},
   "outputs": [
    {
     "name": "stderr",
     "output_type": "stream",
     "text": [
      "Warning message:\n",
      "\"package 'dials' was built under R version 4.2.1\"\n",
      "Warning message:\n",
      "\"package 'recipes' was built under R version 4.2.1\"\n",
      "Warning message:\n",
      "\"package 'rsample' was built under R version 4.2.1\"\n",
      "Warning message:\n",
      "\"package 'tune' was built under R version 4.2.1\"\n",
      "Warning message:\n",
      "\"package 'workflows' was built under R version 4.2.1\"\n",
      "Warning message:\n",
      "\"package 'caret' was built under R version 4.2.1\"\n"
     ]
    }
   ],
   "source": [
    "suppressPackageStartupMessages({\n",
    "    library(data.table)\n",
    "    library(tidyverse)\n",
    "    library(tidymodels)\n",
    "    library(treesnip)\n",
    "    library(caret)\n",
    "    library(keras)\n",
    "    library(catboost)\n",
    "    library(tensorflow)\n",
    "    library(collapse)\n",
    "})"
   ]
  },
  {
   "cell_type": "code",
   "execution_count": 2,
   "id": "b286e0eb-48ee-4389-ad0b-6b028d42b779",
   "metadata": {},
   "outputs": [],
   "source": [
    "df <- fread('salary.csv')\n",
    "\n",
    "colnames(df) <- gsub('-','',colnames(df)) "
   ]
  },
  {
   "cell_type": "code",
   "execution_count": 3,
   "id": "d0ac3364-3d8b-47cb-b626-c7e4af9b68c0",
   "metadata": {},
   "outputs": [],
   "source": [
    "config <- list(\n",
    "    label = 'salary',\n",
    "    tune = TRUE,\n",
    "    tune_iter = 3,\n",
    "    seed = 1453,\n",
    "    sparse_percentage = 0,\n",
    "    folds = 3,\n",
    "    learning_rate = 0.05,\n",
    "    early_stopping_rounds = 100,\n",
    "    iter = 5000,\n",
    "    objective = 'Logloss',\n",
    "    loss_fun = 'F1:use_weights=False',\n",
    "    eval_metric = 'F1:use_weights=False',\n",
    "    auto_class_weights = 'SqrtBalanced',\n",
    "    use_best = FALSE,\n",
    "    task = 'CPU',\n",
    "    device = '0:1',\n",
    "    slicer_1 = '*-*-*-*-*-*-*-*-*-*-*-*-*-*-*-*-*-*-*-*-*-*-*',\n",
    "    slicer_2 = '_____________________________________________'\n",
    ")"
   ]
  },
  {
   "cell_type": "code",
   "execution_count": 472,
   "id": "f7a0036c-25a1-498d-aeb2-2bb9759cb503",
   "metadata": {},
   "outputs": [],
   "source": [
    "#df <- fread('salary.csv')"
   ]
  },
  {
   "cell_type": "code",
   "execution_count": 473,
   "id": "00cf177e-edd0-447a-abbd-98a1e13b12a3",
   "metadata": {},
   "outputs": [],
   "source": [
    "#colnames(df) <- gsub('-','',colnames(df))"
   ]
  },
  {
   "cell_type": "code",
   "execution_count": 474,
   "id": "87a76249-7eba-487b-adb2-0664ff39cf1f",
   "metadata": {},
   "outputs": [],
   "source": [
    "#df %>% select(salary) %>% filter(salary == '>50K')"
   ]
  },
  {
   "cell_type": "code",
   "execution_count": 4,
   "id": "65a57ec8-e57b-4449-8258-5e7b38216dda",
   "metadata": {},
   "outputs": [],
   "source": [
    "sparse_data <- function(df,sparse_percentage){\n",
    "    \n",
    "    df_new <- copy(df) \n",
    "    setDT(df_new)\n",
    "    categorical_names <- df_new %>% purrr::discard(is.numeric) %>% colnames\n",
    "\n",
    "    for(i in categorical_names){\n",
    "        features <- df_new[,unique(.SD),.SDcols = i] %>% pull\n",
    "        \n",
    "        for(j in features){\n",
    "            \n",
    "            condition_format <- 'df_new[,length(%s[%s == \"%s\"])/.N < %s]'\n",
    "            condition_command <- sprintf(condition_format,i,i,j,sparse_percentage)\n",
    "        \n",
    "            condition <- eval(parse(text = condition_command))\n",
    "            \n",
    "            if(condition){\n",
    "                sparse_format <- 'df_new[%s == \"%s\", %s := \"other\"]'\n",
    "                sparse_command <- sprintf(sparse_format,i,j,i)\n",
    "                eval(parse(text = sparse_command))\n",
    "            } \n",
    "        }\n",
    "    }\n",
    "    df_new\n",
    "}"
   ]
  },
  {
   "cell_type": "code",
   "execution_count": 5,
   "id": "9da7b6f6-8629-4fcb-a780-aa4025c0bc4b",
   "metadata": {},
   "outputs": [],
   "source": [
    "get_scaling_factors <- function(df){\n",
    "    setDT(df)\n",
    "    factors <- lapply(df %>% keep(is.numeric),function(x) list(min = min(x,na.rm = T),max = max(x,na.rm = T)))\n",
    "    factors\n",
    "}      "
   ]
  },
  {
   "cell_type": "code",
   "execution_count": 6,
   "id": "a1962cf1-2b91-45bc-9246-370cf8a3b9a0",
   "metadata": {},
   "outputs": [],
   "source": [
    "scale_data <- function(df,scaling_factors,reverse = FALSE){\n",
    "    \n",
    "    data <- copy(df)\n",
    "    setDT(data)\n",
    "    for(i in names(scaling_factors)){\n",
    "        factors <- scaling_factors[[i]]\n",
    "        if(reverse){\n",
    "            #data[,(i) := lapply(.SD,function(x) (x*(factors[['max']] - factors[['min']]) + factors[['min']])),.SDcols = i]\n",
    "        }else{\n",
    "            #data[,(i) := lapply(.SD,function(x) (x - factors[['min']]) / (factors[['max']] - factors[['min']])),.SDcols = i]\n",
    "            #data[,(i) := lapply(.SD,function(x) fifelse(is.na(x),-1,x)),.SDcols = i]\n",
    "        }  \n",
    "    }\n",
    "                                \n",
    "    catcols <- df %>% purrr::discard(is.numeric) %>% colnames\n",
    "    out <- list(scaling_factors = scaling_factors,data = data,cat_cols = catcols)\n",
    "    return(out)\n",
    "} "
   ]
  },
  {
   "cell_type": "code",
   "execution_count": 7,
   "id": "3411b5e2-342e-4afc-83c3-76a5a63c94c8",
   "metadata": {},
   "outputs": [],
   "source": [
    "clean_test_set <- function(scaled_data,categorical_cols,distinct_values_on_train){\n",
    "    df <- copy(scaled_data[['data']])\n",
    "    \n",
    "    make_paste <- function(x){\n",
    "    wrapped <- sapply(x,function(x) paste0('\"',x,'\"'))\n",
    "    paste0(wrapped,collapse = ',')\n",
    "    }       \n",
    "   \n",
    "    \n",
    "    for(i in categorical_cols){\n",
    "        distincts <- distinct_values_on_train[[i]]\n",
    "        distincts <- make_paste(distincts)\n",
    "        command_format <- \"df[! %s %%in%% c(%s), %s := NA]\"\n",
    "        command <- sprintf(command_format,i,distincts,i)\n",
    "        eval(parse(text = command))\n",
    "    }\n",
    "                      \n",
    "    scaled_data[['data']] <- df\n",
    "                      \n",
    "    scaled_data\n",
    "}"
   ]
  },
  {
   "cell_type": "code",
   "execution_count": 8,
   "id": "e99bf439-dcc6-4da4-a7b6-f048076b7036",
   "metadata": {},
   "outputs": [],
   "source": [
    "get_distincts <- function(scaled_data){\n",
    "    df <- copy(scaled_data[['data']])\n",
    "    \n",
    "    catcols <- scaled_data[['cat_cols']]\n",
    "    \n",
    "    distincts <- list()\n",
    "    for(i in catcols){\n",
    "        distinct_values <- df[,unique(.SD),.SDcols = i] %>% pull %>% as.character\n",
    "        distincts[[i]] <- c(distinct_values,'Missing')\n",
    "        df[,(i) := lapply(.SD,function(x) as.character(x)),.SDcols = i]\n",
    "        #df[,(i) := lapply(.SD,function(x) ifelse(is.na(x),'Missing',x)),.SDcols = i]\n",
    "        df[,(i) := lapply(.SD,function(x) factor(x,levels = c(distinct_values,'Missing'))),.SDcols = i]\n",
    "    }\n",
    "    \n",
    "    \n",
    "\n",
    "    scaled_data[['cat_distincts']] <- distincts\n",
    "    \n",
    "    scaled_data[['data']] <- df\n",
    "                          \n",
    "    scaled_data\n",
    "}"
   ]
  },
  {
   "cell_type": "code",
   "execution_count": 10,
   "id": "7fca393d-25f8-4640-87a2-5c7081e7eddc",
   "metadata": {},
   "outputs": [],
   "source": [
    "fetch_test_levels_to_train <- function(scaled_data,categorical_cols,distinct_values_on_train){\n",
    "    df <- copy(scaled_data[['data']])\n",
    "    \n",
    "    for(i in categorical_cols){\n",
    "        distincts <- distinct_values_on_train[[i]]\n",
    "        df[,(i) := lapply(.SD,function(x) factor(x,levels = distincts)),.SDcols = i]\n",
    "    }\n",
    "   \n",
    "    scaled_data[['data']] <- df\n",
    "    scaled_data\n",
    "}"
   ]
  },
  {
   "cell_type": "code",
   "execution_count": 11,
   "id": "bf30cd4e-4830-444f-8dbc-48db0ebae6d3",
   "metadata": {},
   "outputs": [],
   "source": [
    "dummy_data <- function(scaled_data){\n",
    "    df <- copy(scaled_data[['data']])\n",
    "    #df_dummied <- recipe(df) %>% step_dummy(all_nominal()) %>% prep %>% bake(new_data = NULL)\n",
    "    df_dummied <- recipe(df) %>% prep %>% step_string2factor(all_nominal()) %>% prep %>% bake(new_data = NULL)\n",
    "    scaled_data[['data']] <- df_dummied\n",
    "    scaled_data\n",
    "}"
   ]
  },
  {
   "cell_type": "code",
   "execution_count": 12,
   "id": "8e14847e-8d47-4da6-97ee-4f206407e2bd",
   "metadata": {},
   "outputs": [],
   "source": [
    "make_frame <- function(df,test = FALSE,train_frame = NULL,config){\n",
    "    dt <- copy(df)\n",
    "    setDT(dt)\n",
    "    if(!test){\n",
    "        target_ <- dt[[config$label]]\n",
    "        \n",
    "        dt[,(config$labe) := NULL]\n",
    "    }\n",
    "    sparsed <- sparse_data(dt,sparse_percentage = config$sparse_percentage)\n",
    "    gc()\n",
    "    base::message('Data sparsed.')\n",
    "    \n",
    "    if(!test){\n",
    "        scl <- get_scaling_factors(sparsed)\n",
    "    }else{\n",
    "        scl <- train_frame[['scaling_factors']]\n",
    "    }\n",
    "    gc()\n",
    "    base::message('Scaling factors calculated.')\n",
    "    base::message('Missing values labeled.')\n",
    "    scld <- scale_data(sparsed,scl)\n",
    "    gc()\n",
    "    base::message('Data scaled.')\n",
    "    \n",
    "    if(test){\n",
    "        scld <- clean_test_set(scld,train_frame[['cat_cols']],train_frame[['cat_distincts']])\n",
    "        base::message('Unseen values removed from test set.')\n",
    "        scld <- fetch_test_levels_to_train(scld,train_frame[['cat_cols']],train_frame[['cat_distincts']])\n",
    "        base::message('Train & test set nominal levels fetched.')\n",
    "    }\n",
    "    \n",
    "    if(!test){\n",
    "    distincted <- get_distincts(scld)\n",
    "    gc()\n",
    "    base::message('Got distinct values for nominals.')\n",
    "    }else{\n",
    "        distincted <- scld\n",
    "    }\n",
    "    \n",
    "    dummied <- dummy_data(distincted)\n",
    "    gc()\n",
    "    base::message('Data dummied.')\n",
    "    \n",
    "    if(!test){\n",
    "        dummied[['label_to_keras']] <- target_# %>% label_encode %>% keras::to_categorical()\n",
    "        dummied[['label']] <- target_ #%>% label_encode\n",
    "    }\n",
    "    setDT(dummied[['data']])\n",
    "    #dummied[['data']] <- dummied[['data']]# %>% as.matrix\n",
    "    base::message('All done !')\n",
    "    dummied\n",
    "}"
   ]
  },
  {
   "cell_type": "code",
   "execution_count": 13,
   "id": "10fd78b2-0257-4525-b38c-daa145f535ff",
   "metadata": {},
   "outputs": [],
   "source": [
    "create_folds <- function(train_data,config){\n",
    "    set.seed(config$seed)\n",
    "    caret::createFolds(train_data$label,k = config$folds)\n",
    "}"
   ]
  },
  {
   "cell_type": "code",
   "execution_count": 14,
   "id": "14e2ab71-ffff-433c-8304-ffa33c3ab1ff",
   "metadata": {},
   "outputs": [],
   "source": [
    "fold_threshold <- function(y_probs,y_test){\n",
    "    thresholds <- data.frame()\n",
    "    \n",
    "    for(j in seq(from = 0.1,to = 0.9,by = 0.01)){\n",
    "        obs <- y_test\n",
    "        prd <- +(y_probs >= j)\n",
    "        if(sum(prd) == 0){\n",
    "            next\n",
    "        }\n",
    "        f1_clc <- f_meas_vec(truth = factor(obs,levels = 0:1),estimate = factor(prd,levels = 0:1),event_level = 'second')\n",
    "        fold_row <- data.table(threshold = j,f1 = f1_clc)\n",
    "        thresholds <- rbindlist(list(thresholds,fold_row))\n",
    "    }\n",
    "    \n",
    "    best_threshold <- thresholds %>% filter(f1 == max(f1)) %>% select(threshold) %>% pull %>% .[1]\n",
    "    error <- thresholds %>% filter(f1 == max(f1)) %>% select(f1) %>% pull %>% .[1]\n",
    "    \n",
    "    return(list(threshold = best_threshold,score = error))\n",
    "}"
   ]
  },
  {
   "cell_type": "code",
   "execution_count": 112,
   "id": "da829462-b096-422a-a8ce-c5227c15a4ca",
   "metadata": {},
   "outputs": [],
   "source": [
    "tuner <- function(folds,train_frame,label,config){\n",
    "    fold_list <- list()\n",
    "    fold_nums <- 1:length(folds)\n",
    "    \n",
    "    single_tbl <- train_frame %>% mutate(response = factor(enc(label),levels = 0:1))\n",
    "    \n",
    "    for(i in fold_nums){\n",
    "        asses_ind <- i\n",
    "        analysis_ind <- setdiff(fold_nums,i)\n",
    "\n",
    "        created_folds <- list(assessment = unlist(folds[asses_ind]),analysis = unlist(folds[analysis_ind]))\n",
    "        fold_list[[i]] <- created_folds\n",
    "    }\n",
    "    \n",
    "    \n",
    "    splits <- purrr::map(fold_list, make_splits, data = single_tbl)\n",
    "    \n",
    "    rsmpl <- manual_rset(splits, paste0(\"Fold\", fold_nums))\n",
    "    \n",
    "    scl <- sum(single_tbl[['label']] == 0) / sum(single_tbl[['label']] == 1)\n",
    "    \n",
    "    modelspec <- boost_tree(learn_rate = tune(),tree_depth = tune(),min_n = tune()) %>%\n",
    "    set_mode('classification') %>%\n",
    "    set_engine('xgboost',scale_pos_weight = 99)\n",
    "    \n",
    "    ctrl <- control_bayes(verbose = TRUE,event_level = 'second')\n",
    "    \n",
    "    rcp_format <- recipe(response ~ .,data = single_tbl) %>% step_dummy(all_nominal_predictors())\n",
    "    #return(list(dt = single_tbl,rcp = rcp_format))\n",
    "    #rcp <- sprintf(rcp_format,config$label) %>% as.formula\n",
    "    \n",
    "    metric <- yardstick::metric_set(f_meas)\n",
    "    #return(modelspec)\n",
    "    tuned <- tune_bayes(object = modelspec,preprocessor = rcp_format,iter = config$tune_iter,resamples = rsmpl,metrics = metric,control = ctrl,initial = 5)\n",
    "    \n",
    "    best_param <- tuned %>% select_best('f_meas')\n",
    "    \n",
    "    learning_rate <- best_param %>% select(learn_rate) %>% pull\n",
    "    \n",
    "    tree_depth <- best_param %>% select(tree_depth) %>% pull \n",
    "    \n",
    "    min_n <- best_param %>% select(min_n) %>% pull\n",
    "    \n",
    "    return(list(lr = learning_rate,td = tree_depth,mn = min_n))\n",
    "}"
   ]
  },
  {
   "cell_type": "code",
   "execution_count": 119,
   "id": "4e83feaa-d06a-4e8c-8223-6f623bd165a8",
   "metadata": {},
   "outputs": [],
   "source": [
    "cross_validate <- function(train_data,target_data,folds,config,label_encoder,label_back_encoder){\n",
    "    \n",
    "    set.seed(config$seed)\n",
    "    \n",
    "    folds_ <- 1:length(folds)\n",
    "    \n",
    "    errors <- c()\n",
    "    \n",
    "    preds <- list()\n",
    "    models <- list()\n",
    "    feature_importances <- data.table()\n",
    "    \n",
    "    if(config$tune){\n",
    "        base::message('Bayesian tuning started..')\n",
    "        \n",
    "        new_params <- tuner(folds = folds,train_frame = train_data$data,label = train_data$label,config = config)\n",
    "        \n",
    "        prm <- list(learning_rate = new_params$lr,depth = new_params$td,min_data_in_leaf = new_params$mn,\n",
    "                iterations = config$iter,\n",
    "                loss_function = config$objective,auto_class_weights = config$auto_class_weights,\n",
    "                verbose = 0,custom_loss = config$loss_fun,eval_metric = config$eval_metric,\n",
    "                use_best_model = config$use_best,task_type = config$task,devices = config$device,\n",
    "                early_stopping_rounds = config$early_stopping_rounds)\n",
    "    }else{\n",
    "        prm <- list(learning_rate = config$learning_rate,iterations = config$iter,\n",
    "                loss_function = config$objective,auto_class_weights = config$auto_class_weights,\n",
    "                verbose = 0,custom_loss = config$loss_fun,eval_metric = config$eval_metric,\n",
    "                use_best_model = config$use_best,task_type = config$task,devices = config$device,\n",
    "                early_stopping_rounds = config$early_stopping_rounds)\n",
    "    }\n",
    "    \n",
    "    \n",
    "    #print(prm)\n",
    "    IRdisplay::display(config$slicer_1)\n",
    "    for(i in folds_){\n",
    "        \n",
    "        train_indices <- setdiff(folds_,i) \n",
    "        test_indices <- i\n",
    "        \n",
    "        train_x <- train_data$data[unlist(folds[train_indices]),] \n",
    "        test_x <- train_data$data[unlist(folds[test_indices]),]\n",
    "        \n",
    "        train_y <- train_data$label[unlist(folds[train_indices])] %>% label_encoder \n",
    "        test_y <- train_data$label[unlist(folds[test_indices])] %>% label_encoder \n",
    "        \n",
    "        train_frame <- catboost::catboost.load_pool(data = train_x,label = train_y)\n",
    "        test_frame <- catboost::catboost.load_pool(data = test_x,label = test_y)\n",
    "        \n",
    "        start_it <- Sys.time()\n",
    "        \n",
    "        cat_model <- catboost::catboost.train(learn_pool = train_frame,test_pool = test_frame,params = prm)\n",
    "        \n",
    "        prediction_to_threshold <- catboost.predict(cat_model,test_frame,prediction_type='Probability')\n",
    "        \n",
    "        thresholded <- fold_threshold(y_probs = prediction_to_threshold,y_test = test_y)\n",
    "        \n",
    "        msgformat_score <- 'Fold %s F1 : %s'\n",
    "        msgformat_threshold <- 'Best threshold for Fold %s : %s'\n",
    "        \n",
    "        msg_score <- sprintf(msgformat_score,i,round(thresholded$score,4))\n",
    "        msg_threshold <- sprintf(msgformat_threshold,i,thresholded$threshold)\n",
    "        \n",
    "        prediction <- catboost.predict(cat_model,catboost.load_pool(target_data$data),prediction_type='Probability')\n",
    "        \n",
    "        prediction_class <- +(prediction >= thresholded$threshold) %>% label_back_encoder\n",
    "        \n",
    "        preds[[i]] <- prediction_class\n",
    "        models[[i]] <- cat_model\n",
    "        errors[i] <- thresholded$score\n",
    "        \n",
    "        fi_row <- cat_model %>% .$feature_importances %>% t %>% as.data.table\n",
    "        \n",
    "        feature_importances <- rbindlist(list(feature_importances,fi_row))\n",
    "        \n",
    "        finished_it <- Sys.time()\n",
    "        \n",
    "        process <- round(as.numeric(difftime(finished_it,start_it,units = 'min')),4)\n",
    "        \n",
    "        msgformat_process <- 'Elapsed time for Fold %s : %s minutes'\n",
    "        \n",
    "        msg_process <- sprintf(msgformat_process,i,process)\n",
    "        \n",
    "        IRdisplay::display(msg_score)\n",
    "        IRdisplay::display(msg_threshold)\n",
    "        \n",
    "        IRdisplay::display(config$slicer_2)\n",
    "        \n",
    "        IRdisplay::display(msg_process)\n",
    "        \n",
    "        IRdisplay::display(config$slicer_1)\n",
    "    }\n",
    "    msgformat2 <- 'CV Mean F1 : %s'\n",
    "    IRdisplay::display(sprintf(msgformat2,round(mean(errors,na.rm = T),4)))\n",
    "    \n",
    "    feature_importance_plot <- feature_importances %>%\n",
    "    summarise_all(mean) %>%\n",
    "    t %>%\n",
    "    as.data.table(keep.rownames = T) %>%\n",
    "    ggplot(aes(rn,V1))+\n",
    "    geom_bar(stat = 'identity')+\n",
    "    xlab('Variable')+\n",
    "    ylab('Importance')+\n",
    "    ggtitle('Variable Importance Plot')\n",
    "    \n",
    "    return(list(models = models,preds = preds,fi = feature_importance_plot))\n",
    "    \n",
    "    \n",
    "}"
   ]
  },
  {
   "cell_type": "code",
   "execution_count": 114,
   "id": "682e37d4-92d1-4a00-9cd0-4c19c7b0f99f",
   "metadata": {},
   "outputs": [],
   "source": [
    "enc <- function(x){\n",
    "    case_when(x == '<=50K' ~ 0,\n",
    "              x == '>50K' ~ 1)\n",
    "}\n",
    "\n",
    "encback <- function(x){\n",
    "    case_when(x == 0 ~ '<=50K',\n",
    "              x == 1 ~ '>50K')\n",
    "}"
   ]
  },
  {
   "cell_type": "code",
   "execution_count": 115,
   "id": "eb8be5f3-bf8a-4cf7-ae20-82f2644b7009",
   "metadata": {},
   "outputs": [],
   "source": [
    "if(FALSE){\n",
    "\n",
    "    data_sl <- data.table()\n",
    "\n",
    "    for(i in c(LETTERS[1:10],letters[1:20])){\n",
    "        charmi <- sample(c(TRUE,FALSE),size = 1)\n",
    "        ortsec <- sample(200:500,size = 1)\n",
    "        sdsec <- sample(100:1000,size = 1)\n",
    "        if(charmi){\n",
    "            data_sl[,(i) := sample(c(LETTERS,NA),size = 1.7e4,replace = T)]\n",
    "        }else{\n",
    "            data_sl[,(i) := sample(c(rnorm(n = 2e6,mean = ortsec,sd = sdsec),NA),size = 1.7e4,replace = T)]\n",
    "        }\n",
    "    }\n",
    "\n",
    "    data_sl[,default := sample(c('No','Yes'),size = 1.7e4,prob = c(.93,.07),replace = T)]\n",
    "}"
   ]
  },
  {
   "cell_type": "code",
   "execution_count": 116,
   "id": "deadaed4-9225-415c-be29-1e23195cbc69",
   "metadata": {},
   "outputs": [],
   "source": [
    "set.seed(571)\n",
    "traindex <- createDataPartition(df[[config$label]],p = .8,times = 1,list = FALSE) %>% as.numeric\n",
    "train_set <- df[traindex,]\n",
    "test_set <- df[-traindex,]"
   ]
  },
  {
   "cell_type": "code",
   "execution_count": 117,
   "id": "6c896619-0639-4634-9327-e9fce35ee3e7",
   "metadata": {},
   "outputs": [
    {
     "name": "stderr",
     "output_type": "stream",
     "text": [
      "Data sparsed.\n",
      "\n",
      "Scaling factors calculated.\n",
      "\n",
      "Missing values labeled.\n",
      "\n",
      "Data scaled.\n",
      "\n",
      "Got distinct values for nominals.\n",
      "\n",
      "Data dummied.\n",
      "\n",
      "All done !\n",
      "\n",
      "Data sparsed.\n",
      "\n",
      "Scaling factors calculated.\n",
      "\n",
      "Missing values labeled.\n",
      "\n",
      "Data scaled.\n",
      "\n",
      "Unseen values removed from test set.\n",
      "\n",
      "Train & test set nominal levels fetched.\n",
      "\n",
      "Data dummied.\n",
      "\n",
      "All done !\n",
      "\n"
     ]
    }
   ],
   "source": [
    "train_ok <- train_set %>% make_frame(config = config)\n",
    "test_ok <- test_set %>% select(-salary) %>% make_frame(test = T,train_frame = train_ok,config = config)"
   ]
  },
  {
   "cell_type": "code",
   "execution_count": null,
   "id": "c8a6ccff-db9b-44f0-aa3b-3c9744fbbd2f",
   "metadata": {},
   "outputs": [
    {
     "name": "stderr",
     "output_type": "stream",
     "text": [
      "Bayesian tuning started..\n",
      "\n",
      "\n",
      "\n",
      "\u001b[30m❯\u001b[39m \u001b[30m Generating a set of 5 initial parameter results\u001b[39m\n",
      "\n",
      "\u001b[33m!\u001b[39m \u001b[33mFold1: internal:\n",
      "  While computing binary `precision()`, no predicted events were detecte...\n",
      "  Precision is undefined in this case, and `NA` will be returned.\n",
      "  Note that 0 true event(s) actually occured for the problematic event l...\n",
      "  Recall is undefined in this case, and `NA` will be returned.\n",
      "  Note that 0 predicted event(s) actually occured for the problematic ev...\u001b[39m\n",
      "\n",
      "\u001b[33m!\u001b[39m \u001b[33mFold2: internal:\n",
      "  While computing binary `precision()`, no predicted events were detecte...\n",
      "  Precision is undefined in this case, and `NA` will be returned.\n",
      "  Note that 0 true event(s) actually occured for the problematic event l...\n",
      "  Recall is undefined in this case, and `NA` will be returned.\n",
      "  Note that 0 predicted event(s) actually occured for the problematic ev...\u001b[39m\n",
      "\n",
      "\u001b[33m!\u001b[39m \u001b[33mFold3: internal:\n",
      "  While computing binary `precision()`, no predicted events were detecte...\n",
      "  Precision is undefined in this case, and `NA` will be returned.\n",
      "  Note that 0 true event(s) actually occured for the problematic event l...\n",
      "  Recall is undefined in this case, and `NA` will be returned.\n",
      "  Note that 0 predicted event(s) actually occured for the problematic ev...\u001b[39m\n",
      "\n",
      "\u001b[32m✓\u001b[39m \u001b[30mInitialization complete\u001b[39m\n",
      "\n",
      "\n",
      "\n",
      "Optimizing f_meas using the expected improvement\n",
      "\n",
      "\n",
      "\n",
      "── \u001b[1mIteration 1\u001b[22m ─────────────────────────────────────────────────────────────────────────────────────────────────────────\n",
      "\n",
      "\n",
      "\n",
      "\u001b[34mi\u001b[39m \u001b[30mCurrent best:\t\tf_meas=NA (@iter NA)\u001b[39m\n",
      "\n",
      "\u001b[34mi\u001b[39m \u001b[30mGaussian process model\u001b[39m\n",
      "\n",
      "\u001b[31m!\u001b[39m \u001b[31mAll of the f_meas estimates were missing. The Gaussian process model cannot\u001b[39m\n",
      "  \u001b[31mbe fit to the data.\u001b[39m\n",
      "\n",
      "\u001b[33m!\u001b[39m \u001b[33mGaussian process model: min için eksik olmayan argüman yok; Inf döndürülüyor, max için eksik olm...\u001b[39m\n",
      "\n",
      "\u001b[31mx\u001b[39m \u001b[31mGaussian process model: Error in seq_len(n - 1L): argüman negatif olmayan tamsayıya zorlanabilmeli\u001b[39m\n",
      "\n"
     ]
    },
    {
     "ename": "ERROR",
     "evalue": "\u001b[1m\u001b[33mError\u001b[39m in \u001b[1m\u001b[1m`check_gp_failure()`:\u001b[22m\n\u001b[33m!\u001b[39m Gaussian process model was not fit.\n",
     "output_type": "error",
     "traceback": [
      "\u001b[1m\u001b[33mError\u001b[39m in \u001b[1m\u001b[1m`check_gp_failure()`:\u001b[22m\n\u001b[33m!\u001b[39m Gaussian process model was not fit.\nTraceback:\n",
      "1. cross_validate(train_ok, test_ok, folds = fld, config = config, \n .     label_encoder = enc, label_back_encoder = encback)",
      "2. tuner(folds = folds, train_frame = train_data$data, label = train_data$label, \n .     config = config)   # at line 16 of file <text>",
      "3. tune_bayes(object = modelspec, preprocessor = rcp_format, iter = config$tune_iter, \n .     resamples = rsmpl, metrics = metric, control = ctrl, initial = 5)   # at line 34 of file <text>",
      "4. tune_bayes.model_spec(object = modelspec, preprocessor = rcp_format, \n .     iter = config$tune_iter, resamples = rsmpl, metrics = metric, \n .     control = ctrl, initial = 5)",
      "5. tune_bayes_workflow(wflow, resamples = resamples, iter = iter, \n .     param_info = param_info, metrics = metrics, objective = objective, \n .     initial = initial, control = control, ...)",
      "6. check_gp_failure(gp_mod, prev_gp_mod)",
      "7. rlang::abort(\"Gaussian process model was not fit.\")",
      "8. signal_abort(cnd, .file)"
     ]
    },
    {
     "name": "stderr",
     "output_type": "stream",
     "text": [
      "\u001b[31m✖\u001b[39m Optimization stopped prematurely; returning current results.\n",
      "\n"
     ]
    },
    {
     "data": {
      "text/html": [
       "'*-*-*-*-*-*-*-*-*-*-*-*-*-*-*-*-*-*-*-*-*-*-*'"
      ],
      "text/latex": [
       "'*-*-*-*-*-*-*-*-*-*-*-*-*-*-*-*-*-*-*-*-*-*-*'"
      ],
      "text/markdown": [
       "'*-*-*-*-*-*-*-*-*-*-*-*-*-*-*-*-*-*-*-*-*-*-*'"
      ],
      "text/plain": [
       "[1] \"*-*-*-*-*-*-*-*-*-*-*-*-*-*-*-*-*-*-*-*-*-*-*\""
      ]
     },
     "metadata": {},
     "output_type": "display_data"
    },
    {
     "data": {
      "text/html": [
       "'Fold 1 F1 : 0.7071'"
      ],
      "text/latex": [
       "'Fold 1 F1 : 0.7071'"
      ],
      "text/markdown": [
       "'Fold 1 F1 : 0.7071'"
      ],
      "text/plain": [
       "[1] \"Fold 1 F1 : 0.7071\""
      ]
     },
     "metadata": {},
     "output_type": "display_data"
    },
    {
     "data": {
      "text/html": [
       "'Best threshold for Fold 1 : 0.53'"
      ],
      "text/latex": [
       "'Best threshold for Fold 1 : 0.53'"
      ],
      "text/markdown": [
       "'Best threshold for Fold 1 : 0.53'"
      ],
      "text/plain": [
       "[1] \"Best threshold for Fold 1 : 0.53\""
      ]
     },
     "metadata": {},
     "output_type": "display_data"
    },
    {
     "data": {
      "text/html": [
       "'_____________________________________________'"
      ],
      "text/latex": [
       "'\\_\\_\\_\\_\\_\\_\\_\\_\\_\\_\\_\\_\\_\\_\\_\\_\\_\\_\\_\\_\\_\\_\\_\\_\\_\\_\\_\\_\\_\\_\\_\\_\\_\\_\\_\\_\\_\\_\\_\\_\\_\\_\\_\\_\\_'"
      ],
      "text/markdown": [
       "'_____________________________________________'"
      ],
      "text/plain": [
       "[1] \"_____________________________________________\""
      ]
     },
     "metadata": {},
     "output_type": "display_data"
    },
    {
     "data": {
      "text/html": [
       "'Elapsed time for Fold 1 : 0.7306 minutes'"
      ],
      "text/latex": [
       "'Elapsed time for Fold 1 : 0.7306 minutes'"
      ],
      "text/markdown": [
       "'Elapsed time for Fold 1 : 0.7306 minutes'"
      ],
      "text/plain": [
       "[1] \"Elapsed time for Fold 1 : 0.7306 minutes\""
      ]
     },
     "metadata": {},
     "output_type": "display_data"
    },
    {
     "data": {
      "text/html": [
       "'*-*-*-*-*-*-*-*-*-*-*-*-*-*-*-*-*-*-*-*-*-*-*'"
      ],
      "text/latex": [
       "'*-*-*-*-*-*-*-*-*-*-*-*-*-*-*-*-*-*-*-*-*-*-*'"
      ],
      "text/markdown": [
       "'*-*-*-*-*-*-*-*-*-*-*-*-*-*-*-*-*-*-*-*-*-*-*'"
      ],
      "text/plain": [
       "[1] \"*-*-*-*-*-*-*-*-*-*-*-*-*-*-*-*-*-*-*-*-*-*-*\""
      ]
     },
     "metadata": {},
     "output_type": "display_data"
    },
    {
     "data": {
      "text/html": [
       "'Fold 2 F1 : 0.696'"
      ],
      "text/latex": [
       "'Fold 2 F1 : 0.696'"
      ],
      "text/markdown": [
       "'Fold 2 F1 : 0.696'"
      ],
      "text/plain": [
       "[1] \"Fold 2 F1 : 0.696\""
      ]
     },
     "metadata": {},
     "output_type": "display_data"
    },
    {
     "data": {
      "text/html": [
       "'Best threshold for Fold 2 : 0.48'"
      ],
      "text/latex": [
       "'Best threshold for Fold 2 : 0.48'"
      ],
      "text/markdown": [
       "'Best threshold for Fold 2 : 0.48'"
      ],
      "text/plain": [
       "[1] \"Best threshold for Fold 2 : 0.48\""
      ]
     },
     "metadata": {},
     "output_type": "display_data"
    },
    {
     "data": {
      "text/html": [
       "'_____________________________________________'"
      ],
      "text/latex": [
       "'\\_\\_\\_\\_\\_\\_\\_\\_\\_\\_\\_\\_\\_\\_\\_\\_\\_\\_\\_\\_\\_\\_\\_\\_\\_\\_\\_\\_\\_\\_\\_\\_\\_\\_\\_\\_\\_\\_\\_\\_\\_\\_\\_\\_\\_'"
      ],
      "text/markdown": [
       "'_____________________________________________'"
      ],
      "text/plain": [
       "[1] \"_____________________________________________\""
      ]
     },
     "metadata": {},
     "output_type": "display_data"
    },
    {
     "data": {
      "text/html": [
       "'Elapsed time for Fold 2 : 0.7934 minutes'"
      ],
      "text/latex": [
       "'Elapsed time for Fold 2 : 0.7934 minutes'"
      ],
      "text/markdown": [
       "'Elapsed time for Fold 2 : 0.7934 minutes'"
      ],
      "text/plain": [
       "[1] \"Elapsed time for Fold 2 : 0.7934 minutes\""
      ]
     },
     "metadata": {},
     "output_type": "display_data"
    },
    {
     "data": {
      "text/html": [
       "'*-*-*-*-*-*-*-*-*-*-*-*-*-*-*-*-*-*-*-*-*-*-*'"
      ],
      "text/latex": [
       "'*-*-*-*-*-*-*-*-*-*-*-*-*-*-*-*-*-*-*-*-*-*-*'"
      ],
      "text/markdown": [
       "'*-*-*-*-*-*-*-*-*-*-*-*-*-*-*-*-*-*-*-*-*-*-*'"
      ],
      "text/plain": [
       "[1] \"*-*-*-*-*-*-*-*-*-*-*-*-*-*-*-*-*-*-*-*-*-*-*\""
      ]
     },
     "metadata": {},
     "output_type": "display_data"
    }
   ],
   "source": [
    "fld <- create_folds(train_ok,config = config)\n",
    "cved <- cross_validate(train_ok,test_ok,folds = fld,config = config,label_encoder = enc,label_back_encoder =encback)"
   ]
  },
  {
   "cell_type": "code",
   "execution_count": 413,
   "id": "766f4fb4-8b7e-44d5-99eb-1a2409e9845b",
   "metadata": {},
   "outputs": [],
   "source": [
    "df <- cved$preds %>% as.data.frame"
   ]
  },
  {
   "cell_type": "code",
   "execution_count": 414,
   "id": "fb26a9ff-199c-464e-a632-af660bf418b4",
   "metadata": {},
   "outputs": [],
   "source": [
    "colnames(df) <- paste0('Fold',1:3)"
   ]
  },
  {
   "cell_type": "code",
   "execution_count": 415,
   "id": "3016247e-05c8-41bf-a525-d13f52b6a150",
   "metadata": {},
   "outputs": [],
   "source": [
    "kk <- df %>% rowwise %>% mutate(pred = fmode(Fold1,Fold2,Fold3)) %>% as.data.table"
   ]
  },
  {
   "cell_type": "code",
   "execution_count": 416,
   "id": "e1d59e76-e92e-4a60-93a2-064443a0d455",
   "metadata": {},
   "outputs": [],
   "source": [
    "obs <- test_set %>% select(salary) %>% pull %>% as.factor"
   ]
  },
  {
   "cell_type": "code",
   "execution_count": 417,
   "id": "7da7e421-0a7a-4a94-ad7b-a89d6a865beb",
   "metadata": {},
   "outputs": [],
   "source": [
    "prd <- kk %>% select(pred) %>% pull %>% as.factor"
   ]
  },
  {
   "cell_type": "code",
   "execution_count": 418,
   "id": "15af2dc6-05bd-407b-9fd0-c78b26e33214",
   "metadata": {},
   "outputs": [
    {
     "data": {
      "text/html": [
       "0.709697933227345"
      ],
      "text/latex": [
       "0.709697933227345"
      ],
      "text/markdown": [
       "0.709697933227345"
      ],
      "text/plain": [
       "[1] 0.7096979"
      ]
     },
     "metadata": {},
     "output_type": "display_data"
    }
   ],
   "source": [
    "f_meas_vec(truth = obs,estimate = prd,event_level = 'second')"
   ]
  },
  {
   "cell_type": "code",
   "execution_count": 35,
   "id": "e2b73b8d-8b81-4e6b-8bd7-688bfd497fe4",
   "metadata": {},
   "outputs": [],
   "source": [
    "trn <- df[traindex,]\n",
    "tst <- df[-traindex,]"
   ]
  },
  {
   "cell_type": "code",
   "execution_count": 39,
   "id": "488ccb01-804e-4c8e-ad46-8780734cd3ef",
   "metadata": {},
   "outputs": [],
   "source": [
    "folds <- 1:length(fld)"
   ]
  },
  {
   "cell_type": "code",
   "execution_count": 218,
   "id": "4d5a0423-892c-49a7-9f9e-414fab4f4e9f",
   "metadata": {},
   "outputs": [],
   "source": [
    "prm <- list(learning_rate = config$learning_rate,iterations = config$iter,\n",
    "                loss_function = config$objective,auto_class_weights = config$auto_class_weights,\n",
    "                verbose = 0,custom_loss = config$loss_fun,eval_metric = config$eval_metric,\n",
    "                use_best_model = config$use_best,task_type = config$task,devices = config$device,\n",
    "                early_stopping_rounds = config$early_stopping_rounds,od_type = 'Iter')"
   ]
  },
  {
   "cell_type": "code",
   "execution_count": 219,
   "id": "62611e8d-8b43-4770-a144-aa950b8babb3",
   "metadata": {},
   "outputs": [
    {
     "data": {
      "text/html": [
       "<style>\n",
       ".list-inline {list-style: none; margin:0; padding: 0}\n",
       ".list-inline>li {display: inline-block}\n",
       ".list-inline>li:not(:last-child)::after {content: \"\\00b7\"; padding: 0 .5ex}\n",
       "</style>\n",
       "<ol class=list-inline><li>1</li><li>2</li><li>3</li></ol>\n"
      ],
      "text/latex": [
       "\\begin{enumerate*}\n",
       "\\item 1\n",
       "\\item 2\n",
       "\\item 3\n",
       "\\end{enumerate*}\n"
      ],
      "text/markdown": [
       "1. 1\n",
       "2. 2\n",
       "3. 3\n",
       "\n",
       "\n"
      ],
      "text/plain": [
       "[1] 1 2 3"
      ]
     },
     "metadata": {},
     "output_type": "display_data"
    }
   ],
   "source": [
    "folds"
   ]
  },
  {
   "cell_type": "code",
   "execution_count": 220,
   "id": "d38d9234-02cd-4042-b9c2-f1528b8cbb8a",
   "metadata": {},
   "outputs": [
    {
     "data": {
      "text/html": [
       "'*-*-*-*-*-*-*-*-*-*-*-*-*-*-*-*-*-*-*-*-*-*-*'"
      ],
      "text/latex": [
       "'*-*-*-*-*-*-*-*-*-*-*-*-*-*-*-*-*-*-*-*-*-*-*'"
      ],
      "text/markdown": [
       "'*-*-*-*-*-*-*-*-*-*-*-*-*-*-*-*-*-*-*-*-*-*-*'"
      ],
      "text/plain": [
       "[1] \"*-*-*-*-*-*-*-*-*-*-*-*-*-*-*-*-*-*-*-*-*-*-*\""
      ]
     },
     "metadata": {},
     "output_type": "display_data"
    },
    {
     "data": {
      "text/html": [
       "'Fold 1 F1 : 0.7347'"
      ],
      "text/latex": [
       "'Fold 1 F1 : 0.7347'"
      ],
      "text/markdown": [
       "'Fold 1 F1 : 0.7347'"
      ],
      "text/plain": [
       "[1] \"Fold 1 F1 : 0.7347\""
      ]
     },
     "metadata": {},
     "output_type": "display_data"
    },
    {
     "data": {
      "text/html": [
       "'Best threshold for Fold 1 : 0.58'"
      ],
      "text/latex": [
       "'Best threshold for Fold 1 : 0.58'"
      ],
      "text/markdown": [
       "'Best threshold for Fold 1 : 0.58'"
      ],
      "text/plain": [
       "[1] \"Best threshold for Fold 1 : 0.58\""
      ]
     },
     "metadata": {},
     "output_type": "display_data"
    },
    {
     "data": {
      "text/html": [
       "'_____________________________________________'"
      ],
      "text/latex": [
       "'\\_\\_\\_\\_\\_\\_\\_\\_\\_\\_\\_\\_\\_\\_\\_\\_\\_\\_\\_\\_\\_\\_\\_\\_\\_\\_\\_\\_\\_\\_\\_\\_\\_\\_\\_\\_\\_\\_\\_\\_\\_\\_\\_\\_\\_'"
      ],
      "text/markdown": [
       "'_____________________________________________'"
      ],
      "text/plain": [
       "[1] \"_____________________________________________\""
      ]
     },
     "metadata": {},
     "output_type": "display_data"
    },
    {
     "data": {
      "text/html": [
       "'*-*-*-*-*-*-*-*-*-*-*-*-*-*-*-*-*-*-*-*-*-*-*'"
      ],
      "text/latex": [
       "'*-*-*-*-*-*-*-*-*-*-*-*-*-*-*-*-*-*-*-*-*-*-*'"
      ],
      "text/markdown": [
       "'*-*-*-*-*-*-*-*-*-*-*-*-*-*-*-*-*-*-*-*-*-*-*'"
      ],
      "text/plain": [
       "[1] \"*-*-*-*-*-*-*-*-*-*-*-*-*-*-*-*-*-*-*-*-*-*-*\""
      ]
     },
     "metadata": {},
     "output_type": "display_data"
    },
    {
     "data": {
      "text/html": [
       "'CV Mean F1 : 0.7347'"
      ],
      "text/latex": [
       "'CV Mean F1 : 0.7347'"
      ],
      "text/markdown": [
       "'CV Mean F1 : 0.7347'"
      ],
      "text/plain": [
       "[1] \"CV Mean F1 : 0.7347\""
      ]
     },
     "metadata": {},
     "output_type": "display_data"
    }
   ],
   "source": [
    "preds <- list()\n",
    "errors <- c()\n",
    "IRdisplay::display(config$slicer_1)\n",
    "for(i in folds[1]){\n",
    "    train_indice <- setdiff(folds,i)\n",
    "    test_indice <- i\n",
    "    \n",
    "    train_x <- trn[unlist(fld[train_indice]),] %>% select(-salary) %>% mutate_if(function(x) !is.numeric(x),as.factor)\n",
    "    test_x <- trn[unlist(fld[test_indice]),] %>% select(-salary) %>% mutate_if(function(x) !is.numeric(x),as.factor)\n",
    "    \n",
    "    train_y <- trn[unlist(fld[train_indice]),] %>% select(salary) %>% pull %>% enc %>% as.integer\n",
    "    test_y <- trn[unlist(fld[test_indice]),] %>% select(salary) %>% pull %>% enc %>% as.integer\n",
    "    \n",
    "    train_frame <- catboost::catboost.load_pool(data = train_x,label = train_y)\n",
    "    test_frame <- catboost::catboost.load_pool(data = test_x,label = test_y)\n",
    "                                                                               \n",
    "    cat_model <- catboost::catboost.train(learn_pool = train_frame,test_pool = test_frame,params = prm)\n",
    "                                                                               \n",
    "                                                                               \n",
    "    prediction_to_threshold <- catboost.predict(cat_model,test_frame,prediction_type='Probability')\n",
    "        \n",
    "    thresholded <- fold_threshold(y_probs = prediction_to_threshold,y_test = test_y)\n",
    "\n",
    "    msgformat_score <- 'Fold %s F1 : %s'\n",
    "    msgformat_threshold <- 'Best threshold for Fold %s : %s'\n",
    "\n",
    "    msg_score <- sprintf(msgformat_score,i,round(thresholded$score,4))\n",
    "    msg_threshold <- sprintf(msgformat_threshold,i,thresholded$threshold)\n",
    "                                                                               \n",
    "    target_data <- tst %>% select(-salary) %>% mutate_if(function(x) !is.numeric(x),as.factor)\n",
    "\n",
    "    prediction <- catboost.predict(cat_model,catboost.load_pool(target_data),prediction_type='Probability')\n",
    "\n",
    "    prediction_class <- +(prediction >= thresholded$threshold) %>% encback\n",
    "\n",
    "    preds[[i]] <- prediction_class\n",
    "                                                                               \n",
    "    errors[i] <- thresholded$score\n",
    "    \n",
    "    IRdisplay::display(msg_score)\n",
    "                                                                               \n",
    "    IRdisplay::display(msg_threshold)\n",
    "\n",
    "    IRdisplay::display(config$slicer_2)\n",
    "\n",
    "    IRdisplay::display(config$slicer_1)\n",
    "                                                                               \n",
    "}\n",
    "                                                                               \n",
    "\n",
    "msgformat2 <- 'CV Mean F1 : %s'\n",
    "IRdisplay::display(sprintf(msgformat2,round(mean(errors,na.rm = T),4)))"
   ]
  },
  {
   "cell_type": "code",
   "execution_count": 67,
   "id": "cc67c29b-408e-4b17-931c-5741f75dd713",
   "metadata": {},
   "outputs": [],
   "source": [
    "prd <- preds %>% as.data.frame"
   ]
  },
  {
   "cell_type": "code",
   "execution_count": 69,
   "id": "0fab7204-bb35-4b90-9dde-20cadf0f5701",
   "metadata": {},
   "outputs": [],
   "source": [
    "colnames(prd) <- paste0('Fold',1:3)"
   ]
  },
  {
   "cell_type": "code",
   "execution_count": 70,
   "id": "6c0c43f2-af24-49fd-a04d-89b2a38f760d",
   "metadata": {},
   "outputs": [],
   "source": [
    "kk <- prd %>% rowwise %>% mutate(pred = fmode(Fold1,Fold2,Fold3)) %>% as.data.table"
   ]
  },
  {
   "cell_type": "code",
   "execution_count": 72,
   "id": "ba3f67f7-d1a5-41af-9871-32bffd2f5c86",
   "metadata": {},
   "outputs": [],
   "source": [
    "obs <- test_set %>% select(salary) %>% pull %>% as.factor"
   ]
  },
  {
   "cell_type": "code",
   "execution_count": 77,
   "id": "7e6f6e73-39e2-41b0-9a7c-495b7bb53644",
   "metadata": {},
   "outputs": [],
   "source": [
    "prd2 <- kk %>% select(pred) %>% pull %>% as.factor"
   ]
  },
  {
   "cell_type": "code",
   "execution_count": 78,
   "id": "6f23f7d0-0b49-4c8f-b43d-04cb3d545ad6",
   "metadata": {},
   "outputs": [
    {
     "data": {
      "text/html": [
       "0.728626943005181"
      ],
      "text/latex": [
       "0.728626943005181"
      ],
      "text/markdown": [
       "0.728626943005181"
      ],
      "text/plain": [
       "[1] 0.7286269"
      ]
     },
     "metadata": {},
     "output_type": "display_data"
    }
   ],
   "source": [
    "f_meas_vec(truth = obs,estimate = prd2,event_level = 'second')"
   ]
  }
 ],
 "metadata": {
  "kernelspec": {
   "display_name": "R",
   "language": "R",
   "name": "ir"
  },
  "language_info": {
   "codemirror_mode": "r",
   "file_extension": ".r",
   "mimetype": "text/x-r-source",
   "name": "R",
   "pygments_lexer": "r",
   "version": "4.2.0"
  }
 },
 "nbformat": 4,
 "nbformat_minor": 5
}
