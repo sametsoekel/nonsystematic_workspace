{
 "cells": [
  {
   "cell_type": "code",
   "execution_count": 10,
   "id": "4312c693-ce37-4c17-b4d0-6bcf9a23c254",
   "metadata": {},
   "outputs": [
    {
     "name": "stderr",
     "output_type": "stream",
     "text": [
      "Installing package into 'C:/Users/samet.sokel/AppData/Local/R/win-library/4.2'\n",
      "(as 'lib' is unspecified)\n",
      "\n",
      "also installing the dependencies 'countrycode', 'corrplot', 'RJSONIO', 'rjson', 'tidyjson', 'echarts4r', 'magick'\n",
      "\n",
      "\n"
     ]
    },
    {
     "name": "stdout",
     "output_type": "stream",
     "text": [
      "package 'countrycode' successfully unpacked and MD5 sums checked\n",
      "package 'corrplot' successfully unpacked and MD5 sums checked\n",
      "package 'RJSONIO' successfully unpacked and MD5 sums checked\n",
      "package 'rjson' successfully unpacked and MD5 sums checked\n",
      "package 'tidyjson' successfully unpacked and MD5 sums checked\n",
      "package 'echarts4r' successfully unpacked and MD5 sums checked\n",
      "package 'magick' successfully unpacked and MD5 sums checked\n",
      "package 'kerastuneR' successfully unpacked and MD5 sums checked\n",
      "\n",
      "The downloaded binary packages are in\n",
      "\tC:\\Users\\samet.sokel\\AppData\\Local\\Temp\\Rtmp0q49iG\\downloaded_packages\n"
     ]
    }
   ],
   "source": [
    "suppressWarnings({suppressMessages({is_installed <- require('kerastuneR')})})\n",
    "\n",
    "if(!is_installed){\n",
    "    install.packages('kerastuneR')\n",
    "}"
   ]
  },
  {
   "cell_type": "code",
   "execution_count": 12,
   "id": "eae2a79b-0ab1-4e5d-805f-258e6d4fb0f7",
   "metadata": {},
   "outputs": [],
   "source": [
    "library(keras)\n",
    "library(rsample)\n",
    "library(tensorflow)\n",
    "library(kerastuneR)"
   ]
  },
  {
   "cell_type": "code",
   "execution_count": 64,
   "id": "1f1b4de8-5b75-48e0-968e-081ff36c7283",
   "metadata": {},
   "outputs": [],
   "source": [
    "set.seed(1)\n",
    "\n",
    "willsee <- caret::createDataPartition(iris[['Sepal.Width']],list = FALSE,p = .8)\n",
    "\n",
    "train <- iris[willsee,][,-5]\n",
    "test <- iris[-willsee,][,-5]\n",
    "\n",
    "\n",
    "recete <- Sepal.Width ~ .\n",
    "\n",
    "tarif <- recipes::recipe(recete,train) %>%\n",
    "recipes::step_normalize(recipes::all_numeric_predictors())\n",
    "\n",
    "train <- tarif %>% recipes::prep() %>% recipes::bake(new_data=train)\n",
    "test <- tarif %>% recipes::prep() %>% recipes::bake(new_data=test)\n",
    "\n",
    "train_x <- train[,-4] %>% as.matrix\n",
    "test_x <- test[,-4] %>% as.matrix\n",
    "\n",
    "train_y <- train[,4] %>% as.matrix\n",
    "test_y <- test[,4] %>% as.matrix"
   ]
  },
  {
   "cell_type": "code",
   "execution_count": 65,
   "id": "7bbec9c3-1d10-4ed0-b8fa-a857a81f0e91",
   "metadata": {},
   "outputs": [],
   "source": [
    "hp = HyperParameters()\n",
    "hp$Choice('learning_rate', c(1e-1, 1e-3))\n",
    "hp$Int('num_layers', 2L, 20L)\n",
    "\n",
    "\n",
    "mnist_model = function(hp) {\n",
    "  \n",
    "  model = keras_model_sequential() %>% \n",
    "    layer_flatten(input_shape = c(28,28))\n",
    "  for (i in 1:(hp$get('num_layers')) ) {\n",
    "    model %>% layer_dense(32, activation='relu') %>% \n",
    "      layer_dense(units = 10, activation='softmax')\n",
    "  } %>% \n",
    "    compile(\n",
    "      optimizer = tf$keras$optimizers$Adam(hp$get('learning_rate')),\n",
    "      loss = 'sparse_categorical_crossentropy',\n",
    "      metrics = 'accuracy') \n",
    "  return(model)\n",
    "  \n",
    "}\n",
    "\n"
   ]
  },
  {
   "cell_type": "code",
   "execution_count": 69,
   "id": "f2121a89-599f-4977-b5d6-cae03de71dfe",
   "metadata": {},
   "outputs": [],
   "source": [
    "tuner <- RandomSearch(\n",
    "  build_model,\n",
    "  objective = 'val_mean_absolute_error',\n",
    "  max_trials = 5,\n",
    "  executions_per_trial = 3,\n",
    "  directory = 'my_dir2',\n",
    "  project_name = 'aa')"
   ]
  },
  {
   "cell_type": "code",
   "execution_count": 70,
   "id": "6e2fa88b-8f27-4300-85bc-090f0d311f33",
   "metadata": {},
   "outputs": [],
   "source": [
    "tuner %>% search_summary()\n",
    " \n",
    "\n",
    "tuner %>% fit_tuner(train_x,train_y,\n",
    "                    epochs=10, \n",
    "                    validation_data = list(test_x,test_y))"
   ]
  },
  {
   "cell_type": "code",
   "execution_count": 74,
   "id": "bbaf36c8-121e-447c-9108-21f9b0932585",
   "metadata": {},
   "outputs": [
    {
     "ename": "ERROR",
     "evalue": "Error in py_call_impl(callable, dots$args, dots$keywords): TypeError: __init__() takes 1 positional argument but 2 were given\n\n",
     "output_type": "error",
     "traceback": [
      "Error in py_call_impl(callable, dots$args, dots$keywords): TypeError: __init__() takes 1 positional argument but 2 were given\n\nTraceback:\n",
      "1. tuner %>% get_best_models(1) %>% kerastuneR::HyperParameters()",
      "2. kerastuneR::HyperParameters(.)",
      "3. do.call(kerastuner$HyperParameters, args = args)",
      "4. (structure(function (...) \n . {\n .     dots <- py_resolve_dots(list(...))\n .     result <- py_call_impl(callable, dots$args, dots$keywords)\n .     if (convert) \n .         result <- py_to_r(result)\n .     if (is.null(result)) \n .         invisible(result)\n .     else result\n . }, class = c(\"python.builtin.type\", \"python.builtin.object\"), py_object = <environment>))(list(\n .     structure(function (object, ...) \n .     {\n .         compose_layer(object, x, ...)\n .     }, class = c(\"keras.engine.sequential.Sequential\", \"keras.engine.functional.Functional\", \n .     \"keras.engine.training.Model\", \"keras.engine.base_layer.Layer\", \n .     \"tensorflow.python.module.module.Module\", \"tensorflow.python.trackable.autotrackable.AutoTrackable\", \n .     \"tensorflow.python.trackable.base.Trackable\", \"keras.utils.version_utils.LayerVersionSelector\", \n .     \"keras.utils.version_utils.ModelVersionSelector\", \"python.builtin.object\"\n .     ), py_object = <environment>)))",
      "5. py_call_impl(callable, dots$args, dots$keywords)"
     ]
    }
   ],
   "source": [
    "tuner %>% get_best_models(1) %>% kerastuneR::HyperParameters(...)"
   ]
  }
 ],
 "metadata": {
  "kernelspec": {
   "display_name": "R",
   "language": "R",
   "name": "ir"
  },
  "language_info": {
   "codemirror_mode": "r",
   "file_extension": ".r",
   "mimetype": "text/x-r-source",
   "name": "R",
   "pygments_lexer": "r",
   "version": "4.2.0"
  }
 },
 "nbformat": 4,
 "nbformat_minor": 5
}
