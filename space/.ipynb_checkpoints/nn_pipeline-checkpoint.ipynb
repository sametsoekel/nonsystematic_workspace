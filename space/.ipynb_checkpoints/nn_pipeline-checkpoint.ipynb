{
 "cells": [
  {
   "cell_type": "code",
   "execution_count": 222,
   "id": "97c41317-4f1e-45a0-859c-a8cfe47db93d",
   "metadata": {},
   "outputs": [],
   "source": [
    "suppressPackageStartupMessages({\n",
    "    library(data.table)\n",
    "    library(tidyverse)\n",
    "    library(tidymodels)\n",
    "    library(treesnip)\n",
    "    library(caret)\n",
    "    library(keras)\n",
    "    library(tensorflow)\n",
    "    library(collapse)\n",
    "})"
   ]
  },
  {
   "cell_type": "code",
   "execution_count": null,
   "id": "e6b1067d-714e-4dc9-8a45-9bf835386a80",
   "metadata": {},
   "outputs": [],
   "source": [
    "a <- sample(0:1,size = 20,replace = T)"
   ]
  },
  {
   "cell_type": "code",
   "execution_count": 224,
   "id": "9ce9bde6-34db-4b49-91aa-235e57f1c780",
   "metadata": {},
   "outputs": [],
   "source": [
    "label_encode <- function(x){\n",
    "    case_when(x == 'No' ~ 0,\n",
    "              x == 'Yes' ~ 1)\n",
    "}"
   ]
  },
  {
   "cell_type": "code",
   "execution_count": 239,
   "id": "65a57ec8-e57b-4449-8258-5e7b38216dda",
   "metadata": {},
   "outputs": [],
   "source": [
    "sparse_data <- function(df,sparse_percentage = 0.02){\n",
    "    \n",
    "    df_new <- copy(df) \n",
    "    setDT(df_new)\n",
    "    categorical_names <- df_new %>% purrr::discard(is.numeric) %>% colnames\n",
    "\n",
    "    for(i in categorical_names){\n",
    "        features <- df_new[,unique(.SD),.SDcols = i] %>% pull\n",
    "        \n",
    "        for(j in features){\n",
    "            \n",
    "            condition_format <- 'df_new[,length(%s[%s == \"%s\"])/.N < %s]'\n",
    "            condition_command <- sprintf(condition_format,i,i,j,sparse_percentage)\n",
    "        \n",
    "            condition <- eval(parse(text = condition_command))\n",
    "            \n",
    "            if(condition){\n",
    "                sparse_format <- 'df_new[%s == \"%s\", %s := \"other\"]'\n",
    "                sparse_command <- sprintf(sparse_format,i,j,i)\n",
    "                eval(parse(text = sparse_command))\n",
    "            } \n",
    "        }\n",
    "    }\n",
    "    df_new\n",
    "}"
   ]
  },
  {
   "cell_type": "code",
   "execution_count": 240,
   "id": "9da7b6f6-8629-4fcb-a780-aa4025c0bc4b",
   "metadata": {},
   "outputs": [],
   "source": [
    "get_scaling_factors <- function(df){\n",
    "    setDT(df)\n",
    "    factors <- lapply(df %>% keep(is.numeric),function(x) list(min = min(x,na.rm = T),max = max(x,na.rm = T)))\n",
    "    factors\n",
    "}      "
   ]
  },
  {
   "cell_type": "code",
   "execution_count": 241,
   "id": "a1962cf1-2b91-45bc-9246-370cf8a3b9a0",
   "metadata": {},
   "outputs": [],
   "source": [
    "scale_data <- function(df,scaling_factors,reverse = FALSE){\n",
    "    \n",
    "    data <- copy(df)\n",
    "    setDT(data)\n",
    "    for(i in names(scaling_factors)){\n",
    "        factors <- scaling_factors[[i]]\n",
    "        if(reverse){\n",
    "            data[,(i) := lapply(.SD,function(x) (x*(factors[['max']] - factors[['min']]) + factors[['min']])),.SDcols = i]\n",
    "        }else{\n",
    "            data[,(i) := lapply(.SD,function(x) (x - factors[['min']]) / (factors[['max']] - factors[['min']])),.SDcols = i]\n",
    "            data[,(i) := lapply(.SD,function(x) fifelse(is.na(x),-1,x)),.SDcols = i]\n",
    "        }  \n",
    "    }\n",
    "                                \n",
    "    catcols <- df %>% purrr::discard(is.numeric) %>% colnames\n",
    "    out <- list(scaling_factors = scaling_factors,data = data,cat_cols = catcols)\n",
    "    return(out)\n",
    "} "
   ]
  },
  {
   "cell_type": "code",
   "execution_count": 324,
   "id": "3411b5e2-342e-4afc-83c3-76a5a63c94c8",
   "metadata": {},
   "outputs": [],
   "source": [
    "clean_test_set <- function(scaled_data,categorical_cols,distinct_values_on_train){\n",
    "    df <- copy(scaled_data[['data']])\n",
    "    \n",
    "    make_paste <- function(x){\n",
    "    wrapped <- sapply(x,function(x) paste0('\"',x,'\"'))\n",
    "    paste0(wrapped,collapse = ',')\n",
    "    }       \n",
    "   \n",
    "    \n",
    "    for(i in categorical_cols){\n",
    "        distincts <- distinct_values_on_train[[i]]\n",
    "        distincts <- make_paste(distincts)\n",
    "        command_format <- \"df[! %s %%in%% c(%s), %s := 'Missing']\"\n",
    "        command <- sprintf(command_format,i,distincts,i)\n",
    "        eval(parse(text = command))\n",
    "    }\n",
    "                      \n",
    "    scaled_data[['data']] <- df\n",
    "                      \n",
    "    scaled_data\n",
    "}"
   ]
  },
  {
   "cell_type": "code",
   "execution_count": 325,
   "id": "e99bf439-dcc6-4da4-a7b6-f048076b7036",
   "metadata": {},
   "outputs": [],
   "source": [
    "get_distincts <- function(scaled_data){\n",
    "    df <- copy(scaled_data[['data']])\n",
    "    \n",
    "    catcols <- scaled_data[['cat_cols']]\n",
    "    \n",
    "    distincts <- list()\n",
    "    for(i in catcols){\n",
    "        distinct_values <- df[,unique(.SD),.SDcols = i] %>% pull %>% as.character\n",
    "        distincts[[i]] <- c(distinct_values,'Missing')\n",
    "        df[,(i) := lapply(.SD,function(x) as.character(x)),.SDcols = i]\n",
    "        df[,(i) := lapply(.SD,function(x) ifelse(is.na(x),'Missing',x)),.SDcols = i]\n",
    "        df[,(i) := lapply(.SD,function(x) factor(x,levels = distincts[[i]])),.SDcols = i]\n",
    "    }\n",
    "    \n",
    "    \n",
    "\n",
    "    scaled_data[['cat_distincts']] <- distincts\n",
    "    \n",
    "    scaled_data[['data']] <- df\n",
    "                          \n",
    "    scaled_data\n",
    "}"
   ]
  },
  {
   "cell_type": "code",
   "execution_count": 349,
   "id": "7fca393d-25f8-4640-87a2-5c7081e7eddc",
   "metadata": {},
   "outputs": [],
   "source": [
    "fetch_test_levels_to_train <- function(scaled_data,categorical_cols,distinct_values_on_train){\n",
    "    df <- copy(scaled_data[['data']])\n",
    "    \n",
    "    for(i in categorical_cols){\n",
    "        distincts <- distinct_values_on_train[[i]]\n",
    "        df[,(i) := lapply(.SD,function(x) factor(x,levels = distincts)),.SDcols = i]\n",
    "    }\n",
    "   \n",
    "    scaled_data[['data']] <- df\n",
    "    scaled_data\n",
    "}"
   ]
  },
  {
   "cell_type": "code",
   "execution_count": 350,
   "id": "bf30cd4e-4830-444f-8dbc-48db0ebae6d3",
   "metadata": {},
   "outputs": [],
   "source": [
    "dummy_data <- function(scaled_data){\n",
    "    df <- copy(scaled_data[['data']])\n",
    "    df_dummied <- recipe(df) %>% step_dummy(all_nominal()) %>% prep %>% bake(new_data = NULL)\n",
    "    scaled_data[['data']] <- df_dummied\n",
    "    scaled_data\n",
    "}"
   ]
  },
  {
   "cell_type": "code",
   "execution_count": 380,
   "id": "8e14847e-8d47-4da6-97ee-4f206407e2bd",
   "metadata": {},
   "outputs": [],
   "source": [
    "make_frame <- function(df,label,test = FALSE,train_frame = NULL,sparse_perc = 0.03){\n",
    "    dt <- copy(df)\n",
    "    setDT(dt)\n",
    "    if(!test){\n",
    "        target_ <- dt[[label]]\n",
    "        \n",
    "        dt[,(label) := NULL]\n",
    "    }\n",
    "    sparsed <- sparse_data(dt,sparse_percentage = sparse_perc)\n",
    "    gc()\n",
    "    base::message('Data sparsed.')\n",
    "    \n",
    "    if(!test){\n",
    "        scl <- get_scaling_factors(sparsed)\n",
    "    }else{\n",
    "        scl <- train_frame[['scaling_factors']]\n",
    "    }\n",
    "    gc()\n",
    "    base::message('Scaling factors calculated.')\n",
    "    base::message('Missing values labeled.')\n",
    "    scld <- scale_data(sparsed,scl)\n",
    "    gc()\n",
    "    base::message('Data scaled.')\n",
    "    \n",
    "    if(test){\n",
    "        scld <- clean_test_set(scld,train_frame[['cat_cols']],train_frame[['cat_distincts']])\n",
    "        base::message('Unseen values removed from test set.')\n",
    "        scld <- fetch_test_levels_to_train(scld,train_frame[['cat_cols']],train_frame[['cat_distincts']])\n",
    "        base::message('Train & test set nominal levels fetched.')\n",
    "    }\n",
    "    \n",
    "    if(!test){\n",
    "    distincted <- get_distincts(scld)\n",
    "    gc()\n",
    "    base::message('Got distinct values for nominals.')\n",
    "    }else{\n",
    "        distincted <- scld\n",
    "    }\n",
    "    \n",
    "    dummied <- dummy_data(distincted)\n",
    "    gc()\n",
    "    base::message('Data dummied.')\n",
    "    \n",
    "    if(!test){\n",
    "        dummied[['label_to_keras']] <- target_# %>% label_encode %>% keras::to_categorical()\n",
    "        dummied[['label']] <- target_ #%>% label_encode\n",
    "    }\n",
    "    \n",
    "    dummied[['data']] <- dummied[['data']] %>% as.matrix\n",
    "    base::message('All done !')\n",
    "    dummied\n",
    "}"
   ]
  },
  {
   "cell_type": "code",
   "execution_count": 381,
   "id": "92982dd2-f333-4f9e-81e7-1183b0382975",
   "metadata": {},
   "outputs": [],
   "source": [
    "data_sl <- data.table()\n",
    "\n",
    "for(i in c(LETTERS[1:10],letters[1:20])){\n",
    "    charmi <- sample(c(TRUE,FALSE),size = 1)\n",
    "    ortsec <- sample(200:500,size = 1)\n",
    "    sdsec <- sample(100:1000,size = 1)\n",
    "    if(charmi){\n",
    "        data_sl[,(i) := sample(c(LETTERS,NA),size = 2e5,replace = T)]\n",
    "    }else{\n",
    "        data_sl[,(i) := sample(c(rnorm(n = 2e2,mean = ortsec,sd = sdsec),NA),size = 2e5,replace = T)]\n",
    "    }\n",
    "}\n",
    "\n",
    "data_sl[,default := sample(c('No','Yes'),size = 2e5,prob = c(.93,.07),replace = T)]"
   ]
  },
  {
   "cell_type": "code",
   "execution_count": 428,
   "id": "9bd8aee4-1bc1-45fe-9491-c613050dcb26",
   "metadata": {},
   "outputs": [],
   "source": [
    "set.seed(12)\n",
    "dk <- ISLR::Default\n",
    "traindex <- sample(1:nrow(dk),nrow(dk)*0.66)\n",
    "train_set <- dk[traindex,]\n",
    "test_set <- dk[-traindex,] %>% select(-default) %>% filter(student != 'No')"
   ]
  },
  {
   "cell_type": "code",
   "execution_count": 432,
   "id": "a232fb71-efcd-4748-b40b-7a0e58ab6860",
   "metadata": {},
   "outputs": [
    {
     "name": "stderr",
     "output_type": "stream",
     "text": [
      "Data sparsed.\n",
      "\n",
      "Scaling factors calculated.\n",
      "\n",
      "Missing values labeled.\n",
      "\n",
      "Data scaled.\n",
      "\n",
      "Got distinct values for nominals.\n",
      "\n",
      "Data dummied.\n",
      "\n",
      "All done !\n",
      "\n",
      "Data sparsed.\n",
      "\n",
      "Scaling factors calculated.\n",
      "\n",
      "Missing values labeled.\n",
      "\n",
      "Data scaled.\n",
      "\n",
      "Unseen values removed from test set.\n",
      "\n",
      "Train & test set nominal levels fetched.\n",
      "\n",
      "Data dummied.\n",
      "\n",
      "All done !\n",
      "\n"
     ]
    }
   ],
   "source": [
    "train_ok <- train_set %>% make_frame(label = 'default')\n",
    "test_ok <- test_set %>% make_frame(label = 'default',test = T,train_frame = train_ok)"
   ]
  },
  {
   "cell_type": "code",
   "execution_count": 433,
   "id": "fb4bce17-618e-4b95-a336-568d8a7056c2",
   "metadata": {},
   "outputs": [],
   "source": [
    "f1 <- function(y_true, y_pred){\n",
    "    y_pred = k_round(y_pred)\n",
    "    \n",
    "    tp = k_sum(k_cast(y_true*y_pred, 'float'), axis=1)\n",
    "    tn = k_sum(k_cast((1-y_true)*(1-y_pred), 'float'), axis=1)\n",
    "    fp = k_sum(k_cast((1-y_true)*y_pred, 'float'), axis=1)\n",
    "    fn = k_sum(k_cast(y_true*(1-y_pred), 'float'), axis=1)\n",
    "\n",
    "    p = tp / (tp + fp + k_epsilon())\n",
    "    r = tp / (tp + fn + k_epsilon())\n",
    "\n",
    "    f1 = 2*p*r / (p+r+k_epsilon())\n",
    "    f1 = tf$where(tf$math$is_nan(f1), tf$zeros_like(f1), f1)\n",
    "    return(k_mean(f1,axis = 1))\n",
    "}\n",
    "\n",
    "f1_loss <- function(y_true, y_pred){\n",
    "    #y_pred = k_round(y_pred)\n",
    "    tp = k_sum(k_cast(y_true*y_pred, 'float'), axis=1)\n",
    "    tn = k_sum(k_cast((1-y_true)*(1-y_pred), 'float'), axis=1)\n",
    "    fp = k_sum(k_cast((1-y_true)*y_pred, 'float'), axis=1)\n",
    "    fn = k_sum(k_cast(y_true*(1-y_pred), 'float'), axis=1)\n",
    "\n",
    "    p = tp / (tp + fp + k_epsilon())\n",
    "    r = tp / (tp + fn + k_epsilon())\n",
    "\n",
    "    f1 = 2*p*r / (p+r+k_epsilon())\n",
    "    f1 = tf$where(tf$math$is_nan(f1), tf$zeros_like(f1), f1)\n",
    "    return(1 - k_mean(f1,axis = 1))\n",
    "}"
   ]
  },
  {
   "cell_type": "code",
   "execution_count": 434,
   "id": "21ddddd4-a97c-4346-a0f8-73d46750c97e",
   "metadata": {},
   "outputs": [],
   "source": [
    "folds_ <- caret::createFolds(train_ok[['label']],k = 5)\n",
    "\n",
    "folds <- 1:length(folds_)"
   ]
  },
  {
   "cell_type": "code",
   "execution_count": 435,
   "id": "b270b17e-5ef8-4be5-bf84-4e92e4e2845c",
   "metadata": {},
   "outputs": [],
   "source": [
    "input_neurons <- ncol(train_ok[['data']][folds_[[1]],]) \n",
    "output_neurons <- 2\n",
    "\n",
    "nofsample <- nrow(train_ok[['data']][folds_[[1]],])\n",
    "\n",
    "alpha <- 4"
   ]
  },
  {
   "cell_type": "code",
   "execution_count": 436,
   "id": "9314dc76-5d0c-4d77-a7e7-8bf227becee4",
   "metadata": {},
   "outputs": [],
   "source": [
    "numofneuron <- nofsample / (alpha * (input_neurons + output_neurons))\n",
    "\n",
    "numofneuron <- numofneuron - output_neurons"
   ]
  },
  {
   "cell_type": "code",
   "execution_count": 437,
   "id": "01769dce-b6eb-4bac-a22a-f86b53c2f281",
   "metadata": {},
   "outputs": [
    {
     "data": {
      "text/html": [
       "<style>\n",
       ".list-inline {list-style: none; margin:0; padding: 0}\n",
       ".list-inline>li {display: inline-block}\n",
       ".list-inline>li:not(:last-child)::after {content: \"\\00b7\"; padding: 0 .5ex}\n",
       "</style>\n",
       "<ol class=list-inline><li>26</li><li>18</li><li>10</li></ol>\n"
      ],
      "text/latex": [
       "\\begin{enumerate*}\n",
       "\\item 26\n",
       "\\item 18\n",
       "\\item 10\n",
       "\\end{enumerate*}\n"
      ],
      "text/markdown": [
       "1. 26\n",
       "2. 18\n",
       "3. 10\n",
       "\n",
       "\n"
      ],
      "text/plain": [
       "[1] 26 18 10"
      ]
     },
     "metadata": {},
     "output_type": "display_data"
    }
   ],
   "source": [
    "layer_dist1 <- base::seq(from = numofneuron,to = output_neurons,length.out = 5)\n",
    "layer_dist <- layer_dist1[-1]/base::sum(layer_dist1[-1])*numofneuron\n",
    "layer_disto <- layer_dist %>% ceiling %>% .[1:3]\n",
    "\n",
    "layer_disto"
   ]
  },
  {
   "cell_type": "code",
   "execution_count": 438,
   "id": "1a3523fc-7f61-4238-8796-0edb8a36a672",
   "metadata": {},
   "outputs": [
    {
     "data": {
      "text/html": [
       "'**************----------**************'"
      ],
      "text/latex": [
       "'**************----------**************'"
      ],
      "text/markdown": [
       "'**************----------**************'"
      ],
      "text/plain": [
       "[1] \"**************----------**************\""
      ]
     },
     "metadata": {},
     "output_type": "display_data"
    },
    {
     "data": {
      "text/html": [
       "'Fold 1 F1 : 0.61'"
      ],
      "text/latex": [
       "'Fold 1 F1 : 0.61'"
      ],
      "text/markdown": [
       "'Fold 1 F1 : 0.61'"
      ],
      "text/plain": [
       "[1] \"Fold 1 F1 : 0.61\""
      ]
     },
     "metadata": {},
     "output_type": "display_data"
    },
    {
     "data": {
      "text/html": [
       "'Best threshold for Fold 1 is : 0.41'"
      ],
      "text/latex": [
       "'Best threshold for Fold 1 is : 0.41'"
      ],
      "text/markdown": [
       "'Best threshold for Fold 1 is : 0.41'"
      ],
      "text/plain": [
       "[1] \"Best threshold for Fold 1 is : 0.41\""
      ]
     },
     "metadata": {},
     "output_type": "display_data"
    },
    {
     "data": {
      "text/html": [
       "'**************----------**************'"
      ],
      "text/latex": [
       "'**************----------**************'"
      ],
      "text/markdown": [
       "'**************----------**************'"
      ],
      "text/plain": [
       "[1] \"**************----------**************\""
      ]
     },
     "metadata": {},
     "output_type": "display_data"
    },
    {
     "data": {
      "text/html": [
       "'Fold 2 F1 : 0.48'"
      ],
      "text/latex": [
       "'Fold 2 F1 : 0.48'"
      ],
      "text/markdown": [
       "'Fold 2 F1 : 0.48'"
      ],
      "text/plain": [
       "[1] \"Fold 2 F1 : 0.48\""
      ]
     },
     "metadata": {},
     "output_type": "display_data"
    },
    {
     "data": {
      "text/html": [
       "'Best threshold for Fold 2 is : 0.48'"
      ],
      "text/latex": [
       "'Best threshold for Fold 2 is : 0.48'"
      ],
      "text/markdown": [
       "'Best threshold for Fold 2 is : 0.48'"
      ],
      "text/plain": [
       "[1] \"Best threshold for Fold 2 is : 0.48\""
      ]
     },
     "metadata": {},
     "output_type": "display_data"
    },
    {
     "data": {
      "text/html": [
       "'**************----------**************'"
      ],
      "text/latex": [
       "'**************----------**************'"
      ],
      "text/markdown": [
       "'**************----------**************'"
      ],
      "text/plain": [
       "[1] \"**************----------**************\""
      ]
     },
     "metadata": {},
     "output_type": "display_data"
    },
    {
     "data": {
      "text/html": [
       "'Fold 3 F1 : 0.45'"
      ],
      "text/latex": [
       "'Fold 3 F1 : 0.45'"
      ],
      "text/markdown": [
       "'Fold 3 F1 : 0.45'"
      ],
      "text/plain": [
       "[1] \"Fold 3 F1 : 0.45\""
      ]
     },
     "metadata": {},
     "output_type": "display_data"
    },
    {
     "data": {
      "text/html": [
       "'Best threshold for Fold 3 is : 0.54'"
      ],
      "text/latex": [
       "'Best threshold for Fold 3 is : 0.54'"
      ],
      "text/markdown": [
       "'Best threshold for Fold 3 is : 0.54'"
      ],
      "text/plain": [
       "[1] \"Best threshold for Fold 3 is : 0.54\""
      ]
     },
     "metadata": {},
     "output_type": "display_data"
    },
    {
     "data": {
      "text/html": [
       "'**************----------**************'"
      ],
      "text/latex": [
       "'**************----------**************'"
      ],
      "text/markdown": [
       "'**************----------**************'"
      ],
      "text/plain": [
       "[1] \"**************----------**************\""
      ]
     },
     "metadata": {},
     "output_type": "display_data"
    },
    {
     "data": {
      "text/html": [
       "'Fold 4 F1 : 0.58'"
      ],
      "text/latex": [
       "'Fold 4 F1 : 0.58'"
      ],
      "text/markdown": [
       "'Fold 4 F1 : 0.58'"
      ],
      "text/plain": [
       "[1] \"Fold 4 F1 : 0.58\""
      ]
     },
     "metadata": {},
     "output_type": "display_data"
    },
    {
     "data": {
      "text/html": [
       "'Best threshold for Fold 4 is : 0.27'"
      ],
      "text/latex": [
       "'Best threshold for Fold 4 is : 0.27'"
      ],
      "text/markdown": [
       "'Best threshold for Fold 4 is : 0.27'"
      ],
      "text/plain": [
       "[1] \"Best threshold for Fold 4 is : 0.27\""
      ]
     },
     "metadata": {},
     "output_type": "display_data"
    },
    {
     "data": {
      "text/html": [
       "'**************----------**************'"
      ],
      "text/latex": [
       "'**************----------**************'"
      ],
      "text/markdown": [
       "'**************----------**************'"
      ],
      "text/plain": [
       "[1] \"**************----------**************\""
      ]
     },
     "metadata": {},
     "output_type": "display_data"
    },
    {
     "data": {
      "text/html": [
       "'Fold 5 F1 : 0.66'"
      ],
      "text/latex": [
       "'Fold 5 F1 : 0.66'"
      ],
      "text/markdown": [
       "'Fold 5 F1 : 0.66'"
      ],
      "text/plain": [
       "[1] \"Fold 5 F1 : 0.66\""
      ]
     },
     "metadata": {},
     "output_type": "display_data"
    },
    {
     "data": {
      "text/html": [
       "'Best threshold for Fold 5 is : 0.55'"
      ],
      "text/latex": [
       "'Best threshold for Fold 5 is : 0.55'"
      ],
      "text/markdown": [
       "'Best threshold for Fold 5 is : 0.55'"
      ],
      "text/plain": [
       "[1] \"Best threshold for Fold 5 is : 0.55\""
      ]
     },
     "metadata": {},
     "output_type": "display_data"
    },
    {
     "data": {
      "text/html": [
       "'**************----------**************'"
      ],
      "text/latex": [
       "'**************----------**************'"
      ],
      "text/markdown": [
       "'**************----------**************'"
      ],
      "text/plain": [
       "[1] \"**************----------**************\""
      ]
     },
     "metadata": {},
     "output_type": "display_data"
    },
    {
     "data": {
      "text/html": [
       "'CV Mean F1 : 0.555779748706578'"
      ],
      "text/latex": [
       "'CV Mean F1 : 0.555779748706578'"
      ],
      "text/markdown": [
       "'CV Mean F1 : 0.555779748706578'"
      ],
      "text/plain": [
       "[1] \"CV Mean F1 : 0.555779748706578\""
      ]
     },
     "metadata": {},
     "output_type": "display_data"
    }
   ],
   "source": [
    "seed <- 1453\n",
    "preds_keras <- list()\n",
    "errors <- c()\n",
    "\n",
    "for(i in folds){\n",
    "    train_indices <- setdiff(folds,i) \n",
    "    test_indices <- i\n",
    "    \n",
    "    train_x <- train_ok[['data']][unlist(folds_[train_indices]),] %>% na.omit\n",
    "    test_x <- train_ok[['data']][unlist(folds_[test_indices]),] %>% na.omit\n",
    "    \n",
    "    target_data <- test_ok[['data']]\n",
    "    \n",
    "    train_y <- train_ok[['label']][unlist(folds_[train_indices])]\n",
    "    test_y <- train_ok[['label']][unlist(folds_[test_indices])]\n",
    "    \n",
    "    train_y2 <- train_y %>% label_encode %>% as.matrix %>% to_categorical\n",
    "    test_y2 <- test_y %>% label_encode %>% as.matrix %>% to_categorical\n",
    "    \n",
    "    tf$random$set_seed(seed = seed)\n",
    "\n",
    "    reticulate::py_set_seed(seed = seed)\n",
    "\n",
    "    model <- keras_model_sequential()\n",
    "    \n",
    "\n",
    "    model %>%\n",
    "    layer_dense(units = layer_disto[1], activation = 'relu', input_shape = c(input_neurons)) %>%\n",
    "    layer_dense(units = layer_disto[2], activation = 'relu') %>%\n",
    "    layer_dense(units = layer_disto[3], activation = 'relu') %>%\n",
    "    #layer_dense(units = layer_disto[7], activation = 'relu') %>%\n",
    "    layer_dense(units = 2,activation = 'softmax')\n",
    "    \n",
    "    model %>% compile(\n",
    "      loss = f1_loss,\n",
    "      optimizer =optimizer_rmsprop(learning_rate = 0.001),\n",
    "      metrics = c(f1)\n",
    "    )\n",
    "    \n",
    "    wgh <- sqrt(sum(test_y == 'Yes')/sum(test_y == 'No'))\n",
    "    \n",
    "    history <- model %>% fit(\n",
    "      train_x, train_y2, \n",
    "      epochs = 200, batch_size = 128, \n",
    "      validation_data = list(test_x,test_y2),\n",
    "      callbacks = list(callback_early_stopping(\n",
    "                        monitor = \"val_loss\",\n",
    "                        patience = 10,\n",
    "                        verbose = 1,\n",
    "                        mode = \"auto\",\n",
    "                        restore_best_weights = TRUE\n",
    "                        )\n",
    "    ),\n",
    "    class_weight = list('0' = wgh**2,'1' = 1)\n",
    "    )\n",
    "    \n",
    "    preds <- model %>% predict(test_x)  %>% .[,2]\n",
    "    \n",
    "    # fold thresholding \n",
    "    thresholds <- data.table()\n",
    "    for(j in seq(from = 0.03,to = 0.7,by = 0.01)){\n",
    "        obs <- test_y %>% label_encode\n",
    "        prd <- +(preds >= j)\n",
    "        if(sum(prd) == 0){\n",
    "            next\n",
    "        }\n",
    "        f1_clc <- f_meas_vec(truth = factor(obs,levels = 0:1),estimate = factor(prd,levels = 0:1),event_level = 'second')\n",
    "        fold_row <- data.table(threshold = j,f1 = f1_clc)\n",
    "        thresholds <- rbindlist(list(thresholds,fold_row))\n",
    "    }\n",
    "    \n",
    "    best_threshold <- thresholds %>% filter(f1 == max(f1)) %>% select(threshold) %>% pull %>% .[1]\n",
    "    error <- thresholds %>% filter(f1 == max(f1)) %>% select(f1) %>% pull %>% .[1]\n",
    "    IRdisplay::display('**************----------**************')\n",
    "    IRdisplay::display(sprintf('Fold %s F1 : %s',i,round(error,2)))\n",
    "    errors[i] <- error\n",
    "    IRdisplay::display(sprintf('Best threshold for Fold %s is : %s',i,best_threshold))\n",
    "    \n",
    "    \n",
    "    \n",
    "    preds_target <- model %>% predict(target_data) %>% .[,2]\n",
    "    \n",
    "    preds_target <- +(preds_target >= best_threshold)\n",
    "    \n",
    "    preds_keras[[i]] <- preds_target\n",
    "}\n",
    "IRdisplay::display('**************----------**************')\n",
    "IRdisplay::display(sprintf('CV Mean F1 : %s',mean(errors,na.rm = T)))"
   ]
  },
  {
   "cell_type": "code",
   "execution_count": 439,
   "id": "3d0944e5-0366-4809-bd33-e4f1f68cfa61",
   "metadata": {},
   "outputs": [],
   "source": [
    "krs <- preds_keras %>% as.data.table"
   ]
  },
  {
   "cell_type": "code",
   "execution_count": 421,
   "id": "253ddb91-bcb1-4915-b936-3085c37e1a05",
   "metadata": {},
   "outputs": [],
   "source": [
    "colnames(krs) <- paste0('Fold',1:length(folds))"
   ]
  },
  {
   "cell_type": "code",
   "execution_count": 422,
   "id": "900a110c-fac9-42ac-bf24-4f4044d42e23",
   "metadata": {},
   "outputs": [],
   "source": [
    "krs <- krs %>% rowwise %>% mutate(prd = fmode(c(Fold1,Fold2,Fold3,Fold4,Fold5))) %>% as.data.table"
   ]
  },
  {
   "cell_type": "code",
   "execution_count": 423,
   "id": "1de6cefc-1744-486f-a7d9-f799db4ea4d2",
   "metadata": {},
   "outputs": [],
   "source": [
    "#krs[,prd := +(prd >= 0.5)]"
   ]
  },
  {
   "cell_type": "code",
   "execution_count": 424,
   "id": "5488aa6a-297c-4f34-bf01-d12f3615875c",
   "metadata": {},
   "outputs": [
    {
     "data": {
      "text/plain": [
       "default\n",
       "        No        Yes \n",
       "0.96352941 0.03647059 "
      ]
     },
     "metadata": {},
     "output_type": "display_data"
    }
   ],
   "source": [
    "dk[-traindex,] %>% select(default) %>% table %>% prop.table"
   ]
  },
  {
   "cell_type": "code",
   "execution_count": 427,
   "id": "e4f3fcbf-d1c7-4701-ba54-c7cb1120358e",
   "metadata": {},
   "outputs": [
    {
     "data": {
      "text/html": [
       "<table class=\"dataframe\">\n",
       "<caption>A tibble: 1 × 3</caption>\n",
       "<thead>\n",
       "\t<tr><th scope=col>.metric</th><th scope=col>.estimator</th><th scope=col>.estimate</th></tr>\n",
       "\t<tr><th scope=col>&lt;chr&gt;</th><th scope=col>&lt;chr&gt;</th><th scope=col>&lt;dbl&gt;</th></tr>\n",
       "</thead>\n",
       "<tbody>\n",
       "\t<tr><td>f_meas</td><td>binary</td><td>0.4313725</td></tr>\n",
       "</tbody>\n",
       "</table>\n"
      ],
      "text/latex": [
       "A tibble: 1 × 3\n",
       "\\begin{tabular}{lll}\n",
       " .metric & .estimator & .estimate\\\\\n",
       " <chr> & <chr> & <dbl>\\\\\n",
       "\\hline\n",
       "\t f\\_meas & binary & 0.4313725\\\\\n",
       "\\end{tabular}\n"
      ],
      "text/markdown": [
       "\n",
       "A tibble: 1 × 3\n",
       "\n",
       "| .metric &lt;chr&gt; | .estimator &lt;chr&gt; | .estimate &lt;dbl&gt; |\n",
       "|---|---|---|\n",
       "| f_meas | binary | 0.4313725 |\n",
       "\n"
      ],
      "text/plain": [
       "  .metric .estimator .estimate\n",
       "1 f_meas  binary     0.4313725"
      ]
     },
     "metadata": {},
     "output_type": "display_data"
    }
   ],
   "source": [
    "test_set%>% select(default) %>%\n",
    "transmute(obs = +(default == 'Yes')) %>%\n",
    "bind_cols(krs %>% select(prd)) %>%\n",
    "f_meas(truth = factor(obs,levels = 0:1),estimate = factor(prd,levels = 0:1),event_level = 'second')"
   ]
  },
  {
   "cell_type": "code",
   "execution_count": 190,
   "id": "2502aadc-c74b-41a9-a5c9-9051c7c43005",
   "metadata": {},
   "outputs": [],
   "source": [
    "set.seed(1)\n",
    "koko <- data.table(a = rnorm(n = 1e2,mean = 20,sd = 3),cat = sample(LETTERS[1:3],size = 1e2,replace = T))"
   ]
  },
  {
   "cell_type": "code",
   "execution_count": 26,
   "id": "edd1585a-378c-4a7d-9a6c-da49c12e4db7",
   "metadata": {},
   "outputs": [],
   "source": [
    "koko[,cat := factor(cat,levels = LETTERS[1:4])]"
   ]
  },
  {
   "cell_type": "code",
   "execution_count": 321,
   "id": "0dada3e5-aa14-409d-a7ff-9803ad429d6a",
   "metadata": {},
   "outputs": [],
   "source": [
    "iris2 <- copy(iris)\n",
    "setDT(iris2)"
   ]
  },
  {
   "cell_type": "code",
   "execution_count": 322,
   "id": "c173a161-5522-41ff-82d4-153c6348f12e",
   "metadata": {},
   "outputs": [],
   "source": [
    "iris2[Species == 'virginica',Species := 'sucuruk']"
   ]
  },
  {
   "cell_type": "code",
   "execution_count": 323,
   "id": "7ab79421-78a1-42b5-82e9-d80476e10ffa",
   "metadata": {},
   "outputs": [
    {
     "data": {
      "text/html": [
       "<table class=\"dataframe\">\n",
       "<caption>A data.table: 150 × 5</caption>\n",
       "<thead>\n",
       "\t<tr><th scope=col>Sepal.Length</th><th scope=col>Sepal.Width</th><th scope=col>Petal.Length</th><th scope=col>Petal.Width</th><th scope=col>Species</th></tr>\n",
       "\t<tr><th scope=col>&lt;dbl&gt;</th><th scope=col>&lt;dbl&gt;</th><th scope=col>&lt;dbl&gt;</th><th scope=col>&lt;dbl&gt;</th><th scope=col>&lt;fct&gt;</th></tr>\n",
       "</thead>\n",
       "<tbody>\n",
       "\t<tr><td>5.1</td><td>3.5</td><td>1.4</td><td>0.2</td><td>setosa</td></tr>\n",
       "\t<tr><td>4.9</td><td>3.0</td><td>1.4</td><td>0.2</td><td>setosa</td></tr>\n",
       "\t<tr><td>4.7</td><td>3.2</td><td>1.3</td><td>0.2</td><td>setosa</td></tr>\n",
       "\t<tr><td>4.6</td><td>3.1</td><td>1.5</td><td>0.2</td><td>setosa</td></tr>\n",
       "\t<tr><td>5.0</td><td>3.6</td><td>1.4</td><td>0.2</td><td>setosa</td></tr>\n",
       "\t<tr><td>5.4</td><td>3.9</td><td>1.7</td><td>0.4</td><td>setosa</td></tr>\n",
       "\t<tr><td>4.6</td><td>3.4</td><td>1.4</td><td>0.3</td><td>setosa</td></tr>\n",
       "\t<tr><td>5.0</td><td>3.4</td><td>1.5</td><td>0.2</td><td>setosa</td></tr>\n",
       "\t<tr><td>4.4</td><td>2.9</td><td>1.4</td><td>0.2</td><td>setosa</td></tr>\n",
       "\t<tr><td>4.9</td><td>3.1</td><td>1.5</td><td>0.1</td><td>setosa</td></tr>\n",
       "\t<tr><td>5.4</td><td>3.7</td><td>1.5</td><td>0.2</td><td>setosa</td></tr>\n",
       "\t<tr><td>4.8</td><td>3.4</td><td>1.6</td><td>0.2</td><td>setosa</td></tr>\n",
       "\t<tr><td>4.8</td><td>3.0</td><td>1.4</td><td>0.1</td><td>setosa</td></tr>\n",
       "\t<tr><td>4.3</td><td>3.0</td><td>1.1</td><td>0.1</td><td>setosa</td></tr>\n",
       "\t<tr><td>5.8</td><td>4.0</td><td>1.2</td><td>0.2</td><td>setosa</td></tr>\n",
       "\t<tr><td>5.7</td><td>4.4</td><td>1.5</td><td>0.4</td><td>setosa</td></tr>\n",
       "\t<tr><td>5.4</td><td>3.9</td><td>1.3</td><td>0.4</td><td>setosa</td></tr>\n",
       "\t<tr><td>5.1</td><td>3.5</td><td>1.4</td><td>0.3</td><td>setosa</td></tr>\n",
       "\t<tr><td>5.7</td><td>3.8</td><td>1.7</td><td>0.3</td><td>setosa</td></tr>\n",
       "\t<tr><td>5.1</td><td>3.8</td><td>1.5</td><td>0.3</td><td>setosa</td></tr>\n",
       "\t<tr><td>5.4</td><td>3.4</td><td>1.7</td><td>0.2</td><td>setosa</td></tr>\n",
       "\t<tr><td>5.1</td><td>3.7</td><td>1.5</td><td>0.4</td><td>setosa</td></tr>\n",
       "\t<tr><td>4.6</td><td>3.6</td><td>1.0</td><td>0.2</td><td>setosa</td></tr>\n",
       "\t<tr><td>5.1</td><td>3.3</td><td>1.7</td><td>0.5</td><td>setosa</td></tr>\n",
       "\t<tr><td>4.8</td><td>3.4</td><td>1.9</td><td>0.2</td><td>setosa</td></tr>\n",
       "\t<tr><td>5.0</td><td>3.0</td><td>1.6</td><td>0.2</td><td>setosa</td></tr>\n",
       "\t<tr><td>5.0</td><td>3.4</td><td>1.6</td><td>0.4</td><td>setosa</td></tr>\n",
       "\t<tr><td>5.2</td><td>3.5</td><td>1.5</td><td>0.2</td><td>setosa</td></tr>\n",
       "\t<tr><td>5.2</td><td>3.4</td><td>1.4</td><td>0.2</td><td>setosa</td></tr>\n",
       "\t<tr><td>4.7</td><td>3.2</td><td>1.6</td><td>0.2</td><td>setosa</td></tr>\n",
       "\t<tr><td>⋮</td><td>⋮</td><td>⋮</td><td>⋮</td><td>⋮</td></tr>\n",
       "\t<tr><td>6.9</td><td>3.2</td><td>5.7</td><td>2.3</td><td>sucuruk</td></tr>\n",
       "\t<tr><td>5.6</td><td>2.8</td><td>4.9</td><td>2.0</td><td>sucuruk</td></tr>\n",
       "\t<tr><td>7.7</td><td>2.8</td><td>6.7</td><td>2.0</td><td>sucuruk</td></tr>\n",
       "\t<tr><td>6.3</td><td>2.7</td><td>4.9</td><td>1.8</td><td>sucuruk</td></tr>\n",
       "\t<tr><td>6.7</td><td>3.3</td><td>5.7</td><td>2.1</td><td>sucuruk</td></tr>\n",
       "\t<tr><td>7.2</td><td>3.2</td><td>6.0</td><td>1.8</td><td>sucuruk</td></tr>\n",
       "\t<tr><td>6.2</td><td>2.8</td><td>4.8</td><td>1.8</td><td>sucuruk</td></tr>\n",
       "\t<tr><td>6.1</td><td>3.0</td><td>4.9</td><td>1.8</td><td>sucuruk</td></tr>\n",
       "\t<tr><td>6.4</td><td>2.8</td><td>5.6</td><td>2.1</td><td>sucuruk</td></tr>\n",
       "\t<tr><td>7.2</td><td>3.0</td><td>5.8</td><td>1.6</td><td>sucuruk</td></tr>\n",
       "\t<tr><td>7.4</td><td>2.8</td><td>6.1</td><td>1.9</td><td>sucuruk</td></tr>\n",
       "\t<tr><td>7.9</td><td>3.8</td><td>6.4</td><td>2.0</td><td>sucuruk</td></tr>\n",
       "\t<tr><td>6.4</td><td>2.8</td><td>5.6</td><td>2.2</td><td>sucuruk</td></tr>\n",
       "\t<tr><td>6.3</td><td>2.8</td><td>5.1</td><td>1.5</td><td>sucuruk</td></tr>\n",
       "\t<tr><td>6.1</td><td>2.6</td><td>5.6</td><td>1.4</td><td>sucuruk</td></tr>\n",
       "\t<tr><td>7.7</td><td>3.0</td><td>6.1</td><td>2.3</td><td>sucuruk</td></tr>\n",
       "\t<tr><td>6.3</td><td>3.4</td><td>5.6</td><td>2.4</td><td>sucuruk</td></tr>\n",
       "\t<tr><td>6.4</td><td>3.1</td><td>5.5</td><td>1.8</td><td>sucuruk</td></tr>\n",
       "\t<tr><td>6.0</td><td>3.0</td><td>4.8</td><td>1.8</td><td>sucuruk</td></tr>\n",
       "\t<tr><td>6.9</td><td>3.1</td><td>5.4</td><td>2.1</td><td>sucuruk</td></tr>\n",
       "\t<tr><td>6.7</td><td>3.1</td><td>5.6</td><td>2.4</td><td>sucuruk</td></tr>\n",
       "\t<tr><td>6.9</td><td>3.1</td><td>5.1</td><td>2.3</td><td>sucuruk</td></tr>\n",
       "\t<tr><td>5.8</td><td>2.7</td><td>5.1</td><td>1.9</td><td>sucuruk</td></tr>\n",
       "\t<tr><td>6.8</td><td>3.2</td><td>5.9</td><td>2.3</td><td>sucuruk</td></tr>\n",
       "\t<tr><td>6.7</td><td>3.3</td><td>5.7</td><td>2.5</td><td>sucuruk</td></tr>\n",
       "\t<tr><td>6.7</td><td>3.0</td><td>5.2</td><td>2.3</td><td>sucuruk</td></tr>\n",
       "\t<tr><td>6.3</td><td>2.5</td><td>5.0</td><td>1.9</td><td>sucuruk</td></tr>\n",
       "\t<tr><td>6.5</td><td>3.0</td><td>5.2</td><td>2.0</td><td>sucuruk</td></tr>\n",
       "\t<tr><td>6.2</td><td>3.4</td><td>5.4</td><td>2.3</td><td>sucuruk</td></tr>\n",
       "\t<tr><td>5.9</td><td>3.0</td><td>5.1</td><td>1.8</td><td>sucuruk</td></tr>\n",
       "</tbody>\n",
       "</table>\n"
      ],
      "text/latex": [
       "A data.table: 150 × 5\n",
       "\\begin{tabular}{lllll}\n",
       " Sepal.Length & Sepal.Width & Petal.Length & Petal.Width & Species\\\\\n",
       " <dbl> & <dbl> & <dbl> & <dbl> & <fct>\\\\\n",
       "\\hline\n",
       "\t 5.1 & 3.5 & 1.4 & 0.2 & setosa\\\\\n",
       "\t 4.9 & 3.0 & 1.4 & 0.2 & setosa\\\\\n",
       "\t 4.7 & 3.2 & 1.3 & 0.2 & setosa\\\\\n",
       "\t 4.6 & 3.1 & 1.5 & 0.2 & setosa\\\\\n",
       "\t 5.0 & 3.6 & 1.4 & 0.2 & setosa\\\\\n",
       "\t 5.4 & 3.9 & 1.7 & 0.4 & setosa\\\\\n",
       "\t 4.6 & 3.4 & 1.4 & 0.3 & setosa\\\\\n",
       "\t 5.0 & 3.4 & 1.5 & 0.2 & setosa\\\\\n",
       "\t 4.4 & 2.9 & 1.4 & 0.2 & setosa\\\\\n",
       "\t 4.9 & 3.1 & 1.5 & 0.1 & setosa\\\\\n",
       "\t 5.4 & 3.7 & 1.5 & 0.2 & setosa\\\\\n",
       "\t 4.8 & 3.4 & 1.6 & 0.2 & setosa\\\\\n",
       "\t 4.8 & 3.0 & 1.4 & 0.1 & setosa\\\\\n",
       "\t 4.3 & 3.0 & 1.1 & 0.1 & setosa\\\\\n",
       "\t 5.8 & 4.0 & 1.2 & 0.2 & setosa\\\\\n",
       "\t 5.7 & 4.4 & 1.5 & 0.4 & setosa\\\\\n",
       "\t 5.4 & 3.9 & 1.3 & 0.4 & setosa\\\\\n",
       "\t 5.1 & 3.5 & 1.4 & 0.3 & setosa\\\\\n",
       "\t 5.7 & 3.8 & 1.7 & 0.3 & setosa\\\\\n",
       "\t 5.1 & 3.8 & 1.5 & 0.3 & setosa\\\\\n",
       "\t 5.4 & 3.4 & 1.7 & 0.2 & setosa\\\\\n",
       "\t 5.1 & 3.7 & 1.5 & 0.4 & setosa\\\\\n",
       "\t 4.6 & 3.6 & 1.0 & 0.2 & setosa\\\\\n",
       "\t 5.1 & 3.3 & 1.7 & 0.5 & setosa\\\\\n",
       "\t 4.8 & 3.4 & 1.9 & 0.2 & setosa\\\\\n",
       "\t 5.0 & 3.0 & 1.6 & 0.2 & setosa\\\\\n",
       "\t 5.0 & 3.4 & 1.6 & 0.4 & setosa\\\\\n",
       "\t 5.2 & 3.5 & 1.5 & 0.2 & setosa\\\\\n",
       "\t 5.2 & 3.4 & 1.4 & 0.2 & setosa\\\\\n",
       "\t 4.7 & 3.2 & 1.6 & 0.2 & setosa\\\\\n",
       "\t ⋮ & ⋮ & ⋮ & ⋮ & ⋮\\\\\n",
       "\t 6.9 & 3.2 & 5.7 & 2.3 & sucuruk\\\\\n",
       "\t 5.6 & 2.8 & 4.9 & 2.0 & sucuruk\\\\\n",
       "\t 7.7 & 2.8 & 6.7 & 2.0 & sucuruk\\\\\n",
       "\t 6.3 & 2.7 & 4.9 & 1.8 & sucuruk\\\\\n",
       "\t 6.7 & 3.3 & 5.7 & 2.1 & sucuruk\\\\\n",
       "\t 7.2 & 3.2 & 6.0 & 1.8 & sucuruk\\\\\n",
       "\t 6.2 & 2.8 & 4.8 & 1.8 & sucuruk\\\\\n",
       "\t 6.1 & 3.0 & 4.9 & 1.8 & sucuruk\\\\\n",
       "\t 6.4 & 2.8 & 5.6 & 2.1 & sucuruk\\\\\n",
       "\t 7.2 & 3.0 & 5.8 & 1.6 & sucuruk\\\\\n",
       "\t 7.4 & 2.8 & 6.1 & 1.9 & sucuruk\\\\\n",
       "\t 7.9 & 3.8 & 6.4 & 2.0 & sucuruk\\\\\n",
       "\t 6.4 & 2.8 & 5.6 & 2.2 & sucuruk\\\\\n",
       "\t 6.3 & 2.8 & 5.1 & 1.5 & sucuruk\\\\\n",
       "\t 6.1 & 2.6 & 5.6 & 1.4 & sucuruk\\\\\n",
       "\t 7.7 & 3.0 & 6.1 & 2.3 & sucuruk\\\\\n",
       "\t 6.3 & 3.4 & 5.6 & 2.4 & sucuruk\\\\\n",
       "\t 6.4 & 3.1 & 5.5 & 1.8 & sucuruk\\\\\n",
       "\t 6.0 & 3.0 & 4.8 & 1.8 & sucuruk\\\\\n",
       "\t 6.9 & 3.1 & 5.4 & 2.1 & sucuruk\\\\\n",
       "\t 6.7 & 3.1 & 5.6 & 2.4 & sucuruk\\\\\n",
       "\t 6.9 & 3.1 & 5.1 & 2.3 & sucuruk\\\\\n",
       "\t 5.8 & 2.7 & 5.1 & 1.9 & sucuruk\\\\\n",
       "\t 6.8 & 3.2 & 5.9 & 2.3 & sucuruk\\\\\n",
       "\t 6.7 & 3.3 & 5.7 & 2.5 & sucuruk\\\\\n",
       "\t 6.7 & 3.0 & 5.2 & 2.3 & sucuruk\\\\\n",
       "\t 6.3 & 2.5 & 5.0 & 1.9 & sucuruk\\\\\n",
       "\t 6.5 & 3.0 & 5.2 & 2.0 & sucuruk\\\\\n",
       "\t 6.2 & 3.4 & 5.4 & 2.3 & sucuruk\\\\\n",
       "\t 5.9 & 3.0 & 5.1 & 1.8 & sucuruk\\\\\n",
       "\\end{tabular}\n"
      ],
      "text/markdown": [
       "\n",
       "A data.table: 150 × 5\n",
       "\n",
       "| Sepal.Length &lt;dbl&gt; | Sepal.Width &lt;dbl&gt; | Petal.Length &lt;dbl&gt; | Petal.Width &lt;dbl&gt; | Species &lt;fct&gt; |\n",
       "|---|---|---|---|---|\n",
       "| 5.1 | 3.5 | 1.4 | 0.2 | setosa |\n",
       "| 4.9 | 3.0 | 1.4 | 0.2 | setosa |\n",
       "| 4.7 | 3.2 | 1.3 | 0.2 | setosa |\n",
       "| 4.6 | 3.1 | 1.5 | 0.2 | setosa |\n",
       "| 5.0 | 3.6 | 1.4 | 0.2 | setosa |\n",
       "| 5.4 | 3.9 | 1.7 | 0.4 | setosa |\n",
       "| 4.6 | 3.4 | 1.4 | 0.3 | setosa |\n",
       "| 5.0 | 3.4 | 1.5 | 0.2 | setosa |\n",
       "| 4.4 | 2.9 | 1.4 | 0.2 | setosa |\n",
       "| 4.9 | 3.1 | 1.5 | 0.1 | setosa |\n",
       "| 5.4 | 3.7 | 1.5 | 0.2 | setosa |\n",
       "| 4.8 | 3.4 | 1.6 | 0.2 | setosa |\n",
       "| 4.8 | 3.0 | 1.4 | 0.1 | setosa |\n",
       "| 4.3 | 3.0 | 1.1 | 0.1 | setosa |\n",
       "| 5.8 | 4.0 | 1.2 | 0.2 | setosa |\n",
       "| 5.7 | 4.4 | 1.5 | 0.4 | setosa |\n",
       "| 5.4 | 3.9 | 1.3 | 0.4 | setosa |\n",
       "| 5.1 | 3.5 | 1.4 | 0.3 | setosa |\n",
       "| 5.7 | 3.8 | 1.7 | 0.3 | setosa |\n",
       "| 5.1 | 3.8 | 1.5 | 0.3 | setosa |\n",
       "| 5.4 | 3.4 | 1.7 | 0.2 | setosa |\n",
       "| 5.1 | 3.7 | 1.5 | 0.4 | setosa |\n",
       "| 4.6 | 3.6 | 1.0 | 0.2 | setosa |\n",
       "| 5.1 | 3.3 | 1.7 | 0.5 | setosa |\n",
       "| 4.8 | 3.4 | 1.9 | 0.2 | setosa |\n",
       "| 5.0 | 3.0 | 1.6 | 0.2 | setosa |\n",
       "| 5.0 | 3.4 | 1.6 | 0.4 | setosa |\n",
       "| 5.2 | 3.5 | 1.5 | 0.2 | setosa |\n",
       "| 5.2 | 3.4 | 1.4 | 0.2 | setosa |\n",
       "| 4.7 | 3.2 | 1.6 | 0.2 | setosa |\n",
       "| ⋮ | ⋮ | ⋮ | ⋮ | ⋮ |\n",
       "| 6.9 | 3.2 | 5.7 | 2.3 | sucuruk |\n",
       "| 5.6 | 2.8 | 4.9 | 2.0 | sucuruk |\n",
       "| 7.7 | 2.8 | 6.7 | 2.0 | sucuruk |\n",
       "| 6.3 | 2.7 | 4.9 | 1.8 | sucuruk |\n",
       "| 6.7 | 3.3 | 5.7 | 2.1 | sucuruk |\n",
       "| 7.2 | 3.2 | 6.0 | 1.8 | sucuruk |\n",
       "| 6.2 | 2.8 | 4.8 | 1.8 | sucuruk |\n",
       "| 6.1 | 3.0 | 4.9 | 1.8 | sucuruk |\n",
       "| 6.4 | 2.8 | 5.6 | 2.1 | sucuruk |\n",
       "| 7.2 | 3.0 | 5.8 | 1.6 | sucuruk |\n",
       "| 7.4 | 2.8 | 6.1 | 1.9 | sucuruk |\n",
       "| 7.9 | 3.8 | 6.4 | 2.0 | sucuruk |\n",
       "| 6.4 | 2.8 | 5.6 | 2.2 | sucuruk |\n",
       "| 6.3 | 2.8 | 5.1 | 1.5 | sucuruk |\n",
       "| 6.1 | 2.6 | 5.6 | 1.4 | sucuruk |\n",
       "| 7.7 | 3.0 | 6.1 | 2.3 | sucuruk |\n",
       "| 6.3 | 3.4 | 5.6 | 2.4 | sucuruk |\n",
       "| 6.4 | 3.1 | 5.5 | 1.8 | sucuruk |\n",
       "| 6.0 | 3.0 | 4.8 | 1.8 | sucuruk |\n",
       "| 6.9 | 3.1 | 5.4 | 2.1 | sucuruk |\n",
       "| 6.7 | 3.1 | 5.6 | 2.4 | sucuruk |\n",
       "| 6.9 | 3.1 | 5.1 | 2.3 | sucuruk |\n",
       "| 5.8 | 2.7 | 5.1 | 1.9 | sucuruk |\n",
       "| 6.8 | 3.2 | 5.9 | 2.3 | sucuruk |\n",
       "| 6.7 | 3.3 | 5.7 | 2.5 | sucuruk |\n",
       "| 6.7 | 3.0 | 5.2 | 2.3 | sucuruk |\n",
       "| 6.3 | 2.5 | 5.0 | 1.9 | sucuruk |\n",
       "| 6.5 | 3.0 | 5.2 | 2.0 | sucuruk |\n",
       "| 6.2 | 3.4 | 5.4 | 2.3 | sucuruk |\n",
       "| 5.9 | 3.0 | 5.1 | 1.8 | sucuruk |\n",
       "\n"
      ],
      "text/plain": [
       "    Sepal.Length Sepal.Width Petal.Length Petal.Width Species\n",
       "1   5.1          3.5         1.4          0.2         setosa \n",
       "2   4.9          3.0         1.4          0.2         setosa \n",
       "3   4.7          3.2         1.3          0.2         setosa \n",
       "4   4.6          3.1         1.5          0.2         setosa \n",
       "5   5.0          3.6         1.4          0.2         setosa \n",
       "6   5.4          3.9         1.7          0.4         setosa \n",
       "7   4.6          3.4         1.4          0.3         setosa \n",
       "8   5.0          3.4         1.5          0.2         setosa \n",
       "9   4.4          2.9         1.4          0.2         setosa \n",
       "10  4.9          3.1         1.5          0.1         setosa \n",
       "11  5.4          3.7         1.5          0.2         setosa \n",
       "12  4.8          3.4         1.6          0.2         setosa \n",
       "13  4.8          3.0         1.4          0.1         setosa \n",
       "14  4.3          3.0         1.1          0.1         setosa \n",
       "15  5.8          4.0         1.2          0.2         setosa \n",
       "16  5.7          4.4         1.5          0.4         setosa \n",
       "17  5.4          3.9         1.3          0.4         setosa \n",
       "18  5.1          3.5         1.4          0.3         setosa \n",
       "19  5.7          3.8         1.7          0.3         setosa \n",
       "20  5.1          3.8         1.5          0.3         setosa \n",
       "21  5.4          3.4         1.7          0.2         setosa \n",
       "22  5.1          3.7         1.5          0.4         setosa \n",
       "23  4.6          3.6         1.0          0.2         setosa \n",
       "24  5.1          3.3         1.7          0.5         setosa \n",
       "25  4.8          3.4         1.9          0.2         setosa \n",
       "26  5.0          3.0         1.6          0.2         setosa \n",
       "27  5.0          3.4         1.6          0.4         setosa \n",
       "28  5.2          3.5         1.5          0.2         setosa \n",
       "29  5.2          3.4         1.4          0.2         setosa \n",
       "30  4.7          3.2         1.6          0.2         setosa \n",
       "⋮   ⋮            ⋮           ⋮            ⋮           ⋮      \n",
       "121 6.9          3.2         5.7          2.3         sucuruk\n",
       "122 5.6          2.8         4.9          2.0         sucuruk\n",
       "123 7.7          2.8         6.7          2.0         sucuruk\n",
       "124 6.3          2.7         4.9          1.8         sucuruk\n",
       "125 6.7          3.3         5.7          2.1         sucuruk\n",
       "126 7.2          3.2         6.0          1.8         sucuruk\n",
       "127 6.2          2.8         4.8          1.8         sucuruk\n",
       "128 6.1          3.0         4.9          1.8         sucuruk\n",
       "129 6.4          2.8         5.6          2.1         sucuruk\n",
       "130 7.2          3.0         5.8          1.6         sucuruk\n",
       "131 7.4          2.8         6.1          1.9         sucuruk\n",
       "132 7.9          3.8         6.4          2.0         sucuruk\n",
       "133 6.4          2.8         5.6          2.2         sucuruk\n",
       "134 6.3          2.8         5.1          1.5         sucuruk\n",
       "135 6.1          2.6         5.6          1.4         sucuruk\n",
       "136 7.7          3.0         6.1          2.3         sucuruk\n",
       "137 6.3          3.4         5.6          2.4         sucuruk\n",
       "138 6.4          3.1         5.5          1.8         sucuruk\n",
       "139 6.0          3.0         4.8          1.8         sucuruk\n",
       "140 6.9          3.1         5.4          2.1         sucuruk\n",
       "141 6.7          3.1         5.6          2.4         sucuruk\n",
       "142 6.9          3.1         5.1          2.3         sucuruk\n",
       "143 5.8          2.7         5.1          1.9         sucuruk\n",
       "144 6.8          3.2         5.9          2.3         sucuruk\n",
       "145 6.7          3.3         5.7          2.5         sucuruk\n",
       "146 6.7          3.0         5.2          2.3         sucuruk\n",
       "147 6.3          2.5         5.0          1.9         sucuruk\n",
       "148 6.5          3.0         5.2          2.0         sucuruk\n",
       "149 6.2          3.4         5.4          2.3         sucuruk\n",
       "150 5.9          3.0         5.1          1.8         sucuruk"
      ]
     },
     "metadata": {},
     "output_type": "display_data"
    }
   ],
   "source": [
    "iris2"
   ]
  },
  {
   "cell_type": "code",
   "execution_count": null,
   "id": "ce4000a2-cff8-4bb4-9635-8c22feeec6ba",
   "metadata": {},
   "outputs": [],
   "source": []
  }
 ],
 "metadata": {
  "kernelspec": {
   "display_name": "R",
   "language": "R",
   "name": "ir"
  },
  "language_info": {
   "codemirror_mode": "r",
   "file_extension": ".r",
   "mimetype": "text/x-r-source",
   "name": "R",
   "pygments_lexer": "r",
   "version": "4.2.0"
  }
 },
 "nbformat": 4,
 "nbformat_minor": 5
}
