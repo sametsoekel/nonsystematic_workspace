{
 "cells": [
  {
   "cell_type": "code",
   "execution_count": 1,
   "id": "97c41317-4f1e-45a0-859c-a8cfe47db93d",
   "metadata": {},
   "outputs": [
    {
     "name": "stderr",
     "output_type": "stream",
     "text": [
      "Warning message:\n",
      "\"package 'caret' was built under R version 4.2.1\"\n"
     ]
    }
   ],
   "source": [
    "suppressPackageStartupMessages({\n",
    "    library(data.table)\n",
    "    library(tidyverse)\n",
    "    library(tidymodels)\n",
    "    library(treesnip)\n",
    "    library(caret)\n",
    "    library(keras)\n",
    "    library(tensorflow)\n",
    "    library(collapse)\n",
    "})"
   ]
  },
  {
   "cell_type": "code",
   "execution_count": 2,
   "id": "f7a0036c-25a1-498d-aeb2-2bb9759cb503",
   "metadata": {},
   "outputs": [],
   "source": [
    "df <- fread('salary.csv')"
   ]
  },
  {
   "cell_type": "code",
   "execution_count": 3,
   "id": "00cf177e-edd0-447a-abbd-98a1e13b12a3",
   "metadata": {},
   "outputs": [],
   "source": [
    "colnames(df) <- gsub('-','',colnames(df))"
   ]
  },
  {
   "cell_type": "code",
   "execution_count": 4,
   "id": "87a76249-7eba-487b-adb2-0664ff39cf1f",
   "metadata": {},
   "outputs": [],
   "source": [
    "#df %>% select(salary) %>% filter(salary == '>50K')"
   ]
  },
  {
   "cell_type": "code",
   "execution_count": 5,
   "id": "9ce9bde6-34db-4b49-91aa-235e57f1c780",
   "metadata": {},
   "outputs": [],
   "source": [
    "label_encode <- function(x){\n",
    "    case_when(x == '<=50K' ~ 0,\n",
    "              x == '>50K' ~ 1)\n",
    "}"
   ]
  },
  {
   "cell_type": "code",
   "execution_count": 6,
   "id": "65a57ec8-e57b-4449-8258-5e7b38216dda",
   "metadata": {},
   "outputs": [],
   "source": [
    "sparse_data <- function(df,sparse_percentage = 0.02){\n",
    "    \n",
    "    df_new <- copy(df) \n",
    "    setDT(df_new)\n",
    "    categorical_names <- df_new %>% purrr::discard(is.numeric) %>% colnames\n",
    "\n",
    "    for(i in categorical_names){\n",
    "        features <- df_new[,unique(.SD),.SDcols = i] %>% pull\n",
    "        \n",
    "        for(j in features){\n",
    "            \n",
    "            condition_format <- 'df_new[,length(%s[%s == \"%s\"])/.N < %s]'\n",
    "            condition_command <- sprintf(condition_format,i,i,j,sparse_percentage)\n",
    "        \n",
    "            condition <- eval(parse(text = condition_command))\n",
    "            \n",
    "            if(condition){\n",
    "                sparse_format <- 'df_new[%s == \"%s\", %s := \"other\"]'\n",
    "                sparse_command <- sprintf(sparse_format,i,j,i)\n",
    "                eval(parse(text = sparse_command))\n",
    "            } \n",
    "        }\n",
    "    }\n",
    "    df_new\n",
    "}"
   ]
  },
  {
   "cell_type": "code",
   "execution_count": 7,
   "id": "9da7b6f6-8629-4fcb-a780-aa4025c0bc4b",
   "metadata": {},
   "outputs": [],
   "source": [
    "get_scaling_factors <- function(df){\n",
    "    setDT(df)\n",
    "    factors <- lapply(df %>% keep(is.numeric),function(x) list(min = min(x,na.rm = T),max = max(x,na.rm = T)))\n",
    "    factors\n",
    "}      "
   ]
  },
  {
   "cell_type": "code",
   "execution_count": 8,
   "id": "a1962cf1-2b91-45bc-9246-370cf8a3b9a0",
   "metadata": {},
   "outputs": [],
   "source": [
    "scale_data <- function(df,scaling_factors,reverse = FALSE){\n",
    "    \n",
    "    data <- copy(df)\n",
    "    setDT(data)\n",
    "    for(i in names(scaling_factors)){\n",
    "        factors <- scaling_factors[[i]]\n",
    "        if(reverse){\n",
    "            data[,(i) := lapply(.SD,function(x) (x*(factors[['max']] - factors[['min']]) + factors[['min']])),.SDcols = i]\n",
    "        }else{\n",
    "            data[,(i) := lapply(.SD,function(x) (x - factors[['min']]) / (factors[['max']] - factors[['min']])),.SDcols = i]\n",
    "            data[,(i) := lapply(.SD,function(x) fifelse(is.na(x),-1,x)),.SDcols = i]\n",
    "        }  \n",
    "    }\n",
    "                                \n",
    "    catcols <- df %>% purrr::discard(is.numeric) %>% colnames\n",
    "    out <- list(scaling_factors = scaling_factors,data = data,cat_cols = catcols)\n",
    "    return(out)\n",
    "} "
   ]
  },
  {
   "cell_type": "code",
   "execution_count": 9,
   "id": "3411b5e2-342e-4afc-83c3-76a5a63c94c8",
   "metadata": {},
   "outputs": [],
   "source": [
    "clean_test_set <- function(scaled_data,categorical_cols,distinct_values_on_train){\n",
    "    df <- copy(scaled_data[['data']])\n",
    "    \n",
    "    make_paste <- function(x){\n",
    "    wrapped <- sapply(x,function(x) paste0('\"',x,'\"'))\n",
    "    paste0(wrapped,collapse = ',')\n",
    "    }       \n",
    "   \n",
    "    \n",
    "    for(i in categorical_cols){\n",
    "        distincts <- distinct_values_on_train[[i]]\n",
    "        distincts <- make_paste(distincts)\n",
    "        command_format <- \"df[! %s %%in%% c(%s), %s := 'Missing']\"\n",
    "        command <- sprintf(command_format,i,distincts,i)\n",
    "        eval(parse(text = command))\n",
    "    }\n",
    "                      \n",
    "    scaled_data[['data']] <- df\n",
    "                      \n",
    "    scaled_data\n",
    "}"
   ]
  },
  {
   "cell_type": "code",
   "execution_count": 10,
   "id": "e99bf439-dcc6-4da4-a7b6-f048076b7036",
   "metadata": {},
   "outputs": [],
   "source": [
    "get_distincts <- function(scaled_data){\n",
    "    df <- copy(scaled_data[['data']])\n",
    "    \n",
    "    catcols <- scaled_data[['cat_cols']]\n",
    "    \n",
    "    distincts <- list()\n",
    "    for(i in catcols){\n",
    "        distinct_values <- df[,unique(.SD),.SDcols = i] %>% pull %>% as.character\n",
    "        distincts[[i]] <- c(distinct_values,'Missing')\n",
    "        df[,(i) := lapply(.SD,function(x) as.character(x)),.SDcols = i]\n",
    "        df[,(i) := lapply(.SD,function(x) ifelse(is.na(x),'Missing',x)),.SDcols = i]\n",
    "        df[,(i) := lapply(.SD,function(x) factor(x,levels = distincts[[i]])),.SDcols = i]\n",
    "    }\n",
    "    \n",
    "    \n",
    "\n",
    "    scaled_data[['cat_distincts']] <- distincts\n",
    "    \n",
    "    scaled_data[['data']] <- df\n",
    "                          \n",
    "    scaled_data\n",
    "}"
   ]
  },
  {
   "cell_type": "code",
   "execution_count": 11,
   "id": "7fca393d-25f8-4640-87a2-5c7081e7eddc",
   "metadata": {},
   "outputs": [],
   "source": [
    "fetch_test_levels_to_train <- function(scaled_data,categorical_cols,distinct_values_on_train){\n",
    "    df <- copy(scaled_data[['data']])\n",
    "    \n",
    "    for(i in categorical_cols){\n",
    "        distincts <- distinct_values_on_train[[i]]\n",
    "        df[,(i) := lapply(.SD,function(x) factor(x,levels = distincts)),.SDcols = i]\n",
    "    }\n",
    "   \n",
    "    scaled_data[['data']] <- df\n",
    "    scaled_data\n",
    "}"
   ]
  },
  {
   "cell_type": "code",
   "execution_count": 12,
   "id": "bf30cd4e-4830-444f-8dbc-48db0ebae6d3",
   "metadata": {},
   "outputs": [],
   "source": [
    "dummy_data <- function(scaled_data){\n",
    "    df <- copy(scaled_data[['data']])\n",
    "    df_dummied <- recipe(df) %>% step_dummy(all_nominal()) %>% prep %>% bake(new_data = NULL)\n",
    "    scaled_data[['data']] <- df_dummied\n",
    "    scaled_data\n",
    "}"
   ]
  },
  {
   "cell_type": "code",
   "execution_count": 13,
   "id": "8e14847e-8d47-4da6-97ee-4f206407e2bd",
   "metadata": {},
   "outputs": [],
   "source": [
    "make_frame <- function(df,label,test = FALSE,train_frame = NULL,sparse_perc = 0.03){\n",
    "    dt <- copy(df)\n",
    "    setDT(dt)\n",
    "    if(!test){\n",
    "        target_ <- dt[[label]]\n",
    "        \n",
    "        dt[,(label) := NULL]\n",
    "    }\n",
    "    sparsed <- sparse_data(dt,sparse_percentage = sparse_perc)\n",
    "    gc()\n",
    "    base::message('Data sparsed.')\n",
    "    \n",
    "    if(!test){\n",
    "        scl <- get_scaling_factors(sparsed)\n",
    "    }else{\n",
    "        scl <- train_frame[['scaling_factors']]\n",
    "    }\n",
    "    gc()\n",
    "    base::message('Scaling factors calculated.')\n",
    "    base::message('Missing values labeled.')\n",
    "    scld <- scale_data(sparsed,scl)\n",
    "    gc()\n",
    "    base::message('Data scaled.')\n",
    "    \n",
    "    if(test){\n",
    "        scld <- clean_test_set(scld,train_frame[['cat_cols']],train_frame[['cat_distincts']])\n",
    "        base::message('Unseen values removed from test set.')\n",
    "        scld <- fetch_test_levels_to_train(scld,train_frame[['cat_cols']],train_frame[['cat_distincts']])\n",
    "        base::message('Train & test set nominal levels fetched.')\n",
    "    }\n",
    "    \n",
    "    if(!test){\n",
    "    distincted <- get_distincts(scld)\n",
    "    gc()\n",
    "    base::message('Got distinct values for nominals.')\n",
    "    }else{\n",
    "        distincted <- scld\n",
    "    }\n",
    "    \n",
    "    dummied <- dummy_data(distincted)\n",
    "    gc()\n",
    "    base::message('Data dummied.')\n",
    "    \n",
    "    if(!test){\n",
    "        dummied[['label_to_keras']] <- target_# %>% label_encode %>% keras::to_categorical()\n",
    "        dummied[['label']] <- target_ #%>% label_encode\n",
    "    }\n",
    "    \n",
    "    dummied[['data']] <- dummied[['data']] %>% as.matrix\n",
    "    base::message('All done !')\n",
    "    dummied\n",
    "}"
   ]
  },
  {
   "cell_type": "code",
   "execution_count": 14,
   "id": "92982dd2-f333-4f9e-81e7-1183b0382975",
   "metadata": {},
   "outputs": [],
   "source": [
    "data_sl <- data.table()\n",
    "\n",
    "for(i in c(LETTERS[1:10],letters[1:20])){\n",
    "    charmi <- sample(c(TRUE,FALSE),size = 1)\n",
    "    ortsec <- sample(200:500,size = 1)\n",
    "    sdsec <- sample(100:1000,size = 1)\n",
    "    if(charmi){\n",
    "        data_sl[,(i) := sample(c(LETTERS,NA),size = 2e5,replace = T)]\n",
    "    }else{\n",
    "        data_sl[,(i) := sample(c(rnorm(n = 2e2,mean = ortsec,sd = sdsec),NA),size = 2e5,replace = T)]\n",
    "    }\n",
    "}\n",
    "\n",
    "data_sl[,default := sample(c('No','Yes'),size = 2e5,prob = c(.93,.07),replace = T)]"
   ]
  },
  {
   "cell_type": "code",
   "execution_count": 18,
   "id": "9bd8aee4-1bc1-45fe-9491-c613050dcb26",
   "metadata": {},
   "outputs": [],
   "source": [
    "set.seed(111)\n",
    "#dk <- copy(iris)\n",
    "traindex <- createDataPartition(df[['salary']],p = .66,times = 1,list = FALSE) %>% as.numeric\n",
    "train_set <- df[traindex,]\n",
    "test_set <- df[-traindex,]\n",
    "#train_set <- dk[traindex,]\n",
    "#test_set <- dk[-traindex,] %>% select(-default) %>% filter(student != 'No')"
   ]
  },
  {
   "cell_type": "code",
   "execution_count": 19,
   "id": "27763e61-c6e4-4c2d-813a-60579f0f1749",
   "metadata": {},
   "outputs": [
    {
     "data": {
      "text/plain": [
       "salary\n",
       "    <=50K      >50K \n",
       "0.7591662 0.2408338 "
      ]
     },
     "metadata": {},
     "output_type": "display_data"
    }
   ],
   "source": [
    "train_set %>% select(salary) %>% table %>% prop.table"
   ]
  },
  {
   "cell_type": "code",
   "execution_count": 20,
   "id": "96b14783-465f-4ca1-b239-85039f54bd8e",
   "metadata": {},
   "outputs": [
    {
     "data": {
      "text/plain": [
       "salary\n",
       "    <=50K      >50K \n",
       "0.7592375 0.2407625 "
      ]
     },
     "metadata": {},
     "output_type": "display_data"
    }
   ],
   "source": [
    "test_set %>% select(salary) %>% table %>% prop.table"
   ]
  },
  {
   "cell_type": "code",
   "execution_count": 21,
   "id": "a232fb71-efcd-4748-b40b-7a0e58ab6860",
   "metadata": {},
   "outputs": [
    {
     "name": "stderr",
     "output_type": "stream",
     "text": [
      "Data sparsed.\n",
      "\n",
      "Scaling factors calculated.\n",
      "\n",
      "Missing values labeled.\n",
      "\n",
      "Data scaled.\n",
      "\n",
      "Got distinct values for nominals.\n",
      "\n",
      "Data dummied.\n",
      "\n",
      "All done !\n",
      "\n",
      "Data sparsed.\n",
      "\n",
      "Scaling factors calculated.\n",
      "\n",
      "Missing values labeled.\n",
      "\n",
      "Data scaled.\n",
      "\n",
      "Unseen values removed from test set.\n",
      "\n",
      "Train & test set nominal levels fetched.\n",
      "\n",
      "Data dummied.\n",
      "\n",
      "All done !\n",
      "\n"
     ]
    }
   ],
   "source": [
    "train_ok <- train_set %>% make_frame(label = 'salary')\n",
    "test_ok <- test_set %>% select(-salary) %>% make_frame(label = 'salary',test = T,train_frame = train_ok)"
   ]
  },
  {
   "cell_type": "code",
   "execution_count": 22,
   "id": "fb4bce17-618e-4b95-a336-568d8a7056c2",
   "metadata": {},
   "outputs": [],
   "source": [
    "f1 <- function(y_true, y_pred){\n",
    "    y_pred = k_round(y_pred)\n",
    "    \n",
    "    tp = k_sum(k_cast(y_true*y_pred, 'float'), axis=1)\n",
    "    tn = k_sum(k_cast((1-y_true)*(1-y_pred), 'float'), axis=1)\n",
    "    fp = k_sum(k_cast((1-y_true)*y_pred, 'float'), axis=1)\n",
    "    fn = k_sum(k_cast(y_true*(1-y_pred), 'float'), axis=1)\n",
    "\n",
    "    p = tp / (tp + fp + k_epsilon())\n",
    "    r = tp / (tp + fn + k_epsilon())\n",
    "\n",
    "    f1 = 2*p*r / (p+r+k_epsilon())\n",
    "    f1 = tf$where(tf$math$is_nan(f1), tf$zeros_like(f1), f1)\n",
    "    return(k_mean(f1,axis = 1))\n",
    "}\n",
    "\n",
    "f1_loss <- function(y_true, y_pred){\n",
    "    #y_pred = k_round(y_pred)\n",
    "    tp = k_sum(k_cast(y_true*y_pred, 'float'), axis=1)\n",
    "    tn = k_sum(k_cast((1-y_true)*(1-y_pred), 'float'), axis=1)\n",
    "    fp = k_sum(k_cast((1-y_true)*y_pred, 'float'), axis=1)\n",
    "    fn = k_sum(k_cast(y_true*(1-y_pred), 'float'), axis=1)\n",
    "\n",
    "    p = tp / (tp + fp + k_epsilon())\n",
    "    r = tp / (tp + fn + k_epsilon())\n",
    "\n",
    "    f1 = 2*p*r / (p+r+k_epsilon())\n",
    "    f1 = tf$where(tf$math$is_nan(f1), tf$zeros_like(f1), f1)\n",
    "    return(1 - k_mean(f1,axis = 1))\n",
    "}"
   ]
  },
  {
   "cell_type": "code",
   "execution_count": 23,
   "id": "21ddddd4-a97c-4346-a0f8-73d46750c97e",
   "metadata": {},
   "outputs": [],
   "source": [
    "folds_ <- caret::createFolds(train_ok[['label']],k = 5)\n",
    "\n",
    "folds <- 1:length(folds_)"
   ]
  },
  {
   "cell_type": "code",
   "execution_count": 95,
   "id": "b270b17e-5ef8-4be5-bf84-4e92e4e2845c",
   "metadata": {},
   "outputs": [],
   "source": [
    "input_neurons <- ncol(train_ok[['data']][folds_[[1]],]) \n",
    "output_neurons <- 2\n",
    "\n",
    "nofsample <- nrow(train_ok[['data']][folds_[[1]],])\n",
    "\n",
    "alpha <- 2"
   ]
  },
  {
   "cell_type": "code",
   "execution_count": 96,
   "id": "9314dc76-5d0c-4d77-a7e7-8bf227becee4",
   "metadata": {},
   "outputs": [],
   "source": [
    "numofneuron <- nofsample / (alpha * (input_neurons + output_neurons))\n",
    "\n",
    "numofneuron <- numofneuron - output_neurons"
   ]
  },
  {
   "cell_type": "code",
   "execution_count": 97,
   "id": "89631e62-bffb-46e0-958d-86ed7a2cf25d",
   "metadata": {},
   "outputs": [
    {
     "data": {
      "text/html": [
       "37.0727272727273"
      ],
      "text/latex": [
       "37.0727272727273"
      ],
      "text/markdown": [
       "37.0727272727273"
      ],
      "text/plain": [
       "[1] 37.07273"
      ]
     },
     "metadata": {},
     "output_type": "display_data"
    }
   ],
   "source": [
    "numofneuron"
   ]
  },
  {
   "cell_type": "code",
   "execution_count": 98,
   "id": "01769dce-b6eb-4bac-a22a-f86b53c2f281",
   "metadata": {},
   "outputs": [
    {
     "data": {
      "text/html": [
       "<style>\n",
       ".list-inline {list-style: none; margin:0; padding: 0}\n",
       ".list-inline>li {display: inline-block}\n",
       ".list-inline>li:not(:last-child)::after {content: \"\\00b7\"; padding: 0 .5ex}\n",
       "</style>\n",
       "<ol class=list-inline><li>18</li><li>12</li><li>7</li></ol>\n"
      ],
      "text/latex": [
       "\\begin{enumerate*}\n",
       "\\item 18\n",
       "\\item 12\n",
       "\\item 7\n",
       "\\end{enumerate*}\n"
      ],
      "text/markdown": [
       "1. 18\n",
       "2. 12\n",
       "3. 7\n",
       "\n",
       "\n"
      ],
      "text/plain": [
       "[1] 18 12  7"
      ]
     },
     "metadata": {},
     "output_type": "display_data"
    }
   ],
   "source": [
    "layer_dist1 <- base::seq(from = numofneuron,to = output_neurons,length.out = 5)\n",
    "layer_dist <- layer_dist1[-1]/base::sum(layer_dist1[-1])*numofneuron\n",
    "layer_disto <- layer_dist %>% ceiling %>% .[1:3]\n",
    "\n",
    "layer_disto"
   ]
  },
  {
   "cell_type": "code",
   "execution_count": 119,
   "id": "1a3523fc-7f61-4238-8796-0edb8a36a672",
   "metadata": {},
   "outputs": [
    {
     "data": {
      "text/html": [
       "'**************----------**************'"
      ],
      "text/latex": [
       "'**************----------**************'"
      ],
      "text/markdown": [
       "'**************----------**************'"
      ],
      "text/plain": [
       "[1] \"**************----------**************\""
      ]
     },
     "metadata": {},
     "output_type": "display_data"
    },
    {
     "data": {
      "text/html": [
       "'Fold 1 F1 : 0.68'"
      ],
      "text/latex": [
       "'Fold 1 F1 : 0.68'"
      ],
      "text/markdown": [
       "'Fold 1 F1 : 0.68'"
      ],
      "text/plain": [
       "[1] \"Fold 1 F1 : 0.68\""
      ]
     },
     "metadata": {},
     "output_type": "display_data"
    },
    {
     "data": {
      "text/html": [
       "'Best threshold for Fold 1 is : 0.5'"
      ],
      "text/latex": [
       "'Best threshold for Fold 1 is : 0.5'"
      ],
      "text/markdown": [
       "'Best threshold for Fold 1 is : 0.5'"
      ],
      "text/plain": [
       "[1] \"Best threshold for Fold 1 is : 0.5\""
      ]
     },
     "metadata": {},
     "output_type": "display_data"
    },
    {
     "data": {
      "text/html": [
       "'**************----------**************'"
      ],
      "text/latex": [
       "'**************----------**************'"
      ],
      "text/markdown": [
       "'**************----------**************'"
      ],
      "text/plain": [
       "[1] \"**************----------**************\""
      ]
     },
     "metadata": {},
     "output_type": "display_data"
    },
    {
     "data": {
      "text/html": [
       "'Fold 2 F1 : 0.7'"
      ],
      "text/latex": [
       "'Fold 2 F1 : 0.7'"
      ],
      "text/markdown": [
       "'Fold 2 F1 : 0.7'"
      ],
      "text/plain": [
       "[1] \"Fold 2 F1 : 0.7\""
      ]
     },
     "metadata": {},
     "output_type": "display_data"
    },
    {
     "data": {
      "text/html": [
       "'Best threshold for Fold 2 is : 0.5'"
      ],
      "text/latex": [
       "'Best threshold for Fold 2 is : 0.5'"
      ],
      "text/markdown": [
       "'Best threshold for Fold 2 is : 0.5'"
      ],
      "text/plain": [
       "[1] \"Best threshold for Fold 2 is : 0.5\""
      ]
     },
     "metadata": {},
     "output_type": "display_data"
    },
    {
     "data": {
      "text/html": [
       "'**************----------**************'"
      ],
      "text/latex": [
       "'**************----------**************'"
      ],
      "text/markdown": [
       "'**************----------**************'"
      ],
      "text/plain": [
       "[1] \"**************----------**************\""
      ]
     },
     "metadata": {},
     "output_type": "display_data"
    },
    {
     "data": {
      "text/html": [
       "'Fold 3 F1 : 0.68'"
      ],
      "text/latex": [
       "'Fold 3 F1 : 0.68'"
      ],
      "text/markdown": [
       "'Fold 3 F1 : 0.68'"
      ],
      "text/plain": [
       "[1] \"Fold 3 F1 : 0.68\""
      ]
     },
     "metadata": {},
     "output_type": "display_data"
    },
    {
     "data": {
      "text/html": [
       "'Best threshold for Fold 3 is : 0.5'"
      ],
      "text/latex": [
       "'Best threshold for Fold 3 is : 0.5'"
      ],
      "text/markdown": [
       "'Best threshold for Fold 3 is : 0.5'"
      ],
      "text/plain": [
       "[1] \"Best threshold for Fold 3 is : 0.5\""
      ]
     },
     "metadata": {},
     "output_type": "display_data"
    },
    {
     "data": {
      "text/html": [
       "'**************----------**************'"
      ],
      "text/latex": [
       "'**************----------**************'"
      ],
      "text/markdown": [
       "'**************----------**************'"
      ],
      "text/plain": [
       "[1] \"**************----------**************\""
      ]
     },
     "metadata": {},
     "output_type": "display_data"
    },
    {
     "data": {
      "text/html": [
       "'Fold 4 F1 : 0.69'"
      ],
      "text/latex": [
       "'Fold 4 F1 : 0.69'"
      ],
      "text/markdown": [
       "'Fold 4 F1 : 0.69'"
      ],
      "text/plain": [
       "[1] \"Fold 4 F1 : 0.69\""
      ]
     },
     "metadata": {},
     "output_type": "display_data"
    },
    {
     "data": {
      "text/html": [
       "'Best threshold for Fold 4 is : 0.5'"
      ],
      "text/latex": [
       "'Best threshold for Fold 4 is : 0.5'"
      ],
      "text/markdown": [
       "'Best threshold for Fold 4 is : 0.5'"
      ],
      "text/plain": [
       "[1] \"Best threshold for Fold 4 is : 0.5\""
      ]
     },
     "metadata": {},
     "output_type": "display_data"
    },
    {
     "data": {
      "text/html": [
       "'**************----------**************'"
      ],
      "text/latex": [
       "'**************----------**************'"
      ],
      "text/markdown": [
       "'**************----------**************'"
      ],
      "text/plain": [
       "[1] \"**************----------**************\""
      ]
     },
     "metadata": {},
     "output_type": "display_data"
    },
    {
     "data": {
      "text/html": [
       "'Fold 5 F1 : 0.69'"
      ],
      "text/latex": [
       "'Fold 5 F1 : 0.69'"
      ],
      "text/markdown": [
       "'Fold 5 F1 : 0.69'"
      ],
      "text/plain": [
       "[1] \"Fold 5 F1 : 0.69\""
      ]
     },
     "metadata": {},
     "output_type": "display_data"
    },
    {
     "data": {
      "text/html": [
       "'Best threshold for Fold 5 is : 0.5'"
      ],
      "text/latex": [
       "'Best threshold for Fold 5 is : 0.5'"
      ],
      "text/markdown": [
       "'Best threshold for Fold 5 is : 0.5'"
      ],
      "text/plain": [
       "[1] \"Best threshold for Fold 5 is : 0.5\""
      ]
     },
     "metadata": {},
     "output_type": "display_data"
    },
    {
     "data": {
      "text/html": [
       "'**************----------**************'"
      ],
      "text/latex": [
       "'**************----------**************'"
      ],
      "text/markdown": [
       "'**************----------**************'"
      ],
      "text/plain": [
       "[1] \"**************----------**************\""
      ]
     },
     "metadata": {},
     "output_type": "display_data"
    },
    {
     "data": {
      "text/html": [
       "'CV Mean F1 : 0.6893199538619'"
      ],
      "text/latex": [
       "'CV Mean F1 : 0.6893199538619'"
      ],
      "text/markdown": [
       "'CV Mean F1 : 0.6893199538619'"
      ],
      "text/plain": [
       "[1] \"CV Mean F1 : 0.6893199538619\""
      ]
     },
     "metadata": {},
     "output_type": "display_data"
    }
   ],
   "source": [
    "seed <- 1923\n",
    "preds_keras <- list()\n",
    "errors <- c()\n",
    "\n",
    "for(i in folds){\n",
    "    train_indices <- setdiff(folds,i) \n",
    "    test_indices <- i\n",
    "    \n",
    "    train_x <- train_ok[['data']][unlist(folds_[train_indices]),] %>% na.omit\n",
    "    test_x <- train_ok[['data']][unlist(folds_[test_indices]),] %>% na.omit\n",
    "    \n",
    "    target_data <- test_ok[['data']]\n",
    "    \n",
    "    train_y <- train_ok[['label']][unlist(folds_[train_indices])]\n",
    "    test_y <- train_ok[['label']][unlist(folds_[test_indices])]\n",
    "    \n",
    "    train_y2 <- train_y %>% label_encode %>% as.matrix %>% to_categorical\n",
    "    test_y2 <- test_y %>% label_encode %>% as.matrix %>% to_categorical\n",
    "    \n",
    "    tf$random$set_seed(seed = seed)\n",
    "\n",
    "    reticulate::py_set_seed(seed = seed)\n",
    "\n",
    "    model <- keras_model_sequential()\n",
    "    \n",
    "\n",
    "    model %>%\n",
    "    layer_dense(units = ceiling(numofneuron), activation = 'relu', input_shape = c(input_neurons)) %>%\n",
    "    #layer_dense(units = layer_disto[7], activation = 'relu') %>%\n",
    "    layer_dense(units = c(output_neurons),activation = 'softmax')\n",
    "    \n",
    "    model %>% compile(\n",
    "      loss = f1_loss,#f1_loss,\n",
    "      optimizer =optimizer_rmsprop(learning_rate = 0.01),\n",
    "      metrics = c(f1)\n",
    "    )\n",
    "    \n",
    "    wgh <- sum(test_y == '<=50K')/sum(test_y == '>50K')\n",
    "    \n",
    "    history <- model %>% fit(\n",
    "      train_x, train_y2, \n",
    "      epochs = 1000, batch_size = 128, \n",
    "      validation_data = list(test_x,test_y2),\n",
    "      callbacks = list(callback_early_stopping(\n",
    "                        monitor = \"val_loss\",\n",
    "                        patience = 100,\n",
    "                        verbose = 1,\n",
    "                        mode = \"auto\",\n",
    "                        restore_best_weights = TRUE\n",
    "                        )\n",
    "    ),\n",
    "    class_weight = list('0' = sum(test_y == '>50K'),'1' = sum(test_y == '<=50K'))\n",
    "    )\n",
    "    \n",
    "    preds <- model %>% predict(test_x)  %>% .[,2]\n",
    "    \n",
    "    # fold thresholding \n",
    "    thresholds <- data.table()\n",
    "    for(j in seq(from = 0.01,to = 0.9,by = 0.01)){\n",
    "        obs <- test_y %>% label_encode\n",
    "        prd <- +(preds >= j)\n",
    "        if(sum(prd) == 0){\n",
    "            next\n",
    "        }\n",
    "        f1_clc <- f_meas_vec(truth = factor(obs,levels = 0:1),estimate = factor(prd,levels = 0:1),event_level = 'second')\n",
    "        fold_row <- data.table(threshold = j,f1 = f1_clc)\n",
    "        thresholds <- rbindlist(list(thresholds,fold_row))\n",
    "    }\n",
    "    \n",
    "    best_threshold <- thresholds %>% filter(f1 == max(f1)) %>% select(threshold) %>% pull %>% .[1]\n",
    "    #best_threshold <- 0.5\n",
    "    error <- thresholds %>% filter(f1 == max(f1)) %>% select(f1) %>% pull %>% .[1]\n",
    "    #error <- accuracy_vec(truth = factor(obs,levels = 0:2),estimate = factor(preds,levels = 0:2))#,event_level = 'second')\n",
    "    IRdisplay::display('**************----------**************')\n",
    "    IRdisplay::display(sprintf('Fold %s F1 : %s',i,round(error,2)))\n",
    "    errors[i] <- error\n",
    "    IRdisplay::display(sprintf('Best threshold for Fold %s is : %s',i,best_threshold))\n",
    "    \n",
    "    \n",
    "    \n",
    "    preds_target <- model %>% predict(target_data) %>% .[,2]\n",
    "    \n",
    "    preds_target <- +(preds_target >= best_threshold)\n",
    "    \n",
    "    preds_keras[[i]] <- preds_target\n",
    "    \n",
    "    rm(model)\n",
    "    gc()\n",
    "}\n",
    "IRdisplay::display('**************----------**************')\n",
    "IRdisplay::display(sprintf('CV Mean F1 : %s',mean(errors,na.rm = T)))"
   ]
  },
  {
   "cell_type": "code",
   "execution_count": 120,
   "id": "3d0944e5-0366-4809-bd33-e4f1f68cfa61",
   "metadata": {},
   "outputs": [],
   "source": [
    "krs <- preds_keras %>% as.data.table"
   ]
  },
  {
   "cell_type": "code",
   "execution_count": 121,
   "id": "253ddb91-bcb1-4915-b936-3085c37e1a05",
   "metadata": {},
   "outputs": [],
   "source": [
    "colnames(krs) <- paste0('Fold',1:length(folds))"
   ]
  },
  {
   "cell_type": "code",
   "execution_count": 122,
   "id": "a03a8828-29c0-426f-8ad4-42c1988e04be",
   "metadata": {},
   "outputs": [
    {
     "data": {
      "text/html": [
       "0"
      ],
      "text/latex": [
       "0"
      ],
      "text/markdown": [
       "0"
      ],
      "text/plain": [
       "[1] 0"
      ]
     },
     "metadata": {},
     "output_type": "display_data"
    }
   ],
   "source": [
    "pmin(0,1)"
   ]
  },
  {
   "cell_type": "code",
   "execution_count": 123,
   "id": "900a110c-fac9-42ac-bf24-4f4044d42e23",
   "metadata": {},
   "outputs": [],
   "source": [
    "krs <- krs %>% rowwise %>% mutate(prd = pmin(fmode(c(Fold1,Fold2,Fold3,Fold4,Fold5)),1L)) %>% as.data.table"
   ]
  },
  {
   "cell_type": "code",
   "execution_count": 124,
   "id": "1de6cefc-1744-486f-a7d9-f799db4ea4d2",
   "metadata": {},
   "outputs": [],
   "source": [
    "#krs[,prd := +(prd >= 0.5)]"
   ]
  },
  {
   "cell_type": "code",
   "execution_count": 125,
   "id": "5488aa6a-297c-4f34-bf01-d12f3615875c",
   "metadata": {},
   "outputs": [
    {
     "data": {
      "text/plain": [
       "salary\n",
       "    <=50K      >50K \n",
       "0.7592375 0.2407625 "
      ]
     },
     "metadata": {},
     "output_type": "display_data"
    }
   ],
   "source": [
    "df[-traindex,] %>% select(salary) %>% table %>% prop.table"
   ]
  },
  {
   "cell_type": "code",
   "execution_count": 126,
   "id": "68c5f72b-92c2-4f73-9e24-c4e73e2ba7e9",
   "metadata": {},
   "outputs": [
    {
     "data": {
      "text/plain": [
       "prd\n",
       "        0         1 \n",
       "0.7327672 0.2672328 "
      ]
     },
     "metadata": {},
     "output_type": "display_data"
    }
   ],
   "source": [
    "krs %>% select(prd) %>% table %>% prop.table"
   ]
  },
  {
   "cell_type": "code",
   "execution_count": 127,
   "id": "e4f3fcbf-d1c7-4701-ba54-c7cb1120358e",
   "metadata": {},
   "outputs": [
    {
     "data": {
      "text/html": [
       "<table class=\"dataframe\">\n",
       "<caption>A tibble: 1 × 3</caption>\n",
       "<thead>\n",
       "\t<tr><th scope=col>.metric</th><th scope=col>.estimator</th><th scope=col>.estimate</th></tr>\n",
       "\t<tr><th scope=col>&lt;chr&gt;</th><th scope=col>&lt;chr&gt;</th><th scope=col>&lt;dbl&gt;</th></tr>\n",
       "</thead>\n",
       "<tbody>\n",
       "\t<tr><td>f_meas</td><td>binary</td><td>0.6864663</td></tr>\n",
       "</tbody>\n",
       "</table>\n"
      ],
      "text/latex": [
       "A tibble: 1 × 3\n",
       "\\begin{tabular}{lll}\n",
       " .metric & .estimator & .estimate\\\\\n",
       " <chr> & <chr> & <dbl>\\\\\n",
       "\\hline\n",
       "\t f\\_meas & binary & 0.6864663\\\\\n",
       "\\end{tabular}\n"
      ],
      "text/markdown": [
       "\n",
       "A tibble: 1 × 3\n",
       "\n",
       "| .metric &lt;chr&gt; | .estimator &lt;chr&gt; | .estimate &lt;dbl&gt; |\n",
       "|---|---|---|\n",
       "| f_meas | binary | 0.6864663 |\n",
       "\n"
      ],
      "text/plain": [
       "  .metric .estimator .estimate\n",
       "1 f_meas  binary     0.6864663"
      ]
     },
     "metadata": {},
     "output_type": "display_data"
    }
   ],
   "source": [
    "test_set%>% select(salary) %>%\n",
    "transmute(obs = label_encode(salary)) %>%\n",
    "bind_cols(krs %>% select(prd)) %>%\n",
    "f_meas(truth = factor(obs,levels = 0:1),estimate = factor(prd,levels = 0:1),event_level = 'second')"
   ]
  },
  {
   "cell_type": "code",
   "execution_count": 89,
   "id": "f1604d80-a657-4f64-a443-cd2f5124a58a",
   "metadata": {},
   "outputs": [
    {
     "ename": "ERROR",
     "evalue": "Error in summarise(.): 'train_df' nesnesi bulunamadı\n",
     "output_type": "error",
     "traceback": [
      "Error in summarise(.): 'train_df' nesnesi bulunamadı\nTraceback:\n",
      "1. train_df %>% summarise",
      "2. summarise(.)"
     ]
    }
   ],
   "source": [
    "errors <- c()\n",
    "preds_cb <- list()\n",
    "set.seed(1)\n",
    "\n",
    "rcp <- recipe(salary ~ .,data = train_set) %>% step_string2factor(all_nominal_predictors())\n",
    "    train_df %>% summarise\n",
    "\n",
    "spc <- boost_tree(learn_rate = tune(),trees = tune(),min_n = tune()) %>%\n",
    "set_mode('classification') %>%\n",
    "#set_engine('xgboost',scale_pos_weight = sqrt(ww)) #%>%\n",
    "set_engine('catboost',auto_class_weights = 'SqrtBalanced',custom_loss = 'F1:use_weights=False',eval_metric = 'F1:use_weights=False') \n",
    "\n",
    "\n",
    "wf <- workflow() %>% add_recipe(rcp) %>% add_model(spc)\n",
    "\n",
    "rsmpl <- vfold_cv(train_set,strata = salary,v = 5)\n",
    "\n",
    "ctrl <- control_bayes(verbose = T,event_level = 'second')\n",
    "\n",
    "metrk <- yardstick::metric_set(f_meas)\n",
    "\n",
    "tuned <- tune_bayes(wf,resamples = rsmpl,iter = 5,metrics = metrk,control = ctrl)\n",
    "\n",
    "best_param <- tuned %>% select_best('f_meas')\n",
    "\n",
    "#wf <- wf %>% finalize_workflow(best_param)\n",
    "\n",
    "for(i in folds){\n",
    "    train_indices <- setdiff(folds,i) \n",
    "    test_indices <- i\n",
    "    \n",
    "    #train_x <- train_ok[['data']][unlist(folds_[train_indices]),] %>% na.omit\n",
    "    #test_x <- train_ok[['data']][unlist(folds_[test_indices]),] %>% na.omit\n",
    "    train_x <- train_set[unlist(folds_[train_indices]),] %>% select(-salary)\n",
    "    test_x <- train_set[unlist(folds_[test_indices]),] %>% select(-salary)\n",
    "    target_data <- test_set %>% as.data.table \n",
    "    \n",
    "    train_y <- train_set[unlist(folds_[train_indices])] %>% select(salary) %>% pull\n",
    "    test_y <- train_set[unlist(folds_[test_indices])] %>% select(salary) %>% pull\n",
    "    #train_y <- train_ok[['label']][unlist(folds_[train_indices])]\n",
    "    #test_y <- train_ok[['label']][unlist(folds_[test_indices])]\n",
    "    \n",
    "    train_df <- train_x %>% as.data.table %>% mutate(salary = train_y)\n",
    "    test_df <- test_x %>% as.data.table %>% mutate(salary = test_y)\n",
    "    \n",
    "    \n",
    "    ww <- train_df %>% summarise(length(salary[salary == '<=50K'])/length(salary[salary == '>50K'])) %>% pull\n",
    "       \n",
    "    mod <- wf %>% fit(train_df)\n",
    "    \n",
    "    prds <- mod %>% predict(test_df,type='prob') %>% .[,2] %>% pull\n",
    "    \n",
    "    thresholds <- data.table()\n",
    "    for(j in seq(from = 0.03,to = 0.7,by = 0.01)){\n",
    "        obs <- test_df %>% select(salary) %>% pull %>% label_encode\n",
    "        prd <- +(prds >= j)\n",
    "        if(sum(prd) == 0){\n",
    "            next\n",
    "        }\n",
    "        f1_clc <- f_meas_vec(truth = factor(obs,levels = 0:1),estimate = factor(prd,levels = 0:1),event_level = 'second')\n",
    "        fold_row <- data.table(threshold = j,f1 = f1_clc)\n",
    "        thresholds <- rbindlist(list(thresholds,fold_row))\n",
    "    }\n",
    "    \n",
    "    best_threshold <- thresholds %>% filter(f1 == max(f1)) %>% select(threshold) %>% pull %>% .[1]\n",
    "    error <- thresholds %>% filter(f1 == max(f1)) %>% select(f1) %>% pull %>% .[1]\n",
    "    \n",
    "    #error <- prds %>% bind_cols(ts %>% select(salary)) %>%\n",
    "    #f_meas(truth = .pred_class,estimate = factor(salary,levels = c('<=50K','>50K')),event_level = 'second') %>%\n",
    "    #select(.estimate) %>%\n",
    "    #pull \n",
    "    \n",
    "    IRdisplay::display('**************----------**************')\n",
    "    IRdisplay::display(sprintf('Fold %s F1 : %s',i,round(error,2)))\n",
    "    errors[i] <- error\n",
    "    IRdisplay::display(sprintf('Best threshold for Fold %s is : %s',i,best_threshold))\n",
    "    \n",
    "    prds_targ <- mod %>% predict(target_data,type = 'prob') %>% .[,2] %>% pull\n",
    "    \n",
    "    prds_targ <- +(prds_targ >= best_threshold)\n",
    "    \n",
    "    preds_cb[[i]] <- prds_targ\n",
    "}\n",
    "\n",
    "\n",
    "IRdisplay::display('**************----------**************')\n",
    "IRdisplay::display(sprintf('CV Mean F1 : %s',mean(errors,na.rm = T)))"
   ]
  },
  {
   "cell_type": "code",
   "execution_count": 214,
   "id": "19a1c6fe-299e-443b-bd28-d6fabe43f64e",
   "metadata": {},
   "outputs": [],
   "source": [
    "cb <- preds_cb %>% as.data.table"
   ]
  },
  {
   "cell_type": "code",
   "execution_count": 215,
   "id": "780a93b1-df9e-4fd2-a2e0-6902ba2220f7",
   "metadata": {},
   "outputs": [],
   "source": [
    "colnames(cb) <- paste0('Fold',1:length(folds))"
   ]
  },
  {
   "cell_type": "code",
   "execution_count": 216,
   "id": "6a60db5b-3324-46f0-807e-df5c53e65669",
   "metadata": {},
   "outputs": [],
   "source": [
    "cb <- cb %>% rowwise %>% mutate(prd = fmode(c(Fold1,Fold2,Fold3,Fold4,Fold5))) %>% as.data.table"
   ]
  },
  {
   "cell_type": "code",
   "execution_count": 217,
   "id": "119a6e54-04d4-49d1-982c-aa132e4a456f",
   "metadata": {},
   "outputs": [
    {
     "data": {
      "text/html": [
       "<table class=\"dataframe\">\n",
       "<caption>A tibble: 1 × 3</caption>\n",
       "<thead>\n",
       "\t<tr><th scope=col>.metric</th><th scope=col>.estimator</th><th scope=col>.estimate</th></tr>\n",
       "\t<tr><th scope=col>&lt;chr&gt;</th><th scope=col>&lt;chr&gt;</th><th scope=col>&lt;dbl&gt;</th></tr>\n",
       "</thead>\n",
       "<tbody>\n",
       "\t<tr><td>f_meas</td><td>binary</td><td>0.7124357</td></tr>\n",
       "</tbody>\n",
       "</table>\n"
      ],
      "text/latex": [
       "A tibble: 1 × 3\n",
       "\\begin{tabular}{lll}\n",
       " .metric & .estimator & .estimate\\\\\n",
       " <chr> & <chr> & <dbl>\\\\\n",
       "\\hline\n",
       "\t f\\_meas & binary & 0.7124357\\\\\n",
       "\\end{tabular}\n"
      ],
      "text/markdown": [
       "\n",
       "A tibble: 1 × 3\n",
       "\n",
       "| .metric &lt;chr&gt; | .estimator &lt;chr&gt; | .estimate &lt;dbl&gt; |\n",
       "|---|---|---|\n",
       "| f_meas | binary | 0.7124357 |\n",
       "\n"
      ],
      "text/plain": [
       "  .metric .estimator .estimate\n",
       "1 f_meas  binary     0.7124357"
      ]
     },
     "metadata": {},
     "output_type": "display_data"
    }
   ],
   "source": [
    "test_set %>%\n",
    "select(salary) %>%\n",
    "bind_cols(cb %>% select(prd)) %>%\n",
    "f_meas(truth = factor(ifelse(salary == '<=50K',0,1),levels= 0:1),estimate = factor(prd,levels = 0:1),event_level = 'second')"
   ]
  },
  {
   "cell_type": "code",
   "execution_count": 158,
   "id": "01cb6f81-ba12-4eaa-96e7-5d2ef6a681b6",
   "metadata": {},
   "outputs": [
    {
     "data": {
      "text/html": [
       "\n",
       "<table width=\"100%\"><tr><td>scale_pos_weight {dials}</td><td style=\"text-align: right;\">R Documentation</td></tr></table>\n",
       "\n",
       "<h2>Parameters for possible engine parameters for xgboost</h2>\n",
       "\n",
       "<h3>Description</h3>\n",
       "\n",
       "<p>These parameters are auxiliary to tree-based models that use the &quot;xgboost&quot;\n",
       "engine. They correspond to tuning parameters that would be specified using\n",
       "<code>set_engine(\"xgboost\", ...)</code>.\n",
       "</p>\n",
       "\n",
       "\n",
       "<h3>Usage</h3>\n",
       "\n",
       "<pre><code class='language-R'>scale_pos_weight(range = c(0.8, 1.2), trans = NULL)\n",
       "\n",
       "penalty_L2(range = c(-10, 1), trans = log10_trans())\n",
       "\n",
       "penalty_L1(range = c(-10, 1), trans = log10_trans())\n",
       "</code></pre>\n",
       "\n",
       "\n",
       "<h3>Arguments</h3>\n",
       "\n",
       "<table>\n",
       "<tr valign=\"top\"><td><code>range</code></td>\n",
       "<td>\n",
       "<p>A two-element vector holding the <em>defaults</em> for the smallest and\n",
       "largest possible values, respectively.</p>\n",
       "</td></tr>\n",
       "<tr valign=\"top\"><td><code>trans</code></td>\n",
       "<td>\n",
       "<p>A <code>trans</code> object from the <code>scales</code> package, such as\n",
       "<code>scales::log10_trans()</code> or <code>scales::reciprocal_trans()</code>. If not provided,\n",
       "the default is used which matches the units used in <code>range</code>. If no\n",
       "transformation, <code>NULL</code>.</p>\n",
       "</td></tr>\n",
       "</table>\n",
       "\n",
       "\n",
       "<h3>Details</h3>\n",
       "\n",
       "<p>For more information, see the <a href=\"https://xgboost.readthedocs.io/en/latest/parameter.html\">xgboost webpage</a>.\n",
       "</p>\n",
       "\n",
       "\n",
       "<h3>Examples</h3>\n",
       "\n",
       "<pre><code class='language-R'>\n",
       "scale_pos_weight()\n",
       "penalty_L2()\n",
       "penalty_L1()\n",
       "\n",
       "</code></pre>\n",
       "\n",
       "<hr /><div style=\"text-align: center;\">[Package <em>dials</em> version 0.1.1 ]</div>\n",
       "</div>"
      ],
      "text/latex": [
       "\\inputencoding{utf8}\n",
       "\\HeaderA{scale\\_pos\\_weight}{Parameters for possible engine parameters for xgboost}{scale.Rul.pos.Rul.weight}\n",
       "\\aliasA{penalty\\_L1}{scale\\_pos\\_weight}{penalty.Rul.L1}\n",
       "\\aliasA{penalty\\_L2}{scale\\_pos\\_weight}{penalty.Rul.L2}\n",
       "%\n",
       "\\begin{Description}\\relax\n",
       "These parameters are auxiliary to tree-based models that use the \"xgboost\"\n",
       "engine. They correspond to tuning parameters that would be specified using\n",
       "\\code{set\\_engine(\"xgboost\", ...)}.\n",
       "\\end{Description}\n",
       "%\n",
       "\\begin{Usage}\n",
       "\\begin{verbatim}\n",
       "scale_pos_weight(range = c(0.8, 1.2), trans = NULL)\n",
       "\n",
       "penalty_L2(range = c(-10, 1), trans = log10_trans())\n",
       "\n",
       "penalty_L1(range = c(-10, 1), trans = log10_trans())\n",
       "\\end{verbatim}\n",
       "\\end{Usage}\n",
       "%\n",
       "\\begin{Arguments}\n",
       "\\begin{ldescription}\n",
       "\\item[\\code{range}] A two-element vector holding the \\emph{defaults} for the smallest and\n",
       "largest possible values, respectively.\n",
       "\n",
       "\\item[\\code{trans}] A \\code{trans} object from the \\code{scales} package, such as\n",
       "\\code{scales::log10\\_trans()} or \\code{scales::reciprocal\\_trans()}. If not provided,\n",
       "the default is used which matches the units used in \\code{range}. If no\n",
       "transformation, \\code{NULL}.\n",
       "\\end{ldescription}\n",
       "\\end{Arguments}\n",
       "%\n",
       "\\begin{Details}\\relax\n",
       "For more information, see the \\Rhref{https://xgboost.readthedocs.io/en/latest/parameter.html}{xgboost webpage}.\n",
       "\\end{Details}\n",
       "%\n",
       "\\begin{Examples}\n",
       "\\begin{ExampleCode}\n",
       "\n",
       "scale_pos_weight()\n",
       "penalty_L2()\n",
       "penalty_L1()\n",
       "\n",
       "\\end{ExampleCode}\n",
       "\\end{Examples}"
      ],
      "text/plain": [
       "scale_pos_weight             package:dials             R Documentation\n",
       "\n",
       "_\bP_\ba_\br_\ba_\bm_\be_\bt_\be_\br_\bs _\bf_\bo_\br _\bp_\bo_\bs_\bs_\bi_\bb_\bl_\be _\be_\bn_\bg_\bi_\bn_\be _\bp_\ba_\br_\ba_\bm_\be_\bt_\be_\br_\bs _\bf_\bo_\br _\bx_\bg_\bb_\bo_\bo_\bs_\bt\n",
       "\n",
       "_\bD_\be_\bs_\bc_\br_\bi_\bp_\bt_\bi_\bo_\bn:\n",
       "\n",
       "     These parameters are auxiliary to tree-based models that use the\n",
       "     \"xgboost\" engine. They correspond to tuning parameters that would\n",
       "     be specified using 'set_engine(\"xgboost\", ...)'.\n",
       "\n",
       "_\bU_\bs_\ba_\bg_\be:\n",
       "\n",
       "     scale_pos_weight(range = c(0.8, 1.2), trans = NULL)\n",
       "     \n",
       "     penalty_L2(range = c(-10, 1), trans = log10_trans())\n",
       "     \n",
       "     penalty_L1(range = c(-10, 1), trans = log10_trans())\n",
       "     \n",
       "_\bA_\br_\bg_\bu_\bm_\be_\bn_\bt_\bs:\n",
       "\n",
       "   range: A two-element vector holding the _defaults_ for the smallest\n",
       "          and largest possible values, respectively.\n",
       "\n",
       "   trans: A 'trans' object from the 'scales' package, such as\n",
       "          'scales::log10_trans()' or 'scales::reciprocal_trans()'. If\n",
       "          not provided, the default is used which matches the units\n",
       "          used in 'range'. If no transformation, 'NULL'.\n",
       "\n",
       "_\bD_\be_\bt_\ba_\bi_\bl_\bs:\n",
       "\n",
       "     For more information, see the xgboost webpage.\n",
       "\n",
       "_\bE_\bx_\ba_\bm_\bp_\bl_\be_\bs:\n",
       "\n",
       "     scale_pos_weight()\n",
       "     penalty_L2()\n",
       "     penalty_L1()\n",
       "     "
      ]
     },
     "metadata": {},
     "output_type": "display_data"
    }
   ],
   "source": [
    "?scale_pos_weight()"
   ]
  },
  {
   "cell_type": "code",
   "execution_count": null,
   "id": "6cfd5f60-8f59-4516-8732-7df94a37c862",
   "metadata": {},
   "outputs": [],
   "source": []
  }
 ],
 "metadata": {
  "kernelspec": {
   "display_name": "R",
   "language": "R",
   "name": "ir"
  },
  "language_info": {
   "codemirror_mode": "r",
   "file_extension": ".r",
   "mimetype": "text/x-r-source",
   "name": "R",
   "pygments_lexer": "r",
   "version": "4.2.0"
  }
 },
 "nbformat": 4,
 "nbformat_minor": 5
}
