{
 "cells": [
  {
   "cell_type": "code",
   "execution_count": 29,
   "metadata": {},
   "outputs": [],
   "source": [
    "library(lightgbm)\n",
    "library(tidyverse)"
   ]
  },
  {
   "cell_type": "markdown",
   "metadata": {},
   "source": [
    "# Gerekli Dosyaların Okunması"
   ]
  },
  {
   "cell_type": "code",
   "execution_count": 67,
   "metadata": {},
   "outputs": [],
   "source": [
    "df <- read.csv('train.csv') %>% select(-'id')\n",
    "target <- read.csv('test.csv') %>% select(-'id')\n",
    "submit_format <- read.csv('sample_submission.csv')"
   ]
  },
  {
   "cell_type": "markdown",
   "metadata": {},
   "source": [
    "# Train ve Test Seti Ayrımı"
   ]
  },
  {
   "cell_type": "code",
   "execution_count": 55,
   "metadata": {},
   "outputs": [],
   "source": [
    "traindex <- sample(1:nrow(df),nrow(df)*0.7)\n",
    "\n",
    "train <- df[traindex,]\n",
    "test <- df[-traindex,]\n",
    "\n",
    "x_train <- train %>% select(-'y')\n",
    "y_train <- train$y\n",
    "\n",
    "x_test <- test %>% select(-'y')\n",
    "y_test <- test$y"
   ]
  },
  {
   "cell_type": "markdown",
   "metadata": {},
   "source": [
    "# Model kurulması"
   ]
  },
  {
   "cell_type": "markdown",
   "metadata": {},
   "source": [
    "## LightGBM kütüphanesiyle Gradient Boosting yapacağım için bu kütüphaneye özel veri seti yapısına getiriyorum"
   ]
  },
  {
   "cell_type": "code",
   "execution_count": 56,
   "metadata": {},
   "outputs": [],
   "source": [
    "trainlgb <- lgb.Dataset(data = as.matrix(x_train),label=y_train)\n",
    "testlgb <- lgb.Dataset(data = as.matrix(x_test),label=y_test)\n",
    "valids <- list(test=testlgb)"
   ]
  },
  {
   "cell_type": "code",
   "execution_count": 57,
   "metadata": {},
   "outputs": [],
   "source": [
    "params <- list(objective = \"regression\", metric = \"rmse\")"
   ]
  },
  {
   "cell_type": "code",
   "execution_count": 61,
   "metadata": {},
   "outputs": [
    {
     "name": "stdout",
     "output_type": "stream",
     "text": [
      "[LightGBM] [Warning] Auto-choosing col-wise multi-threading, the overhead of testing was 0.014496 seconds.\n",
      "You can set `force_col_wise=true` to remove the overhead.\n",
      "[LightGBM] [Info] Total Bins 1029\n",
      "[LightGBM] [Info] Number of data points in the train set: 2800, number of used features: 5\n",
      "[LightGBM] [Info] Start training from score 213.537216\n",
      "[1] \"[1]:  test's rmse:59.3445\"\n",
      "[1] \"[2]:  test's rmse:54.7363\"\n",
      "[1] \"[3]:  test's rmse:50.7342\"\n",
      "[1] \"[4]:  test's rmse:47.2431\"\n",
      "[1] \"[5]:  test's rmse:44.1928\"\n",
      "[1] \"[6]:  test's rmse:41.6014\"\n",
      "[1] \"[7]:  test's rmse:39.3576\"\n",
      "[1] \"[8]:  test's rmse:37.4546\"\n",
      "[1] \"[9]:  test's rmse:35.8422\"\n",
      "[1] \"[10]:  test's rmse:34.4956\"\n",
      "[1] \"[11]:  test's rmse:33.3928\"\n",
      "[1] \"[12]:  test's rmse:32.4438\"\n",
      "[1] \"[13]:  test's rmse:31.6956\"\n",
      "[1] \"[14]:  test's rmse:31.0485\"\n",
      "[1] \"[15]:  test's rmse:30.5452\"\n",
      "[1] \"[16]:  test's rmse:30.1466\"\n",
      "[1] \"[17]:  test's rmse:29.8306\"\n",
      "[1] \"[18]:  test's rmse:29.5381\"\n",
      "[1] \"[19]:  test's rmse:29.2961\"\n",
      "[1] \"[20]:  test's rmse:29.1353\"\n",
      "[1] \"[21]:  test's rmse:29.0126\"\n",
      "[1] \"[22]:  test's rmse:28.9019\"\n",
      "[1] \"[23]:  test's rmse:28.8148\"\n",
      "[1] \"[24]:  test's rmse:28.7389\"\n",
      "[1] \"[25]:  test's rmse:28.7048\"\n",
      "[1] \"[26]:  test's rmse:28.6896\"\n",
      "[1] \"[27]:  test's rmse:28.6472\"\n",
      "[1] \"[28]:  test's rmse:28.6169\"\n",
      "[1] \"[29]:  test's rmse:28.6077\"\n",
      "[1] \"[30]:  test's rmse:28.6089\"\n",
      "[1] \"[31]:  test's rmse:28.6188\"\n",
      "[1] \"[32]:  test's rmse:28.6151\"\n",
      "[1] \"[33]:  test's rmse:28.6054\"\n",
      "[1] \"[34]:  test's rmse:28.5922\"\n",
      "[1] \"[35]:  test's rmse:28.5699\"\n",
      "[1] \"[36]:  test's rmse:28.559\"\n",
      "[1] \"[37]:  test's rmse:28.5732\"\n",
      "[1] \"[38]:  test's rmse:28.5829\"\n"
     ]
    }
   ],
   "source": [
    "model <- lgb.train(params = params,data=trainlgb,valids=valids,nrounds = 38)"
   ]
  },
  {
   "cell_type": "markdown",
   "metadata": {},
   "source": [
    "## Modelimin test hatası 28.5829 RMSE, parametreler ayarlanarak bu skor optimize edilebilir. Şimdi asıl tahmin etmem gereken veri üzerinde tahminimi yapıp submission hazırlıyorum"
   ]
  },
  {
   "cell_type": "code",
   "execution_count": 81,
   "metadata": {},
   "outputs": [],
   "source": [
    "pred <- predict(model,target %>% as.matrix)"
   ]
  },
  {
   "cell_type": "code",
   "execution_count": 82,
   "metadata": {},
   "outputs": [
    {
     "data": {
      "text/html": [
       "<table class=\"dataframe\">\n",
       "<caption>A data.frame: 10 × 2</caption>\n",
       "<thead>\n",
       "\t<tr><th></th><th scope=col>Id</th><th scope=col>Predicted</th></tr>\n",
       "\t<tr><th></th><th scope=col>&lt;int&gt;</th><th scope=col>&lt;dbl&gt;</th></tr>\n",
       "</thead>\n",
       "<tbody>\n",
       "\t<tr><th scope=row>1</th><td> 1</td><td>213.3880</td></tr>\n",
       "\t<tr><th scope=row>2</th><td> 2</td><td>286.9564</td></tr>\n",
       "\t<tr><th scope=row>3</th><td> 3</td><td>174.4628</td></tr>\n",
       "\t<tr><th scope=row>4</th><td> 4</td><td>216.1157</td></tr>\n",
       "\t<tr><th scope=row>5</th><td> 5</td><td>222.7758</td></tr>\n",
       "\t<tr><th scope=row>6</th><td> 6</td><td>211.1024</td></tr>\n",
       "\t<tr><th scope=row>7</th><td> 7</td><td>189.2466</td></tr>\n",
       "\t<tr><th scope=row>8</th><td> 8</td><td>161.8556</td></tr>\n",
       "\t<tr><th scope=row>9</th><td> 9</td><td>178.0472</td></tr>\n",
       "\t<tr><th scope=row>10</th><td>10</td><td>326.0892</td></tr>\n",
       "</tbody>\n",
       "</table>\n"
      ],
      "text/latex": [
       "A data.frame: 10 × 2\n",
       "\\begin{tabular}{r|ll}\n",
       "  & Id & Predicted\\\\\n",
       "  & <int> & <dbl>\\\\\n",
       "\\hline\n",
       "\t1 &  1 & 213.3880\\\\\n",
       "\t2 &  2 & 286.9564\\\\\n",
       "\t3 &  3 & 174.4628\\\\\n",
       "\t4 &  4 & 216.1157\\\\\n",
       "\t5 &  5 & 222.7758\\\\\n",
       "\t6 &  6 & 211.1024\\\\\n",
       "\t7 &  7 & 189.2466\\\\\n",
       "\t8 &  8 & 161.8556\\\\\n",
       "\t9 &  9 & 178.0472\\\\\n",
       "\t10 & 10 & 326.0892\\\\\n",
       "\\end{tabular}\n"
      ],
      "text/markdown": [
       "\n",
       "A data.frame: 10 × 2\n",
       "\n",
       "| <!--/--> | Id &lt;int&gt; | Predicted &lt;dbl&gt; |\n",
       "|---|---|---|\n",
       "| 1 |  1 | 213.3880 |\n",
       "| 2 |  2 | 286.9564 |\n",
       "| 3 |  3 | 174.4628 |\n",
       "| 4 |  4 | 216.1157 |\n",
       "| 5 |  5 | 222.7758 |\n",
       "| 6 |  6 | 211.1024 |\n",
       "| 7 |  7 | 189.2466 |\n",
       "| 8 |  8 | 161.8556 |\n",
       "| 9 |  9 | 178.0472 |\n",
       "| 10 | 10 | 326.0892 |\n",
       "\n"
      ],
      "text/plain": [
       "   Id Predicted\n",
       "1   1 213.3880 \n",
       "2   2 286.9564 \n",
       "3   3 174.4628 \n",
       "4   4 216.1157 \n",
       "5   5 222.7758 \n",
       "6   6 211.1024 \n",
       "7   7 189.2466 \n",
       "8   8 161.8556 \n",
       "9   9 178.0472 \n",
       "10 10 326.0892 "
      ]
     },
     "metadata": {},
     "output_type": "display_data"
    }
   ],
   "source": [
    "submit_format$Predicted <- pred\n",
    "\n",
    "submit_format %>% head(10)"
   ]
  },
  {
   "cell_type": "markdown",
   "metadata": {},
   "source": [
    "## Hazırladığım submission'u csv formatında kaydedip kaggle'a yükleyeceğim."
   ]
  },
  {
   "cell_type": "code",
   "execution_count": 83,
   "metadata": {},
   "outputs": [],
   "source": [
    "submit_format %>% write.csv('ornek_submit.csv',row.names=F)"
   ]
  }
 ],
 "metadata": {
  "kernelspec": {
   "display_name": "R",
   "language": "R",
   "name": "ir"
  },
  "language_info": {
   "codemirror_mode": "r",
   "file_extension": ".r",
   "mimetype": "text/x-r-source",
   "name": "R",
   "pygments_lexer": "r",
   "version": "4.0.4"
  }
 },
 "nbformat": 4,
 "nbformat_minor": 4
}
