{
 "cells": [
  {
   "cell_type": "code",
   "execution_count": 1,
   "id": "15f60faa-1b02-4090-bef6-0de7f0445274",
   "metadata": {},
   "outputs": [],
   "source": [
    "suppressPackageStartupMessages({\n",
    "    library(tidymodels)\n",
    "    library(treesnip)\n",
    "    library(tidyverse)\n",
    "    library(keras)\n",
    "    library(tensorflow)\n",
    "})"
   ]
  },
  {
   "cell_type": "code",
   "execution_count": 2,
   "id": "d838410c-2634-4329-a0dd-cc8d0f7e064e",
   "metadata": {},
   "outputs": [],
   "source": [
    "Sys.setenv('PYTHONHASHSEED' = 1453)"
   ]
  },
  {
   "cell_type": "code",
   "execution_count": 3,
   "id": "d165a329-f897-42fe-a4c4-09601b74f6d7",
   "metadata": {},
   "outputs": [],
   "source": [
    "set.seed(1)\n",
    "\n",
    "label <- 'default'\n",
    "\n",
    "iris1.5 <- ISLR::Default %>% mutate(default = case_when(default == 'No' ~ 0,\n",
    "                                             default == 'Yes' ~ 1))\n",
    "\n",
    "iris1.5 <- iris1.5 %>% mutate(default = factor(default,levels = 0:1))\n",
    "\n",
    "willsee <- caret::createDataPartition(iris1.5[[label]],p = .7,list = TRUE) %>% unlist\n",
    "\n",
    "iris2 <- iris1.5[willsee,]\n",
    "\n",
    "iris3 <- iris1.5[-willsee,]\n",
    "\n",
    "folds_ <- caret::createFolds(iris2[[label]],k = 5)\n",
    "\n",
    "folds <- 1:length(folds_)\n",
    "\n",
    "errors <- c()\n",
    "\n",
    "predictions <- list()\n",
    "\n",
    "iris2 <- iris2 %>% mutate(default = as.integer(as.character(default)))\n",
    "iris3 <- iris3 %>% mutate(default = as.integer(as.character(default)))\n",
    "\n",
    "i <- 1\n",
    "\n",
    "train_indices_dum <- setdiff(folds,i)\n",
    "test_indices_dum <- i\n",
    "\n",
    "train_set_dum <- iris2[unlist(folds_[train_indices_dum]),]\n",
    "test_set_dum <- iris2[unlist(folds_[test_indices_dum]),]\n"
   ]
  },
  {
   "cell_type": "code",
   "execution_count": 4,
   "id": "838a117c-de0f-4762-854c-9fd65830e06c",
   "metadata": {},
   "outputs": [],
   "source": [
    "input_neurons <- ncol(train_set_dum) - 1\n",
    "output_neurons <- 2\n",
    "\n",
    "nofsample <- nrow(train_set_dum)\n",
    "\n",
    "alpha <- 4"
   ]
  },
  {
   "cell_type": "code",
   "execution_count": 5,
   "id": "28d90b03-1509-4fcd-b63c-37de5096548f",
   "metadata": {},
   "outputs": [],
   "source": [
    "numofneuron <- nofsample / (alpha * (input_neurons + output_neurons))\n",
    "\n",
    "numofneuron <- numofneuron - output_neurons"
   ]
  },
  {
   "cell_type": "code",
   "execution_count": 118,
   "id": "6c635920-67a9-495c-b46a-c5b94e1c6787",
   "metadata": {},
   "outputs": [
    {
     "data": {
      "text/html": [
       "<style>\n",
       ".list-inline {list-style: none; margin:0; padding: 0}\n",
       ".list-inline>li {display: inline-block}\n",
       ".list-inline>li:not(:last-child)::after {content: \"\\00b7\"; padding: 0 .5ex}\n",
       "</style>\n",
       "<ol class=list-inline><li>4</li><li>43</li><li>36</li><li>46</li><li>38</li><li>33</li><li>66</li><li>17</li></ol>\n"
      ],
      "text/latex": [
       "\\begin{enumerate*}\n",
       "\\item 4\n",
       "\\item 43\n",
       "\\item 36\n",
       "\\item 46\n",
       "\\item 38\n",
       "\\item 33\n",
       "\\item 66\n",
       "\\item 17\n",
       "\\end{enumerate*}\n"
      ],
      "text/markdown": [
       "1. 4\n",
       "2. 43\n",
       "3. 36\n",
       "4. 46\n",
       "5. 38\n",
       "6. 33\n",
       "7. 66\n",
       "8. 17\n",
       "\n",
       "\n"
      ],
      "text/plain": [
       "[1]  4 43 36 46 38 33 66 17"
      ]
     },
     "metadata": {},
     "output_type": "display_data"
    }
   ],
   "source": [
    "#layer_dist1 <- base::seq(from = numofneuron,to = output_neurons,length.out = 8)\n",
    "#layer_dist <- layer_dist1[-1]/base::sum(layer_dist1[-1])*numofneuron\n",
    "#layer_dist %>% ceiling\n",
    "\n",
    "randy <- sample(1:1000,size = 8)\n",
    "\n",
    "(numofneuron*(randy/sum(randy)) )%>% ceiling"
   ]
  },
  {
   "cell_type": "code",
   "execution_count": 46,
   "id": "45f77ef0-503a-4b91-adb4-12d86349d0aa",
   "metadata": {},
   "outputs": [
    {
     "data": {
      "text/html": [
       "<style>\n",
       ".list-inline {list-style: none; margin:0; padding: 0}\n",
       ".list-inline>li {display: inline-block}\n",
       ".list-inline>li:not(:last-child)::after {content: \"\\00b7\"; padding: 0 .5ex}\n",
       "</style>\n",
       "<ol class=list-inline><li>61.2822341057635</li><li>53.6838978015449</li><li>46.0855614973262</li><li>38.4872251931075</li><li>30.8888888888889</li><li>23.2905525846702</li><li>15.6922162804516</li><li>8.09387997623291</li><li>0.49554367201426</li></ol>\n"
      ],
      "text/latex": [
       "\\begin{enumerate*}\n",
       "\\item 61.2822341057635\n",
       "\\item 53.6838978015449\n",
       "\\item 46.0855614973262\n",
       "\\item 38.4872251931075\n",
       "\\item 30.8888888888889\n",
       "\\item 23.2905525846702\n",
       "\\item 15.6922162804516\n",
       "\\item 8.09387997623291\n",
       "\\item 0.49554367201426\n",
       "\\end{enumerate*}\n"
      ],
      "text/markdown": [
       "1. 61.2822341057635\n",
       "2. 53.6838978015449\n",
       "3. 46.0855614973262\n",
       "4. 38.4872251931075\n",
       "5. 30.8888888888889\n",
       "6. 23.2905525846702\n",
       "7. 15.6922162804516\n",
       "8. 8.09387997623291\n",
       "9. 0.49554367201426\n",
       "\n",
       "\n"
      ],
      "text/plain": [
       "[1] 61.2822341 53.6838978 46.0855615 38.4872252 30.8888889 23.2905526 15.6922163\n",
       "[8]  8.0938800  0.4955437"
      ]
     },
     "metadata": {},
     "output_type": "display_data"
    }
   ],
   "source": [
    "layer_dist"
   ]
  },
  {
   "cell_type": "code",
   "execution_count": 9,
   "id": "9be0cf80-a7bc-413f-aa5d-073b0d93efb3",
   "metadata": {},
   "outputs": [],
   "source": [
    "#model <- keras_model_sequential()"
   ]
  },
  {
   "cell_type": "code",
   "execution_count": 10,
   "id": "59267a34-5e00-4e0b-b03a-e9baaf1a603e",
   "metadata": {},
   "outputs": [],
   "source": [
    "#model %>%\n",
    "#layer_dense(units = 122, activation = 'relu', input_shape = c(3)) %>%\n",
    "#layer_dense(units = 62, activation = 'relu') %>%\n",
    "#layer_dense(units = 2, activation = 'relu') %>%\n",
    "#layer_dense(units = 2,activation = 'softmax')"
   ]
  },
  {
   "cell_type": "code",
   "execution_count": 11,
   "id": "78875c8c-06e7-4535-ae9a-dddc5e228cf2",
   "metadata": {},
   "outputs": [],
   "source": [
    "#model <- keras_model_sequential()\n",
    "\n",
    "#model %>%\n",
    "#layer_dense(units = 122, activation = 'relu', input_shape = c(3)) %>%\n",
    "#layer_dense(units = 62, activation = 'relu') %>%\n",
    "#layer_dense(units = 2, activation = 'relu') %>%\n",
    "#layer_dense(units = 2,activation = 'softmax')"
   ]
  },
  {
   "cell_type": "code",
   "execution_count": 12,
   "id": "1b611636-486a-45cf-8bbb-9e3b85835605",
   "metadata": {},
   "outputs": [],
   "source": [
    "f1 <- function(y_true, y_pred){\n",
    "    y_pred = k_round(y_pred)\n",
    "    \n",
    "    tp = k_sum(k_cast(y_true*y_pred, 'float'), axis=1)\n",
    "    tn = k_sum(k_cast((1-y_true)*(1-y_pred), 'float'), axis=1)\n",
    "    fp = k_sum(k_cast((1-y_true)*y_pred, 'float'), axis=1)\n",
    "    fn = k_sum(k_cast(y_true*(1-y_pred), 'float'), axis=1)\n",
    "\n",
    "    p = tp / (tp + fp + k_epsilon())\n",
    "    r = tp / (tp + fn + k_epsilon())\n",
    "\n",
    "    f1 = 2*p*r / (p+r+k_epsilon())\n",
    "    f1 = tf$where(tf$math$is_nan(f1), tf$zeros_like(f1), f1)\n",
    "    return(k_mean(f1,axis = 1))\n",
    "}\n",
    "\n",
    "f1_loss <- function(y_true, y_pred){\n",
    "    #y_pred = k_round(y_pred)\n",
    "    tp = k_sum(k_cast(y_true*y_pred, 'float'), axis=1)\n",
    "    tn = k_sum(k_cast((1-y_true)*(1-y_pred), 'float'), axis=1)\n",
    "    fp = k_sum(k_cast((1-y_true)*y_pred, 'float'), axis=1)\n",
    "    fn = k_sum(k_cast(y_true*(1-y_pred), 'float'), axis=1)\n",
    "\n",
    "    p = tp / (tp + fp + k_epsilon())\n",
    "    r = tp / (tp + fn + k_epsilon())\n",
    "\n",
    "    f1 = 2*p*r / (p+r+k_epsilon())\n",
    "    f1 = tf$where(tf$math$is_nan(f1), tf$zeros_like(f1), f1)\n",
    "    return(1 - k_mean(f1,axis = 1))\n",
    "}"
   ]
  },
  {
   "cell_type": "code",
   "execution_count": 13,
   "id": "71fd3188-3f81-48d3-b6ad-db8588bed3a1",
   "metadata": {},
   "outputs": [],
   "source": [
    "#model %>% compile(\n",
    "#  loss = f1_loss,\n",
    "#  optimizer = optimizer_adam(learning_rate = 0.01),\n",
    "#  metrics = c(f1)\n",
    "#)"
   ]
  },
  {
   "cell_type": "code",
   "execution_count": 123,
   "id": "506fb052-5dff-4820-ba35-c41d5edaa1ae",
   "metadata": {},
   "outputs": [
    {
     "name": "stderr",
     "output_type": "stream",
     "text": [
      "Warning message:\n",
      "\"While computing binary `precision()`, no predicted events were detected (i.e. `true_positive + false_positive = 0`). \n",
      "Precision is undefined in this case, and `NA` will be returned.\n",
      "Note that 47 true event(s) actually occured for the problematic event level, '1'.\"\n"
     ]
    },
    {
     "data": {
      "text/html": [
       "'**************----------**************'"
      ],
      "text/latex": [
       "'**************----------**************'"
      ],
      "text/markdown": [
       "'**************----------**************'"
      ],
      "text/plain": [
       "[1] \"**************----------**************\""
      ]
     },
     "metadata": {},
     "output_type": "display_data"
    },
    {
     "data": {
      "text/html": [
       "'Fold 1 F1 : NA'"
      ],
      "text/latex": [
       "'Fold 1 F1 : NA'"
      ],
      "text/markdown": [
       "'Fold 1 F1 : NA'"
      ],
      "text/plain": [
       "[1] \"Fold 1 F1 : NA\""
      ]
     },
     "metadata": {},
     "output_type": "display_data"
    },
    {
     "data": {
      "text/html": [
       "'**************----------**************'"
      ],
      "text/latex": [
       "'**************----------**************'"
      ],
      "text/markdown": [
       "'**************----------**************'"
      ],
      "text/plain": [
       "[1] \"**************----------**************\""
      ]
     },
     "metadata": {},
     "output_type": "display_data"
    },
    {
     "data": {
      "text/html": [
       "'Fold 2 F1 : 0.53'"
      ],
      "text/latex": [
       "'Fold 2 F1 : 0.53'"
      ],
      "text/markdown": [
       "'Fold 2 F1 : 0.53'"
      ],
      "text/plain": [
       "[1] \"Fold 2 F1 : 0.53\""
      ]
     },
     "metadata": {},
     "output_type": "display_data"
    },
    {
     "data": {
      "text/html": [
       "'**************----------**************'"
      ],
      "text/latex": [
       "'**************----------**************'"
      ],
      "text/markdown": [
       "'**************----------**************'"
      ],
      "text/plain": [
       "[1] \"**************----------**************\""
      ]
     },
     "metadata": {},
     "output_type": "display_data"
    },
    {
     "data": {
      "text/html": [
       "'Fold 3 F1 : 0.41'"
      ],
      "text/latex": [
       "'Fold 3 F1 : 0.41'"
      ],
      "text/markdown": [
       "'Fold 3 F1 : 0.41'"
      ],
      "text/plain": [
       "[1] \"Fold 3 F1 : 0.41\""
      ]
     },
     "metadata": {},
     "output_type": "display_data"
    },
    {
     "data": {
      "text/html": [
       "'**************----------**************'"
      ],
      "text/latex": [
       "'**************----------**************'"
      ],
      "text/markdown": [
       "'**************----------**************'"
      ],
      "text/plain": [
       "[1] \"**************----------**************\""
      ]
     },
     "metadata": {},
     "output_type": "display_data"
    },
    {
     "data": {
      "text/html": [
       "'Fold 4 F1 : 0.58'"
      ],
      "text/latex": [
       "'Fold 4 F1 : 0.58'"
      ],
      "text/markdown": [
       "'Fold 4 F1 : 0.58'"
      ],
      "text/plain": [
       "[1] \"Fold 4 F1 : 0.58\""
      ]
     },
     "metadata": {},
     "output_type": "display_data"
    },
    {
     "data": {
      "text/html": [
       "'**************----------**************'"
      ],
      "text/latex": [
       "'**************----------**************'"
      ],
      "text/markdown": [
       "'**************----------**************'"
      ],
      "text/plain": [
       "[1] \"**************----------**************\""
      ]
     },
     "metadata": {},
     "output_type": "display_data"
    },
    {
     "data": {
      "text/html": [
       "'Fold 5 F1 : 0.62'"
      ],
      "text/latex": [
       "'Fold 5 F1 : 0.62'"
      ],
      "text/markdown": [
       "'Fold 5 F1 : 0.62'"
      ],
      "text/plain": [
       "[1] \"Fold 5 F1 : 0.62\""
      ]
     },
     "metadata": {},
     "output_type": "display_data"
    },
    {
     "data": {
      "text/html": [
       "'**************----------**************'"
      ],
      "text/latex": [
       "'**************----------**************'"
      ],
      "text/markdown": [
       "'**************----------**************'"
      ],
      "text/plain": [
       "[1] \"**************----------**************\""
      ]
     },
     "metadata": {},
     "output_type": "display_data"
    },
    {
     "data": {
      "text/html": [
       "'CV Mean F1 : 0.534862489092848'"
      ],
      "text/latex": [
       "'CV Mean F1 : 0.534862489092848'"
      ],
      "text/markdown": [
       "'CV Mean F1 : 0.534862489092848'"
      ],
      "text/plain": [
       "[1] \"CV Mean F1 : 0.534862489092848\""
      ]
     },
     "metadata": {},
     "output_type": "display_data"
    }
   ],
   "source": [
    "for(i in folds){\n",
    "    train_indices <- setdiff(folds,i)\n",
    "    test_indices <- i\n",
    "    \n",
    "    train_set <- iris2[unlist(folds_[train_indices]),]\n",
    "    test_set <- iris2[unlist(folds_[test_indices]),]\n",
    "    \n",
    "    tarif <- recipe(default ~ .,data = train_set) %>% \n",
    "    step_normalize(all_numeric_predictors()) %>%\n",
    "    step_dummy(all_nominal_predictors()) %>%\n",
    "    prep\n",
    "    \n",
    "    target_data <- bake(tarif,iris3)\n",
    "    \n",
    "    train_set <- bake(tarif,train_set)\n",
    "    test_set <- bake(tarif,test_set)\n",
    "    \n",
    "    train_y <- train_set[,label] %>% as.matrix %>% to_categorical\n",
    "    test_y <- test_set[,label]%>% as.matrix %>% to_categorical\n",
    "    test_y2 <- test_set[,label]%>% as.matrix\n",
    "    \n",
    "    train_x <- train_set[, -which(names(train_set) == label)]%>% as.matrix\n",
    "    test_x <- test_set[, -which(names(test_set) == label)]%>% as.matrix\n",
    "    \n",
    "    target_data <- target_data[, -which(names(train_set) == label)]%>% as.matrix\n",
    "    \n",
    "    tf$random$set_seed(seed = 1453)\n",
    "\n",
    "    reticulate::py_set_seed(seed = 1453)\n",
    "\n",
    "    model <- keras_model_sequential()\n",
    "    \n",
    "    randy <- sample(1:1000,size = 8)\n",
    "\n",
    "    unites <- (numofneuron*(randy/sum(randy)) )%>% ceiling\n",
    "\n",
    "    model %>%\n",
    "    layer_dense(units = unites[1], activation = 'relu', input_shape = c(3)) %>%\n",
    "    layer_dense(units = unites[2], activation = 'relu') %>%\n",
    "    layer_dense(units = unites[3], activation = 'relu') %>%\n",
    "    layer_dense(units = unites[4], activation = 'relu') %>%\n",
    "    layer_dense(units = unites[5], activation = 'relu') %>%\n",
    "    layer_dense(units = unites[6], activation = 'relu') %>%\n",
    "    layer_dense(units = unites[7], activation = 'relu') %>%\n",
    "    layer_dense(units = unites[8], activation = 'relu') %>%\n",
    "    layer_dense(units = 2,activation = 'softmax')\n",
    "    \n",
    "    model %>% compile(\n",
    "      loss = f1_loss,\n",
    "      optimizer =optimizer_rmsprop(learning_rate = 0.001),\n",
    "      metrics = c(f1)\n",
    "    )\n",
    "    \n",
    "    wgh <- sqrt(sum(test_y)/sum(test_y == 0))\n",
    "    \n",
    "    history <- model %>% fit(\n",
    "      train_x, train_y, \n",
    "      epochs = 200, batch_size = 128, \n",
    "      validation_data = list(test_x,test_y),\n",
    "      callbacks = list(callback_early_stopping(\n",
    "                        monitor = \"val_loss\",\n",
    "                        patience = 10,\n",
    "                        verbose = 1,\n",
    "                        mode = \"auto\",\n",
    "                        restore_best_weights = TRUE\n",
    "                        )\n",
    "    ),\n",
    "    class_weight = list('0' = wgh,'1' = 1)\n",
    "    )\n",
    "\n",
    "    preds <- model %>% predict(test_x)  %>% \n",
    "                        as.data.frame %>%\n",
    "                        mutate('class'=names(.)[apply(., 1, which.max)]) %>%\n",
    "                        mutate(class = case_when(class == 'V1' ~ 0,\n",
    "                                                 class == 'V2' ~ 1)) %>%\n",
    "                        select(class) %>%\n",
    "                        pull\n",
    "    \n",
    "    error <- yardstick::f_meas_vec(truth = as.factor(test_y2),estimate = factor(preds,levels = 0:1),event_level = \"second\")\n",
    "    \n",
    "    preds_target <- model %>% predict(target_data)  %>% \n",
    "                        as.data.frame %>%\n",
    "                        mutate('class'=names(.)[apply(., 1, which.max)]) %>%\n",
    "                        mutate(class = case_when(class == 'V1' ~ 0,\n",
    "                                                 class == 'V2' ~ 1)) %>%\n",
    "                        select(class) %>%\n",
    "                        pull\n",
    "    \n",
    "    IRdisplay::display('**************----------**************')\n",
    "    IRdisplay::display(sprintf('Fold %s F1 : %s',i,round(error,2)))\n",
    "    errors[i] <- error\n",
    "    \n",
    "    predictions[[i]] <- preds_target\n",
    "}\n",
    "IRdisplay::display('**************----------**************')\n",
    "IRdisplay::display(sprintf('CV Mean F1 : %s',mean(errors,na.rm = T)))\n",
    "\n",
    "dson <- bake(tarif,iris2)\n",
    "\n",
    "strain_y <- dson[,label] %>% as.matrix %>% to_categorical\n",
    "\n",
    "strain_x <- dson[, -which(names(dson) == label)]%>% as.matrix\n",
    "    \n",
    "\n",
    "historyson <-  model %>% fit(\n",
    "      strain_x, strain_y, \n",
    "      epochs = 100, batch_size = 128, \n",
    "      validation_data = list(test_x,test_y),\n",
    "      callbacks = list(callback_early_stopping(\n",
    "                        monitor = \"val_loss\",\n",
    "                        patience = 10,\n",
    "                        verbose = 1,\n",
    "                        mode = \"auto\",\n",
    "                        restore_best_weights = TRUE\n",
    "                        )\n",
    "    ),\n",
    "    class_weight = list('0' = wgh,'1' = 1)\n",
    "    )"
   ]
  },
  {
   "cell_type": "code",
   "execution_count": 124,
   "id": "28fca2bd-6c06-49c0-a4ef-8a979fbf52f2",
   "metadata": {},
   "outputs": [],
   "source": [
    "dsson <- bake(tarif,iris3)\n",
    "\n",
    "sstrain_y <- dsson[,label] %>% as.matrix %>% to_categorical\n",
    "\n",
    "sstrain_x <- dsson[, -which(names(dsson) == label)]%>% as.matrix\n",
    "\n",
    "sstrain_y2 <- dsson[,label] %>% as.matrix "
   ]
  },
  {
   "cell_type": "code",
   "execution_count": 125,
   "id": "29d758a2-96ec-400a-8fc0-bdfba9604365",
   "metadata": {},
   "outputs": [],
   "source": [
    "prds <- predict(model,sstrain_x) %>% apply(1,which.max) - 1"
   ]
  },
  {
   "cell_type": "code",
   "execution_count": 126,
   "id": "bfd71f2f-664f-430a-8765-8c8d5db024d5",
   "metadata": {},
   "outputs": [
    {
     "data": {
      "text/html": [
       "<table class=\"dataframe\">\n",
       "<caption>A tibble: 1 × 3</caption>\n",
       "<thead>\n",
       "\t<tr><th scope=col>.metric</th><th scope=col>.estimator</th><th scope=col>.estimate</th></tr>\n",
       "\t<tr><th scope=col>&lt;chr&gt;</th><th scope=col>&lt;chr&gt;</th><th scope=col>&lt;dbl&gt;</th></tr>\n",
       "</thead>\n",
       "<tbody>\n",
       "\t<tr><td>f_meas</td><td>binary</td><td>0.4747475</td></tr>\n",
       "</tbody>\n",
       "</table>\n"
      ],
      "text/latex": [
       "A tibble: 1 × 3\n",
       "\\begin{tabular}{lll}\n",
       " .metric & .estimator & .estimate\\\\\n",
       " <chr> & <chr> & <dbl>\\\\\n",
       "\\hline\n",
       "\t f\\_meas & binary & 0.4747475\\\\\n",
       "\\end{tabular}\n"
      ],
      "text/markdown": [
       "\n",
       "A tibble: 1 × 3\n",
       "\n",
       "| .metric &lt;chr&gt; | .estimator &lt;chr&gt; | .estimate &lt;dbl&gt; |\n",
       "|---|---|---|\n",
       "| f_meas | binary | 0.4747475 |\n",
       "\n"
      ],
      "text/plain": [
       "  .metric .estimator .estimate\n",
       "1 f_meas  binary     0.4747475"
      ]
     },
     "metadata": {},
     "output_type": "display_data"
    }
   ],
   "source": [
    "sstrain_y2 %>%\n",
    "as.data.frame %>% \n",
    "bind_cols(a = prds) %>%\n",
    "mutate_all(as.factor) %>%\n",
    "f_meas(truth = default,estimate = a,event_level = \"second\")"
   ]
  },
  {
   "cell_type": "code",
   "execution_count": 127,
   "id": "8a326068-834c-44d2-b82d-125622cfb68d",
   "metadata": {},
   "outputs": [],
   "source": [
    "all <- as.data.frame(predictions) %>% mutate_if(is.factor,function(x) as.numeric(as.character(x)))"
   ]
  },
  {
   "cell_type": "code",
   "execution_count": 128,
   "id": "ef68d763-06c4-4eb6-b164-010130f48e51",
   "metadata": {},
   "outputs": [],
   "source": [
    "kk <- rowMeans(all) \n",
    "kk <- ifelse(kk >= 0.5,1,0)"
   ]
  },
  {
   "cell_type": "code",
   "execution_count": 129,
   "id": "4bece2c3-fa37-4bb7-880d-d72affe54a35",
   "metadata": {},
   "outputs": [],
   "source": [
    "kl <- iris3[,label]"
   ]
  },
  {
   "cell_type": "code",
   "execution_count": 130,
   "id": "66f52298-6912-4ad0-9b19-67bb67c87c50",
   "metadata": {},
   "outputs": [
    {
     "data": {
      "text/html": [
       "0.455958549222798"
      ],
      "text/latex": [
       "0.455958549222798"
      ],
      "text/markdown": [
       "0.455958549222798"
      ],
      "text/plain": [
       "[1] 0.4559585"
      ]
     },
     "metadata": {},
     "output_type": "display_data"
    }
   ],
   "source": [
    "yardstick::f_meas_vec(truth = as.factor(kl),estimate = factor(kk,levels = 0:1),event_level = \"second\")"
   ]
  },
  {
   "cell_type": "code",
   "execution_count": null,
   "id": "91235389-9a7a-4f67-95e1-6d8e7362d6ec",
   "metadata": {},
   "outputs": [],
   "source": [
    "layer"
   ]
  },
  {
   "cell_type": "code",
   "execution_count": 41,
   "id": "d5d913bb-17af-4afc-92dd-727b2bf8890f",
   "metadata": {},
   "outputs": [
    {
     "data": {
      "text/html": [
       "'**************----------**************'"
      ],
      "text/latex": [
       "'**************----------**************'"
      ],
      "text/markdown": [
       "'**************----------**************'"
      ],
      "text/plain": [
       "[1] \"**************----------**************\""
      ]
     },
     "metadata": {},
     "output_type": "display_data"
    },
    {
     "data": {
      "text/html": [
       "'Fold 1 F1 : 0.51'"
      ],
      "text/latex": [
       "'Fold 1 F1 : 0.51'"
      ],
      "text/markdown": [
       "'Fold 1 F1 : 0.51'"
      ],
      "text/plain": [
       "[1] \"Fold 1 F1 : 0.51\""
      ]
     },
     "metadata": {},
     "output_type": "display_data"
    },
    {
     "data": {
      "text/html": [
       "'**************----------**************'"
      ],
      "text/latex": [
       "'**************----------**************'"
      ],
      "text/markdown": [
       "'**************----------**************'"
      ],
      "text/plain": [
       "[1] \"**************----------**************\""
      ]
     },
     "metadata": {},
     "output_type": "display_data"
    },
    {
     "data": {
      "text/html": [
       "'Fold 2 F1 : 0.52'"
      ],
      "text/latex": [
       "'Fold 2 F1 : 0.52'"
      ],
      "text/markdown": [
       "'Fold 2 F1 : 0.52'"
      ],
      "text/plain": [
       "[1] \"Fold 2 F1 : 0.52\""
      ]
     },
     "metadata": {},
     "output_type": "display_data"
    },
    {
     "data": {
      "text/html": [
       "'**************----------**************'"
      ],
      "text/latex": [
       "'**************----------**************'"
      ],
      "text/markdown": [
       "'**************----------**************'"
      ],
      "text/plain": [
       "[1] \"**************----------**************\""
      ]
     },
     "metadata": {},
     "output_type": "display_data"
    },
    {
     "data": {
      "text/html": [
       "'Fold 3 F1 : 0.41'"
      ],
      "text/latex": [
       "'Fold 3 F1 : 0.41'"
      ],
      "text/markdown": [
       "'Fold 3 F1 : 0.41'"
      ],
      "text/plain": [
       "[1] \"Fold 3 F1 : 0.41\""
      ]
     },
     "metadata": {},
     "output_type": "display_data"
    },
    {
     "data": {
      "text/html": [
       "'**************----------**************'"
      ],
      "text/latex": [
       "'**************----------**************'"
      ],
      "text/markdown": [
       "'**************----------**************'"
      ],
      "text/plain": [
       "[1] \"**************----------**************\""
      ]
     },
     "metadata": {},
     "output_type": "display_data"
    },
    {
     "data": {
      "text/html": [
       "'Fold 4 F1 : 0.58'"
      ],
      "text/latex": [
       "'Fold 4 F1 : 0.58'"
      ],
      "text/markdown": [
       "'Fold 4 F1 : 0.58'"
      ],
      "text/plain": [
       "[1] \"Fold 4 F1 : 0.58\""
      ]
     },
     "metadata": {},
     "output_type": "display_data"
    },
    {
     "data": {
      "text/html": [
       "'**************----------**************'"
      ],
      "text/latex": [
       "'**************----------**************'"
      ],
      "text/markdown": [
       "'**************----------**************'"
      ],
      "text/plain": [
       "[1] \"**************----------**************\""
      ]
     },
     "metadata": {},
     "output_type": "display_data"
    },
    {
     "data": {
      "text/html": [
       "'Fold 5 F1 : 0.62'"
      ],
      "text/latex": [
       "'Fold 5 F1 : 0.62'"
      ],
      "text/markdown": [
       "'Fold 5 F1 : 0.62'"
      ],
      "text/plain": [
       "[1] \"Fold 5 F1 : 0.62\""
      ]
     },
     "metadata": {},
     "output_type": "display_data"
    },
    {
     "data": {
      "text/html": [
       "'**************----------**************'"
      ],
      "text/latex": [
       "'**************----------**************'"
      ],
      "text/markdown": [
       "'**************----------**************'"
      ],
      "text/plain": [
       "[1] \"**************----------**************\""
      ]
     },
     "metadata": {},
     "output_type": "display_data"
    },
    {
     "data": {
      "text/html": [
       "'CV Mean F1 : 0.529256025691767'"
      ],
      "text/latex": [
       "'CV Mean F1 : 0.529256025691767'"
      ],
      "text/markdown": [
       "'CV Mean F1 : 0.529256025691767'"
      ],
      "text/plain": [
       "[1] \"CV Mean F1 : 0.529256025691767\""
      ]
     },
     "metadata": {},
     "output_type": "display_data"
    }
   ],
   "source": [
    "set.seed(1)\n",
    "\n",
    "label <- 'default'\n",
    "\n",
    "iris1.5 <- ISLR::Default %>% mutate(default = case_when(default == 'No' ~ 0,\n",
    "                                             default == 'Yes' ~ 1))\n",
    "\n",
    "iris1.5 <- iris1.5 %>% mutate(default = factor(default,levels = 0:1))\n",
    "\n",
    "willsee <- caret::createDataPartition(iris1.5[[label]],p = .7,list = TRUE) %>% unlist\n",
    "\n",
    "iris2 <- iris1.5[willsee,]\n",
    "\n",
    "iris3 <- iris1.5[-willsee,]\n",
    "\n",
    "folds_ <- caret::createFolds(iris2[[label]],k = 5)\n",
    "\n",
    "folds <- 1:length(folds_)\n",
    "\n",
    "errors <- c()\n",
    "\n",
    "predictions <- list()\n",
    "\n",
    "#iris2 <- iris2 %>% mutate(default = as.integer(as.character(default)))\n",
    "#iris3 <- iris3 %>% mutate(default = as.integer(as.character(default)))\n",
    "\n",
    "for(i in folds){\n",
    "    train_indices <- setdiff(folds,i)\n",
    "    test_indices <- i\n",
    "    \n",
    "    train_set <- iris2[unlist(folds_[train_indices]),]\n",
    "    test_set <- iris2[unlist(folds_[test_indices]),]\n",
    "    \n",
    "    tarif2 <- recipe(default ~ .,data = train_set)\n",
    "    \n",
    "    target_data <- bake(tarif,iris3)\n",
    "    \n",
    "    train_set <- bake(tarif %>% prep,train_set)\n",
    "    test_set <- bake(tarif%>% prep,test_set)\n",
    "    \n",
    "    train_y <- train_set[,label]\n",
    "    test_y <- test_set[,label]\n",
    "    test_y2 <- test_set[,label]%>% as.matrix\n",
    "    \n",
    "    train_x <- train_set[, -which(names(train_set) == label)]\n",
    "    test_x <- test_set[, -which(names(test_set) == label)]\n",
    "    \n",
    "    target_data <- target_data[, -which(names(train_set) == label)]\n",
    "    \n",
    "    modspec <- boost_tree(learn_rate = 0.01) %>%\n",
    "    set_mode('classification')%>%\n",
    "    set_engine('catboost',auto_class_weights = 'SqrtBalanced',\n",
    "               eval_metric = 'F1:use_weights=False',\n",
    "               custom_loss = 'F1:use_weights=False')\n",
    "    \n",
    "    \n",
    "    model <- modspec %>% fit_xy(x = train_x,y = train_y)\n",
    "    \n",
    "    preds <- model %>% predict(test_x) %>% pull\n",
    "    \n",
    "    error <- yardstick::f_meas_vec(truth = as.factor(test_y2),estimate = factor(preds,levels = 0:1),event_level = \"second\")\n",
    "    \n",
    "    preds_target <- model %>% predict(target_data) %>%pull\n",
    "    \n",
    "    IRdisplay::display('**************----------**************')\n",
    "    IRdisplay::display(sprintf('Fold %s F1 : %s',i,round(error,2)))\n",
    "    errors[i] <- error\n",
    "    \n",
    "    predictions[[i]] <- preds_target\n",
    "}\n",
    "IRdisplay::display('**************----------**************')\n",
    "IRdisplay::display(sprintf('CV Mean F1 : %s',mean(errors)))"
   ]
  },
  {
   "cell_type": "code",
   "execution_count": 42,
   "id": "13cba3ce-fb36-4a84-bae1-445482092926",
   "metadata": {},
   "outputs": [],
   "source": [
    "all <- as.data.frame(predictions) %>% mutate_if(is.factor,function(x) as.numeric(as.character(x)))"
   ]
  },
  {
   "cell_type": "code",
   "execution_count": 43,
   "id": "0a19a19c-45dd-4d52-84fa-a170fc2fa029",
   "metadata": {},
   "outputs": [],
   "source": [
    "kk <- rowMeans(all) \n",
    "kk <- ifelse(kk >= 0.5,1,0)"
   ]
  },
  {
   "cell_type": "code",
   "execution_count": 44,
   "id": "dc65fccd-a95c-4f8e-ab17-764c92039064",
   "metadata": {},
   "outputs": [],
   "source": [
    "kl <- iris3[,label]"
   ]
  },
  {
   "cell_type": "code",
   "execution_count": 45,
   "id": "137d1950-2575-42fe-9df9-38b67e5d24a1",
   "metadata": {},
   "outputs": [
    {
     "data": {
      "text/html": [
       "0.488038277511962"
      ],
      "text/latex": [
       "0.488038277511962"
      ],
      "text/markdown": [
       "0.488038277511962"
      ],
      "text/plain": [
       "[1] 0.4880383"
      ]
     },
     "metadata": {},
     "output_type": "display_data"
    }
   ],
   "source": [
    "yardstick::f_meas_vec(truth = as.factor(kl),estimate = factor(kk,levels = 0:1),event_level = \"second\")"
   ]
  },
  {
   "cell_type": "code",
   "execution_count": null,
   "id": "3cc71ef9-0e6e-4e6f-be81-dbc8bcfb12e1",
   "metadata": {},
   "outputs": [],
   "source": []
  }
 ],
 "metadata": {
  "kernelspec": {
   "display_name": "R",
   "language": "R",
   "name": "ir"
  },
  "language_info": {
   "codemirror_mode": "r",
   "file_extension": ".r",
   "mimetype": "text/x-r-source",
   "name": "R",
   "pygments_lexer": "r",
   "version": "4.2.0"
  }
 },
 "nbformat": 4,
 "nbformat_minor": 5
}
