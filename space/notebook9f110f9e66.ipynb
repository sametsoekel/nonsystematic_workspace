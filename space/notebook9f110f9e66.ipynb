{
 "cells": [
  {
   "cell_type": "code",
   "execution_count": 1,
   "metadata": {
    "tags": []
   },
   "outputs": [],
   "source": [
    "#devtools::install_url('https://github.com/catboost/catboost/releases/download/v1.0.6/catboost-R-Linux-1.0.6.tgz', INSTALL_opts = c(\"--no-multiarch\", \"--no-test-load\"))"
   ]
  },
  {
   "cell_type": "code",
   "execution_count": 6,
   "metadata": {
    "tags": []
   },
   "outputs": [
    {
     "name": "stderr",
     "output_type": "stream",
     "text": [
      "Warning message:\n",
      "\"package 'caret' was built under R version 4.2.1\"\n"
     ]
    }
   ],
   "source": [
    "source('https://raw.githubusercontent.com/sametsoekel/nonsystematic_workspace/master/space/cb_pipeline0816.r')"
   ]
  },
  {
   "cell_type": "code",
   "execution_count": null,
   "metadata": {},
   "outputs": [],
   "source": []
  },
  {
   "cell_type": "code",
   "execution_count": 7,
   "metadata": {
    "tags": []
   },
   "outputs": [],
   "source": [
    "config <- list(\n",
    "    label = 'default',\n",
    "    seed = 1453,\n",
    "    sparse_percentage = 0.003,\n",
    "    folds = 3,\n",
    "    learning_rate = 0.01,\n",
    "    early_stopping_rounds = 200,\n",
    "    iter = 10000,\n",
    "    objective = 'Logloss',\n",
    "    loss_fun = 'F1:use_weights=False',\n",
    "    eval_metric = 'F1:use_weights=False',\n",
    "    auto_class_weights = 'SqrtBalanced',\n",
    "    use_best = TRUE,\n",
    "    task = 'CPU',\n",
    "    device = '0:1',\n",
    "    slicer_1 = '*-*-*-*-*-*-*-*-*-*-*-*-*-*-*-*-*-*-*-*-*-*-*',\n",
    "    slicer_2 = '_____________________________________________'\n",
    ")"
   ]
  },
  {
   "cell_type": "code",
   "execution_count": 8,
   "metadata": {
    "tags": []
   },
   "outputs": [],
   "source": [
    "data_sl <- data.table()\n",
    "\n",
    "for(i in c(LETTERS[1:10],letters[1:20])){\n",
    "    charmi <- sample(c(TRUE,FALSE),size = 1)\n",
    "    ortsec <- sample(200:500,size = 1)\n",
    "    sdsec <- sample(100:1000,size = 1)\n",
    "    if(charmi){\n",
    "        data_sl[,(i) := sample(c(LETTERS,NA),size = 1.7e6,replace = T)]\n",
    "    }else{\n",
    "        data_sl[,(i) := sample(c(rnorm(n = 2e6,mean = ortsec,sd = sdsec),NA),size = 1.7e6,replace = T)]\n",
    "    }\n",
    "}\n",
    "\n",
    "data_sl[,default := sample(c('No','Yes'),size = 1.7e6,prob = c(.93,.07),replace = T)]"
   ]
  },
  {
   "cell_type": "code",
   "execution_count": 9,
   "metadata": {
    "tags": []
   },
   "outputs": [],
   "source": [
    "set.seed(571)\n",
    "traindex <- createDataPartition(data_sl[['default']],p = .8,times = 1,list = FALSE) %>% as.numeric\n",
    "train_set <- data_sl[traindex,]\n",
    "test_set <- data_sl[-traindex,]"
   ]
  },
  {
   "cell_type": "code",
   "execution_count": 10,
   "metadata": {
    "tags": []
   },
   "outputs": [
    {
     "name": "stderr",
     "output_type": "stream",
     "text": [
      "Data sparsed.\n",
      "\n",
      "Scaling factors calculated.\n",
      "\n",
      "Missing values labeled.\n",
      "\n",
      "Data scaled.\n",
      "\n",
      "Got distinct values for nominals.\n",
      "\n",
      "Data dummied.\n",
      "\n",
      "All done !\n",
      "\n",
      "Data sparsed.\n",
      "\n",
      "Scaling factors calculated.\n",
      "\n",
      "Missing values labeled.\n",
      "\n",
      "Data scaled.\n",
      "\n",
      "Unseen values removed from test set.\n",
      "\n",
      "Train & test set nominal levels fetched.\n",
      "\n",
      "Data dummied.\n",
      "\n",
      "All done !\n",
      "\n"
     ]
    }
   ],
   "source": [
    "train_ok <- train_set %>% make_frame(config = config)\n",
    "test_ok <- test_set %>% select(-default) %>% make_frame(test = T,train_frame = train_ok,config = config)"
   ]
  },
  {
   "cell_type": "code",
   "execution_count": 11,
   "metadata": {
    "tags": []
   },
   "outputs": [],
   "source": [
    "enc <- function(x){\n",
    "    case_when(x == 'No' ~ 0,\n",
    "              x == 'Yes' ~ 1)\n",
    "}\n",
    "\n",
    "encback <- function(x){\n",
    "    case_when(x == 1 ~ 'Yes',\n",
    "              x == 0 ~ 'No')\n",
    "}"
   ]
  },
  {
   "cell_type": "code",
   "execution_count": 12,
   "metadata": {
    "tags": []
   },
   "outputs": [
    {
     "data": {
      "text/html": [
       "'*-*-*-*-*-*-*-*-*-*-*-*-*-*-*-*-*-*-*-*-*-*-*'"
      ],
      "text/latex": [
       "'*-*-*-*-*-*-*-*-*-*-*-*-*-*-*-*-*-*-*-*-*-*-*'"
      ],
      "text/markdown": [
       "'*-*-*-*-*-*-*-*-*-*-*-*-*-*-*-*-*-*-*-*-*-*-*'"
      ],
      "text/plain": [
       "[1] \"*-*-*-*-*-*-*-*-*-*-*-*-*-*-*-*-*-*-*-*-*-*-*\""
      ]
     },
     "metadata": {},
     "output_type": "display_data"
    },
    {
     "data": {
      "text/html": [
       "'Fold 1 F1 : 0.131'"
      ],
      "text/latex": [
       "'Fold 1 F1 : 0.131'"
      ],
      "text/markdown": [
       "'Fold 1 F1 : 0.131'"
      ],
      "text/plain": [
       "[1] \"Fold 1 F1 : 0.131\""
      ]
     },
     "metadata": {},
     "output_type": "display_data"
    },
    {
     "data": {
      "text/html": [
       "'Best threshold for Fold 1 : 0.1'"
      ],
      "text/latex": [
       "'Best threshold for Fold 1 : 0.1'"
      ],
      "text/markdown": [
       "'Best threshold for Fold 1 : 0.1'"
      ],
      "text/plain": [
       "[1] \"Best threshold for Fold 1 : 0.1\""
      ]
     },
     "metadata": {},
     "output_type": "display_data"
    },
    {
     "data": {
      "text/html": [
       "'_____________________________________________'"
      ],
      "text/latex": [
       "'\\_\\_\\_\\_\\_\\_\\_\\_\\_\\_\\_\\_\\_\\_\\_\\_\\_\\_\\_\\_\\_\\_\\_\\_\\_\\_\\_\\_\\_\\_\\_\\_\\_\\_\\_\\_\\_\\_\\_\\_\\_\\_\\_\\_\\_'"
      ],
      "text/markdown": [
       "'_____________________________________________'"
      ],
      "text/plain": [
       "[1] \"_____________________________________________\""
      ]
     },
     "metadata": {},
     "output_type": "display_data"
    },
    {
     "data": {
      "text/html": [
       "'Elapsed time for Fold 1 : 5.3342 minutes'"
      ],
      "text/latex": [
       "'Elapsed time for Fold 1 : 5.3342 minutes'"
      ],
      "text/markdown": [
       "'Elapsed time for Fold 1 : 5.3342 minutes'"
      ],
      "text/plain": [
       "[1] \"Elapsed time for Fold 1 : 5.3342 minutes\""
      ]
     },
     "metadata": {},
     "output_type": "display_data"
    },
    {
     "data": {
      "text/html": [
       "'*-*-*-*-*-*-*-*-*-*-*-*-*-*-*-*-*-*-*-*-*-*-*'"
      ],
      "text/latex": [
       "'*-*-*-*-*-*-*-*-*-*-*-*-*-*-*-*-*-*-*-*-*-*-*'"
      ],
      "text/markdown": [
       "'*-*-*-*-*-*-*-*-*-*-*-*-*-*-*-*-*-*-*-*-*-*-*'"
      ],
      "text/plain": [
       "[1] \"*-*-*-*-*-*-*-*-*-*-*-*-*-*-*-*-*-*-*-*-*-*-*\""
      ]
     },
     "metadata": {},
     "output_type": "display_data"
    },
    {
     "data": {
      "text/html": [
       "'Fold 2 F1 : 0.131'"
      ],
      "text/latex": [
       "'Fold 2 F1 : 0.131'"
      ],
      "text/markdown": [
       "'Fold 2 F1 : 0.131'"
      ],
      "text/plain": [
       "[1] \"Fold 2 F1 : 0.131\""
      ]
     },
     "metadata": {},
     "output_type": "display_data"
    },
    {
     "data": {
      "text/html": [
       "'Best threshold for Fold 2 : 0.1'"
      ],
      "text/latex": [
       "'Best threshold for Fold 2 : 0.1'"
      ],
      "text/markdown": [
       "'Best threshold for Fold 2 : 0.1'"
      ],
      "text/plain": [
       "[1] \"Best threshold for Fold 2 : 0.1\""
      ]
     },
     "metadata": {},
     "output_type": "display_data"
    },
    {
     "data": {
      "text/html": [
       "'_____________________________________________'"
      ],
      "text/latex": [
       "'\\_\\_\\_\\_\\_\\_\\_\\_\\_\\_\\_\\_\\_\\_\\_\\_\\_\\_\\_\\_\\_\\_\\_\\_\\_\\_\\_\\_\\_\\_\\_\\_\\_\\_\\_\\_\\_\\_\\_\\_\\_\\_\\_\\_\\_'"
      ],
      "text/markdown": [
       "'_____________________________________________'"
      ],
      "text/plain": [
       "[1] \"_____________________________________________\""
      ]
     },
     "metadata": {},
     "output_type": "display_data"
    },
    {
     "data": {
      "text/html": [
       "'Elapsed time for Fold 2 : 4.9746 minutes'"
      ],
      "text/latex": [
       "'Elapsed time for Fold 2 : 4.9746 minutes'"
      ],
      "text/markdown": [
       "'Elapsed time for Fold 2 : 4.9746 minutes'"
      ],
      "text/plain": [
       "[1] \"Elapsed time for Fold 2 : 4.9746 minutes\""
      ]
     },
     "metadata": {},
     "output_type": "display_data"
    },
    {
     "data": {
      "text/html": [
       "'*-*-*-*-*-*-*-*-*-*-*-*-*-*-*-*-*-*-*-*-*-*-*'"
      ],
      "text/latex": [
       "'*-*-*-*-*-*-*-*-*-*-*-*-*-*-*-*-*-*-*-*-*-*-*'"
      ],
      "text/markdown": [
       "'*-*-*-*-*-*-*-*-*-*-*-*-*-*-*-*-*-*-*-*-*-*-*'"
      ],
      "text/plain": [
       "[1] \"*-*-*-*-*-*-*-*-*-*-*-*-*-*-*-*-*-*-*-*-*-*-*\""
      ]
     },
     "metadata": {},
     "output_type": "display_data"
    },
    {
     "data": {
      "text/html": [
       "'Fold 3 F1 : 0.131'"
      ],
      "text/latex": [
       "'Fold 3 F1 : 0.131'"
      ],
      "text/markdown": [
       "'Fold 3 F1 : 0.131'"
      ],
      "text/plain": [
       "[1] \"Fold 3 F1 : 0.131\""
      ]
     },
     "metadata": {},
     "output_type": "display_data"
    },
    {
     "data": {
      "text/html": [
       "'Best threshold for Fold 3 : 0.1'"
      ],
      "text/latex": [
       "'Best threshold for Fold 3 : 0.1'"
      ],
      "text/markdown": [
       "'Best threshold for Fold 3 : 0.1'"
      ],
      "text/plain": [
       "[1] \"Best threshold for Fold 3 : 0.1\""
      ]
     },
     "metadata": {},
     "output_type": "display_data"
    },
    {
     "data": {
      "text/html": [
       "'_____________________________________________'"
      ],
      "text/latex": [
       "'\\_\\_\\_\\_\\_\\_\\_\\_\\_\\_\\_\\_\\_\\_\\_\\_\\_\\_\\_\\_\\_\\_\\_\\_\\_\\_\\_\\_\\_\\_\\_\\_\\_\\_\\_\\_\\_\\_\\_\\_\\_\\_\\_\\_\\_'"
      ],
      "text/markdown": [
       "'_____________________________________________'"
      ],
      "text/plain": [
       "[1] \"_____________________________________________\""
      ]
     },
     "metadata": {},
     "output_type": "display_data"
    },
    {
     "data": {
      "text/html": [
       "'Elapsed time for Fold 3 : 4.2596 minutes'"
      ],
      "text/latex": [
       "'Elapsed time for Fold 3 : 4.2596 minutes'"
      ],
      "text/markdown": [
       "'Elapsed time for Fold 3 : 4.2596 minutes'"
      ],
      "text/plain": [
       "[1] \"Elapsed time for Fold 3 : 4.2596 minutes\""
      ]
     },
     "metadata": {},
     "output_type": "display_data"
    },
    {
     "data": {
      "text/html": [
       "'*-*-*-*-*-*-*-*-*-*-*-*-*-*-*-*-*-*-*-*-*-*-*'"
      ],
      "text/latex": [
       "'*-*-*-*-*-*-*-*-*-*-*-*-*-*-*-*-*-*-*-*-*-*-*'"
      ],
      "text/markdown": [
       "'*-*-*-*-*-*-*-*-*-*-*-*-*-*-*-*-*-*-*-*-*-*-*'"
      ],
      "text/plain": [
       "[1] \"*-*-*-*-*-*-*-*-*-*-*-*-*-*-*-*-*-*-*-*-*-*-*\""
      ]
     },
     "metadata": {},
     "output_type": "display_data"
    },
    {
     "data": {
      "text/html": [
       "'CV Mean F1 : 0.131'"
      ],
      "text/latex": [
       "'CV Mean F1 : 0.131'"
      ],
      "text/markdown": [
       "'CV Mean F1 : 0.131'"
      ],
      "text/plain": [
       "[1] \"CV Mean F1 : 0.131\""
      ]
     },
     "metadata": {},
     "output_type": "display_data"
    }
   ],
   "source": [
    "fld <- create_folds(train_ok,config = config)\n",
    "cved <- cross_validate(train_ok,test_ok,folds = fld,config = config,label_encoder = enc,label_back_encoder =encback)"
   ]
  },
  {
   "cell_type": "code",
   "execution_count": null,
   "metadata": {},
   "outputs": [],
   "source": [
    "kk <- df %>% rowwise %>% mutate(pred = fmode(Fold1,Fold2,Fold3)) %>% as.data.table"
   ]
  },
  {
   "cell_type": "code",
   "execution_count": null,
   "metadata": {},
   "outputs": [],
   "source": [
    "obs <- test_set %>% select(default) %>% pull %>% as.factor"
   ]
  },
  {
   "cell_type": "code",
   "execution_count": null,
   "metadata": {},
   "outputs": [],
   "source": [
    "prd <- kk %>% select(pred) %>% pull %>% as.factor"
   ]
  },
  {
   "cell_type": "code",
   "execution_count": null,
   "metadata": {},
   "outputs": [],
   "source": [
    "f_meas_vec(truth = obs,estimate = factor(prd,levels=c('No','Yes')),event_level = 'second')"
   ]
  }
 ],
 "metadata": {
  "kernelspec": {
   "display_name": "R",
   "language": "R",
   "name": "ir"
  },
  "language_info": {
   "codemirror_mode": "r",
   "file_extension": ".r",
   "mimetype": "text/x-r-source",
   "name": "R",
   "pygments_lexer": "r",
   "version": "4.2.0"
  }
 },
 "nbformat": 4,
 "nbformat_minor": 4
}
