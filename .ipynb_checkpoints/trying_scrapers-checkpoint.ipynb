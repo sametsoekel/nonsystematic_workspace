{
 "cells": [
  {
   "cell_type": "code",
   "execution_count": 3,
   "metadata": {},
   "outputs": [
    {
     "name": "stdout",
     "output_type": "stream",
     "text": [
      "Requirement already satisfied: linkedin_scraper in /home/samet/.local/lib/python3.8/site-packages (2.7.2)\n",
      "Requirement already satisfied: lxml in /home/samet/anaconda3/lib/python3.8/site-packages (from linkedin_scraper) (4.6.1)\n",
      "Requirement already satisfied: selenium in /home/samet/anaconda3/lib/python3.8/site-packages (from linkedin_scraper) (3.141.0)\n",
      "Requirement already satisfied: requests in /home/samet/anaconda3/lib/python3.8/site-packages (from linkedin_scraper) (2.24.0)\n",
      "Requirement already satisfied: urllib3 in /home/samet/anaconda3/lib/python3.8/site-packages (from selenium->linkedin_scraper) (1.25.11)\n",
      "Requirement already satisfied: chardet<4,>=3.0.2 in /home/samet/anaconda3/lib/python3.8/site-packages (from requests->linkedin_scraper) (3.0.4)\n",
      "Requirement already satisfied: certifi>=2017.4.17 in /home/samet/anaconda3/lib/python3.8/site-packages (from requests->linkedin_scraper) (2020.6.20)\n",
      "Requirement already satisfied: idna<3,>=2.5 in /home/samet/anaconda3/lib/python3.8/site-packages (from requests->linkedin_scraper) (2.10)\n"
     ]
    }
   ],
   "source": [
    "!pip3 install linkedin_scraper\n",
    "!export CHROMEDRIVER=/opt/chromedriver"
   ]
  },
  {
   "cell_type": "code",
   "execution_count": 15,
   "metadata": {},
   "outputs": [],
   "source": [
    "with open('dummy_linkedin_urls.txt') as f:\n",
    "    url=f.read().splitlines()"
   ]
  },
  {
   "cell_type": "code",
   "execution_count": 5,
   "metadata": {},
   "outputs": [],
   "source": [
    "from linkedin_scraper import Person, actions\n",
    "\n",
    "from selenium import webdriver\n",
    "driver = webdriver.Chrome('/opt/chromedriver')\n",
    "\n",
    "email = \"nzwpgcjpyiboahrpgw@upived.online\"\n",
    "password = \"caybardagi_37\"\n",
    "actions.login(driver, email, password)\n",
    "person = Person(\"https://www.linkedin.com/in/andre-iguodala-65b48ab5\", driver=driver)"
   ]
  },
  {
   "cell_type": "code",
   "execution_count": 6,
   "metadata": {},
   "outputs": [
    {
     "data": {
      "text/plain": [
       "Andre Iguodala\n",
       "\n",
       "About\n",
       "['Andre Iguodala, who plays for the Miami Heat, has made his mark as one of the NBA’s premier players. Andre is a three-time NBA Champion with the Golden State Warriors, the team he played for from 2013-2019.\\n\\nDuring his time with Golden State, Andre played a leading role in each of the team’s championship seasons. Throughout the 2017 championship run, he further established his legacy as a standout defensive force and indomitable “sixth man.” In 2015 Andre received the NBA Finals Most Valuable Player Award. He was an NBA All-Star in 2012 and has been named to the NBA All-Defensive Team twice. Andre was also a member of the United States national team at the 2010 FIBA World Championship and 2012 Summer Olympics, winning the gold medal both times.\\n\\nOff the court, Andre is at the forefront of venture capital and technology. He has invested in more than 40 companies through his firm F9 Strategies, including Zoom, Datadog, PagerDuty and Allbirds. Andre is an investor and a member of the Board of Directors for Jumia Technologies (NYSE: JMIA), a leading e-commerce platform widely considered the “Amazon of Africa.” He also serves as a Board Advisor at enterprise software company Zuora.\\n\\nAndre is currently a Venture Partner at the Catalyst Fund, the venture capital affiliate of Comcast Corporation, which supports startups with founders from diverse backgrounds. He focuses on investments in companies founded by African American, Latinx and female entrepreneurs.\\n\\nAndre has earned the reputation as a thought leader in sports, business and venture capital. He has been a featured speaker at events at Harvard Business School, Goldman Sachs, Morgan Stanley, Pager Duty, AirBNB and Salesforce. Andre has served on the National Basketball Players Association executive committee since 2015, and currently acts as its First Vice President.\\n\\nIn 2017 Andre partnered with Bloomberg on the creation of The Players Technology Summit. The annual summit convenes top executives and leaders in the technology, venture capital and sports communities to exchange ideas and share expertise in an educational and empowering forum.\\n\\nAndre’s memoir, “The Sixth Man,” was published by Penguin Random House in June 2019 and debuted at #6 on the New York Times Best Sellers Nonfiction list.']\n",
       "\n",
       "Experience\n",
       "[Professional Basketball Player at National Basketball Association (NBA) from 2004 – to  for 17 yrs based at United States, Venture Partner at None from None to None for None based at None, Investment Committee at None from None to None for None based at None, Board Member at None from None to None for None based at None, Vice President at National Basketball Players Association (NBPA) from Feb 2013 to Present for 8 yrs 1 mo based at New York, NY]\n",
       "\n",
       "Education\n",
       "[None at University of Arizona from None to None]\n",
       "\n",
       "Interest\n",
       "[]\n",
       "\n",
       "Accomplishments\n",
       "[]\n",
       "\n",
       "Contacts\n",
       "[İlayda Saimler (Uludağ Üniversitesi eğitim kurumunda öğrenci)]"
      ]
     },
     "execution_count": 6,
     "metadata": {},
     "output_type": "execute_result"
    }
   ],
   "source": [
    "person"
   ]
  },
  {
   "cell_type": "code",
   "execution_count": null,
   "metadata": {},
   "outputs": [],
   "source": [
    "import d"
   ]
  }
 ],
 "metadata": {
  "kernelspec": {
   "display_name": "Python 3",
   "language": "python",
   "name": "python3"
  },
  "language_info": {
   "codemirror_mode": {
    "name": "ipython",
    "version": 3
   },
   "file_extension": ".py",
   "mimetype": "text/x-python",
   "name": "python",
   "nbconvert_exporter": "python",
   "pygments_lexer": "ipython3",
   "version": "3.8.5"
  }
 },
 "nbformat": 4,
 "nbformat_minor": 4
}
