{
 "cells": [
  {
   "cell_type": "code",
   "execution_count": null,
   "metadata": {},
   "outputs": [],
   "source": [
    "!pip3 install linkedin_scraper\n",
    "!export CHROMEDRIVER=/opt/chromedriver"
   ]
  },
  {
   "cell_type": "code",
   "execution_count": 1,
   "metadata": {},
   "outputs": [],
   "source": [
    "with open('dummy_linkedin_urls.txt') as f:\n",
    "    url=f.read().splitlines()"
   ]
  },
  {
   "cell_type": "code",
   "execution_count": 18,
   "metadata": {},
   "outputs": [],
   "source": [
    "from linkedin_scraper import Person, actions,scraper\n",
    "\n",
    "from selenium import webdriver\n",
    "driver = webdriver.Chrome('/opt/chromedriver')\n",
    "\n",
    "email = \"nzwpgcjpyiboahrpgw@upived.online\"\n",
    "password = \"caybardagi_37\"\n",
    "actions.login(driver, email, password)\n",
    "person3 = Person(\"https://www.linkedin.com/in/sametsoekel/\", driver=driver,scrape=False)\n",
    "scraped = person3.scrape(close_on_complete=False)"
   ]
  },
  {
   "cell_type": "code",
   "execution_count": 19,
   "metadata": {},
   "outputs": [
    {
     "data": {
      "text/plain": [
       "['Samet Sökel',\n",
       " '',\n",
       " 'About',\n",
       " '[]',\n",
       " '',\n",
       " 'Experience',\n",
       " '[Mentor Assistant at None from None to None for None based at None, Data Analyst at DataFors Yapay Zeka A.Ş Full-time from Jan 2021 to Present for 2 mos based at İstanbul, Türkiye]',\n",
       " '',\n",
       " 'Education',\n",
       " '[None at Sakarya Üniversitesi from None to None, okul birinciliği at Vali Nevzat Ayaz Anadolu Lisesi from 2013 to 2017, Lisans Derecesi at Eskişehir Teknik Üniversitesi from 2017 to 2022]',\n",
       " '',\n",
       " 'Interest',\n",
       " '[]',\n",
       " '',\n",
       " 'Accomplishments',\n",
       " '[]',\n",
       " '',\n",
       " 'Contacts',\n",
       " '[İlayda Saimler (Uludağ Üniversitesi eğitim kurumunda öğrenci), İlayda Saimler (Uludağ Üniversitesi eğitim kurumunda öğrenci)]']"
      ]
     },
     "execution_count": 19,
     "metadata": {},
     "output_type": "execute_result"
    }
   ],
   "source": [
    "str(person3).split('\\n')"
   ]
  },
  {
   "cell_type": "code",
   "execution_count": 37,
   "metadata": {},
   "outputs": [
    {
     "data": {
      "text/plain": [
       "Şule Akçay\n",
       "\n",
       "About\n",
       "[]\n",
       "\n",
       "Experience\n",
       "[Data Analyst at DataFors Yapay Zeka A.Ş Full-time from Jan 2021 to Present for 2 mos based at İstanbul, Türkiye, Data Analyst at DataFors Yapay Zeka A.Ş Full-time from Jan 2021 to Present for 2 mos based at İstanbul, Türkiye, Mentor Assistant at None from None to None for None based at None, Mentor Assistant at None from None to None for None based at None]\n",
       "\n",
       "Education\n",
       "[Lisans Derecesi at Eskişehir Teknik Üniversitesi from 2017 to 2022, Lisans Derecesi at Eskişehir Teknik Üniversitesi from 2017 to 2022, None at Sakarya Üniversitesi from None to None, okul birinciliği at Vali Nevzat Ayaz Anadolu Lisesi from 2013 to 2017, None at Sakarya Üniversitesi from None to None, okul birinciliği at Vali Nevzat Ayaz Anadolu Lisesi from 2013 to 2017]\n",
       "\n",
       "Interest\n",
       "[]\n",
       "\n",
       "Accomplishments\n",
       "[]\n",
       "\n",
       "Contacts\n",
       "[İlayda Saimler (Uludağ Üniversitesi eğitim kurumunda öğrenci), İlayda Saimler (Uludağ Üniversitesi eğitim kurumunda öğrenci), İlayda Saimler (Uludağ Üniversitesi eğitim kurumunda öğrenci), İlayda Saimler (Uludağ Üniversitesi eğitim kurumunda öğrenci)]"
      ]
     },
     "execution_count": 37,
     "metadata": {},
     "output_type": "execute_result"
    }
   ],
   "source": [
    "person2"
   ]
  },
  {
   "cell_type": "code",
   "execution_count": 31,
   "metadata": {},
   "outputs": [
    {
     "ename": "TypeError",
     "evalue": "unsupported callable",
     "output_type": "error",
     "traceback": [
      "\u001b[0;31m---------------------------------------------------------------------------\u001b[0m",
      "\u001b[0;31mTypeError\u001b[0m                                 Traceback (most recent call last)",
      "\u001b[0;32m~/anaconda3/lib/python3.8/inspect.py\u001b[0m in \u001b[0;36mgetfullargspec\u001b[0;34m(func)\u001b[0m\n\u001b[1;32m   1122\u001b[0m \u001b[0;34m\u001b[0m\u001b[0m\n\u001b[0;32m-> 1123\u001b[0;31m         sig = _signature_from_callable(func,\n\u001b[0m\u001b[1;32m   1124\u001b[0m                                        \u001b[0mfollow_wrapper_chains\u001b[0m\u001b[0;34m=\u001b[0m\u001b[0;32mFalse\u001b[0m\u001b[0;34m,\u001b[0m\u001b[0;34m\u001b[0m\u001b[0;34m\u001b[0m\u001b[0m\n",
      "\u001b[0;32m~/anaconda3/lib/python3.8/inspect.py\u001b[0m in \u001b[0;36m_signature_from_callable\u001b[0;34m(obj, follow_wrapper_chains, skip_bound_arg, sigcls)\u001b[0m\n\u001b[1;32m   2215\u001b[0m     \u001b[0;32mif\u001b[0m \u001b[0;32mnot\u001b[0m \u001b[0mcallable\u001b[0m\u001b[0;34m(\u001b[0m\u001b[0mobj\u001b[0m\u001b[0;34m)\u001b[0m\u001b[0;34m:\u001b[0m\u001b[0;34m\u001b[0m\u001b[0;34m\u001b[0m\u001b[0m\n\u001b[0;32m-> 2216\u001b[0;31m         \u001b[0;32mraise\u001b[0m \u001b[0mTypeError\u001b[0m\u001b[0;34m(\u001b[0m\u001b[0;34m'{!r} is not a callable object'\u001b[0m\u001b[0;34m.\u001b[0m\u001b[0mformat\u001b[0m\u001b[0;34m(\u001b[0m\u001b[0mobj\u001b[0m\u001b[0;34m)\u001b[0m\u001b[0;34m)\u001b[0m\u001b[0;34m\u001b[0m\u001b[0;34m\u001b[0m\u001b[0m\n\u001b[0m\u001b[1;32m   2217\u001b[0m \u001b[0;34m\u001b[0m\u001b[0m\n",
      "\u001b[0;31mTypeError\u001b[0m: <module 'linkedin_scraper.scraper' from '/home/samet/.local/lib/python3.8/site-packages/linkedin_scraper/scraper.py'> is not a callable object",
      "\nThe above exception was the direct cause of the following exception:\n",
      "\u001b[0;31mTypeError\u001b[0m                                 Traceback (most recent call last)",
      "\u001b[0;32m<ipython-input-31-0267af64f1ac>\u001b[0m in \u001b[0;36m<module>\u001b[0;34m\u001b[0m\n\u001b[1;32m      2\u001b[0m \u001b[0;32mimport\u001b[0m \u001b[0mlinkedin_scraper\u001b[0m\u001b[0;34m\u001b[0m\u001b[0;34m\u001b[0m\u001b[0m\n\u001b[1;32m      3\u001b[0m \u001b[0;31m#person=Person()\u001b[0m\u001b[0;34m\u001b[0m\u001b[0;34m\u001b[0m\u001b[0;34m\u001b[0m\u001b[0m\n\u001b[0;32m----> 4\u001b[0;31m \u001b[0mprint\u001b[0m\u001b[0;34m(\u001b[0m\u001b[0mgetfullargspec\u001b[0m\u001b[0;34m(\u001b[0m\u001b[0mlinkedin_scraper\u001b[0m\u001b[0;34m.\u001b[0m\u001b[0mscraper\u001b[0m\u001b[0;34m)\u001b[0m\u001b[0;34m)\u001b[0m\u001b[0;34m\u001b[0m\u001b[0;34m\u001b[0m\u001b[0m\n\u001b[0m",
      "\u001b[0;32m~/anaconda3/lib/python3.8/inspect.py\u001b[0m in \u001b[0;36mgetfullargspec\u001b[0;34m(func)\u001b[0m\n\u001b[1;32m   1130\u001b[0m         \u001b[0;31m# else. So to be fully backwards compatible, we catch all\u001b[0m\u001b[0;34m\u001b[0m\u001b[0;34m\u001b[0m\u001b[0;34m\u001b[0m\u001b[0m\n\u001b[1;32m   1131\u001b[0m         \u001b[0;31m# possible exceptions here, and reraise a TypeError.\u001b[0m\u001b[0;34m\u001b[0m\u001b[0;34m\u001b[0m\u001b[0;34m\u001b[0m\u001b[0m\n\u001b[0;32m-> 1132\u001b[0;31m         \u001b[0;32mraise\u001b[0m \u001b[0mTypeError\u001b[0m\u001b[0;34m(\u001b[0m\u001b[0;34m'unsupported callable'\u001b[0m\u001b[0;34m)\u001b[0m \u001b[0;32mfrom\u001b[0m \u001b[0mex\u001b[0m\u001b[0;34m\u001b[0m\u001b[0;34m\u001b[0m\u001b[0m\n\u001b[0m\u001b[1;32m   1133\u001b[0m \u001b[0;34m\u001b[0m\u001b[0m\n\u001b[1;32m   1134\u001b[0m     \u001b[0margs\u001b[0m \u001b[0;34m=\u001b[0m \u001b[0;34m[\u001b[0m\u001b[0;34m]\u001b[0m\u001b[0;34m\u001b[0m\u001b[0;34m\u001b[0m\u001b[0m\n",
      "\u001b[0;31mTypeError\u001b[0m: unsupported callable"
     ]
    }
   ],
   "source": [
    "from inspect import *\n",
    "import linkedin_scraper\n",
    "#person=Person()\n",
    "print(getfullargspec(linkedin_scraper.scraper))"
   ]
  },
  {
   "cell_type": "code",
   "execution_count": 22,
   "metadata": {},
   "outputs": [
    {
     "data": {
      "text/plain": [
       "<module 'posixpath' from '/home/samet/anaconda3/lib/python3.8/posixpath.py'>"
      ]
     },
     "execution_count": 22,
     "metadata": {},
     "output_type": "execute_result"
    }
   ],
   "source": [
    "import os \n",
    "os.path"
   ]
  },
  {
   "cell_type": "code",
   "execution_count": null,
   "metadata": {},
   "outputs": [],
   "source": []
  }
 ],
 "metadata": {
  "kernelspec": {
   "display_name": "Python 3",
   "language": "python",
   "name": "python3"
  },
  "language_info": {
   "codemirror_mode": {
    "name": "ipython",
    "version": 3
   },
   "file_extension": ".py",
   "mimetype": "text/x-python",
   "name": "python",
   "nbconvert_exporter": "python",
   "pygments_lexer": "ipython3",
   "version": "3.8.5"
  }
 },
 "nbformat": 4,
 "nbformat_minor": 4
}
